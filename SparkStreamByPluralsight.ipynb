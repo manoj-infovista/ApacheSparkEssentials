{
  "nbformat": 4,
  "nbformat_minor": 0,
  "metadata": {
    "colab": {
      "provenance": [],
      "authorship_tag": "ABX9TyPzMCImnuG8lTKF/if8ejl8",
      "include_colab_link": true
    },
    "kernelspec": {
      "name": "python3",
      "display_name": "Python 3"
    },
    "language_info": {
      "name": "python"
    }
  },
  "cells": [
    {
      "cell_type": "markdown",
      "metadata": {
        "id": "view-in-github",
        "colab_type": "text"
      },
      "source": [
        "<a href=\"https://colab.research.google.com/github/manojmanivannan/ApacheSparkEssentials/blob/master/SparkStreamByPluralsight.ipynb\" target=\"_parent\"><img src=\"https://colab.research.google.com/assets/colab-badge.svg\" alt=\"Open In Colab\"/></a>"
      ]
    },
    {
      "cell_type": "code",
      "execution_count": null,
      "metadata": {
        "colab": {
          "base_uri": "https://localhost:8080/"
        },
        "id": "wsGAwnoOrBiO",
        "outputId": "3a734e4e-436d-48ba-8f49-03605e81414a"
      },
      "outputs": [
        {
          "output_type": "stream",
          "name": "stdout",
          "text": [
            "\r0% [Working]\r            \rHit:1 https://cloud.r-project.org/bin/linux/ubuntu bionic-cran40/ InRelease\n",
            "\r0% [Waiting for headers] [Waiting for headers] [Waiting for headers] [Connectin\r0% [1 InRelease gpgv 3,626 B] [Waiting for headers] [Waiting for headers] [Wait\r                                                                               \rIgn:2 https://developer.download.nvidia.com/compute/machine-learning/repos/ubuntu1804/x86_64  InRelease\n",
            "\r0% [1 InRelease gpgv 3,626 B] [Waiting for headers] [Waiting for headers] [Wait\r                                                                               \rGet:3 http://security.ubuntu.com/ubuntu bionic-security InRelease [88.7 kB]\n",
            "\r0% [1 InRelease gpgv 3,626 B] [Waiting for headers] [3 InRelease 14.2 kB/88.7 k\r                                                                               \rHit:4 https://developer.download.nvidia.com/compute/cuda/repos/ubuntu1804/x86_64  InRelease\n",
            "\r0% [1 InRelease gpgv 3,626 B] [Waiting for headers] [3 InRelease 14.2 kB/88.7 k\r                                                                               \rHit:5 https://developer.download.nvidia.com/compute/machine-learning/repos/ubuntu1804/x86_64  Release\n",
            "Hit:6 http://archive.ubuntu.com/ubuntu bionic InRelease\n",
            "Hit:7 http://ppa.launchpad.net/c2d4u.team/c2d4u4.0+/ubuntu bionic InRelease\n",
            "Get:8 http://archive.ubuntu.com/ubuntu bionic-updates InRelease [88.7 kB]\n",
            "Hit:9 http://ppa.launchpad.net/cran/libgit2/ubuntu bionic InRelease\n",
            "Hit:10 http://ppa.launchpad.net/deadsnakes/ppa/ubuntu bionic InRelease\n",
            "Get:11 http://archive.ubuntu.com/ubuntu bionic-backports InRelease [83.3 kB]\n",
            "Hit:13 http://ppa.launchpad.net/graphics-drivers/ppa/ubuntu bionic InRelease\n",
            "0% [10 InRelease gpgv 15.9 kB]"
          ]
        }
      ],
      "source": [
        "!apt-get update\n",
        "!apt-get install -y openjdk-8-jdk-headless scala jq  ssh > /dev/null\n",
        "!if ! [[ -f \"spark-2.3.1-bin-hadoop2.7.tgz\" ]]; then wget -q http://archive.apache.org/dist/spark/spark-2.3.1/spark-2.3.1-bin-hadoop2.7.tgz; tar xf spark-2.3.1-bin-hadoop2.7.tgz; fi\n",
        "!if ! [[ -f \"ngrok-stable-linux-amd64.zip\" ]]; then wget -q https://bin.equinox.io/c/4VmDzA7iaHb/ngrok-stable-linux-amd64.zip; unzip ngrok-stable-linux-amd64.zip; fi\n",
        "\n",
        "!if ! [[ -f \"goodls_linux_amd64\" ]]; then wget -q https://github.com/tanaikech/goodls/releases/download/v2.0.1/goodls_linux_amd64; chmod +x goodls_linux_amd64; fi\n",
        "!cat /etc/ssh/ssh_host_rsa_key.pub > /etc/ssh/authorized_keys\n",
        "!apt-get install python3.7 python3-pip\n",
        "!python3.7 -m pip install --upgrade pyspark findspark"
      ]
    },
    {
      "cell_type": "code",
      "source": [],
      "metadata": {
        "id": "oYPDx2evujDL"
      },
      "execution_count": null,
      "outputs": []
    },
    {
      "cell_type": "code",
      "source": [
        "!export SPARK_HOME=\"/content/spark-2.3.1-bin-hadoop2.7\"\n",
        "!export PATH=\"$PATH:$SPARK_HOME/bin\""
      ],
      "metadata": {
        "id": "SPFNXXLt1taQ"
      },
      "execution_count": null,
      "outputs": []
    },
    {
      "cell_type": "code",
      "source": [
        "import os\n",
        "os.environ[\"JAVA_HOME\"] = \"/usr/lib/jvm/java-8-openjdk-amd64\"\n"
      ],
      "metadata": {
        "id": "No_o1zbR6SFK"
      },
      "execution_count": null,
      "outputs": []
    },
    {
      "cell_type": "code",
      "source": [
        "!/content/spark-2.3.1-bin-hadoop2.7/sbin/stop-master.sh\n",
        "!/content/spark-2.3.1-bin-hadoop2.7/sbin/stop-slave.sh\n",
        "!/content/spark-2.3.1-bin-hadoop2.7/sbin/start-master.sh"
      ],
      "metadata": {
        "id": "wq9wGi622pMP"
      },
      "execution_count": null,
      "outputs": []
    },
    {
      "cell_type": "code",
      "source": [
        "!sleep 3 && grep -oP \"MasterUI' on port ([0-9]+)\" /content/spark-2.3.1-bin-hadoop2.7/logs/spark--org.apache.spark.deploy.master*.out \n",
        "!grep -oP \"spark:.*\" /content/spark-2.3.1-bin-hadoop2.7/logs/spark--org.apache.spark.deploy.master*.out "
      ],
      "metadata": {
        "id": "in0vBJz53fCA"
      },
      "execution_count": null,
      "outputs": []
    },
    {
      "cell_type": "code",
      "source": [
        "!/content/spark-2.3.1-bin-hadoop2.7/sbin/start-slave.sh $(grep -oP \"spark:.*\" /content/spark-2.3.1-bin-hadoop2.7/logs/spark--org.apache.spark.deploy.master*.out)\n",
        "!sleep 3 && grep -oP \"WorkerUI' on port ([0-9]+)\" /content/spark-2.3.1-bin-hadoop2.7/logs/spark--org.apache.spark.deploy.worker*.out "
      ],
      "metadata": {
        "id": "zkkKXuq24Wy_"
      },
      "execution_count": null,
      "outputs": []
    },
    {
      "cell_type": "code",
      "source": [
        "get_ipython().system_raw('./ngrok authtoken 2IeJHLKYs6eB68PKJQM1VkpPu00_5JXQQZW3hofy6Q6vqTX2')\n",
        "from time import sleep\n",
        "def ngrok_tunnel_by_port(port: int):\n",
        "  get_ipython().system_raw('pkill -f ngrok')\n",
        "  get_ipython().system_raw(f'./ngrok http {port} &')\n",
        "  sleep(4)\n",
        "  print(get_ipython().getoutput('curl -s http://localhost:4040/api/tunnels',split=True))\n",
        "\n"
      ],
      "metadata": {
        "id": "lLgtrEcd6Mgw"
      },
      "execution_count": null,
      "outputs": []
    },
    {
      "cell_type": "code",
      "source": [
        "ngrok_tunnel_by_port(4041)"
      ],
      "metadata": {
        "id": "K6ZFdp5k7IQy"
      },
      "execution_count": null,
      "outputs": []
    },
    {
      "cell_type": "code",
      "source": [
        "!jps"
      ],
      "metadata": {
        "id": "voP1B-tk0JZX"
      },
      "execution_count": null,
      "outputs": []
    },
    {
      "cell_type": "code",
      "source": [
        "master_url = get_ipython().getoutput('grep -oP \"spark:.*\" /content/spark-2.3.1-bin-hadoop2.7/logs/spark--org.apache.spark.deploy.master*.out',split=True)\n",
        "print('Master URL:',master_url[0])\n",
        "# get_ipython().system_raw(f'nohup pyspark --master {master_url[0]} --num-executors 5 --driver-memory 4g --executor-memory 4g &' )"
      ],
      "metadata": {
        "id": "Mvm9h-tmG4g2"
      },
      "execution_count": null,
      "outputs": []
    },
    {
      "cell_type": "code",
      "source": [
        "!jps"
      ],
      "metadata": {
        "id": "KFbNRUnkNkgz"
      },
      "execution_count": null,
      "outputs": []
    },
    {
      "cell_type": "code",
      "source": [],
      "metadata": {
        "id": "pwsAA9guUO2I"
      },
      "execution_count": null,
      "outputs": []
    },
    {
      "cell_type": "code",
      "source": [
        "import findspark\n",
        "findspark.init()\n",
        "from pyspark.sql import SparkSession\n",
        "from pyspark import SparkContext, SparkConf\n",
        "\n",
        "# Spark session & context\n",
        "conf = SparkConf().set(\"spark.master\",master_url[0]).set('spark.ui.port', '4050').set(\"spark.executor.instances\", 4).set(\"spark.executor.cores\", 4).set(\"spark.driver.memory\",'4g').set(\"spark.executor.memory\",'4g')\n",
        "try:\n",
        "  sc = SparkContext(conf=conf)\n",
        "except ValueError:\n",
        "  sc.stop()\n",
        "  sc = SparkContext(conf=conf)\n",
        "\n",
        "spark = SparkSession.builder.appName('PluralSight').getOrCreate()"
      ],
      "metadata": {
        "id": "LVr5T3eaK2iG"
      },
      "execution_count": null,
      "outputs": []
    },
    {
      "cell_type": "code",
      "source": [
        "ngrok_tunnel_by_port(4050)"
      ],
      "metadata": {
        "id": "7EIv6ZOvLtIh"
      },
      "execution_count": null,
      "outputs": []
    },
    {
      "cell_type": "code",
      "source": [
        "spark"
      ],
      "metadata": {
        "id": "DRWbOpERaBy3"
      },
      "execution_count": null,
      "outputs": []
    },
    {
      "cell_type": "code",
      "source": [
        "happiness_df = spark.read.format('csv').option('header','true').load('2016.csv')"
      ],
      "metadata": {
        "id": "8hN-zVuhMD50"
      },
      "execution_count": null,
      "outputs": []
    },
    {
      "cell_type": "code",
      "source": [
        "!head 2016.csv"
      ],
      "metadata": {
        "id": "5-9e75Yje1II"
      },
      "execution_count": null,
      "outputs": []
    },
    {
      "cell_type": "code",
      "source": [],
      "metadata": {
        "id": "_7300TXUnCaL"
      },
      "execution_count": null,
      "outputs": []
    }
  ]
}