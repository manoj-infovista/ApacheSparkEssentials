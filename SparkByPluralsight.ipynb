{
  "nbformat": 4,
  "nbformat_minor": 0,
  "metadata": {
    "colab": {
      "provenance": [],
      "authorship_tag": "ABX9TyMuHayqWJJRdKEnWotDGOPP",
      "include_colab_link": true
    },
    "kernelspec": {
      "name": "python3",
      "display_name": "Python 3"
    },
    "language_info": {
      "name": "python"
    }
  },
  "cells": [
    {
      "cell_type": "markdown",
      "metadata": {
        "id": "view-in-github",
        "colab_type": "text"
      },
      "source": [
        "<a href=\"https://colab.research.google.com/github/manojmanivannan/ApacheSparkEssentials/blob/master/SparkByPluralsight.ipynb\" target=\"_parent\"><img src=\"https://colab.research.google.com/assets/colab-badge.svg\" alt=\"Open In Colab\"/></a>"
      ]
    },
    {
      "cell_type": "markdown",
      "source": [
        "# Install tools"
      ],
      "metadata": {
        "id": "iRXQAzD3wkuc"
      }
    },
    {
      "cell_type": "code",
      "execution_count": 1,
      "metadata": {
        "id": "cuJ62OHxv1L-",
        "colab": {
          "base_uri": "https://localhost:8080/"
        },
        "outputId": "a17e5a11-57db-4039-a0eb-e8c178bd5f23"
      },
      "outputs": [
        {
          "output_type": "stream",
          "name": "stdout",
          "text": [
            "\r0% [Working]\r            \rHit:1 http://security.ubuntu.com/ubuntu bionic-security InRelease\n",
            "\r0% [Connecting to archive.ubuntu.com (185.125.190.39)] [Connected to cloud.r-pr\r0% [1 InRelease gpgv 88.7 kB] [Waiting for headers] [Connected to cloud.r-proje\r                                                                               \rHit:2 https://cloud.r-project.org/bin/linux/ubuntu bionic-cran40/ InRelease\n",
            "\r0% [1 InRelease gpgv 88.7 kB] [Waiting for headers] [Waiting for headers] [Wait\r                                                                               \rHit:3 http://ppa.launchpad.net/c2d4u.team/c2d4u4.0+/ubuntu bionic InRelease\n",
            "Hit:4 http://archive.ubuntu.com/ubuntu bionic InRelease\n",
            "Ign:5 https://developer.download.nvidia.com/compute/machine-learning/repos/ubuntu1804/x86_64  InRelease\n",
            "Hit:6 https://developer.download.nvidia.com/compute/cuda/repos/ubuntu1804/x86_64  InRelease\n",
            "Hit:7 http://archive.ubuntu.com/ubuntu bionic-updates InRelease\n",
            "Hit:8 https://developer.download.nvidia.com/compute/machine-learning/repos/ubuntu1804/x86_64  Release\n",
            "Hit:9 http://archive.ubuntu.com/ubuntu bionic-backports InRelease\n",
            "Hit:10 http://ppa.launchpad.net/cran/libgit2/ubuntu bionic InRelease\n",
            "Hit:11 http://ppa.launchpad.net/deadsnakes/ppa/ubuntu bionic InRelease\n",
            "Hit:12 http://ppa.launchpad.net/graphics-drivers/ppa/ubuntu bionic InRelease\n",
            "Reading package lists... Done\n"
          ]
        }
      ],
      "source": [
        "# !apt-get update\n",
        "# !apt-get install -y openjdk-8-jdk-headless scala  > /dev/null\n",
        "# !wget -q http://archive.apache.org/dist/spark/spark-2.3.1/spark-2.3.1-bin-hadoop2.7.tgz\n",
        "# !tar xf spark-2.3.1-bin-hadoop2.7.tgz\n",
        "# !pip install -q pyspark\n",
        "# !pip install -q findspark\n",
        "# !pip install -q yfinance yahoofinancials"
      ]
    },
    {
      "cell_type": "code",
      "source": [
        "# import os\n",
        "# os.environ[\"JAVA_HOME\"] = \"/usr/lib/jvm/java-8-openjdk-amd64\""
      ],
      "metadata": {
        "id": "WHuzbMktwsZd"
      },
      "execution_count": 2,
      "outputs": []
    },
    {
      "cell_type": "code",
      "source": [
        "import findspark\n",
        "findspark.init()\n",
        "from pyspark.sql import SparkSession\n",
        "\n",
        "# Spark session & context\n",
        "spark = SparkSession.builder.master('local[2]').getOrCreate()\n",
        "sc = spark.sparkContext"
      ],
      "metadata": {
        "id": "RGOWgXh7xf5N"
      },
      "execution_count": 2,
      "outputs": []
    },
    {
      "cell_type": "code",
      "source": [
        "sc"
      ],
      "metadata": {
        "colab": {
          "base_uri": "https://localhost:8080/",
          "height": 196
        },
        "id": "kLb8keYsxsX3",
        "outputId": "7ddb7ae2-5d4d-42ec-d1ab-96c13f659055"
      },
      "execution_count": 3,
      "outputs": [
        {
          "output_type": "execute_result",
          "data": {
            "text/plain": [
              "<SparkContext master=local[2] appName=pyspark-shell>"
            ],
            "text/html": [
              "\n",
              "        <div>\n",
              "            <p><b>SparkContext</b></p>\n",
              "\n",
              "            <p><a href=\"http://83a65dcffca3:4040\">Spark UI</a></p>\n",
              "\n",
              "            <dl>\n",
              "              <dt>Version</dt>\n",
              "                <dd><code>v3.3.1</code></dd>\n",
              "              <dt>Master</dt>\n",
              "                <dd><code>local[2]</code></dd>\n",
              "              <dt>AppName</dt>\n",
              "                <dd><code>pyspark-shell</code></dd>\n",
              "            </dl>\n",
              "        </div>\n",
              "        "
            ]
          },
          "metadata": {},
          "execution_count": 3
        }
      ]
    },
    {
      "cell_type": "markdown",
      "source": [
        "# Download data from yahoo finance"
      ],
      "metadata": {
        "id": "8cIuTiuF1x8t"
      }
    },
    {
      "cell_type": "code",
      "source": [
        "import yfinance as yf\n",
        "stock_list = ['AAPL']\n",
        "data = yf.download(stock_list, start=\"2021-01-01\", end=\"2022-01-01\")\n",
        "data.to_csv('apple_stock.csv')"
      ],
      "metadata": {
        "id": "NEz7pTl5142I",
        "outputId": "4d615ec4-60b9-4595-ef69-dfb9beb9e433",
        "colab": {
          "base_uri": "https://localhost:8080/"
        }
      },
      "execution_count": 13,
      "outputs": [
        {
          "output_type": "stream",
          "name": "stdout",
          "text": [
            "\r[*********************100%***********************]  1 of 1 completed\n"
          ]
        }
      ]
    },
    {
      "cell_type": "code",
      "source": [
        "apple = sc.textFile('apple_stock.csv')\n",
        "apple"
      ],
      "metadata": {
        "id": "xFCvRRJb2oMO",
        "outputId": "58fe3eea-5fd4-4ed4-c71c-09db18db0e41",
        "colab": {
          "base_uri": "https://localhost:8080/"
        }
      },
      "execution_count": 21,
      "outputs": [
        {
          "output_type": "execute_result",
          "data": {
            "text/plain": [
              "apple_stock.csv MapPartitionsRDD[7] at textFile at NativeMethodAccessorImpl.java:0"
            ]
          },
          "metadata": {},
          "execution_count": 21
        }
      ]
    },
    {
      "cell_type": "code",
      "source": [
        "apple.take(5)"
      ],
      "metadata": {
        "id": "AU_f0uIq3klI",
        "outputId": "8ee23345-298f-4784-fdc9-26d0ed8b8229",
        "colab": {
          "base_uri": "https://localhost:8080/"
        }
      },
      "execution_count": 22,
      "outputs": [
        {
          "output_type": "execute_result",
          "data": {
            "text/plain": [
              "['Date,Open,High,Low,Close,Adj Close,Volume',\n",
              " '2021-01-04,133.52000427246094,133.61000061035156,126.76000213623047,129.41000366210938,127.87492370605469,143301900',\n",
              " '2021-01-05,128.88999938964844,131.74000549316406,128.42999267578125,131.00999450683594,129.45596313476562,97664900',\n",
              " '2021-01-06,127.72000122070312,131.0500030517578,126.37999725341797,126.5999984741211,125.0982666015625,155088000',\n",
              " '2021-01-07,128.36000061035156,131.6300048828125,127.86000061035156,130.9199981689453,129.36703491210938,109578200']"
            ]
          },
          "metadata": {},
          "execution_count": 22
        }
      ]
    },
    {
      "cell_type": "code",
      "source": [
        "apple.count()"
      ],
      "metadata": {
        "id": "tIuNUs_B4egg",
        "outputId": "75dd0af1-ffae-4a9c-d411-71ffeacf26a6",
        "colab": {
          "base_uri": "https://localhost:8080/"
        }
      },
      "execution_count": 23,
      "outputs": [
        {
          "output_type": "execute_result",
          "data": {
            "text/plain": [
              "253"
            ]
          },
          "metadata": {},
          "execution_count": 23
        }
      ]
    },
    {
      "cell_type": "code",
      "source": [
        "## Download data from https://drive.google.com/drive/folders/0BzquUESTxeglWElscTF0Q19UTUU?resourcekey=0-ixxx-0VdlOFfz915kofCxQ\n"
      ],
      "metadata": {
        "id": "2oyh1a354paO"
      },
      "execution_count": 43,
      "outputs": []
    },
    {
      "cell_type": "code",
      "source": [
        "data = sc.textFile('nypd_crime.csv')"
      ],
      "metadata": {
        "id": "ml0-kbc89S25"
      },
      "execution_count": null,
      "outputs": []
    }
  ]
}