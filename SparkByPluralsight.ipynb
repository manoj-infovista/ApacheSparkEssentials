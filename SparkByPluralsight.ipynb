{
  "nbformat": 4,
  "nbformat_minor": 0,
  "metadata": {
    "colab": {
      "provenance": [],
      "authorship_tag": "ABX9TyMJzmOl5B/QJkmdCc3aQyuf",
      "include_colab_link": true
    },
    "kernelspec": {
      "name": "python3",
      "display_name": "Python 3"
    },
    "language_info": {
      "name": "python"
    }
  },
  "cells": [
    {
      "cell_type": "markdown",
      "metadata": {
        "id": "view-in-github",
        "colab_type": "text"
      },
      "source": [
        "<a href=\"https://colab.research.google.com/github/manojmanivannan/ApacheSparkEssentials/blob/master/SparkByPluralsight.ipynb\" target=\"_parent\"><img src=\"https://colab.research.google.com/assets/colab-badge.svg\" alt=\"Open In Colab\"/></a>"
      ]
    },
    {
      "cell_type": "markdown",
      "source": [
        "# Install tools"
      ],
      "metadata": {
        "id": "iRXQAzD3wkuc"
      }
    },
    {
      "cell_type": "code",
      "execution_count": 1,
      "metadata": {
        "id": "cuJ62OHxv1L-",
        "colab": {
          "base_uri": "https://localhost:8080/"
        },
        "outputId": "407fcd84-13a5-4056-e43f-a49932dfbb90"
      },
      "outputs": [
        {
          "output_type": "stream",
          "name": "stdout",
          "text": [
            "\r0% [Working]\r            \rGet:1 https://cloud.r-project.org/bin/linux/ubuntu bionic-cran40/ InRelease [3,626 B]\n",
            "\r0% [Connecting to archive.ubuntu.com (185.125.190.39)] [Connecting to security.\r0% [Connecting to archive.ubuntu.com (185.125.190.39)] [Connecting to security.\r0% [1 InRelease gpgv 3,626 B] [Connecting to archive.ubuntu.com (185.125.190.39\r                                                                               \rGet:2 http://security.ubuntu.com/ubuntu bionic-security InRelease [88.7 kB]\n",
            "\r0% [1 InRelease gpgv 3,626 B] [Waiting for headers] [2 InRelease 14.2 kB/88.7 k\r                                                                               \rHit:3 http://archive.ubuntu.com/ubuntu bionic InRelease\n",
            "\r0% [1 InRelease gpgv 3,626 B] [Waiting for headers] [2 InRelease 14.2 kB/88.7 k\r                                                                               \rIgn:4 https://developer.download.nvidia.com/compute/machine-learning/repos/ubuntu1804/x86_64  InRelease\n",
            "\r0% [1 InRelease gpgv 3,626 B] [Waiting for headers] [2 InRelease 14.2 kB/88.7 k\r                                                                               \rHit:5 https://developer.download.nvidia.com/compute/cuda/repos/ubuntu1804/x86_64  InRelease\n",
            "\r0% [1 InRelease gpgv 3,626 B] [Waiting for headers] [2 InRelease 14.2 kB/88.7 k\r                                                                               \rHit:6 https://developer.download.nvidia.com/compute/machine-learning/repos/ubuntu1804/x86_64  Release\n",
            "\r0% [1 InRelease gpgv 3,626 B] [Waiting for headers] [2 InRelease 14.2 kB/88.7 k\r                                                                               \rGet:7 http://archive.ubuntu.com/ubuntu bionic-updates InRelease [88.7 kB]\n",
            "Get:8 http://ppa.launchpad.net/c2d4u.team/c2d4u4.0+/ubuntu bionic InRelease [15.9 kB]\n",
            "Get:9 http://archive.ubuntu.com/ubuntu bionic-backports InRelease [83.3 kB]\n",
            "Hit:10 http://ppa.launchpad.net/cran/libgit2/ubuntu bionic InRelease\n",
            "Get:12 http://security.ubuntu.com/ubuntu bionic-security/restricted amd64 Packages [1,307 kB]\n",
            "Hit:13 http://ppa.launchpad.net/deadsnakes/ppa/ubuntu bionic InRelease\n",
            "Get:14 http://archive.ubuntu.com/ubuntu bionic-updates/multiverse amd64 Packages [30.0 kB]\n",
            "Get:15 http://archive.ubuntu.com/ubuntu bionic-updates/restricted amd64 Packages [1,348 kB]\n",
            "Get:16 http://security.ubuntu.com/ubuntu bionic-security/multiverse amd64 Packages [22.9 kB]\n",
            "Get:17 http://ppa.launchpad.net/graphics-drivers/ppa/ubuntu bionic InRelease [21.3 kB]\n",
            "Get:18 http://archive.ubuntu.com/ubuntu bionic-updates/main amd64 Packages [3,519 kB]\n",
            "Get:19 http://ppa.launchpad.net/c2d4u.team/c2d4u4.0+/ubuntu bionic/main Sources [2,227 kB]\n",
            "Get:20 http://ppa.launchpad.net/c2d4u.team/c2d4u4.0+/ubuntu bionic/main amd64 Packages [1,139 kB]\n",
            "Get:21 http://ppa.launchpad.net/graphics-drivers/ppa/ubuntu bionic/main amd64 Packages [40.8 kB]\n",
            "Fetched 9,935 kB in 4s (2,564 kB/s)\n",
            "Reading package lists... Done\n",
            "\u001b[K     |████████████████████████████████| 281.4 MB 52 kB/s \n",
            "\u001b[K     |████████████████████████████████| 199 kB 62.9 MB/s \n",
            "\u001b[?25h  Building wheel for pyspark (setup.py) ... \u001b[?25l\u001b[?25hdone\n",
            "\u001b[K     |████████████████████████████████| 62 kB 1.4 MB/s \n",
            "\u001b[?25h"
          ]
        }
      ],
      "source": [
        "# !apt-get update\n",
        "# !apt-get install -y openjdk-8-jdk-headless scala  > /dev/null\n",
        "# !wget -q http://archive.apache.org/dist/spark/spark-2.3.1/spark-2.3.1-bin-hadoop2.7.tgz\n",
        "# !tar xf spark-2.3.1-bin-hadoop2.7.tgz\n",
        "# !pip install -q pyspark\n",
        "# !pip install -q findspark\n",
        "# !pip install -q yfinance"
      ]
    },
    {
      "cell_type": "code",
      "source": [
        "# import os\n",
        "# os.environ[\"JAVA_HOME\"] = \"/usr/lib/jvm/java-8-openjdk-amd64\""
      ],
      "metadata": {
        "id": "WHuzbMktwsZd"
      },
      "execution_count": 2,
      "outputs": []
    },
    {
      "cell_type": "code",
      "source": [
        "import findspark\n",
        "findspark.init()\n",
        "from pyspark.sql import SparkSession\n",
        "\n",
        "# Spark session & context\n",
        "spark = SparkSession.builder.master('local[2]').getOrCreate()\n",
        "sc = spark.sparkContext"
      ],
      "metadata": {
        "id": "RGOWgXh7xf5N"
      },
      "execution_count": 3,
      "outputs": []
    },
    {
      "cell_type": "code",
      "source": [
        "sc"
      ],
      "metadata": {
        "colab": {
          "base_uri": "https://localhost:8080/",
          "height": 196
        },
        "id": "kLb8keYsxsX3",
        "outputId": "d9ea1369-b0bd-433f-da33-0333bacb56e3"
      },
      "execution_count": 4,
      "outputs": [
        {
          "output_type": "execute_result",
          "data": {
            "text/plain": [
              "<SparkContext master=local[2] appName=pyspark-shell>"
            ],
            "text/html": [
              "\n",
              "        <div>\n",
              "            <p><b>SparkContext</b></p>\n",
              "\n",
              "            <p><a href=\"http://5233edd5638d:4040\">Spark UI</a></p>\n",
              "\n",
              "            <dl>\n",
              "              <dt>Version</dt>\n",
              "                <dd><code>v3.3.1</code></dd>\n",
              "              <dt>Master</dt>\n",
              "                <dd><code>local[2]</code></dd>\n",
              "              <dt>AppName</dt>\n",
              "                <dd><code>pyspark-shell</code></dd>\n",
              "            </dl>\n",
              "        </div>\n",
              "        "
            ]
          },
          "metadata": {},
          "execution_count": 4
        }
      ]
    },
    {
      "cell_type": "markdown",
      "source": [
        "# Download data from yahoo finance"
      ],
      "metadata": {
        "id": "8cIuTiuF1x8t"
      }
    },
    {
      "cell_type": "code",
      "source": [
        "import yfinance as yf\n",
        "stock_list = ['AAPL']\n",
        "data = yf.download(stock_list, start=\"2021-01-01\", end=\"2022-01-01\")\n",
        "data.to_csv('apple_stock.csv')"
      ],
      "metadata": {
        "colab": {
          "base_uri": "https://localhost:8080/"
        },
        "id": "NEz7pTl5142I",
        "outputId": "f7589645-649a-4008-9e2a-992d572dd689"
      },
      "execution_count": 5,
      "outputs": [
        {
          "output_type": "stream",
          "name": "stdout",
          "text": [
            "\r[*********************100%***********************]  1 of 1 completed\n"
          ]
        }
      ]
    },
    {
      "cell_type": "code",
      "source": [
        "apple = sc.textFile('apple_stock.csv')\n",
        "apple"
      ],
      "metadata": {
        "colab": {
          "base_uri": "https://localhost:8080/"
        },
        "id": "xFCvRRJb2oMO",
        "outputId": "4fcaf760-2dee-445e-809e-bb4693d48849"
      },
      "execution_count": 6,
      "outputs": [
        {
          "output_type": "execute_result",
          "data": {
            "text/plain": [
              "apple_stock.csv MapPartitionsRDD[1] at textFile at NativeMethodAccessorImpl.java:0"
            ]
          },
          "metadata": {},
          "execution_count": 6
        }
      ]
    },
    {
      "cell_type": "code",
      "source": [
        "apple.take(5)"
      ],
      "metadata": {
        "colab": {
          "base_uri": "https://localhost:8080/"
        },
        "id": "AU_f0uIq3klI",
        "outputId": "0e42c38f-f6af-4f69-c9b3-24decdc33c96"
      },
      "execution_count": 7,
      "outputs": [
        {
          "output_type": "execute_result",
          "data": {
            "text/plain": [
              "['Date,Open,High,Low,Close,Adj Close,Volume',\n",
              " '2021-01-04,133.52000427246094,133.61000061035156,126.76000213623047,129.41000366210938,127.87493896484375,143301900',\n",
              " '2021-01-05,128.88999938964844,131.74000549316406,128.42999267578125,131.00999450683594,129.45596313476562,97664900',\n",
              " '2021-01-06,127.72000122070312,131.0500030517578,126.37999725341797,126.5999984741211,125.09827423095703,155088000',\n",
              " '2021-01-07,128.36000061035156,131.6300048828125,127.86000061035156,130.9199981689453,129.36703491210938,109578200']"
            ]
          },
          "metadata": {},
          "execution_count": 7
        }
      ]
    },
    {
      "cell_type": "code",
      "source": [
        "apple.count()"
      ],
      "metadata": {
        "colab": {
          "base_uri": "https://localhost:8080/"
        },
        "id": "tIuNUs_B4egg",
        "outputId": "d34f002a-f38b-48cc-a8d1-c51655a68b44"
      },
      "execution_count": 8,
      "outputs": [
        {
          "output_type": "execute_result",
          "data": {
            "text/plain": [
              "253"
            ]
          },
          "metadata": {},
          "execution_count": 8
        }
      ]
    },
    {
      "cell_type": "code",
      "source": [
        "## Download data from https://drive.google.com/drive/folders/0BzquUESTxeglWElscTF0Q19UTUU?resourcekey=0-ixxx-0VdlOFfz915kofCxQ\n"
      ],
      "metadata": {
        "id": "2oyh1a354paO"
      },
      "execution_count": 9,
      "outputs": []
    },
    {
      "cell_type": "code",
      "source": [
        "data = sc.textFile('nypd_crime.csv')"
      ],
      "metadata": {
        "id": "ml0-kbc89S25"
      },
      "execution_count": 11,
      "outputs": []
    },
    {
      "cell_type": "code",
      "source": [
        "data.take(5)"
      ],
      "metadata": {
        "id": "PVh7CzeUhgG9",
        "outputId": "ac3fbfd1-dbdc-4d15-da64-b86246c9cf42",
        "colab": {
          "base_uri": "https://localhost:8080/"
        }
      },
      "execution_count": 12,
      "outputs": [
        {
          "output_type": "execute_result",
          "data": {
            "text/plain": [
              "['OBJECTID,Identifier,Occurrence Date,Day of Week,Occurrence Month,Occurrence Day,Occurrence Year,Occurrence Hour,CompStat Month,CompStat Day,CompStat Year,Offense,Offense Classification,Sector,Precinct,Borough,Jurisdiction,XCoordinate,YCoordinate,Location 1',\n",
              " '1,f070032d,09/06/1940 07:30:00 PM,Friday,Sep,6,1940,19,9,7,2010,BURGLARY,FELONY,D,66,BROOKLYN,N.Y. POLICE DEPT,987478,166141,\"(40.6227027620001, -73.9883732929999)\"',\n",
              " '2,c6245d4d,12/14/1968 12:20:00 AM,Saturday,Dec,14,1968,0,12,14,2008,GRAND LARCENY,FELONY,G,28,MANHATTAN,N.Y. POLICE DEPT,996470,232106,\"(40.8037530600001, -73.955861904)\"',\n",
              " '3,716dbc6f,10/30/1970 03:30:00 PM,Friday,Oct,30,1970,15,10,31,2008,BURGLARY,FELONY,H,84,BROOKLYN,N.Y. POLICE DEPT,986508,190249,\"(40.688874254, -73.9918594329999)\"',\n",
              " '4,638cd7b7,07/18/1972 11:00:00 PM,Tuesday,Jul,18,1972,23,7,19,2012,GRAND LARCENY OF MOTOR VEHICLE,FELONY,F,73,BROOKLYN,N.Y. POLICE DEPT,1005876,182440,\"(40.6674141890001, -73.9220463899999)\"']"
            ]
          },
          "metadata": {},
          "execution_count": 12
        }
      ]
    },
    {
      "cell_type": "code",
      "source": [
        "header = data.first()\n",
        "dataWoHeader = data.filter(lambda x: x != header)"
      ],
      "metadata": {
        "id": "q1oRAyRmhhVW"
      },
      "execution_count": 16,
      "outputs": []
    },
    {
      "cell_type": "code",
      "source": [
        "dataWoHeader.take(5)"
      ],
      "metadata": {
        "id": "u3Z-XiNMkbjO",
        "outputId": "b629ead8-bccd-4c67-e766-aefdd571ed33",
        "colab": {
          "base_uri": "https://localhost:8080/"
        }
      },
      "execution_count": 17,
      "outputs": [
        {
          "output_type": "execute_result",
          "data": {
            "text/plain": [
              "['1,f070032d,09/06/1940 07:30:00 PM,Friday,Sep,6,1940,19,9,7,2010,BURGLARY,FELONY,D,66,BROOKLYN,N.Y. POLICE DEPT,987478,166141,\"(40.6227027620001, -73.9883732929999)\"',\n",
              " '2,c6245d4d,12/14/1968 12:20:00 AM,Saturday,Dec,14,1968,0,12,14,2008,GRAND LARCENY,FELONY,G,28,MANHATTAN,N.Y. POLICE DEPT,996470,232106,\"(40.8037530600001, -73.955861904)\"',\n",
              " '3,716dbc6f,10/30/1970 03:30:00 PM,Friday,Oct,30,1970,15,10,31,2008,BURGLARY,FELONY,H,84,BROOKLYN,N.Y. POLICE DEPT,986508,190249,\"(40.688874254, -73.9918594329999)\"',\n",
              " '4,638cd7b7,07/18/1972 11:00:00 PM,Tuesday,Jul,18,1972,23,7,19,2012,GRAND LARCENY OF MOTOR VEHICLE,FELONY,F,73,BROOKLYN,N.Y. POLICE DEPT,1005876,182440,\"(40.6674141890001, -73.9220463899999)\"',\n",
              " '5,6e410287,05/21/1987 12:01:00 AM,Thursday,May,21,1987,0,5,28,2009,GRAND LARCENY,FELONY,K,75,BROOKLYN,N.Y. POLICE DEPT,1017958,182266,\"(40.6668988440001, -73.878495425)\"']"
            ]
          },
          "metadata": {},
          "execution_count": 17
        }
      ]
    },
    {
      "cell_type": "code",
      "source": [
        "dataWoHeader.map(lambda x: x.split(',')).take(5)"
      ],
      "metadata": {
        "id": "IByjulI8k1Z-",
        "outputId": "bbf4288d-7a21-4946-fa77-9afb0d195b10",
        "colab": {
          "base_uri": "https://localhost:8080/"
        }
      },
      "execution_count": 18,
      "outputs": [
        {
          "output_type": "execute_result",
          "data": {
            "text/plain": [
              "[['1',\n",
              "  'f070032d',\n",
              "  '09/06/1940 07:30:00 PM',\n",
              "  'Friday',\n",
              "  'Sep',\n",
              "  '6',\n",
              "  '1940',\n",
              "  '19',\n",
              "  '9',\n",
              "  '7',\n",
              "  '2010',\n",
              "  'BURGLARY',\n",
              "  'FELONY',\n",
              "  'D',\n",
              "  '66',\n",
              "  'BROOKLYN',\n",
              "  'N.Y. POLICE DEPT',\n",
              "  '987478',\n",
              "  '166141',\n",
              "  '\"(40.6227027620001',\n",
              "  ' -73.9883732929999)\"'],\n",
              " ['2',\n",
              "  'c6245d4d',\n",
              "  '12/14/1968 12:20:00 AM',\n",
              "  'Saturday',\n",
              "  'Dec',\n",
              "  '14',\n",
              "  '1968',\n",
              "  '0',\n",
              "  '12',\n",
              "  '14',\n",
              "  '2008',\n",
              "  'GRAND LARCENY',\n",
              "  'FELONY',\n",
              "  'G',\n",
              "  '28',\n",
              "  'MANHATTAN',\n",
              "  'N.Y. POLICE DEPT',\n",
              "  '996470',\n",
              "  '232106',\n",
              "  '\"(40.8037530600001',\n",
              "  ' -73.955861904)\"'],\n",
              " ['3',\n",
              "  '716dbc6f',\n",
              "  '10/30/1970 03:30:00 PM',\n",
              "  'Friday',\n",
              "  'Oct',\n",
              "  '30',\n",
              "  '1970',\n",
              "  '15',\n",
              "  '10',\n",
              "  '31',\n",
              "  '2008',\n",
              "  'BURGLARY',\n",
              "  'FELONY',\n",
              "  'H',\n",
              "  '84',\n",
              "  'BROOKLYN',\n",
              "  'N.Y. POLICE DEPT',\n",
              "  '986508',\n",
              "  '190249',\n",
              "  '\"(40.688874254',\n",
              "  ' -73.9918594329999)\"'],\n",
              " ['4',\n",
              "  '638cd7b7',\n",
              "  '07/18/1972 11:00:00 PM',\n",
              "  'Tuesday',\n",
              "  'Jul',\n",
              "  '18',\n",
              "  '1972',\n",
              "  '23',\n",
              "  '7',\n",
              "  '19',\n",
              "  '2012',\n",
              "  'GRAND LARCENY OF MOTOR VEHICLE',\n",
              "  'FELONY',\n",
              "  'F',\n",
              "  '73',\n",
              "  'BROOKLYN',\n",
              "  'N.Y. POLICE DEPT',\n",
              "  '1005876',\n",
              "  '182440',\n",
              "  '\"(40.6674141890001',\n",
              "  ' -73.9220463899999)\"'],\n",
              " ['5',\n",
              "  '6e410287',\n",
              "  '05/21/1987 12:01:00 AM',\n",
              "  'Thursday',\n",
              "  'May',\n",
              "  '21',\n",
              "  '1987',\n",
              "  '0',\n",
              "  '5',\n",
              "  '28',\n",
              "  '2009',\n",
              "  'GRAND LARCENY',\n",
              "  'FELONY',\n",
              "  'K',\n",
              "  '75',\n",
              "  'BROOKLYN',\n",
              "  'N.Y. POLICE DEPT',\n",
              "  '1017958',\n",
              "  '182266',\n",
              "  '\"(40.6668988440001',\n",
              "  ' -73.878495425)\"']]"
            ]
          },
          "metadata": {},
          "execution_count": 18
        }
      ]
    },
    {
      "cell_type": "code",
      "source": [
        "import csv\n",
        "from io import StringIO\n",
        "from collections import namedtuple"
      ],
      "metadata": {
        "id": "p8rbcAFflPmr"
      },
      "execution_count": 20,
      "outputs": []
    },
    {
      "cell_type": "code",
      "source": [
        "fields = header.replace(\" \",\"_\").replace(\"/\",\"_\").split(',')\n",
        "fields"
      ],
      "metadata": {
        "id": "sPtPey6zlf1t",
        "outputId": "a35686e5-a30e-492f-c623-23b8339a302b",
        "colab": {
          "base_uri": "https://localhost:8080/"
        }
      },
      "execution_count": 21,
      "outputs": [
        {
          "output_type": "execute_result",
          "data": {
            "text/plain": [
              "['OBJECTID',\n",
              " 'Identifier',\n",
              " 'Occurrence_Date',\n",
              " 'Day_of_Week',\n",
              " 'Occurrence_Month',\n",
              " 'Occurrence_Day',\n",
              " 'Occurrence_Year',\n",
              " 'Occurrence_Hour',\n",
              " 'CompStat_Month',\n",
              " 'CompStat_Day',\n",
              " 'CompStat_Year',\n",
              " 'Offense',\n",
              " 'Offense_Classification',\n",
              " 'Sector',\n",
              " 'Precinct',\n",
              " 'Borough',\n",
              " 'Jurisdiction',\n",
              " 'XCoordinate',\n",
              " 'YCoordinate',\n",
              " 'Location_1']"
            ]
          },
          "metadata": {},
          "execution_count": 21
        }
      ]
    },
    {
      "cell_type": "code",
      "source": [
        "Crime = namedtuple('Crime',fields) # creating a class with each field as objects/properties in the class"
      ],
      "metadata": {
        "id": "bU3iojtcl23b",
        "outputId": "f26f5bba-9a70-486f-848f-07c7942b3416",
        "colab": {
          "base_uri": "https://localhost:8080/"
        }
      },
      "execution_count": 23,
      "outputs": [
        {
          "output_type": "execute_result",
          "data": {
            "text/plain": [
              "__main__.Crime"
            ]
          },
          "metadata": {},
          "execution_count": 23
        }
      ]
    },
    {
      "cell_type": "code",
      "source": [
        "def parse(row):\n",
        "  reader = csv.reader(StringIO(row))\n",
        "  row = next(reader)\n",
        "  return Crime(*row)"
      ],
      "metadata": {
        "id": "Z-avrpRfmJi4"
      },
      "execution_count": 27,
      "outputs": []
    },
    {
      "cell_type": "code",
      "source": [
        "crime = dataWoHeader.map(parse)"
      ],
      "metadata": {
        "id": "jqwS__cxme3y"
      },
      "execution_count": 64,
      "outputs": []
    },
    {
      "cell_type": "code",
      "source": [
        "crime.first()"
      ],
      "metadata": {
        "id": "4iWk4c_pmidJ",
        "outputId": "b429ed27-8c9c-43d7-c862-b193ab5c0834",
        "colab": {
          "base_uri": "https://localhost:8080/"
        }
      },
      "execution_count": 65,
      "outputs": [
        {
          "output_type": "execute_result",
          "data": {
            "text/plain": [
              "Crime(OBJECTID='1', Identifier='f070032d', Occurrence_Date='09/06/1940 07:30:00 PM', Day_of_Week='Friday', Occurrence_Month='Sep', Occurrence_Day='6', Occurrence_Year='1940', Occurrence_Hour='19', CompStat_Month='9', CompStat_Day='7', CompStat_Year='2010', Offense='BURGLARY', Offense_Classification='FELONY', Sector='D', Precinct='66', Borough='BROOKLYN', Jurisdiction='N.Y. POLICE DEPT', XCoordinate='987478', YCoordinate='166141', Location_1='(40.6227027620001, -73.9883732929999)')"
            ]
          },
          "metadata": {},
          "execution_count": 65
        }
      ]
    },
    {
      "cell_type": "code",
      "source": [
        "crime.first().Offense"
      ],
      "metadata": {
        "id": "QbUntABpmj3o",
        "outputId": "f336cad7-4fb1-4e8b-bec4-0d20ca744112",
        "colab": {
          "base_uri": "https://localhost:8080/",
          "height": 35
        }
      },
      "execution_count": 66,
      "outputs": [
        {
          "output_type": "execute_result",
          "data": {
            "text/plain": [
              "'BURGLARY'"
            ],
            "application/vnd.google.colaboratory.intrinsic+json": {
              "type": "string"
            }
          },
          "metadata": {},
          "execution_count": 66
        }
      ]
    },
    {
      "cell_type": "code",
      "source": [
        "# take the offense value from each record and then count by the type of offense\n",
        "crime.map(lambda x: x.Offense).countByValue()"
      ],
      "metadata": {
        "id": "ulMAxOCbnVhG",
        "outputId": "618140d4-f89d-4bd7-a464-baf1733065b4",
        "colab": {
          "base_uri": "https://localhost:8080/"
        }
      },
      "execution_count": 67,
      "outputs": [
        {
          "output_type": "execute_result",
          "data": {
            "text/plain": [
              "defaultdict(int,\n",
              "            {'BURGLARY': 40088,\n",
              "             'GRAND LARCENY': 84508,\n",
              "             'GRAND LARCENY OF MOTOR VEHICLE': 25773,\n",
              "             'RAPE': 3317,\n",
              "             'ROBBERY': 40280,\n",
              "             'FELONY ASSAULT': 30989})"
            ]
          },
          "metadata": {},
          "execution_count": 67
        }
      ]
    },
    {
      "cell_type": "code",
      "source": [
        "crime.map(lambda x: x.Occurrence_Year).countByValue()"
      ],
      "metadata": {
        "id": "vT42Esofn531",
        "outputId": "1cdf38d4-3189-4e12-d6ad-a79b1e8902f8",
        "colab": {
          "base_uri": "https://localhost:8080/"
        }
      },
      "execution_count": 68,
      "outputs": [
        {
          "output_type": "execute_result",
          "data": {
            "text/plain": [
              "defaultdict(int,\n",
              "            {'1940': 1,\n",
              "             '1968': 1,\n",
              "             '1970': 1,\n",
              "             '1972': 1,\n",
              "             '1987': 4,\n",
              "             '1990': 6,\n",
              "             '1992': 5,\n",
              "             '1994': 16,\n",
              "             '1995': 24,\n",
              "             '1996': 30,\n",
              "             '1998': 72,\n",
              "             '1999': 124,\n",
              "             '2000': 277,\n",
              "             '2001': 341,\n",
              "             '2002': 366,\n",
              "             '2003': 488,\n",
              "             '2004': 686,\n",
              "             '2005': 3256,\n",
              "             '2006': 127321,\n",
              "             '1910': 3,\n",
              "             '1913': 4,\n",
              "             '1945': 2,\n",
              "             '1981': 1,\n",
              "             '1985': 5,\n",
              "             '1988': 3,\n",
              "             '1991': 6,\n",
              "             '1905': 2,\n",
              "             '1971': 1,\n",
              "             '1997': 38,\n",
              "             '1914': 2,\n",
              "             '1956': 1,\n",
              "             '1989': 4,\n",
              "             '1993': 16,\n",
              "             '2015': 4,\n",
              "             '1954': 1,\n",
              "             '1982': 3,\n",
              "             '1950': 1,\n",
              "             '1959': 1,\n",
              "             '1966': 7,\n",
              "             '1980': 2,\n",
              "             '1912': 1,\n",
              "             '1955': 1,\n",
              "             '1920': 1,\n",
              "             '1964': 1,\n",
              "             '1978': 1,\n",
              "             '1986': 1,\n",
              "             '1915': 3,\n",
              "             '1908': 1,\n",
              "             '1911': 1,\n",
              "             '1965': 1,\n",
              "             '1946': 1,\n",
              "             '1973': 2,\n",
              "             '1975': 1,\n",
              "             '': 14,\n",
              "             '2007': 80833,\n",
              "             '2008': 10965})"
            ]
          },
          "metadata": {},
          "execution_count": 68
        }
      ]
    },
    {
      "cell_type": "code",
      "source": [
        "crimesFiltered = crime.filter(lambda x: not(x.Occurrence_Year=='')).filter(lambda x: int(x.Occurrence_Year) >2005 and int(x.Occurrence_Year)<2015)"
      ],
      "metadata": {
        "id": "Ka2ZoJLBoZAJ"
      },
      "execution_count": 71,
      "outputs": []
    },
    {
      "cell_type": "code",
      "source": [
        "crimesFiltered.map(lambda x: x.Occurrence_Year).countByValue()"
      ],
      "metadata": {
        "id": "jiHTI7wIpB91",
        "outputId": "77dce080-59ec-4439-ddbc-25ebbd0c9f03",
        "colab": {
          "base_uri": "https://localhost:8080/"
        }
      },
      "execution_count": 72,
      "outputs": [
        {
          "output_type": "execute_result",
          "data": {
            "text/plain": [
              "defaultdict(int, {'2006': 127321, '2007': 80833, '2008': 10965})"
            ]
          },
          "metadata": {},
          "execution_count": 72
        }
      ]
    },
    {
      "cell_type": "code",
      "source": [
        "def extractCoords(location):\n",
        "  location_lat = float(location[1:location.index(\",\")])\n",
        "  location_lon = float(location[location.index(\",\")+1:-1])\n",
        "  return (location_lat,location_lon)"
      ],
      "metadata": {
        "id": "VeqNMmV-pLaZ"
      },
      "execution_count": 73,
      "outputs": []
    },
    {
      "cell_type": "code",
      "source": [
        "crimesFiltered.map(lambda x: extractCoords(x.Location_1))\\\n",
        "              .reduce(lambda x,y:(min(x[0],y[0]),min(x[1],y[1])))"
      ],
      "metadata": {
        "id": "Cbu2RHsNr1Uv",
        "outputId": "731536ef-9468-4896-83f4-fbb250512f07",
        "colab": {
          "base_uri": "https://localhost:8080/"
        }
      },
      "execution_count": 74,
      "outputs": [
        {
          "output_type": "execute_result",
          "data": {
            "text/plain": [
              "(40.112709974, -77.519206334)"
            ]
          },
          "metadata": {},
          "execution_count": 74
        }
      ]
    },
    {
      "cell_type": "code",
      "source": [
        "crimesFiltered.map(lambda x: extractCoords(x.Location_1))\\\n",
        "              .reduce(lambda x,y:(max(x[0],y[0]),max(x[1],y[1])))"
      ],
      "metadata": {
        "id": "eIy8HmTus01n",
        "outputId": "227a1ef2-f330-4059-f2ab-895b9bae8085",
        "colab": {
          "base_uri": "https://localhost:8080/"
        }
      },
      "execution_count": 75,
      "outputs": [
        {
          "output_type": "execute_result",
          "data": {
            "text/plain": [
              "(40.912723396, -73.700716685)"
            ]
          },
          "metadata": {},
          "execution_count": 75
        }
      ]
    },
    {
      "cell_type": "code",
      "source": [
        "# filtering records that are in the boundaries of new york city co-ordinates\n",
        "crimeFinal = crimesFiltered.filter(lambda x: extractCoords(x.Location_1)[0]>=40.1 and \\\n",
        "                                   extractCoords(x.Location_1)[0]<= 40.95 and \\\n",
        "                                   extractCoords(x.Location_1)[1] >= -77.4 and \\\n",
        "                                   extractCoords(x.Location_1)[1] <= 73.2 )\n"
      ],
      "metadata": {
        "id": "OP8gXBn1s4DG"
      },
      "execution_count": 76,
      "outputs": []
    },
    {
      "cell_type": "code",
      "source": [
        "crimeFinal.count()"
      ],
      "metadata": {
        "id": "FHZ4PHI5t3yQ",
        "outputId": "4154bc46-e01f-4844-bb44-0cf5131f2c89",
        "colab": {
          "base_uri": "https://localhost:8080/"
        }
      },
      "execution_count": 77,
      "outputs": [
        {
          "output_type": "execute_result",
          "data": {
            "text/plain": [
              "219118"
            ]
          },
          "metadata": {},
          "execution_count": 77
        }
      ]
    },
    {
      "cell_type": "code",
      "source": [
        "crimeFinal.map(lambda x: x.Occurrence_Year).countByValue()"
      ],
      "metadata": {
        "id": "9o-QpOawt7U2",
        "outputId": "3a9dd14d-6858-43bd-c568-7d86a5bbdf36",
        "colab": {
          "base_uri": "https://localhost:8080/"
        }
      },
      "execution_count": 78,
      "outputs": [
        {
          "output_type": "execute_result",
          "data": {
            "text/plain": [
              "defaultdict(int, {'2006': 127321, '2007': 80832, '2008': 10965})"
            ]
          },
          "metadata": {},
          "execution_count": 78
        }
      ]
    },
    {
      "cell_type": "code",
      "source": [
        "crimeFinal.filter(lambda x: x.Offense=='BURGLARY')\\\n",
        "          .map(lambda x: x.Occurrence_Year)\\\n",
        "          .countByValue()"
      ],
      "metadata": {
        "id": "0sx42Et_unXW",
        "outputId": "8b78c1d2-d3ac-4293-90cc-5a21361c367a",
        "colab": {
          "base_uri": "https://localhost:8080/"
        }
      },
      "execution_count": 79,
      "outputs": [
        {
          "output_type": "execute_result",
          "data": {
            "text/plain": [
              "defaultdict(int, {'2006': 23069, '2007': 14736, '2008': 1994})"
            ]
          },
          "metadata": {},
          "execution_count": 79
        }
      ]
    },
    {
      "cell_type": "code",
      "source": [
        "!pip install geopandas\n",
        "import plotly.express as px\n",
        "import geopandas as gpd"
      ],
      "metadata": {
        "id": "somQNCSyu953",
        "outputId": "8c0ea18c-b233-4913-c991-75feed7f7cc6",
        "colab": {
          "base_uri": "https://localhost:8080/"
        }
      },
      "execution_count": 84,
      "outputs": [
        {
          "output_type": "stream",
          "name": "stdout",
          "text": [
            "Looking in indexes: https://pypi.org/simple, https://us-python.pkg.dev/colab-wheels/public/simple/\n",
            "Collecting geopandas\n",
            "  Downloading geopandas-0.12.1-py3-none-any.whl (1.1 MB)\n",
            "\u001b[K     |████████████████████████████████| 1.1 MB 29.3 MB/s \n",
            "\u001b[?25hCollecting fiona>=1.8\n",
            "  Downloading Fiona-1.8.22-cp38-cp38-manylinux_2_17_x86_64.manylinux2014_x86_64.whl (16.6 MB)\n",
            "\u001b[K     |████████████████████████████████| 16.6 MB 56.6 MB/s \n",
            "\u001b[?25hRequirement already satisfied: pandas>=1.0.0 in /usr/local/lib/python3.8/dist-packages (from geopandas) (1.3.5)\n",
            "Requirement already satisfied: shapely>=1.7 in /usr/local/lib/python3.8/dist-packages (from geopandas) (1.8.5.post1)\n",
            "Requirement already satisfied: packaging in /usr/local/lib/python3.8/dist-packages (from geopandas) (21.3)\n",
            "Collecting pyproj>=2.6.1.post1\n",
            "  Downloading pyproj-3.4.0-cp38-cp38-manylinux_2_17_x86_64.manylinux2014_x86_64.whl (7.8 MB)\n",
            "\u001b[K     |████████████████████████████████| 7.8 MB 54.8 MB/s \n",
            "\u001b[?25hRequirement already satisfied: setuptools in /usr/local/lib/python3.8/dist-packages (from fiona>=1.8->geopandas) (57.4.0)\n",
            "Requirement already satisfied: click>=4.0 in /usr/local/lib/python3.8/dist-packages (from fiona>=1.8->geopandas) (7.1.2)\n",
            "Requirement already satisfied: certifi in /usr/local/lib/python3.8/dist-packages (from fiona>=1.8->geopandas) (2022.9.24)\n",
            "Collecting munch\n",
            "  Downloading munch-2.5.0-py2.py3-none-any.whl (10 kB)\n",
            "Collecting click-plugins>=1.0\n",
            "  Downloading click_plugins-1.1.1-py2.py3-none-any.whl (7.5 kB)\n",
            "Collecting cligj>=0.5\n",
            "  Downloading cligj-0.7.2-py3-none-any.whl (7.1 kB)\n",
            "Requirement already satisfied: attrs>=17 in /usr/local/lib/python3.8/dist-packages (from fiona>=1.8->geopandas) (22.1.0)\n",
            "Requirement already satisfied: six>=1.7 in /usr/local/lib/python3.8/dist-packages (from fiona>=1.8->geopandas) (1.15.0)\n",
            "Requirement already satisfied: numpy>=1.17.3 in /usr/local/lib/python3.8/dist-packages (from pandas>=1.0.0->geopandas) (1.21.6)\n",
            "Requirement already satisfied: python-dateutil>=2.7.3 in /usr/local/lib/python3.8/dist-packages (from pandas>=1.0.0->geopandas) (2.8.2)\n",
            "Requirement already satisfied: pytz>=2017.3 in /usr/local/lib/python3.8/dist-packages (from pandas>=1.0.0->geopandas) (2022.6)\n",
            "Requirement already satisfied: pyparsing!=3.0.5,>=2.0.2 in /usr/local/lib/python3.8/dist-packages (from packaging->geopandas) (3.0.9)\n",
            "Installing collected packages: munch, cligj, click-plugins, pyproj, fiona, geopandas\n",
            "Successfully installed click-plugins-1.1.1 cligj-0.7.2 fiona-1.8.22 geopandas-0.12.1 munch-2.5.0 pyproj-3.4.0\n"
          ]
        }
      ]
    },
    {
      "cell_type": "code",
      "source": [
        "b_lats = crimeFinal.filter(lambda x: x.Offense=='BURGLARY' and x.Occurrence_Year=='2008')\\\n",
        "                    .map(lambda x: extractCoords(x.Location_1)[0])\\\n",
        "                    .collect()\n",
        "\n",
        "b_lons = crimeFinal.filter(lambda x: x.Offense=='BURGLARY' and x.Occurrence_Year=='2008')\\\n",
        "                    .map(lambda x: extractCoords(x.Location_1)[1])\\\n",
        "                    .collect()\n",
        "\n"
      ],
      "metadata": {
        "id": "Co5pNkgrvuj-"
      },
      "execution_count": 82,
      "outputs": []
    },
    {
      "cell_type": "code",
      "source": [],
      "metadata": {
        "id": "N2hI2qn-yxGD"
      },
      "execution_count": 86,
      "outputs": []
    },
    {
      "cell_type": "code",
      "source": [
        "import plotly.express as px\n",
        "import geopandas as gpd\n",
        "import plotly.graph_objects as go\n",
        "\n",
        "px.set_mapbox_access_token(open(\".mapbox_token\").read())\n",
        "\n",
        "fig = go.Figure(data=go.Scattergeo(\n",
        "        lon = b_lons,\n",
        "        lat = b_lats,\n",
        "        ))\n",
        "fig.update_geos(fitbounds=\"locations\")\n",
        "fig.update_layout(\n",
        "        title = 'Crimes in NYC',\n",
        "    )\n",
        "fig.show()"
      ],
      "metadata": {
        "id": "gFXlLqFtv9Jd",
        "outputId": "bb2f581c-54d8-41cc-f3c4-75fc28e9e658",
        "colab": {
          "base_uri": "https://localhost:8080/",
          "height": 542
        }
      },
      "execution_count": 89,
      "outputs": [
        {
          "output_type": "display_data",
          "data": {
            "text/html": [
              "<html>\n",
              "<head><meta charset=\"utf-8\" /></head>\n",
              "<body>\n",
              "    <div>            <script src=\"https://cdnjs.cloudflare.com/ajax/libs/mathjax/2.7.5/MathJax.js?config=TeX-AMS-MML_SVG\"></script><script type=\"text/javascript\">if (window.MathJax) {MathJax.Hub.Config({SVG: {font: \"STIX-Web\"}});}</script>                <script type=\"text/javascript\">window.PlotlyConfig = {MathJaxConfig: 'local'};</script>\n",
              "        <script src=\"https://cdn.plot.ly/plotly-2.8.3.min.js\"></script>                <div id=\"86850c2b-7d60-4c5f-a1e3-423cae24e923\" class=\"plotly-graph-div\" style=\"height:525px; width:100%;\"></div>            <script type=\"text/javascript\">                                    window.PLOTLYENV=window.PLOTLYENV || {};                                    if (document.getElementById(\"86850c2b-7d60-4c5f-a1e3-423cae24e923\")) {                    Plotly.newPlot(                        \"86850c2b-7d60-4c5f-a1e3-423cae24e923\",                        [{\"geo\":\"geo\",\"hovertemplate\":\"lat=%{lat}<br>lon=%{lon}<extra></extra>\",\"lat\":[40.679857461,40.681494044,40.806085151,40.83471502,40.8640858520001,40.851554101,40.804547142,40.7048779950001,40.7491926700001,40.695396798,40.715675596,40.8092532420001,40.7235881600001,40.8550174380001,40.8371333430001,40.7477296820001,40.6931610870001,40.6594817880001,40.823102396,40.6458858240001,40.735142567,40.63158588,40.6907383080001,40.8574221010001,40.6841093530001,40.5343411850001,40.689365396,40.853653041,40.8744633700001,40.6680592330001,40.7270764420001,40.577796006,40.7504307680001,40.7560077040001,40.829692079,40.7181697940001,40.5820690890001,40.6954446410001,40.7127150810001,40.759485576,40.660034319,40.720416678,40.7112587340001,40.696083856,40.725211781,40.716696228,40.881218527,40.699094818,40.725657321,40.7120185050001,40.683004039,40.7618746900001,40.6013562950001,40.7307963960001,40.7443463320001,40.7403085650001,40.762689342,40.826036645,40.784992806,40.694402929,40.8443148170001,40.5866775010001,40.739257336,40.669760625,40.5939687970001,40.855864023,40.761328269,40.823793548,40.545831879,40.7449435390001,40.861988669,40.875555838,40.647951397,40.819885621,40.8293492650001,40.6319821590001,40.7615151960001,40.661502264,40.7597787190001,40.638964866,40.6172772570001,40.6999907680001,40.7930371950001,40.6897250740001,40.59524034,40.8694782110001,40.8404892940001,40.6525727600001,40.6178557980001,40.632874015,40.7484050190001,40.645101937,40.6571216570001,40.687706173,40.765563494,40.760670616,40.85277753,40.5967052330001,40.725085661,40.7542899480001,40.767674926,40.8533759320001,40.704373085,40.8138846570001,40.708325184,40.681970521,40.680862539,40.7143848630001,40.6557621740001,40.6944809670001,40.75012867,40.6463907900001,40.8706006580001,40.525313177,40.665570572,40.7407449070001,40.671886482,40.673246928,40.8214065010001,40.685105089,40.742047218,40.6708029280001,40.8461653790001,40.807509684,40.63139856,40.662518015,40.690101719,40.670771899,40.7146650830001,40.835994027,40.5966353330001,40.7553324420001,40.6732482100001,40.736298278,40.7320194700001,40.7077282440001,40.58237461,40.7025091530001,40.8307119930001,40.851793822,40.605135896,40.682503738,40.8839958400001,40.60362623,40.827060341,40.647330127,40.605748599,40.74636646,40.74636646,40.7648190780001,40.741646632,40.7677048680001,40.750967942,40.8474953460001,40.5971567170001,40.646839463,40.588982888,40.852399561,40.79962153,40.6420473330001,40.711701686,40.732393648,40.8339510160001,40.7387958910001,40.7112893360001,40.8629801070001,40.6947905910001,40.6160234270001,40.705449668,40.7463288180001,40.645027462,40.8403359440001,40.6629781620001,40.5791147960001,40.6080074540001,40.873372465,40.62900726,40.6537178230001,40.749264125,40.854340334,40.8472047880001,40.663849009,40.8346993700001,40.7130398840001,40.7175098810001,40.7079571190001,40.6686463730001,40.677283194,40.636300164,40.815929553,40.8163292620001,40.8298740920001,40.875220412,40.661096839,40.6468954540001,40.8546123890001,40.6736080650001,40.7259358110001,40.5774552660001,40.721184076,40.721587689,40.6760526460001,40.6923894920001,40.6291738530001,40.822281823,40.6870559830001,40.5802579250001,40.7136874980001,40.742285967,40.6597704220001,40.6845435830001,40.6485951340001,40.6442616570001,40.763374893,40.637694009,40.886052491,40.7741172300001,40.6091378850001,40.776670192,40.673408082,40.691818649,40.6093691990001,40.662200161,40.701901966,40.873985143,40.835445083,40.6541863940001,40.670056817,40.6870559830001,40.856330633,40.6058198600001,40.663783713,40.8660629450001,40.749354463,40.756197694,40.690311439,40.742490579,40.7743481410001,40.816464297,40.603706378,40.626303894,40.819509618,40.76484893,40.6376247160001,40.764871618,40.549991806,40.7632362000001,40.874373861,40.6453286380001,40.6458858240001,40.69872474,40.6275414200001,40.7320031690001,40.833994374,40.842859477,40.6502902070001,40.7009724820001,40.8441703340001,40.71696446,40.6879700270001,40.6084250430001,40.8753168700001,40.7343606320001,40.7330830700001,40.7370822840001,40.873985143,40.6866061040001,40.5819489610001,40.689532286,40.6754747800001,40.8218047060001,40.8724531670001,40.8048028320001,40.5484718540001,40.8322383240001,40.893141488,40.5546280560001,40.6311550250001,40.6879794540001,40.773705878,40.7404518060001,40.875532568,40.636432314,40.634082719,40.630256252,40.669454246,40.635908482,40.6400445690001,40.7800717690001,40.8410653650001,40.752467698,40.748746393,40.6496258180001,40.7680379440001,40.8718732680001,40.6689147720001,40.773135875,40.7352860400001,40.6907383080001,40.737440389,40.639970412,40.7573324160001,40.7497336380001,40.828368649,40.830532932,40.6119545170001,40.7236177720001,40.690496855,40.8718732680001,40.7475958540001,40.6821716200001,40.7453932990001,40.7941502560001,40.7593206830001,40.5755542380001,40.8373235110001,40.7693532930001,40.814726939,40.671644058,40.7468333,40.773968945,40.807009339,40.8265098480001,40.6812523030001,40.670757576,40.759876563,40.764818269,40.615491223,40.843762188,40.7693532930001,40.5816374730001,40.884447144,40.777768005,40.808600561,40.862681292,40.701282946,40.853110198,40.8443654500001,40.6403213080001,40.621185487,40.705501063,40.7619319300001,40.851793822,40.7048944800001,40.881218527,40.748008553,40.634595614,40.682842099,40.84876963,40.657004171,40.6976696020001,40.610982736,40.578350013,40.707134319,40.7120021530001,40.7798207230001,40.6557621740001,40.6850409580001,40.705949644,40.7599330640001,40.7767045300001,40.6069286200001,40.7637124020001,40.8819559130001,40.691534377,40.704038719,40.7440305040001,40.694975979,40.6789651670001,40.879329017,40.7459397850001,40.7485733300001,40.7485733300001,40.8475257060001,40.867744617,40.7338831600001,40.851793822,40.674898383,40.710855135,40.774301688,40.6844989940001,40.70093788,40.70093788,40.606560916,40.6403213080001,40.6833225760001,40.607903558,40.809673472,40.687254099,40.6567894290001,40.7346907620001,40.8028067500001,40.7331139890001,40.676182028,40.678101129,40.528146813,40.681207161,40.7299999160001,40.7565318150001,40.670655072,40.8477625300001,40.739203595,40.659746157,40.7722913910001,40.816292887,40.7411107190001,40.7693532930001,40.8021762280001,40.836016182,40.640283294,40.6800116530001,40.750587292,40.6764029670001,40.6226976630001,40.6226976630001,40.6432550310001,40.8307258560001,40.773443453,40.761512877,40.7528838800001,40.6736335410001,40.8068486390001,40.6686089130001,40.718311209,40.634324168,40.707074946,40.840200054,40.663630486,40.65402304,40.6690741690001,40.727462782,40.8321205570001,40.8582572010001,40.6746822980001,40.6856105730001,40.6958705770001,40.864876172,40.659120386,40.703758753,40.7100938470001,40.8742007590001,40.607280917,40.679568487,40.6918499120001,40.7854300390001,40.7012219800001,40.721740336,40.8278886850001,40.656001766,40.770794342,40.7722229570001,40.840546164,40.8753114510001,40.8585561410001,40.7044770270001,40.7073538880001,40.7068761100001,40.821242623,40.717636928,40.7546133640001,40.7256619230001,40.8145735960001,40.7891143520001,40.693924483,40.847025495,40.7763002230001,40.6885944900001,40.636273714,40.6341955720001,40.763875318,40.65388611,40.6086581600001,40.7522636300001,40.870603326,40.7065999440001,40.7125644970001,40.5992926980001,40.670301367,40.7565318150001,40.8130453650001,40.6237714260001,40.8555908230001,40.681970521,40.7013787650001,40.6754191800001,40.6755247560001,40.6781518660001,40.696299256,40.835945011,40.719272646,40.6487955920001,40.7598697550001,40.776139148,40.711909011,40.871868127,40.5905511600001,40.7354283830001,40.871868127,40.7375470860001,40.695015954,40.626142073,40.5943891110001,40.7412221810001,40.6663603040001,40.775293199,40.7657593650001,40.6698224300001,40.7600482070001,40.7353707980001,40.764468014,40.7237620170001,40.6664793580001,40.741824749,40.6661419260001,40.6819491790001,40.8715245390001,40.6153374950001,40.700819912,40.812053484,40.6182724170001,40.8714079690001,40.7328398180001,40.608465858,40.755616236,40.768018791,40.624797535,40.764066631,40.846232033,40.649697643,40.66556087,40.7499188800001,40.7632453320001,40.8323341510001,40.677834352,40.7357221300001,40.7326890960001,40.74088521,40.679326502,40.829423019,40.7560976180001,40.7708986000001,40.776998237,40.868164952,40.7506026030001,40.6917432130001,40.760346627,40.7706626460001,40.6906988040001,40.836266064,40.8765009470001,40.642569651,40.857010331,40.8800998520001,40.672260604,40.7334188470001,40.7334188470001,40.6212102320001,40.814692409,40.654071479,40.773824475,40.813809185,40.8458011010001,40.8239449320001,40.8476173700001,40.760399691,40.6649215690001,40.6685119850001,40.7623547960001,40.749858105,40.8228437280001,40.627147037,40.673708343,40.71218767,40.7082110640001,40.644966529,40.679700408,40.821255523,40.6913913610001,40.6913913610001,40.7007521940001,40.854742994,40.820204108,40.760862767,40.829805202,40.705229735,40.7461686610001,40.845434583,40.7454081340001,40.8356478210001,40.75127532,40.5857764,40.7546133640001,40.7530582090001,40.7745527000001,40.683223196,40.855228895,40.642245641,40.7030616100001,40.8580648000001,40.6167292210001,40.672659552,40.7579891390001,40.6228649010001,40.7100938470001,40.757346324,40.6655665220001,40.6780578720001,40.703097273,40.7808851840001,40.621052412,40.8639502450001,40.610693149,40.7231111310001,40.721271551,40.860716972,40.6739243700001,40.5695931760001,40.6627675030001,40.80101319,40.6299843460001,40.700181677,40.8628471540001,40.726518836,40.709911838,40.8541200990001,40.7634065140001,40.8816223600001,40.641967091,40.6820561390001,40.7087740950001,40.7233055410001,40.8875992110001,40.8833825790001,40.6299843460001,40.749429804,40.722325665,40.5231580080001,40.7471091900001,40.7532576460001,40.6835216700001,40.7278886140001,40.6515556090001,40.7615966270001,40.8315167230001,40.8401603740001,40.774694448,40.6125068060001,40.827379809,40.6536268780001,40.663594098,40.6777069,40.755616236,40.7873181310001,40.630257348,40.7518679520001,40.8618454750001,40.6941900250001,40.714857835,40.761980405,40.6697201430001,40.7173184310001,40.672740178,40.668733011,40.6457508760001,40.7185016330001,40.7105189810001,40.5776740960001,40.8165834050001,40.6730250640001,40.695778596,40.669487727,40.7504307680001,40.663658173,40.8137864240001,40.706535425,40.6708201210001,40.8345027660001,40.7885849250001,40.6764037730001,40.8278601370001,40.68008073,40.74516162,40.6627764040001,40.6859357600001,40.635824175,40.6916294760001,40.783585352,40.760011923,40.7282807570001,40.7328644460001,40.718153123,40.8059254360001,40.6288601040001,40.6334362640001,40.542079771,40.8649675350001,40.7191931780001,40.8562724110001,40.6234306430001,40.758328379,40.7616457180001,40.8530752790001,40.7485068130001,40.775136231,40.655516778,40.5797801950001,40.5747510040001,40.699754683,40.652724649,40.694738607,40.699754683,40.9034860150001,40.870490945,40.7404897810001,40.821592616,40.7248007310001,40.6745833080001,40.6578837220001,40.703430358,40.7518679520001,40.7395729360001,40.71033127,40.7504631990001,40.610193463,40.650877291,40.6479629880001,40.6549524170001,40.6565068130001,40.822802482,40.7273049040001,40.7512099360001,40.6259885870001,40.7303660330001,40.7630609460001,40.6737721420001,40.7661891270001,40.692253151,40.8199508860001,40.6939725440001,40.6404593600001,40.646529505,40.7665634250001,40.578267232,40.7070359940001,40.742224363,40.7063981970001,40.7085645980001,40.6845435830001,40.8552914040001,40.7158281150001,40.8340683100001,40.779762545,40.862997808,40.7617232200001,40.846391886,40.731609952,40.739257336,40.606580084,40.6262547420001,40.6376860070001,40.6524093530001,40.8051163110001,40.6873352530001,40.59636106,40.6273118490001,40.653424257,40.8620054570001,40.6866919190001,40.604628453,40.6409140860001,40.6716240860001,40.673104568,40.590721774,40.7670861030001,40.8776076010001,40.6224689860001,40.772218422,40.77968795,40.6525727600001,40.620378698,40.7091045490001,40.6924724450001,40.831494004,40.684487964,40.7820931840001,40.6999907680001,40.7180413,40.6935933950001,40.694504979,40.7057076360001,40.74602263,40.701657432,40.7404897810001,40.773824475,40.8546935520001,40.8546123890001,40.6826000350001,40.687854026,40.702319435,40.6603239460001,40.766770798,40.8462720270001,40.8470862190001,40.703542461,40.6300314920001,40.6506829210001,40.8734855230001,40.6691324190001,40.849268018,40.741589343,40.704093137,40.6929649640001,40.675932038,40.6416316250001,40.6650031240001,40.6326415520001,40.688839128,40.762988658,40.736973397,40.5894505680001,40.6839408550001,40.8523741720001,40.7515852070001,40.5977861420001,40.800209825,40.6403201140001,40.852141187,40.8516560370001,40.5458557530001,40.5974045410001,40.676921496,40.648752948,40.662248694,40.574301425,40.5960629590001,40.603506086,40.8571112700001,40.671568322,40.6947153080001,40.6635594100001,40.580422179,40.6679179400001,40.7393722830001,40.755186784,40.608846607,40.6183073710001,40.717614209,40.7809330650001,40.7184298810001,40.6774377510001,40.60582701,40.6797937920001,40.7813519750001,40.674643797,40.695902023,40.6104688840001,40.639109197,40.764766368,40.6357725340001,40.7725607630001,40.7706626460001,40.7173942040001,40.7656313210001,40.685420788,40.5612849410001,40.5748019690001,40.7173184310001,40.639696078,40.665124931,40.618035945,40.858155417,40.7521006420001,40.6388473910001,40.664279563,40.7618746900001,40.721551601,40.846781467,40.8691257900001,40.7455583760001,40.689867932,40.854633375,40.6391898750001,40.8071122530001,40.6162646670001,40.6499444460001,40.6180012200001,40.6511875640001,40.6167627080001,40.7790326190001,40.6897380020001,40.752843059,40.851393435,40.7443811630001,40.7146612660001,40.708454857,40.6364668800001,40.8393457860001,40.8305771180001,40.6624862130001,40.8594382840001,40.767627555,40.774511497,40.8164856540001,40.671899755,40.748825444,40.8205764680001,40.6250752980001,40.692528877,40.6617676380001,40.881800739,40.751787376,40.7335041100001,40.706178569,40.7363209420001,40.740427315,40.518354892,40.6549128290001,40.81468277,40.8094002820001,40.849567064,40.884167968,40.848743492,40.7930371950001,40.7930371950001,40.7930371950001,40.718258964,40.764704604,40.764704604,40.764704604,40.764704604,40.764704604,40.764704604,40.764704604,40.694453249,40.702509277,40.732678601,40.534164022,40.7468236500001,40.764818269,40.848674197,40.652724649,40.652724649,40.750088756,40.545831879,40.682453228,40.6213267000001,40.832900398,40.815669885,40.8618454750001,40.8102917150001,40.6628892640001,40.646104042,40.647954097,40.7396241490001,40.787757377,40.6769601410001,40.743343284,40.886158735,40.6418875540001,40.6081113270001,40.774433463,40.594184898,40.6867462910001,40.7349087320001,40.7611596200001,40.8280395950001,40.6549524170001,40.6954763630001,40.7057925240001,40.605669065,40.754119792,40.6686086460001,40.7059039490001,40.695791716,40.777247673,40.761804167,40.7662833690001,40.7437780170001,40.632842451,40.7431987410001,40.8095968380001,40.6728019810001,40.6226482690001,40.5955813910001,40.741595886,40.735120728,40.736727768,40.7500127160001,40.715168539,40.591543406,40.6287810580001,40.8296924690001,40.827379809,40.742997406,40.6545796360001,40.6297561280001,40.6455546710001,40.6681552310001,40.8894735050001,40.832941761,40.5455744830001,40.652000822,40.8338519330001,40.8794996330001,40.7677048680001,40.758207461,40.717135781,40.6122794230001,40.6312080710001,40.630214907,40.65543303,40.6297561280001,40.670562535,40.7150234210001,40.7533332630001,40.7689940660001,40.7767045300001,40.6159690430001,40.6148469190001,40.627767169,40.6866793930001,40.822651084,40.591988864,40.6180609200001,40.754119792,40.6515765600001,40.7377058970001,40.637659575,40.691629414,40.8590944950001,40.8689253100001,40.716403562,40.897261949,40.6212112220001,40.6323053250001,40.7599461020001,40.7377058970001,40.7612336780001,40.7917475940001,40.8290381800001,40.8585902400001,40.8005225370001,40.5957694940001,40.663322162,40.8502962860001,40.829706898,40.63772765,40.7818505990001,40.713294397,40.6240143580001,40.587105292,40.7393887970001,40.8009216830001,40.6502902070001,40.6676162090001,40.7560976180001,40.6590583540001,40.7377058970001,40.741605017,40.632510317,40.6515765600001,40.705608361,40.750088756,40.7308052440001,40.854386624,40.759876563,40.702159738,40.5739335960001,40.756275434,40.86209525,40.753155255,40.879927685,40.596981537,40.745451024,40.7560976180001,40.607162315,40.720505465,40.7059159020001,40.8117172520001,40.64480152,40.699312762,40.862365981,40.867695063,40.7526141380001,40.7212184360001,40.751948102,40.714434931,40.602283033,40.835083222,40.5974594400001,40.6873356250001,40.5976202790001,40.5999682610001,40.6471045390001,40.6980431330001,40.743343284,40.88481311,40.842279848,40.64382175,40.6954723150001,40.806106379,40.829805202,40.7762397480001,40.6490195700001,40.853960274,40.7622141630001,40.680720884,40.7518319230001,40.6648658,40.645761377,40.825876173,40.6065902230001,40.617040881,40.6460614530001,40.6931386370001,40.7533463360001,40.835354425,40.681433876,40.7321470690001,40.7260166300001,40.7645493420001,40.7477296820001,40.8435785070001,40.8524351550001,40.8749060050001,40.772163349,40.843328854,40.6716305590001,40.6553451140001,40.8679109510001,40.609778077,40.68008073,40.7090073970001,40.6491298920001,40.630523833,40.8105244240001,40.6840702850001,40.705515237,40.706494858,40.726975307,40.7291264730001,40.6021818620001,40.605669065,40.6848032190001,40.690507584,40.8619973030001,40.726122731,40.7464808240001,40.6729081830001,40.6934152220001,40.6962607190001,40.759307065,40.578209986,40.608690186,40.685540874,40.736732127,40.7696200230001,40.8214173810001,40.7030507590001,40.7008000800001,40.6717113220001,40.7653438090001,40.727056937,40.7288162930001,40.740026512,40.813490007,40.674953535,40.867482776,40.6091508750001,40.71853313,40.7251597270001,40.6493605860001,40.626943403,40.5788853510001,40.7597886830001,40.814414915,40.7793074840001,40.669849045,40.6727658500001,40.7328283320001,40.764190543,40.834347565,40.6997596520001,40.59809503,40.771189013,40.898099535,40.675187533,40.7808473320001,40.705831603,40.6488671330001,40.8572855460001,40.652197458,40.7770405300001,40.6122794230001,40.794337962,40.723093486,40.707460487,40.7841519260001,40.60142834,40.62441289,40.8964499640001,40.619591943,40.7347567640001,40.8519242720001,40.7690537400001,40.7476907010001,40.578903815,40.703254175,40.8232899930001,40.856213589,40.6376860070001,40.6987166100001,40.5773653000001,40.675136459,40.8450190130001,40.867395152,40.74731775,40.5799554980001,40.71209256,40.900911422,40.8636835880001,40.791977634,40.864952771,40.650233035,40.704944047,40.6215765040001,40.8040460070001,40.746134741,40.876170861,40.7161034210001,40.855578216,40.636572803,40.8213667640001,40.822303839,40.872886518,40.6266978630001,40.816564881,40.7598425740001,40.779101473,40.636899989,40.735120728,40.7793824240001,40.8722424970001,40.751863853,40.817641854,40.638335307,40.6673168660001,40.662812762,40.798294748,40.831733344,40.6445906480001,40.5995495860001,40.6100107170001,40.682564987,40.72928818,40.739257336,40.763193012,40.831430363,40.845921506,40.6714216620001,40.6917407610001,40.699916246,40.727011632,40.727011632,40.6673168660001,40.623617693,40.681908332,40.79090425,40.6907383080001,40.6999454560001,40.826747938,40.847368191,40.57195109,40.6810948300001,40.8265002970001,40.781442586,40.6351158510001,40.662812762,40.7485733300001,40.711200917,40.6476889790001,40.8366172840001,40.6240287360001,40.8337763590001,40.645778217,40.702507987,40.7096885340001,40.8791413320001,40.8791413320001,40.890530175,40.763821466,40.7540898550001,40.7869444630001,40.8054685480001,40.857517821,40.6414407250001,40.8304648100001,40.7518319230001,40.6701709540001,40.7619109600001,40.8095968380001,40.599591579,40.6453376650001,40.7425413020001,40.8589484230001,40.7101905500001,40.7494126720001,40.644098221,40.692355735,40.709873513,40.7201690000001,40.706820178,40.7127150810001,40.684711083,40.687687339,40.691988424,40.660036158,40.661515105,40.8639162310001,40.818768839,40.7133236500001,40.754119792,40.6873585660001,40.8404701760001,40.6428819670001,40.660163448,40.7235420150001,40.846160255,40.76729627,40.6776039440001,40.6059973650001,40.694127404,40.727011632,40.7526141380001,40.680740966,40.671089281,40.7339937410001,40.677531145,40.601445003,40.679478766,40.6377616830001,40.7597935210001,40.8672368100001,40.7367643900001,40.636543428,40.811652817,40.5343961250001,40.6753095380001,40.728851375,40.6464786500001,40.6744500660001,40.6073097830001,40.701901966,40.5893736350001,40.6812246390001,40.7215899550001,40.6827283810001,40.6302789380001,40.647070838,40.58764008,40.84057333,40.761474342,40.7502915850001,40.7518927580001,40.707888215,40.715981776,40.7108920060001,40.7381713720001,40.7541399740001,40.75505481,40.6604817240001,40.692204158,40.703930143,40.710162806,40.737202229,40.7450686940001,40.7630188160001,40.7631668000001,40.5995075980001,40.6221181650001,40.6228649010001,40.695725607,40.8368191960001,40.8458011010001,40.755938632,40.7415919050001,40.684806768,40.84756256,40.7671593800001,40.8795567230001,40.667225097,40.7281587160001,40.650049618,40.7232908510001,40.613631578,40.8724058870001,40.7441251980001,40.852385607,40.897362479,40.7126691300001,40.7126691300001,40.692620549,40.776139148,40.8332401430001,40.641048992,40.7722021700001,40.687259542,40.900498091,40.644645192,40.6623860540001,40.694728158,40.6901538280001,40.5458481910001,40.663630486,40.744296327,40.5552137280001,40.7126691300001,40.749993567,40.6812246390001,40.685775634,40.844532665,40.660674418,40.665303889,40.733067471,40.698829905,40.7667294190001,40.7121236080001,40.7356176120001,40.6537642420001,40.5761573,40.63421528,40.6268293360001,40.6469343310001,40.7081152700001,40.8414058720001,40.5843463950001,40.6215765040001,40.876738258,40.6149006430001,40.6756082370001,40.7410496420001,40.7411334970001,40.756273451,40.82978532,40.8414505970001,40.865658464,40.727336602,40.7455236370001,40.6603456280001,40.668442123,40.7400747140001,40.666221793,40.6749308010001,40.812866866,40.8494052090001,40.727537281,40.645822041,40.8689736810001,40.675901772,40.87187958,40.6361114760001,40.749993567,40.836678228,40.6999454560001,40.761788014,40.744337886,40.6279753330001,40.8629199270001,40.7561126430001,40.860206223,40.8115884150001,40.6207026180001,40.6844880690001,40.724988984,40.7495912190001,40.8064823620001,40.8387788650001,40.870650255,40.8537250300001,40.750326623,40.6378022800001,40.6775846950001,40.702215112,40.5461045160001,40.740135611,40.8790727640001,40.624122033,40.8293052830001,40.7251969440001,40.703578797,40.847330481,40.852141187,40.862365981,40.6879924460001,40.876170861,40.7618746900001,40.6073518750001,40.6365678170001,40.6556723640001,40.6839941690001,40.822069071,40.8442200640001,40.710940436,40.6863435000001,40.656302268,40.626793589,40.7336436260001,40.7006972570001,40.760157529,40.6176949100001,40.6619707,40.6117221640001,40.692529376,40.539444814,40.691860562,40.758328379,40.754257522,40.7447586710001,40.753279499,40.6036767460001,40.7263594610001,40.7626554870001,40.7114830990001,40.8376358730001,40.807938757,40.8165687110001,40.6699007880001,40.6459260300001,40.602885911,40.7594255160001,40.5976202790001,40.669381125,40.83858237,40.6416551290001,40.6875918870001,40.710783222,40.696078078,40.7619370470001,40.689048256,40.6941375430001,40.700143112,40.8420623060001,40.7488144010001,40.8219672500001,40.731382689,40.754478061,40.754119792,40.824718336,40.7650842100001,40.7258874120001,40.6532403780001,40.733538154,40.6982641070001,40.748580841,40.805928979,40.745930693,40.742246827,40.828515349,40.592901312,40.7475682260001,40.6868944330001,40.786061036,40.8639324710001,40.8322660790001,40.6309549800001,40.6376921310001,40.755675739,40.641227803,40.877622011,40.708477385,40.712199486,40.786193349,40.7073540540001,40.6143838180001,40.7480709970001,40.7130117500001,40.827793974,40.768784828,40.6256987960001,40.8484139020001,40.62112189,40.6322911930001,40.7597194700001,40.7778709520001,40.6401788530001,40.7472744660001,40.6837020230001,40.6795418300001,40.655456789,40.750411107,40.6646718970001,40.7437057700001,40.8118117600001,40.663963161,40.6708915630001,40.747239387,40.676318748,40.773705878,40.86858934,40.8268969440001,40.7289892590001,40.7569183950001,40.7283821870001,40.7236369730001,40.676807958,40.5969626560001,40.604120906,40.7607609660001,40.620654029,40.6924079830001,40.725585762,40.7906045570001,40.722887536,40.6771232450001,40.7008000800001,40.750048689,40.7667294190001,40.811169851,40.7431284570001,40.8354947930001,40.753664251,40.646331289,40.733248745,40.7796729300001,40.6273050670001,40.76004304,40.8067293760001,40.8714991580001,40.8679268560001,40.7738390470001,40.6577041960001,40.7256087650001,40.636470924,40.6838701350001,40.6768113570001,40.7485126490001,40.8811686660001,40.69041151,40.8039318790001,40.6677594070001,40.7325506460001,40.6822462120001,40.7557267600001,40.6826044160001,40.736179807,40.661302204,40.7336275580001,40.734396734,40.854578297,40.7320386580001,40.7320386580001,40.854535162,40.7797605010001,40.845806743,40.659694184,40.7085923590001,40.7549505320001,40.549202033,40.6019046920001,40.6480062570001,40.6130234980001,40.6857904570001,40.720540471,40.640252822,40.682973121,40.751676258,40.859325234,40.6881034850001,40.7559369910001,40.5762251080001,40.766345099,40.8725559040001,40.846153572,40.6796415790001,40.8120058960001,40.6775538360001,40.754619097,40.7806049210001,40.7693060870001,40.573017786,40.6906388520001,40.625107761,40.6733280300001,40.745451024,40.767970226,40.6591445990001,40.5321295250001,40.6451171190001,40.742997406,40.6812124640001,40.690507584,40.731499984,40.8280406900001,40.6789011020001,40.7043010790001,40.7630188160001,40.6746822980001,40.6315229370001,40.714186141,40.7166139570001,40.8342194250001,40.6677594070001,40.7504307680001,40.7080129930001,40.691595465,40.756826393,40.766520659,40.696051605,40.8684071220001,40.785536694,40.639794436,40.7166139570001,40.681480461,40.5105057920001,40.813942759,40.8262655820001,40.684929869,40.66853273,40.697750458,40.6429547590001,40.6925421190001,40.7554691460001,40.762198959,40.661096839,40.750411107,40.726798812,40.8112258580001,40.852535813,40.8361052810001,40.689389518,40.685887866,40.709641774,40.741277159,40.7687600150001,40.8486026570001,40.6366979250001,40.8127497360001,40.7074936230001,40.6648207210001,40.8268701650001,40.627436092,40.7004929560001,40.7505273140001,40.8029604280001,40.7842360970001,40.7375333540001,40.82269869,40.8576184460001,40.8648361200001,40.7692832810001,40.8210877610001,40.715207096,40.685425201,40.762977758,40.671246534,40.8197216040001,40.718965278,40.8690585320001,40.6125238270001,40.642598573,40.7033260580001,40.74251687,40.603181261,40.744793357,40.7688387580001,40.673007985,40.8081277590001,40.773705878,40.7520106160001,40.883278139,40.5777122420001,40.6915314550001,40.7097984580001,40.852095535,40.7866981170001,40.8062738360001,40.78399741,40.6872245420001,40.68811257,40.688783739,40.820042862,40.755714116,40.8425731900001,40.7460284380001,40.7357063910001,40.7443073160001,40.8184730080001,40.739191325,40.756404134,40.7357933330001,40.657567016,40.6852723420001,40.8163273330001,40.6582945390001,40.676446932,40.574068207,40.676446932,40.8067788640001,40.625901019,40.7988033120001,40.8121903480001,40.852141187,40.611940379,40.747257511,40.7625543410001,40.7770755130001,40.621052412,40.6273118490001,40.731639353,40.851566124,40.635517588,40.8528419950001,40.769132229,40.737825323,40.579162625,40.6647029000001,40.6782380120001,40.7325668400001,40.6843919510001,40.7293430570001,40.662389273,40.663612562,40.717433364,40.7270361820001,40.7462800540001,40.7462800540001,40.676567769,40.6534494700001,40.760307025,40.7913362780001,40.7235881600001,40.85502101,40.725944358,40.584493337,40.6080860920001,40.6458349010001,40.8493206900001,40.7643770400001,40.766240843,40.681349153,40.8864964960001,40.62241672,40.7244474870001,40.6813182000001,40.6586743,40.673760094,40.702759347,40.70669345,40.6768113570001,40.6312056410001,40.672776492,40.600517971,40.7022544180001,40.789014352,40.632956064,40.656820404,40.760338265,40.593688883,40.7777865050001,40.72498755,40.638079007,40.846160255,40.666231521,40.696137949,40.6588557260001,40.8087779430001,40.6747665410001,40.6880039070001,40.722363687,40.623105342,40.65782556,40.612236421,40.612236421,40.653227933,40.709819011,40.880992555,40.6630717620001,40.673031404,40.7590282290001,40.636300164,40.717614209,40.5859088070001,40.878053859,40.879740978,40.9001430450001,40.6115853860001,40.754311511,40.8790555530001,40.6990792610001,40.85590689,40.877788706,40.6207922140001,40.841104279,40.6896004070001,40.6374970460001,40.6403543060001,40.706691715,40.726940293,40.717433364,40.891890491,40.679210428,40.712629932,40.6036812410001,40.7024978210001,40.6971692120001,40.7256217410001,40.598210646,40.8671080120001,40.7036888260001,40.8549467010001,40.692065364,40.709317281,40.6115853860001,40.6587192760001,40.8710611320001,40.6775028910001,40.679594826,40.712762846,40.6686167930001,40.689635208,40.7174389640001,40.582620261,40.7547373200001,40.8531152910001,40.7436832330001,40.6374970460001,40.7336436260001,40.742699299,40.748814909,40.699763917,40.7279278070001,40.7976115700001,40.599399987,40.668014344,40.627475519,40.826507857,40.529664602,40.720092654,40.723538009,40.608378051,40.620396907,40.7654002190001,40.7627902460001,40.625181383,40.7504307680001,40.5353585190001,40.679789042,40.6357359410001,40.62659188,40.6327574640001,40.697633448,40.770404984,40.6978053080001,40.7478418650001,40.7597080960001,40.756707459,40.8327739750001,40.5958103630001,40.750630216,40.7535022600001,40.7693429490001,40.8092803480001,40.7196240870001,40.8651233100001,40.539082938,40.877600489,40.601870945,40.600733969,40.6590046330001,40.711147985,40.7553575910001,40.6933957620001,40.7210153090001,40.7248007310001,40.6887633960001,40.6801577840001,40.600983458,40.6937502070001,40.7932445760001,40.691204231,40.8259101670001,40.6227830460001,40.876760199,40.699328952,40.7196240870001,40.76764574,40.7540898550001,40.8132471800001,40.6459029390001,40.8032346190001,40.675631181,40.7416684730001,40.6897168300001,40.6938698500001],\"legendgroup\":\"\",\"lon\":[-73.859651798,-73.855776092,-73.941454899,-73.870419377,-73.918005281,-73.865861001,-73.966564083,-73.918662761,-73.8985997079999,-73.791584311,-73.9406252699999,-73.8870208549999,-73.977669603,-73.883075218,-73.8341637199999,-73.9868392929999,-73.954434981,-73.843839493,-73.911313685,-73.998758226,-73.806611515,-74.02327164,-73.9439324969999,-73.931190135,-73.881853327,-74.236214461,-73.919853594,-73.9068918309999,-73.885546855,-73.935368707,-73.9571862829999,-73.965442837,-73.989282176,-73.8811843829999,-73.940653616,-73.82247219,-73.837039922,-73.923261365,-73.989230525,-73.9881617199999,-73.889558697,-73.987248731,-73.791523895,-73.7431285389999,-73.8016326709999,-73.735459189,-73.904133781,-73.926917665,-73.798979574,-73.943972312,-73.939496982,-73.966358084,-73.954461619,-73.959417318,-73.8624210789999,-74.0038266,-73.938475209,-73.8892615029999,-73.9558021189999,-73.944661464,-73.909420439,-73.920009233,-74.0034765089999,-73.796224523,-74.099644352,-73.884281109,-73.917092162,-73.926159253,-74.170653757,-73.9850209649999,-73.910314638,-73.8455630939999,-73.9606064559999,-73.901226998,-73.891886594,-73.982535178,-73.917489006,-73.907661037,-73.8809249779999,-73.969270141,-73.9445705159999,-73.9955366569999,-73.9719762679999,-73.912471887,-73.763735017,-73.827513418,-73.8474804479999,-73.951219199,-73.9091081889999,-73.897771255,-73.8869075009999,-74.0193593669999,-73.894940892,-73.797875225,-73.957641673,-73.922597832,-73.930302099,-73.945041303,-73.9886801389999,-73.972938227,-73.870358477,-73.862969123,-73.953489578,-73.951093746,-73.914546684,-73.985456947,-73.831393979,-73.757786395,-73.9581258539999,-73.970099214,-73.9875317789999,-73.928798792,-73.8902466929999,-74.212481665,-73.915509813,-73.994379158,-73.762594717,-73.922172957,-73.919250169,-73.846454882,-73.9039984189999,-73.8222810349999,-73.831705109,-73.911385033,-74.008100414,-73.927011804,-73.957170358,-73.942071142,-73.913867607,-73.852138139,-73.9873407819999,-73.9852604609999,-73.991190809,-73.992167574,-74.000733909,-73.808490879,-73.95801706,-73.74799073,-73.849092819,-73.829185888,-73.942272143,-73.924311038,-73.8776683099999,-73.768023252,-73.9150409919999,-73.896999556,-74.0060301189999,-73.975630123,-73.975630123,-73.928636091,-73.8588251579999,-73.914109485,-73.982724151,-73.892731799,-73.961903938,-73.8977318399999,-74.091359456,-73.889217613,-73.941872335,-73.9827847769999,-73.947305526,-73.8751033569999,-73.896634767,-73.9906661219999,-73.9180561649999,-73.8543774669999,-73.926244422,-73.9675229659999,-73.782023827,-73.8885242329999,-73.95850375,-73.921995564,-73.9345121649999,-73.983618179,-73.949144893,-73.87893171,-74.014174135,-73.980691474,-73.988008344,-73.9118070279999,-73.912712869,-73.894822162,-73.942495779,-73.957577656,-74.013579701,-73.7902032759999,-73.917784125,-73.9164070969999,-73.8924659749999,-73.9451673569999,-73.9430607899999,-73.9050207939999,-73.8850501649999,-73.919703735,-74.01025003,-73.884232679,-73.847094206,-73.9412150329999,-74.00457683,-73.979420094,-73.959293051,-73.7936924969999,-73.9151296489999,-73.980147372,-73.901299316,-73.832232883,-73.964883566,-73.957169632,-73.98063694,-73.9605814559999,-73.929381827,-73.957013213,-73.97851413,-73.773361829,-73.982176979,-73.8614443,-73.907840661,-73.908551014,-73.9618770709999,-73.925121673,-73.908073411,-73.9751362929999,-73.75347756,-73.9216057359999,-73.874367337,-73.856483146,-73.88518594,-73.921174536,-73.832232883,-73.895811931,-74.007751578,-73.7396844579999,-73.919297178,-73.911758338,-73.973576333,-73.8144510339999,-73.851143935,-73.954325277,-73.8905563499999,-74.007578473,-74.011958041,-73.953582535,-73.908712658,-73.945249009,-73.920831286,-74.136692249,-73.820850358,-73.8569776689999,-73.999345606,-73.998758226,-73.821755807,-73.919124468,-73.876980346,-73.846783433,-73.915815939,-73.94179702,-73.936584651,-73.914303514,-73.998176117,-73.922361305,-73.956779769,-73.9102532699999,-73.994819911,-73.804438109,-73.9829622999999,-73.874367337,-73.8232413119999,-73.9656674939999,-73.9706387099999,-73.9096641679999,-73.9483131,-73.85093978,-73.9522057309999,-74.210655414,-73.84312326,-73.8565141079999,-74.1731268789999,-73.893911756,-73.783631435,-73.796769356,-73.9211417769999,-73.829056201,-73.923905708,-74.0110370959999,-74.013223291,-73.86851988,-73.996585808,-73.8845040419999,-73.974996733,-73.917097601,-73.786533197,-73.950636291,-73.953527741,-73.9274882289999,-73.9190117109999,-73.7753409969999,-73.956676487,-73.717895566,-73.9439324969999,-73.707869252,-73.919959762,-73.785600777,-73.989675685,-73.8723540729999,-73.9425716499999,-74.0071616119999,-73.999990624,-73.786807321,-73.9190117109999,-73.899316727,-73.8084777409999,-73.922525359,-73.939869087,-73.734697915,-73.980141709,-73.9198307569999,-73.920121968,-73.893543275,-73.863360523,-73.976755957,-73.960614956,-73.9516009,-73.899464709,-73.998699882,-73.981677882,-73.8799935009999,-73.9851897729999,-74.08165623,-73.911745153,-73.920121968,-73.961487983,-73.8787813499999,-73.9081822329999,-73.9385664279999,-73.86599763,-73.905099405,-73.8610936109999,-73.9409332829999,-73.961836058,-73.964494612,-73.768970785,-73.9061212029999,-73.829185888,-73.926868026,-73.904133781,-73.8677224369999,-73.901623743,-73.9213433049999,-73.831376828,-74.0133583429999,-73.7812991439999,-74.103952105,-74.0058836489999,-73.941458843,-73.7669751609999,-73.953263565,-73.9581258539999,-73.921776995,-73.769560744,-73.81488157,-73.95105606,-73.916138645,-73.7359402829999,-73.8391292439999,-73.9337629199999,-74.012383149,-74.001271759,-73.9331753,-73.937056242,-73.902744276,-73.892166306,-73.976066015,-73.976066015,-73.8272811859999,-73.9072408879999,-73.9993736059999,-73.829185888,-73.906240106,-73.9173172549999,-73.948317474,-73.8185163209999,-73.9060448,-73.9060448,-74.0083206859999,-73.961836058,-73.822738026,-73.9500705519999,-73.9201927889999,-73.9846156529999,-73.922469674,-73.810563958,-73.9575132259999,-73.7470270429999,-73.85078721,-73.866855223,-74.16705818,-73.729953831,-73.782571329,-73.886493047,-73.91339092,-73.913463946,-73.8752926719999,-73.729002672,-73.788617829,-73.80778107,-73.858266949,-73.920121968,-73.914418982,-73.8611293,-74.130928281,-73.916616394,-73.8764118669999,-73.958285943,-74.0067412989999,-74.0067412989999,-73.911264452,-73.867048484,-73.965276332,-73.980360618,-73.983434689,-73.793162829,-73.92348693,-73.985124619,-73.954028184,-73.923681129,-73.916420235,-73.943065659,-73.955529289,-73.927208504,-73.7712634389999,-73.873929193,-73.817203035,-73.854955369,-73.940294044,-73.942912796,-73.924010972,-73.903604184,-73.9369920669999,-73.8956175819999,-74.01060963,-73.852469006,-73.958005,-73.941245088,-73.956567031,-73.977663309,-73.823209773,-73.866948424,-73.875191502,-73.904356504,-73.9331461579999,-73.9221800459999,-73.874137746,-73.847545211,-73.87093326,-73.799602481,-73.911381112,-73.756933609,-73.853280114,-73.998262677,-73.985617953,-73.8200097179999,-73.822507663,-73.812666162,-73.905420004,-73.904656549,-73.933032313,-73.9495341639999,-74.125505086,-73.9929938079999,-73.887827031,-73.9544978439999,-73.9745134949999,-73.983882395,-73.916359329,-73.795606957,-73.833160644,-73.991744317,-73.7700263689999,-73.886493047,-73.946260732,-73.934143569,-73.862895877,-73.985456947,-73.7494592579999,-73.937539069,-73.9586109539999,-73.922206891,-73.92476419,-73.941584018,-74.006285705,-73.8967198089999,-73.8289704119999,-73.977872229,-73.835423939,-73.915667125,-73.976543909,-74.00413664,-73.915667125,-73.9283621869999,-73.922511772,-74.1572525829999,-73.935425607,-73.98982496,-73.935525352,-73.956566768,-73.982680605,-73.932418254,-73.972029853,-73.7046271689999,-73.975406903,-73.8635711479999,-73.988560316,-73.796300034,-73.9904888459999,-73.76949946,-73.9044587129999,-74.031514277,-73.760277286,-73.90950047,-73.932099434,-73.86473984,-73.9911973659999,-73.9924598819999,-73.884902833,-73.954376549,-74.004558464,-73.9550579209999,-73.787302167,-74.012625321,-73.767173449,-73.979281289,-73.960881208,-73.8875887519999,-73.787842852,-73.998042095,-74.0047210019999,-73.9248473649999,-73.747887251,-73.8319823319999,-73.98109855,-73.924210578,-73.9777961189999,-73.922675189,-73.9809016039999,-73.7630649179999,-73.894760031,-73.92028286,-73.823396336,-73.9113286629999,-73.911698082,-73.989497681,-73.883310302,-73.8596666729999,-73.965033402,-73.8764040189999,-73.8764040189999,-74.083248193,-73.953025931,-73.9513802829999,-73.808315245,-73.904942567,-73.880774613,-73.894872629,-73.885473769,-73.989345547,-73.764591205,-73.7994834369999,-73.976526731,-73.977213263,-73.9036433919999,-73.943557216,-73.982531463,-73.954090121,-73.815046846,-73.97580769,-73.776047368,-73.915395253,-73.791138869,-73.791138869,-73.7392299479999,-73.914373035,-73.8636371819999,-73.870624418,-73.9418098319999,-73.91176625,-74.001571343,-73.8449101539999,-73.943280193,-73.885610014,-73.982500299,-73.953435359,-73.985617953,-73.924894991,-73.803937224,-73.764295841,-73.828309495,-73.988204136,-73.942497519,-73.9319305499999,-74.018317376,-73.7918680559999,-73.983653605,-74.02684927,-74.01060963,-73.9801813679999,-73.910164207,-73.9135723859999,-73.915725537,-73.9799793779999,-74.0305587949999,-73.8407852459999,-73.96792534,-73.867955846,-73.8433988899999,-73.899246702,-73.8910930769999,-74.1105646079999,-73.907529526,-73.954238355,-73.9232177439999,-73.92680828,-73.8995833119999,-73.7895711849999,-73.78596972,-73.888809888,-73.979028012,-73.878309148,-73.910444607,-73.742288409,-73.9985334259999,-73.8800701759999,-73.8649926109999,-73.902333309,-73.9232177439999,-73.9098056989999,-73.7527067899999,-74.2392323289999,-73.883842046,-73.987202743,-73.840631932,-74.000134942,-73.832671725,-73.9921862589999,-73.910055784,-73.867860862,-73.96331879,-74.1663724649999,-73.949631258,-73.730858342,-73.984339958,-73.914052339,-73.884902833,-73.97623987,-74.130245717,-73.9810239559999,-73.9029506049999,-73.737081103,-73.823105068,-73.9716139129999,-73.781639522,-73.9561428,-73.988397017,-73.919982924,-73.923920305,-73.8352092489999,-73.9479376899999,-73.986055629,-73.952742799,-73.936315613,-73.945792677,-73.989525886,-73.989282176,-73.884719075,-73.897594528,-73.9038872529999,-73.9783109109999,-73.91337278,-73.927288899,-73.898032604,-73.8741798089999,-73.872241313,-73.7602620919999,-73.8925061959999,-73.9400784439999,-74.102772993,-73.986302252,-73.950512966,-73.8127263549999,-73.857486046,-73.787920222,-73.944125883,-73.91429857,-73.956986295,-73.96710737,-74.1630597239999,-73.918904428,-73.99689179,-73.886467431,-74.004187332,-73.9660133529999,-73.98843929,-73.898744982,-73.990588972,-73.955216534,-73.948614924,-73.998424655,-73.9871217469999,-73.9946819479999,-73.9315021629999,-73.754302071,-73.9946819479999,-73.9007156869999,-73.88747363,-74.0001349679999,-73.941036595,-73.997317247,-73.930221541,-73.913540855,-73.965467884,-73.9810239559999,-73.995234495,-73.8607635229999,-73.856940524,-74.167900984,-73.931302247,-73.948289206,-73.958000222,-73.9530940609999,-73.900326617,-73.8519752079999,-73.720769666,-74.0873897719999,-73.709610513,-73.959469859,-73.92360715,-73.957186411,-73.803569807,-73.945839667,-73.801051265,-74.0026101839999,-73.960333425,-73.960005625,-73.972325564,-73.808150219,-73.9951585219999,-73.959352821,-73.738358971,-73.929381827,-73.860402229,-73.94965423,-73.94294804,-73.8192424279999,-73.8553571739999,-73.949861397,-73.88412771,-73.722064146,-74.0034765089999,-74.062168919,-74.1039867,-74.016251355,-73.954336676,-73.961040821,-73.9344197349999,-73.7448696989999,-73.912964426,-73.981455594,-73.903893949,-73.972543789,-74.091103565,-74.014688327,-73.925289503,-73.983032716,-73.802694682,-73.786453852,-73.881646914,-73.927253722,-73.948297429,-73.977138063,-73.951219199,-74.144159577,-73.914347302,-73.9727072859999,-73.862056588,-73.876465864,-73.782877863,-73.9955366569999,-73.7477480219999,-73.8156643729999,-73.8124631859999,-73.9237256439999,-73.878863592,-73.9253604359999,-74.0001349679999,-73.808315245,-73.885804994,-73.884232679,-73.9060093419999,-73.7900069089999,-73.9305675959999,-73.92134823,-73.7460363929999,-73.8850351299999,-73.908466071,-73.91646073,-73.902167268,-74.013501229,-73.84909699,-73.8655501699999,-73.908159446,-73.8305871279999,-73.9188692989999,-73.822730421,-73.8953835359999,-74.08675446,-73.994919013,-74.012535627,-73.95717838,-73.916841015,-74.00905145,-73.950746838,-73.941133067,-73.865349672,-73.817655019,-74.1810924329999,-73.938364683,-73.939791511,-73.922375722,-73.9276175699999,-74.195290292,-73.997300756,-73.909943415,-73.9534562759999,-73.749263806,-73.994072789,-74.0700737729999,-73.9741013189999,-73.891104011,-73.916068187,-73.974390448,-73.933386995,-73.9634866809999,-73.9924171169999,-73.91993057,-73.983870859,-73.984644523,-73.946291435,-73.942221623,-73.840550446,-73.899101048,-73.804107362,-73.9467696529999,-73.915214181,-73.9810805499999,-73.9589287489999,-73.9673939039999,-73.954120452,-73.9097170009999,-73.8813564769999,-74.15394972,-73.926674578,-73.92028286,-73.823239024,-73.991106394,-73.954321283,-74.181554927,-73.854224613,-73.9561428,-73.973705335,-73.958988678,-74.1163648689999,-73.8838505479999,-73.977609517,-73.9863563219999,-73.930473822,-73.966358084,-73.8105760509999,-73.892458255,-73.8304755349999,-73.8952597689999,-73.795683488,-73.918392876,-73.9010224469999,-73.9121080149999,-73.966471086,-73.961599914,-73.949072444,-73.901285746,-74.028986378,-73.952372268,-73.8382443899999,-73.8839258899999,-73.857757244,-73.987522027,-74.00903399,-73.961779018,-73.9074146419999,-73.8324054079999,-73.928341525,-73.924517575,-73.8935150889999,-73.9576800729999,-73.925466526,-73.813177997,-73.9840388,-73.893157746,-73.945387534,-74.022973973,-73.751659757,-73.7645086209999,-73.880916186,-73.975804994,-74.007950458,-73.758061474,-73.9172170959999,-73.8699315439999,-74.193965507,-73.8310306829999,-73.916566888,-73.880413555,-73.8836812019999,-73.8646668659999,-73.891985195,-73.9719762679999,-73.9719762679999,-73.9719762679999,-73.9845363489999,-73.9780926239999,-73.9780926239999,-73.9780926239999,-73.9780926239999,-73.9780926239999,-73.9780926239999,-73.9780926239999,-73.96907508,-73.926867036,-73.8558745879999,-74.202519507,-73.9846993419999,-73.9851897729999,-73.917796563,-73.9315021629999,-73.9315021629999,-73.8910046569999,-74.170653757,-73.904390677,-74.1219071949999,-73.9401665249999,-73.936569294,-73.9029506049999,-73.9031666619999,-73.770812463,-73.982232389,-73.9694894259999,-73.892209005,-73.9445477629999,-73.951262652,-73.8893087289999,-73.863075145,-73.979260779,-73.948183216,-73.9884045759999,-74.135274006,-73.870898025,-73.985070128,-73.961755996,-73.9071300209999,-73.958000222,-73.9582163109999,-73.739635832,-73.9953664929999,-73.990212802,-73.895027337,-73.921774155,-73.939095905,-73.916956802,-73.960369463,-73.8283907749999,-73.7926635759999,-74.0059352919999,-73.890279735,-73.9497855979999,-73.914047844,-73.924350093,-74.062695199,-73.920440334,-73.991456867,-73.980194718,-73.98237431,-73.795281277,-73.803239547,-74.021458552,-73.898039801,-73.949631258,-73.984234687,-73.930689359,-73.9603866259999,-73.959090794,-73.952054916,-73.8578602169999,-73.935432593,-74.175704868,-73.963231279,-73.9384925209999,-73.8722305969999,-73.914109485,-73.976398247,-73.9595555019999,-73.978841372,-73.9359231879999,-74.1514474429999,-73.744121202,-73.9603866259999,-73.891642901,-73.9122438749999,-73.867628848,-73.9566864019999,-73.95105606,-73.946797585,-73.9543371569999,-73.949025364,-73.7540505169999,-73.8536094149999,-73.9929010179999,-73.9707097679999,-73.990212802,-73.9216936999999,-73.8114106,-74.005521366,-73.9117770349999,-73.915932762,-73.922790005,-73.953932101,-73.863880603,-74.031985337,-74.160365514,-73.9698532469999,-73.8114106,-73.9855371089999,-73.973775299,-73.8938383619999,-73.869526937,-73.963795777,-74.160234556,-73.982909048,-73.913988382,-73.887015033,-73.987520348,-73.751135244,-73.9912612689999,-74.029349762,-73.986507305,-73.991160415,-73.959063944,-73.94179702,-73.996421975,-73.98109855,-73.9504575669999,-73.8114106,-73.854065358,-74.025876792,-73.9216936999999,-74.015395081,-73.8910046569999,-73.7264441739999,-73.93625403,-73.8799935009999,-73.906580457,-74.123188563,-73.9450143289999,-73.925057462,-73.981131869,-73.8967983429999,-74.094387947,-73.897977452,-73.98109855,-74.001668906,-73.976025587,-73.961636203,-73.89493168,-74.0052697149999,-73.994407896,-73.8925451269999,-73.8562146899999,-73.97881846,-73.8034014629999,-73.873345074,-73.7917989319999,-73.745509688,-73.850351342,-73.938418599,-73.8751553,-73.931612704,-73.9566159939999,-73.943861055,-73.891554962,-73.8893087289999,-73.879663104,-73.868348179,-73.999115001,-73.76388831,-73.945569179,-73.9418098319999,-73.912430387,-73.947935225,-73.900120875,-73.991738568,-73.7995440729999,-73.979024437,-73.92024709,-73.9540637539999,-73.822379956,-73.960821735,-74.0249414849999,-73.9967834839999,-73.93608725,-73.860110557,-73.828302962,-73.862684271,-73.981992959,-73.996285351,-73.911705717,-73.9868392929999,-73.818154624,-73.904468059,-73.878223809,-73.95437371,-73.923755796,-73.9826077119999,-73.951512704,-73.920484455,-74.003048376,-73.872241313,-73.74363421,-74.007925985,-73.9776611089999,-73.938214246,-73.936762975,-73.798423556,-73.787592938,-73.978281813,-73.997504692,-73.9691178149999,-73.9953664929999,-73.936906505,-73.9952992999999,-73.852062249,-73.745628468,-73.783293472,-74.0016020589999,-73.830085676,-73.928907817,-73.9622010479999,-73.851276072,-73.757287493,-73.7648248949999,-74.004515608,-73.7339492799999,-73.9273541909999,-73.937477115,-73.923857486,-73.994132629,-73.9764715279999,-74.001895604,-74.0033532909999,-73.917429009,-73.930809268,-73.753985606,-73.924570524,-73.981867661,-73.960319434,-73.747060845,-73.94941969,-73.987781744,-74.100507427,-73.9000707709999,-73.9405335709999,-73.983265634,-73.8657542,-73.976691643,-73.986062857,-73.994489089,-73.8731918299999,-73.8385879319999,-73.953351149,-73.7419543199999,-73.869022553,-73.904062212,-73.7815639679999,-73.905803463,-73.9508218999999,-73.932339841,-73.94106377,-73.953825163,-73.978841372,-73.971025879,-73.746072957,-73.754226326,-73.914893524,-73.933358953,-74.0103330329999,-73.871449271,-74.153970035,-73.724894402,-73.904024185,-73.923613385,-73.8834693009999,-74.101360636,-73.798783844,-73.937978379,-73.8909319649999,-74.016251355,-73.923567749,-73.966209825,-73.9486178339999,-73.941568822,-73.882200188,-73.868485311,-73.973221258,-73.762859121,-73.865406889,-73.821729448,-73.803098614,-73.92550255,-73.9427304439999,-74.0159864299999,-73.935755925,-73.9366201029999,-73.898286774,-73.885840429,-73.745223003,-73.863839389,-73.909450206,-73.9580613969999,-73.8503728539999,-73.905198001,-73.9587673189999,-73.898497059,-73.8899346649999,-73.7814577629999,-74.086251088,-73.991456867,-73.8487975199999,-73.853608712,-73.993706898,-73.920847994,-74.164483967,-73.992914632,-73.94351983,-73.9397714369999,-73.9170983879999,-73.944547826,-73.981938688,-73.987244604,-73.9667117719999,-73.780679425,-74.0034765089999,-73.911151594,-73.871105128,-73.8478041289999,-73.946180173,-73.8157199789999,-73.915942339,-73.8060470189999,-73.8060470189999,-73.992914632,-74.0235714569999,-73.827710139,-73.970814302,-73.9439324969999,-73.922358179,-73.908512114,-73.904182565,-74.14499814,-73.773280917,-73.907739206,-73.981297175,-74.0336601659999,-73.94351983,-73.976066015,-73.965907526,-73.974080567,-73.941225657,-74.008942468,-73.918429299,-74.0114174,-73.753793758,-73.759083941,-73.8637296599999,-73.8637296599999,-73.835130019,-73.9819519059999,-73.993941298,-73.9435734259999,-73.963840045,-73.8702014309999,-73.982720075,-73.899263603,-73.979024437,-73.801713456,-73.959643829,-73.9497855979999,-73.7561934399999,-74.102711974,-73.88596835,-73.922931729,-73.794315457,-73.9917870739999,-74.01316838,-73.921717929,-73.8045458779999,-73.8127192589999,-73.903050059,-73.989230525,-73.752629944,-73.861117297,-73.865763715,-73.9520175,-73.9343550089999,-73.898037946,-73.850528931,-73.982889015,-73.990212802,-73.985917311,-73.891174619,-73.984323198,-73.89863772,-73.7453424839999,-73.826395592,-73.772918883,-73.912199377,-74.016391297,-73.9372691149999,-73.8060470189999,-73.97881846,-73.7324831239999,-73.940095387,-73.85401347,-73.870068631,-73.964760788,-73.973011846,-73.921155035,-73.9958539149999,-73.8914634449999,-73.986747639,-73.9673292269999,-73.924872221,-74.1537665659999,-73.788052771,-73.871216944,-74.003518517,-73.927802677,-73.9867589249999,-73.9216057359999,-73.7870725459999,-73.992823019,-73.9775692589999,-73.9157945439999,-74.0356356,-73.96214571,-73.95333685,-73.8642098239999,-73.897386173,-73.860239683,-73.861052018,-73.913807833,-73.794182151,-73.795178985,-73.8607522569999,-73.8316885579999,-73.8322601469999,-73.8812968569999,-73.94422696,-73.9579333,-74.005844791,-73.925584038,-73.9451571069999,-73.920685484,-73.924421528,-73.7554231249999,-74.084063433,-74.02684927,-73.839138632,-73.916958337,-73.880774613,-73.764785707,-73.8658550389999,-73.956405758,-73.900347348,-73.768951847,-73.8742302429999,-73.922486382,-73.870345152,-74.0033889709999,-73.866710828,-73.949230654,-73.901550339,-73.9185101909999,-73.830319391,-73.8630158939999,-73.965124026,-73.965124026,-73.816633488,-73.977872229,-73.8259053199999,-74.08405125,-73.928212988,-73.961131311,-73.840430015,-73.933528396,-73.8918760509999,-73.9418267469999,-73.913224962,-74.18663314,-73.955529289,-73.8899495209999,-74.2133036829999,-73.965124026,-73.891935976,-73.992823019,-73.964254699,-73.9354177289999,-73.916240484,-73.926889804,-73.919772166,-73.7682978669999,-73.912691986,-73.819288781,-73.9926692189999,-73.91412643,-73.9759837999999,-73.94439792,-73.934515211,-74.001251886,-74.004574985,-73.8697449599999,-73.931568693,-73.935755925,-73.903019268,-73.978523579,-73.919350987,-73.996013862,-73.9010875289999,-73.781489344,-73.880405826,-73.8680426189999,-73.891310558,-73.991457865,-74.0020404859999,-73.729472403,-73.924121524,-73.988147125,-73.949453765,-73.823885122,-73.918104507,-73.8305619399999,-74.000964769,-73.962387854,-73.85809928,-73.9318424799999,-73.8791513749999,-74.0258926,-73.891935976,-73.915596087,-73.922358179,-73.961297191,-74.0029065749999,-74.0132156339999,-73.922815053,-73.862053875,-73.8928920549999,-73.9189405669999,-74.024081936,-73.8003187739999,-73.819708479,-73.859865801,-73.91771863,-73.8647013739999,-73.899495599,-73.926801992,-73.991112045,-74.0796730069999,-73.9483852129999,-73.914247957,-74.180826434,-73.753593369,-73.901569396,-73.990718178,-73.900981754,-73.9795920299999,-73.950958267,-73.81639136,-73.922375722,-73.8925451269999,-73.961278722,-73.885840429,-73.966358084,-73.752678885,-73.9579181139999,-73.953008149,-73.9937637789999,-73.847161359,-73.907613431,-73.9513820889999,-73.943060004,-73.956435196,-73.957827009,-73.986932281,-73.891482121,-73.983952679,-74.032812112,-73.9507689869999,-73.934814564,-73.9413887269999,-74.21765346,-73.916237369,-73.9660133529999,-73.822235249,-73.9788353929999,-73.986289577,-73.944470168,-73.820245954,-73.9711154669999,-73.995525067,-73.8893253159999,-73.9090111789999,-73.89662925,-73.958830733,-73.961443671,-73.9976822629999,-73.991915788,-73.931612704,-73.997337498,-73.9266307249999,-74.088329132,-73.971245336,-73.996632474,-73.952701992,-73.833051413,-73.9586169839999,-73.7621620849999,-73.7405595129999,-73.917952914,-73.864407683,-73.9564243,-74.000279275,-73.980167783,-73.990212802,-73.880180074,-73.983020118,-74.007953156,-73.9527431719999,-73.888412124,-73.761397239,-73.902061752,-73.9232206839999,-73.8912532579999,-73.800654503,-73.89239744,-74.162092823,-74.007851084,-73.828771769,-73.976207819,-73.839841682,-73.900110077,-74.1298435739999,-74.0108647439999,-73.9480395579999,-74.00539915,-73.84512798,-73.95571218,-73.9956548759999,-73.951688254,-73.78913033,-73.974583346,-73.97585687,-73.876593359,-73.8990038699999,-73.988806289,-73.945651458,-73.83593562,-73.9428923039999,-73.97624462,-73.905882473,-73.95776383,-73.9885612209999,-73.9240461749999,-73.875598377,-73.895835753,-74.004798427,-73.985236286,-73.945425061,-73.9859234469999,-73.9383286509999,-73.950190796,-73.7714374509999,-73.8720186909999,-73.8836336639999,-73.796769356,-73.8672548,-73.8964650569999,-74.0008132519999,-73.91461068,-73.8149439589999,-73.998298598,-73.9484615229999,-73.99898959,-74.006541353,-73.725028852,-73.940436027,-73.945716084,-74.000499329,-73.946434134,-73.9945321879999,-73.892378521,-73.923857486,-73.868407737,-73.912691986,-73.9504491069999,-73.8751662349999,-73.907820691,-73.9733896509999,-73.9586542879999,-73.873939896,-73.9862588679999,-73.901176968,-73.7924432889999,-73.9399299689999,-73.839516117,-73.868771044,-73.847474236,-73.962355926,-73.817625075,-74.1069030529999,-73.8664110349999,-73.964753415,-73.747271734,-73.8675913129999,-73.810174108,-73.950140244,-73.957577616,-73.9010858359999,-73.87714785,-73.979254216,-73.936472319,-73.987177155,-73.961153644,-73.8447554319999,-73.7602972139999,-73.930701459,-74.0024838799999,-74.0024838799999,-73.8984029659999,-73.947280556,-73.941564515,-73.9120967979999,-73.9549221889999,-73.7903801209999,-74.153491182,-73.9823881949999,-73.886313705,-73.9306388589999,-73.852110631,-73.889967102,-74.1359006759999,-73.956039193,-73.895076907,-73.90552823,-73.95705986,-73.992598403,-73.988485775,-73.920183337,-73.839542493,-73.8992506879999,-73.813889441,-73.8463969379999,-73.911283711,-73.8761950419999,-73.978325707,-73.91550818,-74.119688063,-73.9723474419999,-74.00244027,-73.994849884,-73.897977452,-73.8332059649999,-73.960542179,-74.204398382,-73.993713359,-73.984234687,-73.863452686,-73.9952992999999,-73.987033729,-73.840423109,-73.9220762269999,-73.885748834,-73.920685484,-73.940294044,-73.910148786,-73.962443067,-73.8174909639999,-73.912531149,-73.957577616,-73.989282176,-73.954363513,-73.958788491,-73.8644635649999,-73.920035114,-73.818419962,-73.8926076769999,-73.950132353,-73.987166848,-73.8174909639999,-73.8039007909999,-74.237216315,-73.9521991669999,-73.890439057,-73.9553275919999,-73.973575012,-73.9482217409999,-73.8908553529999,-73.731873229,-73.98155352,-73.9141707319999,-73.919703735,-73.985236286,-73.9944308459999,-73.926765643,-73.9214715809999,-73.93837841,-73.9230231339999,-73.963291919,-73.745020461,-73.808286188,-73.927812358,-73.885410626,-73.9229542049999,-73.883969527,-73.952848987,-73.7745365499999,-73.945512448,-73.939824749,-73.9933619179999,-74.002109215,-73.965672707,-73.951083023,-73.991279741,-73.94657089,-73.8848383819999,-73.892447136,-73.959484123,-73.8195709669999,-73.927718851,-73.967276434,-73.976071669,-73.8660938529999,-73.95520821,-73.9946046589999,-73.8796301479999,-73.951896775,-73.979934385,-73.903011861,-73.922629748,-74.1314893379999,-73.993292546,-73.981351257,-73.781423272,-73.923604666,-73.796769356,-73.930710705,-73.866552821,-73.961004266,-73.9976323069999,-73.966297798,-73.892796674,-73.977720662,-73.951800108,-73.8517408439999,-73.916098962,-73.9803894459999,-73.9928077819999,-73.9054467019999,-73.8839750289999,-73.894741993,-73.992393794,-73.913847625,-73.9902178519999,-73.943304631,-73.993408584,-73.92935618,-74.006381082,-73.9548881869999,-73.763708085,-73.917225961,-73.90542006,-73.8041355089999,-73.996200205,-73.8041355089999,-73.958883342,-73.943796032,-73.969763415,-73.924206908,-73.922375722,-74.076321375,-73.898476337,-73.989633989,-73.7784062009999,-74.0305587949999,-73.912964426,-73.823125466,-73.86209087,-74.1516432299999,-73.8841743099999,-73.952090531,-73.720298914,-74.000372232,-73.728852769,-73.8789578729999,-73.788776318,-73.990659313,-73.9557199609999,-73.985345874,-73.917945322,-74.010343851,-73.744138515,-73.922823872,-73.922823872,-73.978781322,-73.911661742,-73.8670699209999,-73.964931141,-73.977669603,-73.881199099,-73.985061313,-73.815634286,-73.969763351,-73.952622294,-73.912359481,-73.992016265,-73.82030077,-73.978714903,-73.907410018,-74.030004671,-73.8497627689999,-73.956508991,-73.917385533,-73.9592501399999,-73.923108682,-73.7588278599999,-73.964753415,-73.904694669,-73.811961904,-73.951620938,-73.908268202,-73.825912627,-73.945742825,-73.954809401,-73.907397682,-73.951553872,-73.914385334,-73.938683189,-74.012255607,-73.826395592,-73.922538001,-73.930123252,-73.9216959679999,-73.923130702,-73.9500421289999,-73.7894150829999,-73.851473894,-74.0312117509999,-74.004189492,-73.953841906,-73.953841906,-73.912696361,-73.9478156,-73.862510797,-73.945577757,-73.955670826,-73.913438449,-73.8924659749999,-73.942221623,-73.9627636239999,-73.863243713,-73.8823808229999,-73.858629593,-73.959763513,-73.78034077,-73.907301047,-73.991270344,-73.8976959619999,-73.8738322,-73.986774262,-73.885578948,-73.940807147,-74.0128608159999,-73.98658662,-73.900467765,-73.886157402,-74.010343851,-73.852617825,-73.965206419,-73.7878691729999,-74.012533789,-73.945862952,-73.943746775,-73.813728564,-74.084530265,-73.897693193,-73.939882154,-73.9151825,-73.904319197,-74.0081134929999,-73.959763513,-73.9079352049999,-73.892487688,-73.860020881,-73.7657544159999,-73.9345353969999,-73.7816683679999,-73.763057985,-74.009034367,-73.986295804,-73.989757926,-73.883009882,-73.92239743,-74.0128608159999,-73.986932281,-73.9986553799999,-73.902963682,-73.9178503379999,-73.8040852239999,-73.940270476,-73.99646884,-73.773869694,-74.029426938,-73.888350165,-74.196581168,-73.908283334,-73.99382502,-73.943378603,-74.08443589,-73.985702263,-73.923627788,-73.919815388,-73.989282176,-74.182581757,-73.823872292,-73.9764271459999,-74.0766335339999,-74.00344934,-73.9294689399999,-73.950194226,-73.808140717,-73.77174007,-73.923927315,-73.9844949389999,-73.894096197,-73.977373853,-73.9819266059999,-73.990664062,-73.773854171,-73.89240325,-73.996256847,-73.8884986429999,-74.177522666,-73.910297197,-73.751615237,-73.949661788,-73.754484142,-74.008831519,-73.989310259,-73.9663962399999,-73.782048677,-73.997317247,-73.8196369519999,-73.945123957,-74.1283700509999,-73.860837816,-73.945554414,-73.889788337,-73.8919210879999,-73.9499765689999,-73.909766772,-73.786486956,-73.996256847,-73.919654701,-73.993941298,-73.92868893,-73.9102195099999,-73.912983638,-73.9061705789999,-73.981088208,-73.803483526,-73.993683521],\"marker\":{\"color\":\"#636efa\",\"symbol\":\"circle\"},\"mode\":\"markers\",\"name\":\"\",\"showlegend\":false,\"type\":\"scattergeo\"}],                        {\"template\":{\"data\":{\"bar\":[{\"error_x\":{\"color\":\"#2a3f5f\"},\"error_y\":{\"color\":\"#2a3f5f\"},\"marker\":{\"line\":{\"color\":\"#E5ECF6\",\"width\":0.5},\"pattern\":{\"fillmode\":\"overlay\",\"size\":10,\"solidity\":0.2}},\"type\":\"bar\"}],\"barpolar\":[{\"marker\":{\"line\":{\"color\":\"#E5ECF6\",\"width\":0.5},\"pattern\":{\"fillmode\":\"overlay\",\"size\":10,\"solidity\":0.2}},\"type\":\"barpolar\"}],\"carpet\":[{\"aaxis\":{\"endlinecolor\":\"#2a3f5f\",\"gridcolor\":\"white\",\"linecolor\":\"white\",\"minorgridcolor\":\"white\",\"startlinecolor\":\"#2a3f5f\"},\"baxis\":{\"endlinecolor\":\"#2a3f5f\",\"gridcolor\":\"white\",\"linecolor\":\"white\",\"minorgridcolor\":\"white\",\"startlinecolor\":\"#2a3f5f\"},\"type\":\"carpet\"}],\"choropleth\":[{\"colorbar\":{\"outlinewidth\":0,\"ticks\":\"\"},\"type\":\"choropleth\"}],\"contour\":[{\"colorbar\":{\"outlinewidth\":0,\"ticks\":\"\"},\"colorscale\":[[0.0,\"#0d0887\"],[0.1111111111111111,\"#46039f\"],[0.2222222222222222,\"#7201a8\"],[0.3333333333333333,\"#9c179e\"],[0.4444444444444444,\"#bd3786\"],[0.5555555555555556,\"#d8576b\"],[0.6666666666666666,\"#ed7953\"],[0.7777777777777778,\"#fb9f3a\"],[0.8888888888888888,\"#fdca26\"],[1.0,\"#f0f921\"]],\"type\":\"contour\"}],\"contourcarpet\":[{\"colorbar\":{\"outlinewidth\":0,\"ticks\":\"\"},\"type\":\"contourcarpet\"}],\"heatmap\":[{\"colorbar\":{\"outlinewidth\":0,\"ticks\":\"\"},\"colorscale\":[[0.0,\"#0d0887\"],[0.1111111111111111,\"#46039f\"],[0.2222222222222222,\"#7201a8\"],[0.3333333333333333,\"#9c179e\"],[0.4444444444444444,\"#bd3786\"],[0.5555555555555556,\"#d8576b\"],[0.6666666666666666,\"#ed7953\"],[0.7777777777777778,\"#fb9f3a\"],[0.8888888888888888,\"#fdca26\"],[1.0,\"#f0f921\"]],\"type\":\"heatmap\"}],\"heatmapgl\":[{\"colorbar\":{\"outlinewidth\":0,\"ticks\":\"\"},\"colorscale\":[[0.0,\"#0d0887\"],[0.1111111111111111,\"#46039f\"],[0.2222222222222222,\"#7201a8\"],[0.3333333333333333,\"#9c179e\"],[0.4444444444444444,\"#bd3786\"],[0.5555555555555556,\"#d8576b\"],[0.6666666666666666,\"#ed7953\"],[0.7777777777777778,\"#fb9f3a\"],[0.8888888888888888,\"#fdca26\"],[1.0,\"#f0f921\"]],\"type\":\"heatmapgl\"}],\"histogram\":[{\"marker\":{\"pattern\":{\"fillmode\":\"overlay\",\"size\":10,\"solidity\":0.2}},\"type\":\"histogram\"}],\"histogram2d\":[{\"colorbar\":{\"outlinewidth\":0,\"ticks\":\"\"},\"colorscale\":[[0.0,\"#0d0887\"],[0.1111111111111111,\"#46039f\"],[0.2222222222222222,\"#7201a8\"],[0.3333333333333333,\"#9c179e\"],[0.4444444444444444,\"#bd3786\"],[0.5555555555555556,\"#d8576b\"],[0.6666666666666666,\"#ed7953\"],[0.7777777777777778,\"#fb9f3a\"],[0.8888888888888888,\"#fdca26\"],[1.0,\"#f0f921\"]],\"type\":\"histogram2d\"}],\"histogram2dcontour\":[{\"colorbar\":{\"outlinewidth\":0,\"ticks\":\"\"},\"colorscale\":[[0.0,\"#0d0887\"],[0.1111111111111111,\"#46039f\"],[0.2222222222222222,\"#7201a8\"],[0.3333333333333333,\"#9c179e\"],[0.4444444444444444,\"#bd3786\"],[0.5555555555555556,\"#d8576b\"],[0.6666666666666666,\"#ed7953\"],[0.7777777777777778,\"#fb9f3a\"],[0.8888888888888888,\"#fdca26\"],[1.0,\"#f0f921\"]],\"type\":\"histogram2dcontour\"}],\"mesh3d\":[{\"colorbar\":{\"outlinewidth\":0,\"ticks\":\"\"},\"type\":\"mesh3d\"}],\"parcoords\":[{\"line\":{\"colorbar\":{\"outlinewidth\":0,\"ticks\":\"\"}},\"type\":\"parcoords\"}],\"pie\":[{\"automargin\":true,\"type\":\"pie\"}],\"scatter\":[{\"marker\":{\"colorbar\":{\"outlinewidth\":0,\"ticks\":\"\"}},\"type\":\"scatter\"}],\"scatter3d\":[{\"line\":{\"colorbar\":{\"outlinewidth\":0,\"ticks\":\"\"}},\"marker\":{\"colorbar\":{\"outlinewidth\":0,\"ticks\":\"\"}},\"type\":\"scatter3d\"}],\"scattercarpet\":[{\"marker\":{\"colorbar\":{\"outlinewidth\":0,\"ticks\":\"\"}},\"type\":\"scattercarpet\"}],\"scattergeo\":[{\"marker\":{\"colorbar\":{\"outlinewidth\":0,\"ticks\":\"\"}},\"type\":\"scattergeo\"}],\"scattergl\":[{\"marker\":{\"colorbar\":{\"outlinewidth\":0,\"ticks\":\"\"}},\"type\":\"scattergl\"}],\"scattermapbox\":[{\"marker\":{\"colorbar\":{\"outlinewidth\":0,\"ticks\":\"\"}},\"type\":\"scattermapbox\"}],\"scatterpolar\":[{\"marker\":{\"colorbar\":{\"outlinewidth\":0,\"ticks\":\"\"}},\"type\":\"scatterpolar\"}],\"scatterpolargl\":[{\"marker\":{\"colorbar\":{\"outlinewidth\":0,\"ticks\":\"\"}},\"type\":\"scatterpolargl\"}],\"scatterternary\":[{\"marker\":{\"colorbar\":{\"outlinewidth\":0,\"ticks\":\"\"}},\"type\":\"scatterternary\"}],\"surface\":[{\"colorbar\":{\"outlinewidth\":0,\"ticks\":\"\"},\"colorscale\":[[0.0,\"#0d0887\"],[0.1111111111111111,\"#46039f\"],[0.2222222222222222,\"#7201a8\"],[0.3333333333333333,\"#9c179e\"],[0.4444444444444444,\"#bd3786\"],[0.5555555555555556,\"#d8576b\"],[0.6666666666666666,\"#ed7953\"],[0.7777777777777778,\"#fb9f3a\"],[0.8888888888888888,\"#fdca26\"],[1.0,\"#f0f921\"]],\"type\":\"surface\"}],\"table\":[{\"cells\":{\"fill\":{\"color\":\"#EBF0F8\"},\"line\":{\"color\":\"white\"}},\"header\":{\"fill\":{\"color\":\"#C8D4E3\"},\"line\":{\"color\":\"white\"}},\"type\":\"table\"}]},\"layout\":{\"annotationdefaults\":{\"arrowcolor\":\"#2a3f5f\",\"arrowhead\":0,\"arrowwidth\":1},\"autotypenumbers\":\"strict\",\"coloraxis\":{\"colorbar\":{\"outlinewidth\":0,\"ticks\":\"\"}},\"colorscale\":{\"diverging\":[[0,\"#8e0152\"],[0.1,\"#c51b7d\"],[0.2,\"#de77ae\"],[0.3,\"#f1b6da\"],[0.4,\"#fde0ef\"],[0.5,\"#f7f7f7\"],[0.6,\"#e6f5d0\"],[0.7,\"#b8e186\"],[0.8,\"#7fbc41\"],[0.9,\"#4d9221\"],[1,\"#276419\"]],\"sequential\":[[0.0,\"#0d0887\"],[0.1111111111111111,\"#46039f\"],[0.2222222222222222,\"#7201a8\"],[0.3333333333333333,\"#9c179e\"],[0.4444444444444444,\"#bd3786\"],[0.5555555555555556,\"#d8576b\"],[0.6666666666666666,\"#ed7953\"],[0.7777777777777778,\"#fb9f3a\"],[0.8888888888888888,\"#fdca26\"],[1.0,\"#f0f921\"]],\"sequentialminus\":[[0.0,\"#0d0887\"],[0.1111111111111111,\"#46039f\"],[0.2222222222222222,\"#7201a8\"],[0.3333333333333333,\"#9c179e\"],[0.4444444444444444,\"#bd3786\"],[0.5555555555555556,\"#d8576b\"],[0.6666666666666666,\"#ed7953\"],[0.7777777777777778,\"#fb9f3a\"],[0.8888888888888888,\"#fdca26\"],[1.0,\"#f0f921\"]]},\"colorway\":[\"#636efa\",\"#EF553B\",\"#00cc96\",\"#ab63fa\",\"#FFA15A\",\"#19d3f3\",\"#FF6692\",\"#B6E880\",\"#FF97FF\",\"#FECB52\"],\"font\":{\"color\":\"#2a3f5f\"},\"geo\":{\"bgcolor\":\"white\",\"lakecolor\":\"white\",\"landcolor\":\"#E5ECF6\",\"showlakes\":true,\"showland\":true,\"subunitcolor\":\"white\"},\"hoverlabel\":{\"align\":\"left\"},\"hovermode\":\"closest\",\"mapbox\":{\"style\":\"light\"},\"paper_bgcolor\":\"white\",\"plot_bgcolor\":\"#E5ECF6\",\"polar\":{\"angularaxis\":{\"gridcolor\":\"white\",\"linecolor\":\"white\",\"ticks\":\"\"},\"bgcolor\":\"#E5ECF6\",\"radialaxis\":{\"gridcolor\":\"white\",\"linecolor\":\"white\",\"ticks\":\"\"}},\"scene\":{\"xaxis\":{\"backgroundcolor\":\"#E5ECF6\",\"gridcolor\":\"white\",\"gridwidth\":2,\"linecolor\":\"white\",\"showbackground\":true,\"ticks\":\"\",\"zerolinecolor\":\"white\"},\"yaxis\":{\"backgroundcolor\":\"#E5ECF6\",\"gridcolor\":\"white\",\"gridwidth\":2,\"linecolor\":\"white\",\"showbackground\":true,\"ticks\":\"\",\"zerolinecolor\":\"white\"},\"zaxis\":{\"backgroundcolor\":\"#E5ECF6\",\"gridcolor\":\"white\",\"gridwidth\":2,\"linecolor\":\"white\",\"showbackground\":true,\"ticks\":\"\",\"zerolinecolor\":\"white\"}},\"shapedefaults\":{\"line\":{\"color\":\"#2a3f5f\"}},\"ternary\":{\"aaxis\":{\"gridcolor\":\"white\",\"linecolor\":\"white\",\"ticks\":\"\"},\"baxis\":{\"gridcolor\":\"white\",\"linecolor\":\"white\",\"ticks\":\"\"},\"bgcolor\":\"#E5ECF6\",\"caxis\":{\"gridcolor\":\"white\",\"linecolor\":\"white\",\"ticks\":\"\"}},\"title\":{\"x\":0.05},\"xaxis\":{\"automargin\":true,\"gridcolor\":\"white\",\"linecolor\":\"white\",\"ticks\":\"\",\"title\":{\"standoff\":15},\"zerolinecolor\":\"white\",\"zerolinewidth\":2},\"yaxis\":{\"automargin\":true,\"gridcolor\":\"white\",\"linecolor\":\"white\",\"ticks\":\"\",\"title\":{\"standoff\":15},\"zerolinecolor\":\"white\",\"zerolinewidth\":2}}},\"geo\":{\"domain\":{\"x\":[0.0,1.0],\"y\":[0.0,1.0]},\"center\":{}},\"legend\":{\"tracegroupgap\":0},\"margin\":{\"t\":60}},                        {\"responsive\": true}                    ).then(function(){\n",
              "                            \n",
              "var gd = document.getElementById('86850c2b-7d60-4c5f-a1e3-423cae24e923');\n",
              "var x = new MutationObserver(function (mutations, observer) {{\n",
              "        var display = window.getComputedStyle(gd).display;\n",
              "        if (!display || display === 'none') {{\n",
              "            console.log([gd, 'removed!']);\n",
              "            Plotly.purge(gd);\n",
              "            observer.disconnect();\n",
              "        }}\n",
              "}});\n",
              "\n",
              "// Listen for the removal of the full notebook cells\n",
              "var notebookContainer = gd.closest('#notebook-container');\n",
              "if (notebookContainer) {{\n",
              "    x.observe(notebookContainer, {childList: true});\n",
              "}}\n",
              "\n",
              "// Listen for the clearing of the current output cell\n",
              "var outputEl = gd.closest('.output');\n",
              "if (outputEl) {{\n",
              "    x.observe(outputEl, {childList: true});\n",
              "}}\n",
              "\n",
              "                        })                };                            </script>        </div>\n",
              "</body>\n",
              "</html>"
            ]
          },
          "metadata": {}
        }
      ]
    },
    {
      "cell_type": "code",
      "source": [],
      "metadata": {
        "id": "rf6OZBhUzWpk"
      },
      "execution_count": 92,
      "outputs": []
    },
    {
      "cell_type": "code",
      "source": [],
      "metadata": {
        "id": "WwjWSPSi0hpL"
      },
      "execution_count": null,
      "outputs": []
    }
  ]
}