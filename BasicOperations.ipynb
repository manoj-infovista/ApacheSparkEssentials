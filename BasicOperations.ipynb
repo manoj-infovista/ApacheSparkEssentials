{
 "cells": [
  {
   "cell_type": "code",
   "execution_count": 1,
   "id": "86887666",
   "metadata": {},
   "outputs": [
    {
     "data": {
      "text/html": [
       "\n",
       "            <div>\n",
       "                <p><b>SparkSession - in-memory</b></p>\n",
       "                \n",
       "        <div>\n",
       "            <p><b>SparkContext</b></p>\n",
       "\n",
       "            <p><a href=\"http://ManojZephyrusG15:4040\">Spark UI</a></p>\n",
       "\n",
       "            <dl>\n",
       "              <dt>Version</dt>\n",
       "                <dd><code>v3.2.3</code></dd>\n",
       "              <dt>Master</dt>\n",
       "                <dd><code>local[*]</code></dd>\n",
       "              <dt>AppName</dt>\n",
       "                <dd><code>Basics</code></dd>\n",
       "            </dl>\n",
       "        </div>\n",
       "        \n",
       "            </div>\n",
       "        "
      ],
      "text/plain": [
       "<pyspark.sql.session.SparkSession at 0x269964c5e50>"
      ]
     },
     "execution_count": 1,
     "metadata": {},
     "output_type": "execute_result"
    }
   ],
   "source": [
    "from pyspark.sql import SparkSession\n",
    "\n",
    "spark = SparkSession.builder.appName(\n",
    "    \"Basics\"\n",
    ").getOrCreate()\n",
    "spark # verify if spark session exists"
   ]
  },
  {
   "cell_type": "code",
   "execution_count": 2,
   "id": "5f2fc824",
   "metadata": {},
   "outputs": [],
   "source": [
    "df = spark.read.load(\"data/online_retail.csv\",format=\"csv\",header=\"true\",inferSchema=\"true\")"
   ]
  },
  {
   "cell_type": "code",
   "execution_count": 3,
   "id": "729ce293",
   "metadata": {},
   "outputs": [
    {
     "name": "stdout",
     "output_type": "stream",
     "text": [
      "+---------+---------+--------------------+--------+------------+---------+----------+--------------+\n",
      "|InvoiceNo|StockCode|         Description|Quantity| InvoiceDate|UnitPrice|CustomerID|       Country|\n",
      "+---------+---------+--------------------+--------+------------+---------+----------+--------------+\n",
      "|   536365|   85123A|WHITE HANGING HEA...|       6|12/1/10 8:26|     2.55|     17850|United Kingdom|\n",
      "|   536365|    71053| WHITE METAL LANTERN|       6|12/1/10 8:26|     3.39|     17850|United Kingdom|\n",
      "|   536365|   84406B|CREAM CUPID HEART...|       8|12/1/10 8:26|     2.75|     17850|United Kingdom|\n",
      "|   536365|   84029G|KNITTED UNION FLA...|       6|12/1/10 8:26|     3.39|     17850|United Kingdom|\n",
      "|   536365|   84029E|RED WOOLLY HOTTIE...|       6|12/1/10 8:26|     3.39|     17850|United Kingdom|\n",
      "|   536365|    22752|SET 7 BABUSHKA NE...|       2|12/1/10 8:26|     7.65|     17850|United Kingdom|\n",
      "|   536365|    21730|GLASS STAR FROSTE...|       6|12/1/10 8:26|     4.25|     17850|United Kingdom|\n",
      "|   536366|    22633|HAND WARMER UNION...|       6|12/1/10 8:28|     1.85|     17850|United Kingdom|\n",
      "|   536366|    22632|HAND WARMER RED P...|       6|12/1/10 8:28|     1.85|     17850|United Kingdom|\n",
      "|   536367|    84879|ASSORTED COLOUR B...|      32|12/1/10 8:34|     1.69|     13047|United Kingdom|\n",
      "+---------+---------+--------------------+--------+------------+---------+----------+--------------+\n",
      "only showing top 10 rows\n",
      "\n"
     ]
    }
   ],
   "source": [
    "df.show(10)"
   ]
  },
  {
   "cell_type": "code",
   "execution_count": 4,
   "id": "bbf1d133",
   "metadata": {},
   "outputs": [
    {
     "name": "stdout",
     "output_type": "stream",
     "text": [
      "root\n",
      " |-- InvoiceNo: string (nullable = true)\n",
      " |-- StockCode: string (nullable = true)\n",
      " |-- Description: string (nullable = true)\n",
      " |-- Quantity: integer (nullable = true)\n",
      " |-- InvoiceDate: string (nullable = true)\n",
      " |-- UnitPrice: double (nullable = true)\n",
      " |-- CustomerID: string (nullable = true)\n",
      " |-- Country: string (nullable = true)\n",
      "\n"
     ]
    }
   ],
   "source": [
    "# Show the dataframe/table schema\n",
    "df.printSchema()"
   ]
  },
  {
   "cell_type": "code",
   "execution_count": 5,
   "id": "1e07ddc7",
   "metadata": {},
   "outputs": [
    {
     "name": "stdout",
     "output_type": "stream",
     "text": [
      "+---------------+\n",
      "|        Country|\n",
      "+---------------+\n",
      "|         Sweden|\n",
      "|        Germany|\n",
      "|         France|\n",
      "|        Belgium|\n",
      "|        Finland|\n",
      "|          Italy|\n",
      "|           EIRE|\n",
      "|      Lithuania|\n",
      "|         Norway|\n",
      "|          Spain|\n",
      "|        Denmark|\n",
      "|        Iceland|\n",
      "|         Israel|\n",
      "|Channel Islands|\n",
      "|         Cyprus|\n",
      "|    Switzerland|\n",
      "|          Japan|\n",
      "|         Poland|\n",
      "|       Portugal|\n",
      "|      Australia|\n",
      "+---------------+\n",
      "only showing top 20 rows\n",
      "\n"
     ]
    }
   ],
   "source": [
    "df.select(\"Country\").distinct().show()"
   ]
  },
  {
   "cell_type": "code",
   "execution_count": 6,
   "id": "a6f2e2f1",
   "metadata": {},
   "outputs": [
    {
     "name": "stdout",
     "output_type": "stream",
     "text": [
      "+---------+---------------------------+\n",
      "|InvoiceNo|sum((UnitPrice * Quantity))|\n",
      "+---------+---------------------------+\n",
      "|   536596|                      38.09|\n",
      "|   536938|         1680.8799999999999|\n",
      "|   537252|         26.349999999999998|\n",
      "|   537691|                     310.57|\n",
      "|   538041|                        0.0|\n",
      "|   538184|         458.91999999999985|\n",
      "|   538517|         320.28000000000003|\n",
      "|   538879|          338.9799999999999|\n",
      "|   539275|         403.79999999999995|\n",
      "|   539630|                      751.0|\n",
      "|   540499|                      365.2|\n",
      "|   540540|                     169.35|\n",
      "|   536597|                     102.79|\n",
      "|   536608|                       38.1|\n",
      "|   536765|                        0.0|\n",
      "|   537439|                        0.0|\n",
      "|   537631|                       17.4|\n",
      "|   537870|                        0.0|\n",
      "|   538142|                        0.0|\n",
      "|   538177|          6272.010000000006|\n",
      "+---------+---------------------------+\n",
      "only showing top 20 rows\n",
      "\n"
     ]
    }
   ],
   "source": [
    "# Aggregation\n",
    "df.select(df[\"InvoiceNo\"],df[\"UnitPrice\"]*df[\"Quantity\"]).groupBy(\"InvoiceNo\").sum().show()"
   ]
  },
  {
   "cell_type": "code",
   "execution_count": 7,
   "id": "fe5bc576",
   "metadata": {},
   "outputs": [
    {
     "name": "stdout",
     "output_type": "stream",
     "text": [
      "+---------+---------+--------------------+--------+-------------+---------+----------+--------------+\n",
      "|InvoiceNo|StockCode|         Description|Quantity|  InvoiceDate|UnitPrice|CustomerID|       Country|\n",
      "+---------+---------+--------------------+--------+-------------+---------+----------+--------------+\n",
      "|   536415|    22952|60 CAKE CASES VIN...|      10|12/1/10 11:57|     0.55|     12838|United Kingdom|\n",
      "|   536415|    22910|PAPER CHAIN KIT V...|       5|12/1/10 11:57|     2.95|     12838|United Kingdom|\n",
      "|   536415|    22739|RIBBON REEL CHRIS...|       3|12/1/10 11:57|     1.65|     12838|United Kingdom|\n",
      "|   536415|    22738|RIBBON REEL SNOWY...|       3|12/1/10 11:57|     1.65|     12838|United Kingdom|\n",
      "|   536415|    22736|RIBBON REEL MAKIN...|       3|12/1/10 11:57|     1.65|     12838|United Kingdom|\n",
      "|   536415|    22909|SET OF 20 VINTAGE...|       5|12/1/10 11:57|     0.85|     12838|United Kingdom|\n",
      "|   536415|   35591T|TURQUOISE CHRISTM...|       2|12/1/10 11:57|     1.25|     12838|United Kingdom|\n",
      "|   536415|    22186|RED STAR CARD HOLDER|       5|12/1/10 11:57|     2.95|     12838|United Kingdom|\n",
      "|   536415|    22695| WICKER WREATH SMALL|       3|12/1/10 11:57|     1.45|     12838|United Kingdom|\n",
      "|   536415|    22470|HEART OF WICKER L...|       1|12/1/10 11:57|     2.95|     12838|United Kingdom|\n",
      "+---------+---------+--------------------+--------+-------------+---------+----------+--------------+\n",
      "only showing top 10 rows\n",
      "\n"
     ]
    }
   ],
   "source": [
    "# fitler data\n",
    "df.filter(df[\"InvoiceNo\"]==536415).show(10)"
   ]
  },
  {
   "cell_type": "code",
   "execution_count": 8,
   "id": "eb72fbfc",
   "metadata": {},
   "outputs": [
    {
     "name": "stdout",
     "output_type": "stream",
     "text": [
      "+--------------+--------------------+------------------+\n",
      "|       Country|         Description|        sum(Total)|\n",
      "+--------------+--------------------+------------------+\n",
      "|United Kingdom|      DOTCOM POSTAGE| 34177.85999999999|\n",
      "|United Kingdom|REGENCY CAKESTAND...|30512.560000000027|\n",
      "|United Kingdom|WHITE HANGING HEA...|22248.690000000024|\n",
      "|United Kingdom|       CHILLI LIGHTS|12475.610000000002|\n",
      "|United Kingdom|RED WOOLLY HOTTIE...| 9355.869999999997|\n",
      "|United Kingdom|PAPER CHAIN KIT 5...| 9313.069999999996|\n",
      "|United Kingdom|WHITE SKULL HOT W...| 8867.309999999998|\n",
      "|United Kingdom|HEART OF WICKER L...| 8175.289999999995|\n",
      "|United Kingdom|HOT WATER BOTTLE ...| 7946.580000000001|\n",
      "|United Kingdom|CHOCOLATE HOT WAT...| 7825.719999999996|\n",
      "+--------------+--------------------+------------------+\n",
      "\n"
     ]
    }
   ],
   "source": [
    "df.select(df[\"Country\"], df[\"Description\"],(df[\"UnitPrice\"]*df[\"Quantity\"]).alias(\"Total\")).groupBy(\"Country\", \"Description\").sum().filter(df[\"Country\"]==\"United Kingdom\").sort(\"sum(Total)\", ascending=False).limit(10).show()"
   ]
  }
 ],
 "metadata": {
  "kernelspec": {
   "display_name": "venv",
   "language": "python",
   "name": "python3"
  },
  "language_info": {
   "codemirror_mode": {
    "name": "ipython",
    "version": 3
   },
   "file_extension": ".py",
   "mimetype": "text/x-python",
   "name": "python",
   "nbconvert_exporter": "python",
   "pygments_lexer": "ipython3",
   "version": "3.8.10"
  },
  "vscode": {
   "interpreter": {
    "hash": "05de79a9bc4beb95fb2b07d395d8e3fe55e6d8497bda19361fbfb16b724883dd"
   }
  }
 },
 "nbformat": 4,
 "nbformat_minor": 5
}
