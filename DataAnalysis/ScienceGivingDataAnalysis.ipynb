{
  "nbformat": 4,
  "nbformat_minor": 0,
  "metadata": {
    "colab": {
      "provenance": [],
      "authorship_tag": "ABX9TyMZY2jryOA37/Vhkj+TP2WG",
      "include_colab_link": true
    },
    "kernelspec": {
      "name": "python3",
      "display_name": "Python 3"
    },
    "language_info": {
      "name": "python"
    }
  },
  "cells": [
    {
      "cell_type": "markdown",
      "metadata": {
        "id": "view-in-github",
        "colab_type": "text"
      },
      "source": [
        "<a href=\"https://colab.research.google.com/github/manojmanivannan/ApacheSparkEssentials/blob/master/DataAnalysis/ScienceGivingDataAnalysis.ipynb\" target=\"_parent\"><img src=\"https://colab.research.google.com/assets/colab-badge.svg\" alt=\"Open In Colab\"/></a>"
      ]
    },
    {
      "cell_type": "code",
      "execution_count": 1,
      "metadata": {
        "id": "hp72IZ4aNPKn",
        "outputId": "047e26c7-c91b-43e4-ae20-83561bef8f70",
        "colab": {
          "base_uri": "https://localhost:8080/"
        }
      },
      "outputs": [
        {
          "output_type": "stream",
          "name": "stdout",
          "text": [
            "\r0% [Working]\r            \rGet:1 http://ppa.launchpad.net/c2d4u.team/c2d4u4.0+/ubuntu bionic InRelease [15.9 kB]\n",
            "\r0% [Connecting to archive.ubuntu.com (91.189.91.39)] [Connecting to security.ub\r0% [Connecting to archive.ubuntu.com (91.189.91.39)] [Connecting to security.ub\r0% [1 InRelease gpgv 15.9 kB] [Connecting to archive.ubuntu.com (91.189.91.39)]\r                                                                               \rHit:2 http://ppa.launchpad.net/cran/libgit2/ubuntu bionic InRelease\n",
            "\r0% [1 InRelease gpgv 15.9 kB] [Connecting to archive.ubuntu.com (91.189.91.39)]\r                                                                               \rGet:3 https://cloud.r-project.org/bin/linux/ubuntu bionic-cran40/ InRelease [3,626 B]\n",
            "\r0% [1 InRelease gpgv 15.9 kB] [Connecting to archive.ubuntu.com (91.189.91.39)]\r                                                                               \rHit:4 http://ppa.launchpad.net/deadsnakes/ppa/ubuntu bionic InRelease\n",
            "\r0% [1 InRelease gpgv 15.9 kB] [Connecting to archive.ubuntu.com (91.189.91.39)]\r                                                                               \rHit:5 http://ppa.launchpad.net/graphics-drivers/ppa/ubuntu bionic InRelease\n",
            "\r0% [1 InRelease gpgv 15.9 kB] [Waiting for headers] [Waiting for headers] [Wait\r                                                                               \rGet:6 http://security.ubuntu.com/ubuntu bionic-security InRelease [88.7 kB]\n",
            "\r0% [1 InRelease gpgv 15.9 kB] [Waiting for headers] [6 InRelease 14.2 kB/88.7 k\r                                                                               \rHit:7 http://archive.ubuntu.com/ubuntu bionic InRelease\n",
            "Get:8 http://archive.ubuntu.com/ubuntu bionic-updates InRelease [88.7 kB]\n",
            "Ign:9 https://developer.download.nvidia.com/compute/machine-learning/repos/ubuntu1804/x86_64  InRelease\n",
            "Hit:10 https://developer.download.nvidia.com/compute/cuda/repos/ubuntu1804/x86_64  InRelease\n",
            "Hit:11 https://developer.download.nvidia.com/compute/machine-learning/repos/ubuntu1804/x86_64  Release\n",
            "Get:12 http://ppa.launchpad.net/c2d4u.team/c2d4u4.0+/ubuntu bionic/main Sources [2,235 kB]\n",
            "Get:13 http://ppa.launchpad.net/c2d4u.team/c2d4u4.0+/ubuntu bionic/main amd64 Packages [1,143 kB]\n",
            "Get:14 http://archive.ubuntu.com/ubuntu bionic-backports InRelease [83.3 kB]\n",
            "Fetched 3,659 kB in 3s (1,321 kB/s)\n",
            "Reading package lists... Done\n",
            "\u001b[K     |████████████████████████████████| 281.4 MB 42 kB/s \n",
            "\u001b[K     |████████████████████████████████| 199 kB 67.9 MB/s \n",
            "\u001b[?25h  Building wheel for pyspark (setup.py) ... \u001b[?25l\u001b[?25hdone\n"
          ]
        }
      ],
      "source": [
        "!apt-get update\n",
        "!apt-get install openjdk-8-jdk-headless -qq > /dev/null\n",
        "!wget -q http://archive.apache.org/dist/spark/spark-2.3.1/spark-2.3.1-bin-hadoop2.7.tgz\n",
        "!tar xf spark-2.3.1-bin-hadoop2.7.tgz\n",
        "!pip install -q pyspark\n",
        "!pip install -q findspark"
      ]
    },
    {
      "cell_type": "code",
      "source": [
        "import os\n",
        "os.environ[\"JAVA_HOME\"] = \"/usr/lib/jvm/java-8-openjdk-amd64\"\n",
        "# os.environ[\"SPARK_HOME\"] = \"/content/spark-2.3.1-bin-hadoop2.7\""
      ],
      "metadata": {
        "id": "pUoVxxXvOW-A"
      },
      "execution_count": 2,
      "outputs": []
    },
    {
      "cell_type": "code",
      "source": [
        "import findspark\n",
        "findspark.init()\n",
        "from pyspark.sql import SparkSession\n",
        "from pyspark.sql.types import StructType, StructField, StringType, DoubleType, IntegerType\n",
        "from pyspark.sql.functions import to_timestamp,col,lit\n",
        "\n",
        "sc = SparkSession.builder.getOrCreate()\n",
        "sc"
      ],
      "metadata": {
        "id": "24IcuSjXOapg",
        "outputId": "abada28c-1dc1-470c-f7b2-af30373f871e",
        "colab": {
          "base_uri": "https://localhost:8080/",
          "height": 219
        }
      },
      "execution_count": 60,
      "outputs": [
        {
          "output_type": "execute_result",
          "data": {
            "text/plain": [
              "<pyspark.sql.session.SparkSession at 0x7f3921a609a0>"
            ],
            "text/html": [
              "\n",
              "            <div>\n",
              "                <p><b>SparkSession - in-memory</b></p>\n",
              "                \n",
              "        <div>\n",
              "            <p><b>SparkContext</b></p>\n",
              "\n",
              "            <p><a href=\"http://bf3a6d84a652:4040\">Spark UI</a></p>\n",
              "\n",
              "            <dl>\n",
              "              <dt>Version</dt>\n",
              "                <dd><code>v3.3.1</code></dd>\n",
              "              <dt>Master</dt>\n",
              "                <dd><code>local[*]</code></dd>\n",
              "              <dt>AppName</dt>\n",
              "                <dd><code>pyspark-shell</code></dd>\n",
              "            </dl>\n",
              "        </div>\n",
              "        \n",
              "            </div>\n",
              "        "
            ]
          },
          "metadata": {},
          "execution_count": 60
        }
      ]
    },
    {
      "cell_type": "code",
      "source": [
        "!wget -q -o science_federal_giving.csv https://media.githubusercontent.com/media/fivethirtyeight/data/master/science-giving/science_federal_giving.csv"
      ],
      "metadata": {
        "id": "POdmG5UcN972"
      },
      "execution_count": 61,
      "outputs": []
    },
    {
      "cell_type": "code",
      "source": [
        "!mv science_federal_giving.csv.1 science_federal_giving.csv"
      ],
      "metadata": {
        "id": "LbfbuU6fOcO6"
      },
      "execution_count": 62,
      "outputs": []
    },
    {
      "cell_type": "code",
      "source": [
        "science = sc.read.format(\"csv\").option(\"header\",\"true\").option(\"escapeQuotes\", \"true\").load('science_federal_giving.csv')"
      ],
      "metadata": {
        "id": "uvdPVXfVOhXp"
      },
      "execution_count": 63,
      "outputs": []
    },
    {
      "cell_type": "markdown",
      "source": [
        "| Header | Definition |\n",
        "|:---:|:---:|\n",
        "| cmte_nm | Committee name |\n",
        "| cmte_id | Committee identification, assigned |\n",
        "| cmte_tp | Committee type. List of committee type codes |\n",
        "| cmte_pty | Committee party. List of party codes |\n",
        "| cand_name | Candidate name |\n",
        "| cand_pty_affiliation | Political party affiliation reported by the candidate |\n",
        "| cand_office_st | Candidate state |\n",
        "| cand_office | Candidate office. H = House, P = President, S = Senate |\n",
        "| cand_office_district | Candidate district |\n",
        "| cand_status | Candidate status. C = Statutory candidate, F = Statutory candidate for future election, N = Not yet a statutory candidate, P = Statutory candidate in prior cycle |\n",
        "| rpt_tp | Report type. Report type codes |\n",
        "| transaction_pgi | The code for which the contribution was made. EYYYY (election plus election year). P = Primary, G = General, O = Other, C = Convention, R = Runoff, S = Special, E = Recount |\n",
        "| transaction_tp | Transaction type. Type codes |\n",
        "| entity_tp | Entity type. Only valid for electronic filings received after April 2002. CAN = Candidate, CCM = Candidate Committee, COM = Committee, IND = Individual (a person), ORG = Organization (not a committee and not a person), PAC = Political Action Committee, PTY = Party Organization |\n",
        "| cleaned_name | Contributor/lender/transfer name |\n",
        "| city | City/town |\n",
        "| state | State |\n",
        "| zip_code | Zip code |\n",
        "| employer | Employer |\n",
        "| cleaned_occupation | Occupation |\n",
        "| classification | Classification of occupation |\n",
        "| transaction_dt | Transaction date (MMDDYYYY) |\n",
        "| cycle | Election cycle |\n",
        "| transaction_amt | Transaction amount |\n",
        "| 2016_dollars | Transation amount adjusted for inflation |\n",
        "| other_id | Other identification number. For contributions from individuals this column is null. For contributions from candidates or other committees this column will contain that contributor's FEC ID. |\n",
        "| tran_id | Transaction ID |\n",
        "| file_num | A unique identifier associated with each itemization or transaction appearing in an FEC electronic file. Only valid for electronic filings. |\n",
        "| memo_cd | 'X' indicates that the amount is not to be included in the itemization total. |\n",
        "| memo_text | A description of the activity. |\n",
        "| sub_id | FEC record number |"
      ],
      "metadata": {
        "id": "otDisS3lTWnn"
      }
    },
    {
      "cell_type": "markdown",
      "source": [],
      "metadata": {
        "id": "rPiyU43_Xoqf"
      }
    },
    {
      "cell_type": "code",
      "source": [
        "science.count()"
      ],
      "metadata": {
        "id": "iBKCHZJXQ_sX",
        "outputId": "9195b7da-e28d-4045-cece-8b2e55baf54d",
        "colab": {
          "base_uri": "https://localhost:8080/"
        }
      },
      "execution_count": 64,
      "outputs": [
        {
          "output_type": "execute_result",
          "data": {
            "text/plain": [
              "881793"
            ]
          },
          "metadata": {},
          "execution_count": 64
        }
      ]
    },
    {
      "cell_type": "code",
      "source": [
        "science.show(15)"
      ],
      "metadata": {
        "id": "0iN2CzrMbBjJ",
        "outputId": "e2f11ecc-0257-4897-e482-608a79f1bbc4",
        "colab": {
          "base_uri": "https://localhost:8080/"
        }
      },
      "execution_count": 65,
      "outputs": [
        {
          "output_type": "stream",
          "name": "stdout",
          "text": [
            "+--------------------+---------+-------+--------+--------------------+--------------------+--------------+-----------+--------------------+-----------+------+---------------+--------------+---------+-------------------+-------------+-----+---------+--------------------+-------------------+--------------+--------------+-----+---------------+------------+---------+---------------+--------+-------+--------------------+--------+\n",
            "|             cmte_nm|  cmte_id|cmte_tp|cmte_pty|           cand_name|cand_pty_affiliation|cand_office_st|cand_office|cand_office_district|cand_status|rpt_tp|transaction_pgi|transaction_tp|entity_tp|       cleaned_name|         city|state| zip_code|            employer|  cleanedoccupation|classification|transaction_dt|cycle|transaction_amt|2016_dollars| other_id|        tran_id|file_num|memo_cd|           memo_text|  sub_id|\n",
            "+--------------------+---------+-------+--------+--------------------+--------------------+--------------+-----------+--------------------+-----------+------+---------------+--------------+---------+-------------------+-------------+-----+---------+--------------------+-------------------+--------------+--------------+-----+---------------+------------+---------+---------------+--------+-------+--------------------+--------+\n",
            "|AMERICAN WAY - DU...|C00501452|      S|     REP|       DURANT, CLARK|                 REP|            MI|          S|                   0|          C|    Q1|              P|            15|      IND|TREHARNE, WILLIAM H|         TROY|   MI|    48098|       MIDWEST STEEL|           ENGINEER|      Engineer|       3302012| 2012|           2500|      2612.5|     null|SA0108160812336|  845273|   null|                null|1.01E+18|\n",
            "|A LOT OF PEOPLE F...|C00017830|      H|     DEM|       OBEY, DAVID R|                 DEM|            WI|          H|                   7|          C|    Q2|              P|            15|      IND|   MCGOVERN, THOMAS|       TUCSON|   AZ|    85750|     MMLA PSOMAS INC|     CIVIL ENGINEER|      Engineer|       4182007| 2008|            250|       292.5|     null|         C34559|  294636|   null|                null|4.07E+18|\n",
            "|A WHOLE LOT OF PE...|C00374058|      H|     DEM|    GRIJALVA, RAUL M|                 DEM|            AZ|          H|                   3|          C|    Q2|              P|           15E|      IND|       OFFNER, CARL|      SUDBURY|   MA| 17761369|  AB INITIO SOFTWARE|ENGINEER (SOFTWARE)|      Engineer|       6092016| 2016|             50|          50|C00401224|    VSH8VCDY4S4| 1096417|   null|* EARMARKED CONTR...|4.08E+18|\n",
            "|A WHOLE LOT OF PE...|C00374058|      H|     DEM|    GRIJALVA, RAUL M|                 DEM|            AZ|          H|                   3|          C|    Q3|              P|            15|      IND|    WARNER, RICHARD|    ARLINGTON|   TX|    76015|                 SDS|ENGINEER (SOFTWARE)|      Engineer|       8192012| 2012|           2500|      2612.5|     null|       C6548162|  863428|   null|                null|4.03E+18|\n",
            "|A WHOLE LOT OF PE...|C00374058|      H|     DEM|    GRIJALVA, RAUL M|                 DEM|            AZ|          H|                   7|          C|   30G|              G|            15|      IND|        POLT, ROBIN|         null| null|     null|UNIVERSITY OF ARI...|          (CHEMIST)|     Scientist|      10292010| 2010|            250|      273.25|     null|       C5156783|  863417|   null|                null|4.03E+18|\n",
            "|A WHOLE LOT OF PE...|C00374058|      H|     DEM|    GRIJALVA, RAUL M|                 DEM|            AZ|          H|                   7|          C|   30G|              G|           15E|      IND|      GARREN, ALPER|       ALBANY|   CA|    94706|UNIVERSITY OF CA/...|          PHYSICIST|     Scientist|      11012010| 2010|            500|       546.5|C00387555|      C5161419A|  863417|   null|* EARMARKED CONTR...|4.03E+18|\n",
            "|A WHOLE LOT OF PE...|C00374058|      H|     DEM|    GRIJALVA, RAUL M|                 DEM|            AZ|          H|                   7|          C|    Q2|              P|            15|      IND|     ALLISON, CRAIG|       TUCSON|   AZ|    85712|ENGINEERING ENVIR...|           ENGINEER|      Engineer|       5152008| 2008|            250|       280.5|     null|       C4193591|  366041|   null|                null|4.10E+18|\n",
            "|A WHOLE LOT OF PE...|C00374058|      H|     DEM|    GRIJALVA, RAUL M|                 DEM|            AZ|          H|                   7|          C|    Q3|              P|            15|      IND|   CODY, T. STEPHEN|       TUCSON|   AZ|    85706|                 IBM|ENGINEER (SOFTWARE)|      Engineer|       8302009| 2010|            240|      269.28|     null|       C4428117|  438048|   null|                null|4.10E+18|\n",
            "|ABEL MALDONADO FO...|C00493379|      H|     REP|     MALDONADO, ABEL|                 REP|            CA|          H|                  24|          C|    Q2|              G|            15|      IND|     HAWKINS, SCOTT| MOSS LANDING|   CA|    95039| HAWKINS ENGINEERING|           ENGINEER|      Engineer|       6262012| 2012|           2500|      2612.5|     null|       A-C38184|  854670|   null|                null|4.02E+18|\n",
            "|ABERCROMBIE FOR C...|C00247379|      H|     DEM|   ABERCROMBIE, NEIL|                 DEM|            HI|          H|                   1|          C|    Q2|              P|            15|      IND|      SWARTZ, BARRY|    SAN DIEGO|   CA|    92131|             NOVASOL|          PHYSICIST|     Scientist|       6262007| 2008|           2000|        2340|     null|   70625.C22322|  304770|   null|                null|4.09E+18|\n",
            "|ADAM CLAYTON POWE...|C00542761|      H|     DEM|POWELL, ADAM CLAY...|                 DEM|            NY|          H|                  13|          C|    Q2|              P|           15E|      IND|          GIL, JOHN|  FLORAL PARK|   NY|110013221|PGA MECHANICAL CO...|           ENGINEER|      Engineer|       6222016| 2016|           1000|        1000|C00401224|    VN8JREPKNM4| 1142499|   null|* EARMARKED CONTR...|4.01E+18|\n",
            "|2010 SENATE VICTO...|C00488890|      S|    NULL|                null|                NULL|          NULL|       NULL|                NULL|       NULL|   12G|           null|            15|      IND|      KRENGER, MIKE|OKLAHOMA CITY|   OK|    73120| WEST STAR OIL & GAS|          GEOLOGIST|     Scientist|      10062010| 2010|           1000|        1093|     null| SA120112451061|  519072|   null|                null|2.12E+18|\n",
            "|A LOT OF PEOPLE W...|C00305110|      S|     DEM|      BINGAMAN, JEFF|                 DEM|            NM|          S|                   0|          C|    YE|              P|            15|      IND|  VAN DEVENDER, J P|  ALBUQUERQUE|   NM|    87109|VAN DEVENDER ENTE...|          PHYSICIST|     Scientist|      11132009| 2010|            500|         561|     null|SA0205094310109|  451493|   null|             RECEIPT|2.02E+18|\n",
            "|A LOT OF PEOPLE W...|C00305110|      S|     DEM|      BINGAMAN, JEFF|                 DEM|            NM|          S|                   0|          C|    YE|              P|            15|      IND| BALLANCE, ROBERT A|  ALBUQUERQUE|   NM|    87104|                SELF|     COMP SCIENTIST|     Scientist|      11232010| 2010|           1000|        1093|     null| SA020708231072|  713323|   null|             RECEIPT|2.02E+18|\n",
            "|A LOT OF PEOPLE W...|C00305110|      S|     DEM|      BINGAMAN, JEFF|                 DEM|            NM|          S|                   0|          C|    YE|              P|            15|      IND| GILMAN, CHARLES DR|  ALBUQUERQUE|   NM|    87111|                SAIC|          PHYSICIST|     Scientist|      11022007| 2008|            500|         585|     null| SA020808420832|  321641|   null|             RECEIPT|2.02E+18|\n",
            "+--------------------+---------+-------+--------+--------------------+--------------------+--------------+-----------+--------------------+-----------+------+---------------+--------------+---------+-------------------+-------------+-----+---------+--------------------+-------------------+--------------+--------------+-----+---------------+------------+---------+---------------+--------+-------+--------------------+--------+\n",
            "only showing top 15 rows\n",
            "\n"
          ]
        }
      ]
    },
    {
      "cell_type": "code",
      "source": [
        "science.printSchema()"
      ],
      "metadata": {
        "id": "5GhqcYsqaKdU",
        "outputId": "62921c27-d68f-467f-d2c8-bc2b94016cb9",
        "colab": {
          "base_uri": "https://localhost:8080/"
        }
      },
      "execution_count": 66,
      "outputs": [
        {
          "output_type": "stream",
          "name": "stdout",
          "text": [
            "root\n",
            " |-- cmte_nm: string (nullable = true)\n",
            " |-- cmte_id: string (nullable = true)\n",
            " |-- cmte_tp: string (nullable = true)\n",
            " |-- cmte_pty: string (nullable = true)\n",
            " |-- cand_name: string (nullable = true)\n",
            " |-- cand_pty_affiliation: string (nullable = true)\n",
            " |-- cand_office_st: string (nullable = true)\n",
            " |-- cand_office: string (nullable = true)\n",
            " |-- cand_office_district: string (nullable = true)\n",
            " |-- cand_status: string (nullable = true)\n",
            " |-- rpt_tp: string (nullable = true)\n",
            " |-- transaction_pgi: string (nullable = true)\n",
            " |-- transaction_tp: string (nullable = true)\n",
            " |-- entity_tp: string (nullable = true)\n",
            " |-- cleaned_name: string (nullable = true)\n",
            " |-- city: string (nullable = true)\n",
            " |-- state: string (nullable = true)\n",
            " |-- zip_code: string (nullable = true)\n",
            " |-- employer: string (nullable = true)\n",
            " |-- cleanedoccupation: string (nullable = true)\n",
            " |-- classification: string (nullable = true)\n",
            " |-- transaction_dt: string (nullable = true)\n",
            " |-- cycle: string (nullable = true)\n",
            " |-- transaction_amt: string (nullable = true)\n",
            " |-- 2016_dollars: string (nullable = true)\n",
            " |-- other_id: string (nullable = true)\n",
            " |-- tran_id: string (nullable = true)\n",
            " |-- file_num: string (nullable = true)\n",
            " |-- memo_cd: string (nullable = true)\n",
            " |-- memo_text: string (nullable = true)\n",
            " |-- sub_id: string (nullable = true)\n",
            "\n"
          ]
        }
      ]
    },
    {
      "cell_type": "code",
      "source": [
        "\n",
        "\n",
        "labels = [\n",
        "          ('cmte_nm',StringType()),\n",
        "          ('cmte_id',StringType()),\n",
        "          ('cmte_tp',StringType()),\n",
        "          ('cmte_pty',StringType()),\n",
        "          ('cand_name',StringType()),\n",
        "          ('cand_pty_affiliation',StringType()),\n",
        "          ('cand_office_st',StringType()),\n",
        "          ('cand_office',StringType()),\n",
        "          ('cand_office_district',StringType()),\n",
        "          ('cand_status',StringType()),\n",
        "          ('rpt_tp',StringType()),\n",
        "          ('transaction_pgi',StringType()),\n",
        "          ('transaction_tp',StringType()),\n",
        "          ('entity_tp',StringType()),\n",
        "          ('cleaned_name',StringType()),\n",
        "          ('city',StringType()),\n",
        "          ('state',StringType()),\n",
        "          ('zip_code',StringType()),\n",
        "          ('employer',StringType()),\n",
        "          ('cleanedoccupation',StringType()),\n",
        "          ('classification',StringType()),\n",
        "          ('transaction_dt',IntegerType()),\n",
        "          ('cycle',IntegerType()),\n",
        "          ('transaction_amt',DoubleType()),\n",
        "          ('2016_dollars',DoubleType()),\n",
        "          ('other_id',StringType()),\n",
        "          ('tran_id',StringType()),\n",
        "          ('file_num',IntegerType()),\n",
        "          ('memo_cd',StringType()),\n",
        "          ('memo_text',StringType()),\n",
        "          ('sub_id',StringType()),\n",
        "]"
      ],
      "metadata": {
        "id": "dW6bh3X_aP7E"
      },
      "execution_count": 67,
      "outputs": []
    },
    {
      "cell_type": "code",
      "source": [
        "schema = StructType([StructField(x[0],x[1],True) for x in labels])\n",
        "science = sc.read.format(\"csv\").schema(schema).option(\"header\",\"true\").option(\"escapeQuotes\", \"true\").load('science_federal_giving.csv')"
      ],
      "metadata": {
        "id": "z25twYxpb3Au"
      },
      "execution_count": 68,
      "outputs": []
    },
    {
      "cell_type": "code",
      "source": [
        "science.show(5)"
      ],
      "metadata": {
        "id": "HHuDest6caFL",
        "outputId": "1e8155e9-7de9-4d61-f1e1-10ac863c9d8f",
        "colab": {
          "base_uri": "https://localhost:8080/"
        }
      },
      "execution_count": 69,
      "outputs": [
        {
          "output_type": "stream",
          "name": "stdout",
          "text": [
            "+--------------------+---------+-------+--------+----------------+--------------------+--------------+-----------+--------------------+-----------+------+---------------+--------------+---------+-------------------+---------+-----+--------+--------------------+-------------------+--------------+--------------+-----+---------------+------------+---------+---------------+--------+-------+--------------------+--------+\n",
            "|             cmte_nm|  cmte_id|cmte_tp|cmte_pty|       cand_name|cand_pty_affiliation|cand_office_st|cand_office|cand_office_district|cand_status|rpt_tp|transaction_pgi|transaction_tp|entity_tp|       cleaned_name|     city|state|zip_code|            employer|  cleanedoccupation|classification|transaction_dt|cycle|transaction_amt|2016_dollars| other_id|        tran_id|file_num|memo_cd|           memo_text|  sub_id|\n",
            "+--------------------+---------+-------+--------+----------------+--------------------+--------------+-----------+--------------------+-----------+------+---------------+--------------+---------+-------------------+---------+-----+--------+--------------------+-------------------+--------------+--------------+-----+---------------+------------+---------+---------------+--------+-------+--------------------+--------+\n",
            "|AMERICAN WAY - DU...|C00501452|      S|     REP|   DURANT, CLARK|                 REP|            MI|          S|                   0|          C|    Q1|              P|            15|      IND|TREHARNE, WILLIAM H|     TROY|   MI|   48098|       MIDWEST STEEL|           ENGINEER|      Engineer|       3302012| 2012|         2500.0|      2612.5|     null|SA0108160812336|  845273|   null|                null|1.01E+18|\n",
            "|A LOT OF PEOPLE F...|C00017830|      H|     DEM|   OBEY, DAVID R|                 DEM|            WI|          H|                   7|          C|    Q2|              P|            15|      IND|   MCGOVERN, THOMAS|   TUCSON|   AZ|   85750|     MMLA PSOMAS INC|     CIVIL ENGINEER|      Engineer|       4182007| 2008|          250.0|       292.5|     null|         C34559|  294636|   null|                null|4.07E+18|\n",
            "|A WHOLE LOT OF PE...|C00374058|      H|     DEM|GRIJALVA, RAUL M|                 DEM|            AZ|          H|                   3|          C|    Q2|              P|           15E|      IND|       OFFNER, CARL|  SUDBURY|   MA|17761369|  AB INITIO SOFTWARE|ENGINEER (SOFTWARE)|      Engineer|       6092016| 2016|           50.0|        50.0|C00401224|    VSH8VCDY4S4| 1096417|   null|* EARMARKED CONTR...|4.08E+18|\n",
            "|A WHOLE LOT OF PE...|C00374058|      H|     DEM|GRIJALVA, RAUL M|                 DEM|            AZ|          H|                   3|          C|    Q3|              P|            15|      IND|    WARNER, RICHARD|ARLINGTON|   TX|   76015|                 SDS|ENGINEER (SOFTWARE)|      Engineer|       8192012| 2012|         2500.0|      2612.5|     null|       C6548162|  863428|   null|                null|4.03E+18|\n",
            "|A WHOLE LOT OF PE...|C00374058|      H|     DEM|GRIJALVA, RAUL M|                 DEM|            AZ|          H|                   7|          C|   30G|              G|            15|      IND|        POLT, ROBIN|     null| null|    null|UNIVERSITY OF ARI...|          (CHEMIST)|     Scientist|      10292010| 2010|          250.0|      273.25|     null|       C5156783|  863417|   null|                null|4.03E+18|\n",
            "+--------------------+---------+-------+--------+----------------+--------------------+--------------+-----------+--------------------+-----------+------+---------------+--------------+---------+-------------------+---------+-----+--------+--------------------+-------------------+--------------+--------------+-----+---------------+------------+---------+---------------+--------+-------+--------------------+--------+\n",
            "only showing top 5 rows\n",
            "\n"
          ]
        }
      ]
    },
    {
      "cell_type": "markdown",
      "source": [
        "## What insights can we get from this dataset\n",
        "\n",
        "1. Analyse the dollars contributed by each classification"
      ],
      "metadata": {
        "id": "Qn9ipX-mYMTn"
      }
    },
    {
      "cell_type": "code",
      "source": [],
      "metadata": {
        "id": "swXnoOdyYeZO",
        "outputId": "9bf1bba7-fc6a-48c9-d45d-8cc1b60b336e",
        "colab": {
          "base_uri": "https://localhost:8080/"
        }
      },
      "execution_count": 75,
      "outputs": [
        {
          "output_type": "stream",
          "name": "stdout",
          "text": [
            "Max amount donated in a single transaction: $100200.0\n",
            "Min amount donated in a single transaction: $0.0\n"
          ]
        }
      ]
    },
    {
      "cell_type": "code",
      "source": [
        "science.select(\"cleanedoccupation\",\"transaction_amt\").groupBy('cleanedoccupation').sum().orderBy('sum(transaction_amt)',ascending=True).show(20)"
      ],
      "metadata": {
        "id": "nf4eim2_efnS",
        "outputId": "cc1baa4a-7c51-4825-9315-c82fe373fde4",
        "colab": {
          "base_uri": "https://localhost:8080/"
        }
      },
      "execution_count": 155,
      "outputs": [
        {
          "output_type": "stream",
          "name": "stdout",
          "text": [
            "+--------------------+--------------------+\n",
            "|   cleanedoccupation|sum(transaction_amt)|\n",
            "+--------------------+--------------------+\n",
            "|                null|                null|\n",
            "|PUBLICATION DISTR...|              -400.0|\n",
            "|5TH GRADE BILINGU...|                 0.0|\n",
            "|PHARMACEUTICAL R&...|                 0.0|\n",
            "|SCIENCE TEACHER/O...|                 0.0|\n",
            "|CIVILENGINEER/PRO...|                 0.0|\n",
            "|CEO MANAGING PART...|                 0.0|\n",
            "|PROFESSOR OF BIOC...|                 0.0|\n",
            "|AEROSPACE VENTURE...|                 0.0|\n",
            "|SENIOR DESKTOP EN...|                 1.0|\n",
            "|HIGHER EDUCATION/...|                 1.0|\n",
            "|OPERATIONS CENTER...|                 4.0|\n",
            "| SCIENTIST, POST DOC|                 5.0|\n",
            "|CO-DIRECTOR BAY A...|                 5.0|\n",
            "|PROF. BIOLOGICAL ...|                 5.0|\n",
            "|ELECTRICAL SYSTEM...|                 5.0|\n",
            "|       NRL PHYSICIST|                 5.0|\n",
            "|  HAPPINESS ENGINEER|                 5.0|\n",
            "|RETIRED SENIOR PR...|                 5.0|\n",
            "|STATISTICIAN IN M...|                 5.0|\n",
            "+--------------------+--------------------+\n",
            "only showing top 20 rows\n",
            "\n"
          ]
        }
      ]
    },
    {
      "cell_type": "markdown",
      "source": [
        "Let's filter records where there no transaction_amt"
      ],
      "metadata": {
        "id": "z9rhwbxvf0cg"
      }
    },
    {
      "cell_type": "code",
      "source": [
        "dollars = science.filter(col(\"transaction_amt\")>=0)\n",
        "print(f'Max amount donated in a single transaction: ${dollars.agg({\"transaction_amt\":\"max\"}).collect()[0][0]}')\n",
        "print(f'Min amount donated in a single transaction: ${dollars.agg({\"transaction_amt\":\"min\"}).collect()[0][0]}')"
      ],
      "metadata": {
        "id": "iK4-8iyZmaha",
        "outputId": "782f0374-585c-4437-ed8a-a7c7e205935f",
        "colab": {
          "base_uri": "https://localhost:8080/"
        }
      },
      "execution_count": 156,
      "outputs": [
        {
          "output_type": "stream",
          "name": "stdout",
          "text": [
            "Max amount donated in a single transaction: $100200.0\n",
            "Min amount donated in a single transaction: $0.0\n"
          ]
        }
      ]
    },
    {
      "cell_type": "code",
      "source": [
        "dollars.select(\"cleanedoccupation\",\"transaction_amt\").groupBy('cleanedoccupation').sum().orderBy('sum(transaction_amt)',ascending=False).show(10)\n"
      ],
      "metadata": {
        "id": "T_XoOqSvmoYb",
        "outputId": "c22944ff-281c-4f03-cf7b-fb46dd213a3c",
        "colab": {
          "base_uri": "https://localhost:8080/"
        }
      },
      "execution_count": 158,
      "outputs": [
        {
          "output_type": "stream",
          "name": "stdout",
          "text": [
            "+-------------------+--------------------+\n",
            "|  cleanedoccupation|sum(transaction_amt)|\n",
            "+-------------------+--------------------+\n",
            "|           ENGINEER|         5.3879925E7|\n",
            "|ENGINEER (SOFTWARE)|         1.1901663E7|\n",
            "|          SCIENTIST|           9177220.0|\n",
            "|          GEOLOGIST|           4318056.0|\n",
            "|     CIVIL ENGINEER|           4095654.0|\n",
            "|          PHYSICIST|           3682003.0|\n",
            "| ENGINEER PETROLEUM|           1802460.0|\n",
            "|ELECTRICAL ENGINEER|           1782930.0|\n",
            "| RESEARCH SCIENTIST|           1398577.0|\n",
            "|          (CHEMIST)|           1316661.0|\n",
            "+-------------------+--------------------+\n",
            "only showing top 10 rows\n",
            "\n"
          ]
        }
      ]
    },
    {
      "cell_type": "code",
      "source": [
        "dollars_pd = dollars.select(\"cleanedoccupation\",\"transaction_amt\").groupBy('cleanedoccupation').sum().orderBy('sum(transaction_amt)',ascending=False).toPandas()"
      ],
      "metadata": {
        "id": "b1nTwdOGehCG"
      },
      "execution_count": 159,
      "outputs": []
    },
    {
      "cell_type": "code",
      "source": [
        "dollars_pd"
      ],
      "metadata": {
        "id": "WVhqTIOagJmd",
        "outputId": "025d71f5-e127-4da6-be45-6a859466643f",
        "colab": {
          "base_uri": "https://localhost:8080/",
          "height": 424
        }
      },
      "execution_count": 160,
      "outputs": [
        {
          "output_type": "execute_result",
          "data": {
            "text/plain": [
              "                     cleanedoccupation  sum(transaction_amt)\n",
              "0                             ENGINEER            53879925.0\n",
              "1                  ENGINEER (SOFTWARE)            11901663.0\n",
              "2                            SCIENTIST             9177220.0\n",
              "3                            GEOLOGIST             4318056.0\n",
              "4                       CIVIL ENGINEER             4095654.0\n",
              "...                                ...                   ...\n",
              "9260            DEAN, SCIENCE AND MATH                   5.0\n",
              "9261  SOFTWARE ENGINEER FOR JET ENGINE                   5.0\n",
              "9262        OPERATIONS CENTER ENGINEER                   4.0\n",
              "9263           SENIOR DESKTOP ENGINEER                   1.0\n",
              "9264             HIGHER EDUCATION/MATH                   1.0\n",
              "\n",
              "[9265 rows x 2 columns]"
            ],
            "text/html": [
              "\n",
              "  <div id=\"df-18bd1540-0ae3-47b7-aff3-136a0f924eef\">\n",
              "    <div class=\"colab-df-container\">\n",
              "      <div>\n",
              "<style scoped>\n",
              "    .dataframe tbody tr th:only-of-type {\n",
              "        vertical-align: middle;\n",
              "    }\n",
              "\n",
              "    .dataframe tbody tr th {\n",
              "        vertical-align: top;\n",
              "    }\n",
              "\n",
              "    .dataframe thead th {\n",
              "        text-align: right;\n",
              "    }\n",
              "</style>\n",
              "<table border=\"1\" class=\"dataframe\">\n",
              "  <thead>\n",
              "    <tr style=\"text-align: right;\">\n",
              "      <th></th>\n",
              "      <th>cleanedoccupation</th>\n",
              "      <th>sum(transaction_amt)</th>\n",
              "    </tr>\n",
              "  </thead>\n",
              "  <tbody>\n",
              "    <tr>\n",
              "      <th>0</th>\n",
              "      <td>ENGINEER</td>\n",
              "      <td>53879925.0</td>\n",
              "    </tr>\n",
              "    <tr>\n",
              "      <th>1</th>\n",
              "      <td>ENGINEER (SOFTWARE)</td>\n",
              "      <td>11901663.0</td>\n",
              "    </tr>\n",
              "    <tr>\n",
              "      <th>2</th>\n",
              "      <td>SCIENTIST</td>\n",
              "      <td>9177220.0</td>\n",
              "    </tr>\n",
              "    <tr>\n",
              "      <th>3</th>\n",
              "      <td>GEOLOGIST</td>\n",
              "      <td>4318056.0</td>\n",
              "    </tr>\n",
              "    <tr>\n",
              "      <th>4</th>\n",
              "      <td>CIVIL ENGINEER</td>\n",
              "      <td>4095654.0</td>\n",
              "    </tr>\n",
              "    <tr>\n",
              "      <th>...</th>\n",
              "      <td>...</td>\n",
              "      <td>...</td>\n",
              "    </tr>\n",
              "    <tr>\n",
              "      <th>9260</th>\n",
              "      <td>DEAN, SCIENCE AND MATH</td>\n",
              "      <td>5.0</td>\n",
              "    </tr>\n",
              "    <tr>\n",
              "      <th>9261</th>\n",
              "      <td>SOFTWARE ENGINEER FOR JET ENGINE</td>\n",
              "      <td>5.0</td>\n",
              "    </tr>\n",
              "    <tr>\n",
              "      <th>9262</th>\n",
              "      <td>OPERATIONS CENTER ENGINEER</td>\n",
              "      <td>4.0</td>\n",
              "    </tr>\n",
              "    <tr>\n",
              "      <th>9263</th>\n",
              "      <td>SENIOR DESKTOP ENGINEER</td>\n",
              "      <td>1.0</td>\n",
              "    </tr>\n",
              "    <tr>\n",
              "      <th>9264</th>\n",
              "      <td>HIGHER EDUCATION/MATH</td>\n",
              "      <td>1.0</td>\n",
              "    </tr>\n",
              "  </tbody>\n",
              "</table>\n",
              "<p>9265 rows × 2 columns</p>\n",
              "</div>\n",
              "      <button class=\"colab-df-convert\" onclick=\"convertToInteractive('df-18bd1540-0ae3-47b7-aff3-136a0f924eef')\"\n",
              "              title=\"Convert this dataframe to an interactive table.\"\n",
              "              style=\"display:none;\">\n",
              "        \n",
              "  <svg xmlns=\"http://www.w3.org/2000/svg\" height=\"24px\"viewBox=\"0 0 24 24\"\n",
              "       width=\"24px\">\n",
              "    <path d=\"M0 0h24v24H0V0z\" fill=\"none\"/>\n",
              "    <path d=\"M18.56 5.44l.94 2.06.94-2.06 2.06-.94-2.06-.94-.94-2.06-.94 2.06-2.06.94zm-11 1L8.5 8.5l.94-2.06 2.06-.94-2.06-.94L8.5 2.5l-.94 2.06-2.06.94zm10 10l.94 2.06.94-2.06 2.06-.94-2.06-.94-.94-2.06-.94 2.06-2.06.94z\"/><path d=\"M17.41 7.96l-1.37-1.37c-.4-.4-.92-.59-1.43-.59-.52 0-1.04.2-1.43.59L10.3 9.45l-7.72 7.72c-.78.78-.78 2.05 0 2.83L4 21.41c.39.39.9.59 1.41.59.51 0 1.02-.2 1.41-.59l7.78-7.78 2.81-2.81c.8-.78.8-2.07 0-2.86zM5.41 20L4 18.59l7.72-7.72 1.47 1.35L5.41 20z\"/>\n",
              "  </svg>\n",
              "      </button>\n",
              "      \n",
              "  <style>\n",
              "    .colab-df-container {\n",
              "      display:flex;\n",
              "      flex-wrap:wrap;\n",
              "      gap: 12px;\n",
              "    }\n",
              "\n",
              "    .colab-df-convert {\n",
              "      background-color: #E8F0FE;\n",
              "      border: none;\n",
              "      border-radius: 50%;\n",
              "      cursor: pointer;\n",
              "      display: none;\n",
              "      fill: #1967D2;\n",
              "      height: 32px;\n",
              "      padding: 0 0 0 0;\n",
              "      width: 32px;\n",
              "    }\n",
              "\n",
              "    .colab-df-convert:hover {\n",
              "      background-color: #E2EBFA;\n",
              "      box-shadow: 0px 1px 2px rgba(60, 64, 67, 0.3), 0px 1px 3px 1px rgba(60, 64, 67, 0.15);\n",
              "      fill: #174EA6;\n",
              "    }\n",
              "\n",
              "    [theme=dark] .colab-df-convert {\n",
              "      background-color: #3B4455;\n",
              "      fill: #D2E3FC;\n",
              "    }\n",
              "\n",
              "    [theme=dark] .colab-df-convert:hover {\n",
              "      background-color: #434B5C;\n",
              "      box-shadow: 0px 1px 3px 1px rgba(0, 0, 0, 0.15);\n",
              "      filter: drop-shadow(0px 1px 2px rgba(0, 0, 0, 0.3));\n",
              "      fill: #FFFFFF;\n",
              "    }\n",
              "  </style>\n",
              "\n",
              "      <script>\n",
              "        const buttonEl =\n",
              "          document.querySelector('#df-18bd1540-0ae3-47b7-aff3-136a0f924eef button.colab-df-convert');\n",
              "        buttonEl.style.display =\n",
              "          google.colab.kernel.accessAllowed ? 'block' : 'none';\n",
              "\n",
              "        async function convertToInteractive(key) {\n",
              "          const element = document.querySelector('#df-18bd1540-0ae3-47b7-aff3-136a0f924eef');\n",
              "          const dataTable =\n",
              "            await google.colab.kernel.invokeFunction('convertToInteractive',\n",
              "                                                     [key], {});\n",
              "          if (!dataTable) return;\n",
              "\n",
              "          const docLinkHtml = 'Like what you see? Visit the ' +\n",
              "            '<a target=\"_blank\" href=https://colab.research.google.com/notebooks/data_table.ipynb>data table notebook</a>'\n",
              "            + ' to learn more about interactive tables.';\n",
              "          element.innerHTML = '';\n",
              "          dataTable['output_type'] = 'display_data';\n",
              "          await google.colab.output.renderOutput(dataTable, element);\n",
              "          const docLink = document.createElement('div');\n",
              "          docLink.innerHTML = docLinkHtml;\n",
              "          element.appendChild(docLink);\n",
              "        }\n",
              "      </script>\n",
              "    </div>\n",
              "  </div>\n",
              "  "
            ]
          },
          "metadata": {},
          "execution_count": 160
        }
      ]
    },
    {
      "cell_type": "code",
      "source": [
        "dollars_pd.plot.hist(bins=10)"
      ],
      "metadata": {
        "id": "B3-eNzwYgK0V",
        "outputId": "cbb5005f-2abb-47db-b178-1122c2018426",
        "colab": {
          "base_uri": "https://localhost:8080/",
          "height": 282
        }
      },
      "execution_count": 148,
      "outputs": [
        {
          "output_type": "execute_result",
          "data": {
            "text/plain": [
              "<matplotlib.axes._subplots.AxesSubplot at 0x7f3913bd6d30>"
            ]
          },
          "metadata": {},
          "execution_count": 148
        },
        {
          "output_type": "display_data",
          "data": {
            "text/plain": [
              "<Figure size 432x288 with 1 Axes>"
            ],
            "image/png": "[encoded data removed]"
          },
          "metadata": {
            "needs_background": "light"
          }
        }
      ]
    },
    {
      "cell_type": "code",
      "source": [],
      "metadata": {
        "id": "YGtf6BDwgiBl"
      },
      "execution_count": 142,
      "outputs": []
    }
  ]
}