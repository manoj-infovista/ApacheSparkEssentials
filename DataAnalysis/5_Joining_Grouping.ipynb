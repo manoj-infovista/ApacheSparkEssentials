{
 "cells": [
  {
   "attachments": {},
   "cell_type": "markdown",
   "metadata": {},
   "source": [
    "# Joining and Grouping\n",
    "\n",
    "we will perform on a data frame: linking or joining data frames, as well as grouping data (and performing operations on the GroupedData object)"
   ]
  },
  {
   "cell_type": "code",
   "execution_count": 18,
   "metadata": {},
   "outputs": [],
   "source": [
    "# Lets bring back the state of the code where we left off in previous notebook\n",
    "\n",
    "from pyspark.sql import SparkSession\n",
    "import pyspark.sql.functions as F\n",
    "import os\n",
    "\n",
    "spark = SparkSession.builder.getOrCreate()\n",
    "\n",
    "DIRECTORY = \"data/broadcast_logs\"\n",
    "logs = (\n",
    "    spark.read.csv(\n",
    "        os.path.join(DIRECTORY, \"BroadcastLogs_2018_Q3_M8_sample.CSV\"),\n",
    "        sep=\"|\",\n",
    "        header=True,\n",
    "        inferSchema=True,\n",
    "        timestampFormat=\"yyyy-MM-dd\",\n",
    "    )\n",
    "    .drop(\"BroadcastLogID\", \"SequenceNO\")\n",
    "    .withColumn(\n",
    "        \"duration_seconds\",\n",
    "        (\n",
    "            F.col(\"Duration\").substr(1, 2).cast(\"int\") * 60 * 60\n",
    "            + F.col(\"Duration\").substr(4, 2).cast(\"int\") * 60\n",
    "            + F.col(\"Duration\").substr(7, 2).cast(\"int\")\n",
    "        ),\n",
    "    )\n",
    ")"
   ]
  },
  {
   "cell_type": "code",
   "execution_count": 19,
   "metadata": {},
   "outputs": [
    {
     "name": "stdout",
     "output_type": "stream",
     "text": [
      "root\n",
      " |-- LogIdentifierID: string (nullable = true)\n",
      " |-- LogServiceID: integer (nullable = true)\n",
      " |-- PrimaryFG: integer (nullable = true)\n",
      "\n"
     ]
    }
   ],
   "source": [
    "log_identifier = spark.read.csv(\n",
    "    os.path.join(DIRECTORY,\"ReferenceTables/LogIdentifier.csv\"),\n",
    "    sep=\"|\",\n",
    "    header=True,\n",
    "    inferSchema=True\n",
    ")\n",
    "\n",
    "log_identifier.printSchema()"
   ]
  },
  {
   "cell_type": "code",
   "execution_count": 20,
   "metadata": {},
   "outputs": [
    {
     "name": "stdout",
     "output_type": "stream",
     "text": [
      "758\n"
     ]
    }
   ],
   "source": [
    "# Once the table is ingested, we filter the data frame \n",
    "# to keep only the primary channels, as per the data documentation. \n",
    "log_identifier = log_identifier.where(F.col(\"PrimaryFG\") == 1)\n",
    "print(log_identifier.count())"
   ]
  },
  {
   "cell_type": "code",
   "execution_count": 21,
   "metadata": {},
   "outputs": [
    {
     "name": "stdout",
     "output_type": "stream",
     "text": [
      "+---------------+------------+---------+\n",
      "|LogIdentifierID|LogServiceID|PrimaryFG|\n",
      "+---------------+------------+---------+\n",
      "|           13ST|        3157|        1|\n",
      "|         2000SM|        3466|        1|\n",
      "|           70SM|        3883|        1|\n",
      "|           80SM|        3590|        1|\n",
      "|           90SM|        3470|        1|\n",
      "+---------------+------------+---------+\n",
      "only showing top 5 rows\n",
      "\n"
     ]
    }
   ],
   "source": [
    "log_identifier.show(5)"
   ]
  },
  {
   "attachments": {},
   "cell_type": "markdown",
   "metadata": {},
   "source": [
    "We have two data frames, logs and log_identifier, each containing a set of columns. We are ready to start joining! The join operation has three major ingredients:\n",
    "- Two tables, called a *left* and a *right* table, respectively\n",
    "- One or more *predicates*, which are the series of conditions that determine how\n",
    "records between the two tables are joined\n",
    "- A *method* to indicate how we perform the join when the predicate succeeds and\n",
    "when it fails\n",
    "\n",
    "```sql\n",
    "[LEFT].join(\n",
    "    [RIGHT],\n",
    "    on=[PREDICATES],\n",
    "    how=[METHOD]\n",
    ")\n",
    "```\n",
    "There are two important points to highlight:\n",
    "- If one record in the left table resolves the predicate with more than one record in the right table (or vice versa), this record will be duplicated in the joined table.\n",
    "- If one record in the left or right table does not resolve the predicate with any record in the other table, it will not be present in the resulting table unless the join method specifies a protocol for failed predicates.\n",
    "\n",
    ">**Note**: if you are performing an “equi-join,” where you are testing for equality between identically named columns, you can simply specify the name of the columns as a string or a list of strings as a predicate. \n",
    "\n",
    "```sql\n",
    "logs.join(\n",
    "log_identifier,\n",
    "on=\"LogServiceID\",\n",
    "how=[METHOD]\n",
    ")\n",
    "```\n",
    "\n",
    "**LEFT AND RIGHT OUTER JOIN**\n",
    "Left (how=\"left\" or how=\"left_outer\") and right (how=\"right\" or how=\"right_\n",
    "outer\") are like an inner join in that they generate a record for a successful predicate. The difference is what happens when the predicate is false:\n",
    "- A left (also called a left outer) join will add the unmatched records from the left table in the joined table, filling the columns coming from the right table with null.\n",
    "- A right (also called a right outer) join will add the unmatched records from the right in the joined table, filling the columns coming from the left table with null.\n",
    "\n",
    "In practice, this means that your joined table is guaranteed to contain all the records of the table that feed the join (left or right).\n",
    "\n",
    "```sql\n",
    "logs_and_channels =logs.join(\n",
    "    log_identifier,\n",
    "    on=\"LogServiceID\",\n",
    "    how=\"inner\"\n",
    ")\n",
    "```"
   ]
  },
  {
   "cell_type": "code",
   "execution_count": 22,
   "metadata": {},
   "outputs": [
    {
     "name": "stdout",
     "output_type": "stream",
     "text": [
      "root\n",
      " |-- LogServiceID: integer (nullable = true)\n",
      " |-- LogDate: timestamp (nullable = true)\n",
      " |-- AudienceTargetAgeID: integer (nullable = true)\n",
      " |-- AudienceTargetEthnicID: integer (nullable = true)\n",
      " |-- CategoryID: integer (nullable = true)\n",
      " |-- ClosedCaptionID: integer (nullable = true)\n",
      " |-- CountryOfOriginID: integer (nullable = true)\n",
      " |-- DubDramaCreditID: integer (nullable = true)\n",
      " |-- EthnicProgramID: integer (nullable = true)\n",
      " |-- ProductionSourceID: integer (nullable = true)\n",
      " |-- ProgramClassID: integer (nullable = true)\n",
      " |-- FilmClassificationID: integer (nullable = true)\n",
      " |-- ExhibitionID: integer (nullable = true)\n",
      " |-- Duration: string (nullable = true)\n",
      " |-- EndTime: string (nullable = true)\n",
      " |-- LogEntryDate: timestamp (nullable = true)\n",
      " |-- ProductionNO: string (nullable = true)\n",
      " |-- ProgramTitle: string (nullable = true)\n",
      " |-- StartTime: string (nullable = true)\n",
      " |-- Subtitle: string (nullable = true)\n",
      " |-- NetworkAffiliationID: integer (nullable = true)\n",
      " |-- SpecialAttentionID: integer (nullable = true)\n",
      " |-- BroadcastOriginPointID: integer (nullable = true)\n",
      " |-- CompositionID: integer (nullable = true)\n",
      " |-- Producer1: string (nullable = true)\n",
      " |-- Producer2: string (nullable = true)\n",
      " |-- Language1: integer (nullable = true)\n",
      " |-- Language2: integer (nullable = true)\n",
      " |-- duration_seconds: integer (nullable = true)\n",
      " |-- LogIdentifierID: string (nullable = true)\n",
      " |-- LogServiceID: integer (nullable = true)\n",
      " |-- PrimaryFG: integer (nullable = true)\n",
      "\n",
      "Reference 'LogServiceID' is ambiguous, could be: LogServiceID, LogServiceID.\n"
     ]
    }
   ],
   "source": [
    "from pyspark.sql.utils import AnalysisException\n",
    "\n",
    "logs_and_channels_verbose = logs.join(\n",
    "    log_identifier, logs[\"LogServiceID\"] == log_identifier[\"LogServiceID\"]\n",
    ")\n",
    "logs_and_channels_verbose.printSchema()\n",
    "\n",
    "try:\n",
    "    logs_and_channels_verbose.select(\"LogServiceID\")\n",
    "except AnalysisException as err:\n",
    "    print(err)"
   ]
  },
  {
   "attachments": {},
   "cell_type": "markdown",
   "metadata": {},
   "source": [
    "We prefer using the simplified syntax, since it takes care of removing the second instance of the predicate column. This only works when using an equality comparison, since the data is identical in both columns from the predicate, which prevents information loss. "
   ]
  },
  {
   "cell_type": "code",
   "execution_count": 23,
   "metadata": {},
   "outputs": [
    {
     "name": "stdout",
     "output_type": "stream",
     "text": [
      "root\n",
      " |-- LogServiceID: integer (nullable = true)\n",
      " |-- LogDate: timestamp (nullable = true)\n",
      " |-- AudienceTargetAgeID: integer (nullable = true)\n",
      " |-- AudienceTargetEthnicID: integer (nullable = true)\n",
      " |-- CategoryID: integer (nullable = true)\n",
      " |-- ClosedCaptionID: integer (nullable = true)\n",
      " |-- CountryOfOriginID: integer (nullable = true)\n",
      " |-- DubDramaCreditID: integer (nullable = true)\n",
      " |-- EthnicProgramID: integer (nullable = true)\n",
      " |-- ProductionSourceID: integer (nullable = true)\n",
      " |-- ProgramClassID: integer (nullable = true)\n",
      " |-- FilmClassificationID: integer (nullable = true)\n",
      " |-- ExhibitionID: integer (nullable = true)\n",
      " |-- Duration: string (nullable = true)\n",
      " |-- EndTime: string (nullable = true)\n",
      " |-- LogEntryDate: timestamp (nullable = true)\n",
      " |-- ProductionNO: string (nullable = true)\n",
      " |-- ProgramTitle: string (nullable = true)\n",
      " |-- StartTime: string (nullable = true)\n",
      " |-- Subtitle: string (nullable = true)\n",
      " |-- NetworkAffiliationID: integer (nullable = true)\n",
      " |-- SpecialAttentionID: integer (nullable = true)\n",
      " |-- BroadcastOriginPointID: integer (nullable = true)\n",
      " |-- CompositionID: integer (nullable = true)\n",
      " |-- Producer1: string (nullable = true)\n",
      " |-- Producer2: string (nullable = true)\n",
      " |-- Language1: integer (nullable = true)\n",
      " |-- Language2: integer (nullable = true)\n",
      " |-- duration_seconds: integer (nullable = true)\n",
      " |-- LogIdentifierID: string (nullable = true)\n",
      " |-- PrimaryFG: integer (nullable = true)\n",
      "\n"
     ]
    }
   ],
   "source": [
    "logs_and_channels = logs.join(log_identifier, \"LogServiceID\")\n",
    "\n",
    "logs_and_channels.printSchema()"
   ]
  },
  {
   "attachments": {},
   "cell_type": "markdown",
   "metadata": {},
   "source": [
    "The second approach relies on the fact that PySpark-joined data frames remember\n",
    "the origin of the columns. Because of this, we can refer to the `LogServiceID` columns using the same nomenclature as before "
   ]
  },
  {
   "cell_type": "code",
   "execution_count": 24,
   "metadata": {},
   "outputs": [
    {
     "data": {
      "text/plain": [
       "DataFrame[LogServiceID: int]"
      ]
     },
     "execution_count": 24,
     "metadata": {},
     "output_type": "execute_result"
    }
   ],
   "source": [
    "logs_and_channels_verbose = logs.join(\n",
    "    log_identifier, logs[\"LogServiceID\"] == log_identifier[\"LogServiceID\"]\n",
    ")\n",
    "\n",
    "logs_and_channels.drop(log_identifier[\"LogServiceID\"]).select(\"LogServiceID\")"
   ]
  },
  {
   "attachments": {},
   "cell_type": "markdown",
   "metadata": {},
   "source": [
    "The last approach is convenient if you use the Column object directly. PySpark will not resolve the origin name when you rely on F.col() to work with columns. To solve this in the most general way, we need to alias() our tables when performing the join."
   ]
  },
  {
   "cell_type": "code",
   "execution_count": 25,
   "metadata": {},
   "outputs": [
    {
     "data": {
      "text/plain": [
       "DataFrame[LogServiceID: int]"
      ]
     },
     "execution_count": 25,
     "metadata": {},
     "output_type": "execute_result"
    }
   ],
   "source": [
    "logs_and_channels_verbose = logs.alias(\"left\").join(\n",
    "                        log_identifier.alias(\"right\"),\n",
    "                        logs[\"LogServiceID\"] == log_identifier[\"LogServiceID\"],\n",
    "                        )\n",
    "\n",
    "logs_and_channels_verbose.drop(F.col(\"right.LogServiceID\")).select(\n",
    "    \"LogServiceID\"\n",
    ")"
   ]
  },
  {
   "attachments": {},
   "cell_type": "markdown",
   "metadata": {},
   "source": [
    "Now that the first join is done, we will link two additional tables to continue our data discovery and processing. The `CategoryID` table contains information about the types of programs, and the `ProgramClassID` table contains the data that allows us to pinpoint the commercials.\n",
    "\n",
    "This time, we are performing left joins since we are not entirely certain about the existence of the keys in the link table."
   ]
  },
  {
   "cell_type": "code",
   "execution_count": 26,
   "metadata": {},
   "outputs": [],
   "source": [
    "cd_category = spark.read.csv(\n",
    "    os.path.join(DIRECTORY, \"ReferenceTables/CD_Category.csv\"),\n",
    "    sep=\"|\",\n",
    "    header=True,\n",
    "    inferSchema=True,\n",
    ").select(\n",
    "    \"CategoryID\",\n",
    "    \"CategoryCD\",\n",
    "    F.col(\"EnglishDescription\").alias(\"Category_Description\"),\n",
    ")\n",
    "\n",
    "cd_program_class = spark.read.csv(\n",
    "    os.path.join(DIRECTORY, \"ReferenceTables/CD_ProgramClass.csv\"),\n",
    "    sep=\"|\",\n",
    "    header=True,\n",
    "    inferSchema=True,\n",
    ").select(\n",
    "    \"ProgramClassID\",\n",
    "    \"ProgramClassCD\",\n",
    "    F.col(\"EnglishDescription\").alias(\"ProgramClass_Description\"),\n",
    ")\n",
    "\n",
    "full_log = logs_and_channels.join(cd_category, \"CategoryID\", how=\"left\").join(\n",
    "    cd_program_class, \"ProgramClassID\", how=\"left\"\n",
    ")\n"
   ]
  },
  {
   "attachments": {},
   "cell_type": "markdown",
   "metadata": {},
   "source": [
    "## Summarizing the table\n",
    "### - by groupby and GroupedData\n",
    "\n",
    "This section covers how to summarize a data frame into more granular dimensions\n",
    "(versus the entire data frame) via the groupby() method.\n",
    "\n",
    "Going back to the question: *what are the channels with the greatest and least proportion of commercials?* To answer this, we have to take each channel and sum the duration_seconds in two ways:\n",
    "- One to get the number of seconds when the program is a commercial\n",
    "- One to get the number of seconds of total programming"
   ]
  },
  {
   "attachments": {},
   "cell_type": "markdown",
   "metadata": {},
   "source": [
    "Since we are already acquainted with the basic syntax of `groupby()`, this section\n",
    "starts by presenting a full code block that computes the total duration (in seconds) of the program class. In the next listing we perform the grouping, compute the aggregate function, and present the results in decreasing order."
   ]
  },
  {
   "cell_type": "code",
   "execution_count": 27,
   "metadata": {},
   "outputs": [
    {
     "name": "stdout",
     "output_type": "stream",
     "text": [
      "+--------------+--------------------------------------+--------------+\n",
      "|ProgramClassCD|ProgramClass_Description              |duration_total|\n",
      "+--------------+--------------------------------------+--------------+\n",
      "|PGR           |PROGRAM                               |20992510      |\n",
      "|COM           |COMMERCIAL MESSAGE                    |3519163       |\n",
      "|PFS           |PROGRAM FIRST SEGMENT                 |1344762       |\n",
      "|SEG           |SEGMENT OF A PROGRAM                  |1205998       |\n",
      "|PRC           |PROMOTION OF UPCOMING CANADIAN PROGRAM|880600        |\n",
      "|PGI           |PROGRAM INFOMERCIAL                   |679182        |\n",
      "|PRO           |PROMOTION OF NON-CANADIAN PROGRAM     |335701        |\n",
      "|OFF           |SCHEDULED OFF AIR TIME PERIOD         |142279        |\n",
      "|ID            |NETWORK IDENTIFICATION MESSAGE        |74926         |\n",
      "|NRN           |No recognized nationality             |59686         |\n",
      "|MAG           |MAGAZINE PROGRAM                      |57622         |\n",
      "|PSA           |PUBLIC SERVICE ANNOUNCEMENT           |51214         |\n",
      "|SO            |MAY IDENTIFY THE SIGN ON\\OFF OF A DAY |32509         |\n",
      "|OFT           |OFF AIR DUE TO TECHNICAL DIFFICULTY   |18263         |\n",
      "|LOC           |LOCAL ADVERTISING                     |13294         |\n",
      "|MVC           |MUSIC VIDEO CLIP                      |7907          |\n",
      "|REG           |REGIONAL                              |6749          |\n",
      "|MER           |MERCHANDISING                         |1680          |\n",
      "|SPO           |SPONSORSHIP MESSAGE                   |1544          |\n",
      "|SOL           |SOLICITATION MESSAGE                  |596           |\n",
      "+--------------+--------------------------------------+--------------+\n",
      "only showing top 20 rows\n",
      "\n"
     ]
    }
   ],
   "source": [
    "(full_log\n",
    ".groupby(\"ProgramClassCD\", \"ProgramClass_Description\")\n",
    ".agg(F.sum(\"duration_seconds\").alias(\"duration_total\"))\n",
    ".orderBy(\"duration_total\", ascending=False)\n",
    ".show(20, False)\n",
    ")"
   ]
  },
  {
   "attachments": {},
   "cell_type": "markdown",
   "metadata": {},
   "source": [
    "#### Using `agg()` with custom column definitions\n",
    "\n",
    "When grouping and aggregating columns in PySpark, we have all the power of the Column object at our fingertips. This means that we can group by and aggregate on\n",
    "custom columns! For this section, we will start by building a definition of `duration_commercial`, which takes the duration of a program only if it is a commercial, and use this in our `agg()` statement to seamlessly compute both the total duration and the commercial duration."
   ]
  },
  {
   "cell_type": "code",
   "execution_count": 28,
   "metadata": {},
   "outputs": [
    {
     "data": {
      "text/plain": [
       "Column<'CASE WHEN (trim(ProgramClassCD) IN (COM, PRC, PGI, PRO, PSA, MAG, LOC, SPO, MER, SOL)) THEN duration_seconds ELSE 0 END'>"
      ]
     },
     "execution_count": 28,
     "metadata": {},
     "output_type": "execute_result"
    }
   ],
   "source": [
    "F.when(\n",
    "    F.trim(F.col(\"ProgramClassCD\")).isin(\n",
    "        [\"COM\", \"PRC\", \"PGI\", \"PRO\", \"PSA\", \"MAG\", \"LOC\", \"SPO\", \"MER\", \"SOL\"]\n",
    "    ),\n",
    "    F.col(\"duration_seconds\"),\n",
    ").otherwise(0)\n"
   ]
  },
  {
   "attachments": {},
   "cell_type": "markdown",
   "metadata": {},
   "source": [
    "I think that the best way to describe the code this time is to literally translate it into plain English.\n",
    "\n",
    "***When*** *the field of the column ***ProgramClass***, trimmed of spaces at the beginning and end of the field, ***is in*** our list of commercial codes, then take the value of the field in the column `duration_seconds`. ***Otherwise***, use zero as a value.*\n"
   ]
  },
  {
   "cell_type": "code",
   "execution_count": 29,
   "metadata": {},
   "outputs": [
    {
     "name": "stdout",
     "output_type": "stream",
     "text": [
      "+---------------+-------------------+--------------+-------------------+\n",
      "|LogIdentifierID|duration_commercial|duration_total|commercial_ratio   |\n",
      "+---------------+-------------------+--------------+-------------------+\n",
      "|CIMT           |775                |775           |1.0                |\n",
      "|TLNSP          |15480              |15480         |1.0                |\n",
      "|TELENO         |17790              |17790         |1.0                |\n",
      "|MSET           |2700               |2700          |1.0                |\n",
      "|HPITV          |13                 |13            |1.0                |\n",
      "|TANG           |8125               |8125          |1.0                |\n",
      "|MMAX           |23333              |23582         |0.9894410991434145 |\n",
      "|MPLU           |20587              |20912         |0.9844586840091814 |\n",
      "|INVST          |20094              |20470         |0.9816316560820714 |\n",
      "|ZT�L�          |21542              |21965         |0.9807420896881403 |\n",
      "|RAPT           |17916              |18279         |0.9801411455768915 |\n",
      "|CANALD         |21437              |21875         |0.9799771428571429 |\n",
      "|ONEBMS         |18084              |18522         |0.9763524457402009 |\n",
      "|CANALVIE       |20780              |21309         |0.975174808766249  |\n",
      "|unis           |11630              |11998         |0.9693282213702283 |\n",
      "|CIVM           |11370              |11802         |0.9633960345704118 |\n",
      "|TV5            |10759              |11220         |0.9589126559714795 |\n",
      "|LEAF           |11526              |12034         |0.9577862722286854 |\n",
      "|VISION         |12946              |13621         |0.950444167094927  |\n",
      "|CJIL           |3904               |4213          |0.9266555898409684 |\n",
      "|CFRS           |15988              |17789         |0.8987576592276125 |\n",
      "|CFAP           |15880              |17681         |0.8981392455177875 |\n",
      "|RURAL          |2220               |2550          |0.8705882352941177 |\n",
      "|CHNU           |4224               |4921          |0.8583621215200162 |\n",
      "|CIIT           |2942               |3596          |0.818131256952169  |\n",
      "|CFKM           |15976              |19582         |0.8158512920028598 |\n",
      "|CFKS           |15975              |19581         |0.8158418875440479 |\n",
      "|V              |15949              |19557         |0.8155136268343816 |\n",
      "|CFJP           |15925              |19533         |0.8152869502892541 |\n",
      "|CFTU           |3975               |7619          |0.5217220107625673 |\n",
      "|CHEK           |46287              |100372        |0.46115450524050533|\n",
      "|VRAK           |15900              |38050         |0.4178712220762155 |\n",
      "|CKVR           |40641              |105861        |0.3839090883328138 |\n",
      "|CHAU           |1080               |2880          |0.375              |\n",
      "|CHWI           |36996              |105816        |0.3496257654797006 |\n",
      "|CFPL           |36796              |105616        |0.348394182699591  |\n",
      "|CIVI           |36570              |105330        |0.34719453147251494|\n",
      "|CESS           |35590              |105700        |0.33670766319772943|\n",
      "|CFGS           |30000              |91500         |0.32786885245901637|\n",
      "|CHRO           |35000              |107345        |0.32605151613955   |\n",
      "|CFVS           |29655              |91130         |0.3254142433885658 |\n",
      "|ASN            |34590              |106920        |0.3235129068462402 |\n",
      "|CHAT           |29415              |92665         |0.3174337667943668 |\n",
      "|CFTM           |30162              |105732        |0.2852684144818976 |\n",
      "|CJCB           |30440              |107990        |0.28187795166219093|\n",
      "|CFTO           |30423              |108003        |0.2816866198161162 |\n",
      "|CKLT           |30410              |107990        |0.28160014816186685|\n",
      "|CKCW           |30410              |107990        |0.28160014816186685|\n",
      "|CJCH           |30365              |107930        |0.2813397572500695 |\n",
      "|CJOH           |30408              |108093        |0.2813133135355666 |\n",
      "+---------------+-------------------+--------------+-------------------+\n",
      "only showing top 50 rows\n",
      "\n"
     ]
    }
   ],
   "source": [
    "answer = (\n",
    "    full_log.groupby(\"LogIdentifierID\")\n",
    "    .agg(\n",
    "        F.sum(\n",
    "            F.when(\n",
    "                F.trim(F.col(\"ProgramClassCD\")).isin(\n",
    "                    [\"COM\", \"PRC\", \"PGI\", \"PRO\", \"LOC\", \"SPO\", \"MER\", \"SOL\"]\n",
    "                ),\n",
    "                F.col(\"duration_seconds\"),\n",
    "            ).otherwise(0)\n",
    "        ).alias(\"duration_commercial\"),\n",
    "        F.sum(\"duration_seconds\").alias(\"duration_total\"),\n",
    "    )\n",
    "    .withColumn(\n",
    "        \"commercial_ratio\", F.col(\n",
    "            \"duration_commercial\") / F.col(\"duration_total\")\n",
    "    )\n",
    ")\n",
    "\n",
    "answer.orderBy(\"commercial_ratio\", ascending=False).show(50, False)"
   ]
  },
  {
   "attachments": {},
   "cell_type": "markdown",
   "metadata": {},
   "source": [
    "### Drop and fill\n",
    "\n",
    "Our first option is to plainly ignore the records that have null values. we'll see different ways to use the `dropna()` method to drop records based on the\n",
    "presence of null values. `dropna()` is pretty easy to use. This data frame method takes three parameters:\n",
    "- `how`, which can take the value `any` or `all`. If `any` is selected, PySpark will drop records where at least one of the fields is `null`. In the case of `all`, only the records where all fields are `null` will be removed. By default, PySpark will take the `any` mode.\n",
    "- `thresh` takes an integer value. If set (its default is `None`), PySpark will ignore the `how` parameter and only drop the records with less than thresh `non-null` values.\n",
    "- `subset` will take an optional list of columns that `dropna()` will use to make its decision."
   ]
  },
  {
   "cell_type": "code",
   "execution_count": 30,
   "metadata": {},
   "outputs": [
    {
     "name": "stdout",
     "output_type": "stream",
     "text": [
      "+---------------+-------------------+--------------+-------------------+\n",
      "|LogIdentifierID|duration_commercial|duration_total|commercial_ratio   |\n",
      "+---------------+-------------------+--------------+-------------------+\n",
      "|CIMT           |775                |775           |1.0                |\n",
      "|TLNSP          |15480              |15480         |1.0                |\n",
      "|TELENO         |17790              |17790         |1.0                |\n",
      "|MSET           |2700               |2700          |1.0                |\n",
      "|HPITV          |13                 |13            |1.0                |\n",
      "|TANG           |8125               |8125          |1.0                |\n",
      "|MMAX           |23333              |23582         |0.9894410991434145 |\n",
      "|MPLU           |20587              |20912         |0.9844586840091814 |\n",
      "|INVST          |20094              |20470         |0.9816316560820714 |\n",
      "|ZT�L�          |21542              |21965         |0.9807420896881403 |\n",
      "|RAPT           |17916              |18279         |0.9801411455768915 |\n",
      "|CANALD         |21437              |21875         |0.9799771428571429 |\n",
      "|ONEBMS         |18084              |18522         |0.9763524457402009 |\n",
      "|CANALVIE       |20780              |21309         |0.975174808766249  |\n",
      "|unis           |11630              |11998         |0.9693282213702283 |\n",
      "|CIVM           |11370              |11802         |0.9633960345704118 |\n",
      "|TV5            |10759              |11220         |0.9589126559714795 |\n",
      "|LEAF           |11526              |12034         |0.9577862722286854 |\n",
      "|VISION         |12946              |13621         |0.950444167094927  |\n",
      "|CJIL           |3904               |4213          |0.9266555898409684 |\n",
      "|CFRS           |15988              |17789         |0.8987576592276125 |\n",
      "|CFAP           |15880              |17681         |0.8981392455177875 |\n",
      "|RURAL          |2220               |2550          |0.8705882352941177 |\n",
      "|CHNU           |4224               |4921          |0.8583621215200162 |\n",
      "|CIIT           |2942               |3596          |0.818131256952169  |\n",
      "|CFKM           |15976              |19582         |0.8158512920028598 |\n",
      "|CFKS           |15975              |19581         |0.8158418875440479 |\n",
      "|V              |15949              |19557         |0.8155136268343816 |\n",
      "|CFJP           |15925              |19533         |0.8152869502892541 |\n",
      "|CFTU           |3975               |7619          |0.5217220107625673 |\n",
      "|CHEK           |46287              |100372        |0.46115450524050533|\n",
      "|VRAK           |15900              |38050         |0.4178712220762155 |\n",
      "|CKVR           |40641              |105861        |0.3839090883328138 |\n",
      "|CHAU           |1080               |2880          |0.375              |\n",
      "|CHWI           |36996              |105816        |0.3496257654797006 |\n",
      "|CFPL           |36796              |105616        |0.348394182699591  |\n",
      "|CIVI           |36570              |105330        |0.34719453147251494|\n",
      "|CESS           |35590              |105700        |0.33670766319772943|\n",
      "|CFGS           |30000              |91500         |0.32786885245901637|\n",
      "|CHRO           |35000              |107345        |0.32605151613955   |\n",
      "|CFVS           |29655              |91130         |0.3254142433885658 |\n",
      "|ASN            |34590              |106920        |0.3235129068462402 |\n",
      "|CHAT           |29415              |92665         |0.3174337667943668 |\n",
      "|CFTM           |30162              |105732        |0.2852684144818976 |\n",
      "|CJCB           |30440              |107990        |0.28187795166219093|\n",
      "|CFTO           |30423              |108003        |0.2816866198161162 |\n",
      "|CKLT           |30410              |107990        |0.28160014816186685|\n",
      "|CKCW           |30410              |107990        |0.28160014816186685|\n",
      "|CJCH           |30365              |107930        |0.2813397572500695 |\n",
      "|CJOH           |30408              |108093        |0.2813133135355666 |\n",
      "+---------------+-------------------+--------------+-------------------+\n",
      "only showing top 50 rows\n",
      "\n"
     ]
    }
   ],
   "source": [
    "answer_no_null = answer.dropna(subset=[\"commercial_ratio\"])\n",
    "\n",
    "answer_no_null.orderBy(\"commercial_ratio\", ascending=False).show(50, False)"
   ]
  },
  {
   "cell_type": "code",
   "execution_count": 31,
   "metadata": {},
   "outputs": [
    {
     "name": "stdout",
     "output_type": "stream",
     "text": [
      "322\n"
     ]
    }
   ],
   "source": [
    "print(answer_no_null.count())"
   ]
  },
  {
   "attachments": {},
   "cell_type": "markdown",
   "metadata": {},
   "source": [
    "`fillna()` is even simpler than `dropna()`. This data frame method takes two\n",
    "parameters:\n",
    "- The value, which is a Python int, float, string, or bool. PySpark will only fill the compatible columns; for instance, if we were to fillna(\"zero\"), our commercial_ratio, being a double, would not be filled.\n",
    "- The same subset parameter we encountered in dropna(). We can limit the scope of our filling to only the columns we want."
   ]
  },
  {
   "cell_type": "code",
   "execution_count": 32,
   "metadata": {},
   "outputs": [
    {
     "name": "stdout",
     "output_type": "stream",
     "text": [
      "+---------------+-------------------+--------------+-------------------+\n",
      "|LogIdentifierID|duration_commercial|duration_total|commercial_ratio   |\n",
      "+---------------+-------------------+--------------+-------------------+\n",
      "|CIMT           |775                |775           |1.0                |\n",
      "|TLNSP          |15480              |15480         |1.0                |\n",
      "|TELENO         |17790              |17790         |1.0                |\n",
      "|MSET           |2700               |2700          |1.0                |\n",
      "|HPITV          |13                 |13            |1.0                |\n",
      "|TANG           |8125               |8125          |1.0                |\n",
      "|MMAX           |23333              |23582         |0.9894410991434145 |\n",
      "|MPLU           |20587              |20912         |0.9844586840091814 |\n",
      "|INVST          |20094              |20470         |0.9816316560820714 |\n",
      "|ZT�L�          |21542              |21965         |0.9807420896881403 |\n",
      "|RAPT           |17916              |18279         |0.9801411455768915 |\n",
      "|CANALD         |21437              |21875         |0.9799771428571429 |\n",
      "|ONEBMS         |18084              |18522         |0.9763524457402009 |\n",
      "|CANALVIE       |20780              |21309         |0.975174808766249  |\n",
      "|unis           |11630              |11998         |0.9693282213702283 |\n",
      "|CIVM           |11370              |11802         |0.9633960345704118 |\n",
      "|TV5            |10759              |11220         |0.9589126559714795 |\n",
      "|LEAF           |11526              |12034         |0.9577862722286854 |\n",
      "|VISION         |12946              |13621         |0.950444167094927  |\n",
      "|CJIL           |3904               |4213          |0.9266555898409684 |\n",
      "|CFRS           |15988              |17789         |0.8987576592276125 |\n",
      "|CFAP           |15880              |17681         |0.8981392455177875 |\n",
      "|RURAL          |2220               |2550          |0.8705882352941177 |\n",
      "|CHNU           |4224               |4921          |0.8583621215200162 |\n",
      "|CIIT           |2942               |3596          |0.818131256952169  |\n",
      "|CFKM           |15976              |19582         |0.8158512920028598 |\n",
      "|CFKS           |15975              |19581         |0.8158418875440479 |\n",
      "|V              |15949              |19557         |0.8155136268343816 |\n",
      "|CFJP           |15925              |19533         |0.8152869502892541 |\n",
      "|CFTU           |3975               |7619          |0.5217220107625673 |\n",
      "|CHEK           |46287              |100372        |0.46115450524050533|\n",
      "|VRAK           |15900              |38050         |0.4178712220762155 |\n",
      "|CKVR           |40641              |105861        |0.3839090883328138 |\n",
      "|CHAU           |1080               |2880          |0.375              |\n",
      "|CHWI           |36996              |105816        |0.3496257654797006 |\n",
      "|CFPL           |36796              |105616        |0.348394182699591  |\n",
      "|CIVI           |36570              |105330        |0.34719453147251494|\n",
      "|CESS           |35590              |105700        |0.33670766319772943|\n",
      "|CFGS           |30000              |91500         |0.32786885245901637|\n",
      "|CHRO           |35000              |107345        |0.32605151613955   |\n",
      "|CFVS           |29655              |91130         |0.3254142433885658 |\n",
      "|ASN            |34590              |106920        |0.3235129068462402 |\n",
      "|CHAT           |29415              |92665         |0.3174337667943668 |\n",
      "|CFTM           |30162              |105732        |0.2852684144818976 |\n",
      "|CJCB           |30440              |107990        |0.28187795166219093|\n",
      "|CFTO           |30423              |108003        |0.2816866198161162 |\n",
      "|CKLT           |30410              |107990        |0.28160014816186685|\n",
      "|CKCW           |30410              |107990        |0.28160014816186685|\n",
      "|CJCH           |30365              |107930        |0.2813397572500695 |\n",
      "|CJOH           |30408              |108093        |0.2813133135355666 |\n",
      "+---------------+-------------------+--------------+-------------------+\n",
      "only showing top 50 rows\n",
      "\n"
     ]
    }
   ],
   "source": [
    "answer_no_null = answer.fillna(0)\n",
    "answer_no_null.orderBy(\n",
    "\"commercial_ratio\", ascending=False).show(50, False)"
   ]
  },
  {
   "cell_type": "code",
   "execution_count": 33,
   "metadata": {},
   "outputs": [
    {
     "name": "stdout",
     "output_type": "stream",
     "text": [
      "324\n"
     ]
    }
   ],
   "source": [
    "print(answer_no_null.count()) "
   ]
  },
  {
   "cell_type": "code",
   "execution_count": null,
   "metadata": {},
   "outputs": [],
   "source": []
  }
 ],
 "metadata": {
  "kernelspec": {
   "display_name": "venv",
   "language": "python",
   "name": "python3"
  },
  "language_info": {
   "codemirror_mode": {
    "name": "ipython",
    "version": 3
   },
   "file_extension": ".py",
   "mimetype": "text/x-python",
   "name": "python",
   "nbconvert_exporter": "python",
   "pygments_lexer": "ipython3",
   "version": "3.8.10"
  },
  "orig_nbformat": 4,
  "vscode": {
   "interpreter": {
    "hash": "05de79a9bc4beb95fb2b07d395d8e3fe55e6d8497bda19361fbfb16b724883dd"
   }
  }
 },
 "nbformat": 4,
 "nbformat_minor": 2
}
