{
  "nbformat": 4,
  "nbformat_minor": 0,
  "metadata": {
    "colab": {
      "provenance": [],
      "authorship_tag": "ABX9TyM+NTC8nOG6SKwU+lQFfYce",
      "include_colab_link": true
    },
    "kernelspec": {
      "name": "python3",
      "display_name": "Python 3"
    },
    "language_info": {
      "name": "python"
    }
  },
  "cells": [
    {
      "cell_type": "markdown",
      "metadata": {
        "id": "view-in-github",
        "colab_type": "text"
      },
      "source": [
        "<a href=\"https://colab.research.google.com/github/manojmanivannan/ApacheSparkEssentials/blob/master/ML_SparkByPluralsight.ipynb\" target=\"_parent\"><img src=\"https://colab.research.google.com/assets/colab-badge.svg\" alt=\"Open In Colab\"/></a>"
      ]
    },
    {
      "cell_type": "code",
      "execution_count": 112,
      "metadata": {
        "colab": {
          "base_uri": "https://localhost:8080/"
        },
        "id": "9V6Ye7HxJMgU",
        "outputId": "947c9cc1-6f08-4ef5-a526-61b1f6802657"
      },
      "outputs": [
        {
          "output_type": "stream",
          "name": "stdout",
          "text": [
            "\r0% [Working]\r            \rHit:1 https://cloud.r-project.org/bin/linux/ubuntu bionic-cran40/ InRelease\n",
            "\r0% [Connecting to archive.ubuntu.com (185.125.190.39)] [Waiting for headers] [C\r                                                                               \rGet:2 http://security.ubuntu.com/ubuntu bionic-security InRelease [88.7 kB]\n",
            "\r0% [Connecting to archive.ubuntu.com (185.125.190.39)] [2 InRelease 14.2 kB/88.\r0% [1 InRelease gpgv 3,626 B] [Connecting to archive.ubuntu.com (185.125.190.39\r                                                                               \rIgn:3 https://developer.download.nvidia.com/compute/machine-learning/repos/ubuntu1804/x86_64  InRelease\n",
            "\r0% [1 InRelease gpgv 3,626 B] [Waiting for headers] [2 InRelease 51.8 kB/88.7 k\r                                                                               \rHit:4 https://developer.download.nvidia.com/compute/cuda/repos/ubuntu1804/x86_64  InRelease\n",
            "Hit:5 https://developer.download.nvidia.com/compute/machine-learning/repos/ubuntu1804/x86_64  Release\n",
            "Hit:6 http://ppa.launchpad.net/c2d4u.team/c2d4u4.0+/ubuntu bionic InRelease\n",
            "Hit:7 http://archive.ubuntu.com/ubuntu bionic InRelease\n",
            "Get:8 http://archive.ubuntu.com/ubuntu bionic-updates InRelease [88.7 kB]\n",
            "Hit:9 http://ppa.launchpad.net/cran/libgit2/ubuntu bionic InRelease\n",
            "Hit:10 http://ppa.launchpad.net/deadsnakes/ppa/ubuntu bionic InRelease\n",
            "Get:11 http://archive.ubuntu.com/ubuntu bionic-backports InRelease [83.3 kB]\n",
            "Hit:13 http://ppa.launchpad.net/graphics-drivers/ppa/ubuntu bionic InRelease\n",
            "Fetched 261 kB in 3s (90.9 kB/s)\n",
            "Reading package lists... Done\n",
            "Archive:  ngrok-stable-linux-amd64.zip\n",
            "replace ngrok? [y]es, [n]o, [A]ll, [N]one, [r]ename: y\n",
            "  inflating: ngrok                   \n"
          ]
        }
      ],
      "source": [
        "!apt-get update\n",
        "!apt-get install -y openjdk-8-jdk-headless scala jq  > /dev/null\n",
        "!wget -q http://archive.apache.org/dist/spark/spark-2.3.1/spark-2.3.1-bin-hadoop2.7.tgz\n",
        "!tar xf spark-2.3.1-bin-hadoop2.7.tgz\n",
        "!wget -q https://bin.equinox.io/c/4VmDzA7iaHb/ngrok-stable-linux-amd64.zip\n",
        "!unzip ngrok-stable-linux-amd64.zip\n",
        "!pip install -q pyspark findspark"
      ]
    },
    {
      "cell_type": "code",
      "source": [
        "import os\n",
        "os.environ[\"JAVA_HOME\"] = \"/usr/lib/jvm/java-8-openjdk-amd64\""
      ],
      "metadata": {
        "id": "X_fcmTEMKC9F"
      },
      "execution_count": 113,
      "outputs": []
    },
    {
      "cell_type": "code",
      "source": [
        "!python --version"
      ],
      "metadata": {
        "colab": {
          "base_uri": "https://localhost:8080/"
        },
        "id": "dOF2BCWEKDmo",
        "outputId": "bb279be6-13b5-4e44-c0f0-a1fe3f40581c"
      },
      "execution_count": 114,
      "outputs": [
        {
          "output_type": "stream",
          "name": "stdout",
          "text": [
            "Python 3.8.15\n"
          ]
        }
      ]
    },
    {
      "cell_type": "code",
      "source": [
        "import findspark\n",
        "findspark.init()\n",
        "from pyspark.sql import SparkSession\n",
        "from pyspark import SparkContext, SparkConf\n",
        "\n",
        "# Spark session & context\n",
        "conf = SparkConf().set('spark.ui.port', '4050')\n",
        "try:\n",
        "  sc = SparkContext(conf=conf)\n",
        "except ValueError:\n",
        "  sc.stop()\n",
        "  sc = SparkContext(conf=conf)\n",
        "\n",
        "spark = SparkSession.builder.master('local[2]').getOrCreate()"
      ],
      "metadata": {
        "id": "QS4u5G4SLlHX"
      },
      "execution_count": 115,
      "outputs": []
    },
    {
      "cell_type": "code",
      "source": [
        "sc"
      ],
      "metadata": {
        "colab": {
          "base_uri": "https://localhost:8080/",
          "height": 196
        },
        "id": "djRSKqGNWP1m",
        "outputId": "644c1a5e-fefe-498d-f52b-edfc287a9a6f"
      },
      "execution_count": 116,
      "outputs": [
        {
          "output_type": "execute_result",
          "data": {
            "text/plain": [
              "<SparkContext master=local[*] appName=pyspark-shell>"
            ],
            "text/html": [
              "\n",
              "        <div>\n",
              "            <p><b>SparkContext</b></p>\n",
              "\n",
              "            <p><a href=\"http://fccb2beb2d6b:4050\">Spark UI</a></p>\n",
              "\n",
              "            <dl>\n",
              "              <dt>Version</dt>\n",
              "                <dd><code>v3.3.1</code></dd>\n",
              "              <dt>Master</dt>\n",
              "                <dd><code>local[*]</code></dd>\n",
              "              <dt>AppName</dt>\n",
              "                <dd><code>pyspark-shell</code></dd>\n",
              "            </dl>\n",
              "        </div>\n",
              "        "
            ]
          },
          "metadata": {},
          "execution_count": 116
        }
      ]
    },
    {
      "cell_type": "code",
      "source": [],
      "metadata": {
        "id": "Yq-1L79sMffd"
      },
      "execution_count": 116,
      "outputs": []
    },
    {
      "cell_type": "code",
      "source": [
        "# create new token from ngrok\n",
        "get_ipython().system_raw('./ngrok authtoken 2IaHtxKm7l0XqBXP6s9xWSyVHqE_4wYXtkZorquhudnHW23ci')\n",
        "# revoke the token once you close the notebook\n",
        "get_ipython().system_raw('./ngrok http 4050 &')"
      ],
      "metadata": {
        "id": "PRh5keSDZ90p"
      },
      "execution_count": 117,
      "outputs": []
    },
    {
      "cell_type": "code",
      "source": [
        "!sleep 10 && curl -s http://localhost:4040/api/tunnels | python3 -c \"import sys, json; print(json.load(sys.stdin)['tunnels'][0]['public_url'])\""
      ],
      "metadata": {
        "colab": {
          "base_uri": "https://localhost:8080/"
        },
        "id": "ug4_2GU5V-IZ",
        "outputId": "a4cdf97e-7557-45f2-8ebf-42ceae794cb6"
      },
      "execution_count": 118,
      "outputs": [
        {
          "output_type": "stream",
          "name": "stdout",
          "text": [
            "https://e030-34-123-69-186.ngrok.io\n"
          ]
        }
      ]
    },
    {
      "cell_type": "code",
      "source": [
        "# Dataset\n",
        "# https://goo.gl/pSKLMJ or https://archive.ics.uci.edu/ml/datasets/wine\n"
      ],
      "metadata": {
        "id": "cx1iT-4QP0l3"
      },
      "execution_count": 119,
      "outputs": []
    },
    {
      "cell_type": "code",
      "source": [
        "rawData = sc.textFile('wine.data')"
      ],
      "metadata": {
        "id": "-HkhbtZBQwfy"
      },
      "execution_count": 120,
      "outputs": []
    },
    {
      "cell_type": "code",
      "source": [
        "rawData.take(5)"
      ],
      "metadata": {
        "colab": {
          "base_uri": "https://localhost:8080/"
        },
        "id": "M-p6wNmcZl58",
        "outputId": "a612d320-7273-4781-f6a0-0604a6876532"
      },
      "execution_count": 121,
      "outputs": [
        {
          "output_type": "execute_result",
          "data": {
            "text/plain": [
              "['1,14.23,1.71,2.43,15.6,127,2.8,3.06,.28,2.29,5.64,1.04,3.92,1065',\n",
              " '1,13.2,1.78,2.14,11.2,100,2.65,2.76,.26,1.28,4.38,1.05,3.4,1050',\n",
              " '1,13.16,2.36,2.67,18.6,101,2.8,3.24,.3,2.81,5.68,1.03,3.17,1185',\n",
              " '1,14.37,1.95,2.5,16.8,113,3.85,3.49,.24,2.18,7.8,.86,3.45,1480',\n",
              " '1,13.24,2.59,2.87,21,118,2.8,2.69,.39,1.82,4.32,1.04,2.93,735']"
            ]
          },
          "metadata": {},
          "execution_count": 121
        }
      ]
    },
    {
      "cell_type": "code",
      "source": [
        "# Column # \n",
        "# 0) - Wine maker 1,2 or 3\n",
        "# 1) Alcohol\n",
        "# 2) Malic acid\n",
        "# 3) Ash\n",
        "# 4) Alcalinity of ash\n",
        "# 5) Magnesium\n",
        "# 6) Total phenols\n",
        "# 7) Flavanoids\n",
        "# 8) Nonflavanoid phenols\n",
        "# 9) Proanthocyanins\n",
        "# 10)Color intensity\n",
        "# 11)Hue\n",
        "# 12)OD280/OD315 of diluted wines\n",
        "# 13)Proline"
      ],
      "metadata": {
        "id": "TYZeh6X7c9v1"
      },
      "execution_count": 122,
      "outputs": []
    },
    {
      "cell_type": "markdown",
      "source": [
        "# Using the older Spark mllib library"
      ],
      "metadata": {
        "id": "5NX94c1hmxBf"
      }
    },
    {
      "cell_type": "code",
      "source": [
        "from pyspark.mllib.regression import LabeledPoint\n",
        "\n",
        "def parsePoint(line):\n",
        "  values = [float(x) for x in line.split(',')]\n",
        "  return LabeledPoint(values[0],values[1:])\n"
      ],
      "metadata": {
        "id": "xQq4CmJ6db8v"
      },
      "execution_count": 123,
      "outputs": []
    },
    {
      "cell_type": "code",
      "source": [
        "parsedData = rawData.map(parsePoint)\n",
        "parsedData.take(5)"
      ],
      "metadata": {
        "colab": {
          "base_uri": "https://localhost:8080/"
        },
        "id": "mlpfZJCfeCxx",
        "outputId": "accde85a-2fe3-40a1-b72b-7c63799657cc"
      },
      "execution_count": 124,
      "outputs": [
        {
          "output_type": "execute_result",
          "data": {
            "text/plain": [
              "[LabeledPoint(1.0, [14.23,1.71,2.43,15.6,127.0,2.8,3.06,0.28,2.29,5.64,1.04,3.92,1065.0]),\n",
              " LabeledPoint(1.0, [13.2,1.78,2.14,11.2,100.0,2.65,2.76,0.26,1.28,4.38,1.05,3.4,1050.0]),\n",
              " LabeledPoint(1.0, [13.16,2.36,2.67,18.6,101.0,2.8,3.24,0.3,2.81,5.68,1.03,3.17,1185.0]),\n",
              " LabeledPoint(1.0, [14.37,1.95,2.5,16.8,113.0,3.85,3.49,0.24,2.18,7.8,0.86,3.45,1480.0]),\n",
              " LabeledPoint(1.0, [13.24,2.59,2.87,21.0,118.0,2.8,2.69,0.39,1.82,4.32,1.04,2.93,735.0])]"
            ]
          },
          "metadata": {},
          "execution_count": 124
        }
      ]
    },
    {
      "cell_type": "code",
      "source": [
        "(trainingData, testData) = parsedData.randomSplit([0.7,0.3])"
      ],
      "metadata": {
        "id": "-yGlinIFeDH6"
      },
      "execution_count": 125,
      "outputs": []
    },
    {
      "cell_type": "code",
      "source": [
        "from pyspark.mllib.tree import DecisionTree\n",
        "\n",
        "model = DecisionTree.trainClassifier(trainingData,\n",
        "                                     numClasses=4, # there are classes 1,2,3 as wine makers , so should 1+greatest value\n",
        "                                     categoricalFeaturesInfo={},\n",
        "                                     impurity='gini',\n",
        "                                     maxDepth=3,\n",
        "                                     maxBins=32)"
      ],
      "metadata": {
        "id": "_RQ0FTkbePXD"
      },
      "execution_count": 126,
      "outputs": []
    },
    {
      "cell_type": "code",
      "source": [
        "predictions = model.predict(testData.map(lambda x: x.features))\n",
        "predictions.take(5)"
      ],
      "metadata": {
        "colab": {
          "base_uri": "https://localhost:8080/"
        },
        "id": "wigTY9w1eRrt",
        "outputId": "eb9cbd49-3e96-4374-d952-39809e3532ae"
      },
      "execution_count": 127,
      "outputs": [
        {
          "output_type": "execute_result",
          "data": {
            "text/plain": [
              "[1.0, 1.0, 1.0, 1.0, 1.0]"
            ]
          },
          "metadata": {},
          "execution_count": 127
        }
      ]
    },
    {
      "cell_type": "code",
      "source": [
        "# compare predictions with actual labels\n",
        "labelsAndPredictions = testData.map(lambda x: x.label).zip(predictions)\n",
        "labelsAndPredictions.take(5)"
      ],
      "metadata": {
        "colab": {
          "base_uri": "https://localhost:8080/"
        },
        "id": "ZA34l2KjftRv",
        "outputId": "470db229-8092-4b3f-8d1b-23b3a4413332"
      },
      "execution_count": 128,
      "outputs": [
        {
          "output_type": "execute_result",
          "data": {
            "text/plain": [
              "[(1.0, 1.0), (1.0, 1.0), (1.0, 1.0), (1.0, 1.0), (1.0, 1.0)]"
            ]
          },
          "metadata": {},
          "execution_count": 128
        }
      ]
    },
    {
      "cell_type": "code",
      "source": [
        "testAcc = labelsAndPredictions\\\n",
        "                .filter(lambda x: x[0] == x[1])\\\n",
        "                .count() / float(testData.count())\n",
        "print('Test Accuracy = ', testAcc)                "
      ],
      "metadata": {
        "colab": {
          "base_uri": "https://localhost:8080/"
        },
        "id": "dtuG-1q-gDNV",
        "outputId": "7d93218a-2a3e-448d-94ba-59faad978381"
      },
      "execution_count": 129,
      "outputs": [
        {
          "output_type": "stream",
          "name": "stdout",
          "text": [
            "Test Accuracy =  0.9583333333333334\n"
          ]
        }
      ]
    },
    {
      "cell_type": "code",
      "source": [
        "# we have a built-in function for evaluating metrics\n",
        "from pyspark.mllib.evaluation import MulticlassMetrics\n",
        "\n",
        "metrics = MulticlassMetrics(labelsAndPredictions)"
      ],
      "metadata": {
        "id": "i2gQ9Tf7glM6"
      },
      "execution_count": 130,
      "outputs": []
    },
    {
      "cell_type": "code",
      "source": [
        "metrics.accuracy"
      ],
      "metadata": {
        "colab": {
          "base_uri": "https://localhost:8080/"
        },
        "id": "9-_rNpKIg7zz",
        "outputId": "048de859-01be-480f-c178-168a14c2472e"
      },
      "execution_count": 131,
      "outputs": [
        {
          "output_type": "execute_result",
          "data": {
            "text/plain": [
              "0.9583333333333334"
            ]
          },
          "metadata": {},
          "execution_count": 131
        }
      ]
    },
    {
      "cell_type": "code",
      "source": [
        "metrics.precision(1.0)"
      ],
      "metadata": {
        "colab": {
          "base_uri": "https://localhost:8080/"
        },
        "id": "otS6fdksg9cO",
        "outputId": "acd32632-acf3-46a6-a144-0144d5191ced"
      },
      "execution_count": 132,
      "outputs": [
        {
          "output_type": "execute_result",
          "data": {
            "text/plain": [
              "1.0"
            ]
          },
          "metadata": {},
          "execution_count": 132
        }
      ]
    },
    {
      "cell_type": "code",
      "source": [
        "metrics.precision(3.0)"
      ],
      "metadata": {
        "colab": {
          "base_uri": "https://localhost:8080/"
        },
        "id": "EWPdeVRthIYj",
        "outputId": "306ebf90-f5a6-45f3-b2e8-bfb8b26d58be"
      },
      "execution_count": 133,
      "outputs": [
        {
          "output_type": "execute_result",
          "data": {
            "text/plain": [
              "1.0"
            ]
          },
          "metadata": {},
          "execution_count": 133
        }
      ]
    },
    {
      "cell_type": "code",
      "source": [
        "metrics.confusionMatrix().toArray()"
      ],
      "metadata": {
        "colab": {
          "base_uri": "https://localhost:8080/"
        },
        "id": "k276ZlKXhYmt",
        "outputId": "7d49bfea-0d32-44fd-a8e5-93bd34c7590d"
      },
      "execution_count": 134,
      "outputs": [
        {
          "output_type": "execute_result",
          "data": {
            "text/plain": [
              "array([[21.,  1.,  0.],\n",
              "       [ 0., 12.,  0.],\n",
              "       [ 0.,  1., 13.]])"
            ]
          },
          "metadata": {},
          "execution_count": 134
        }
      ]
    },
    {
      "cell_type": "code",
      "source": [
        "# to view the decision tree\n",
        "print(model.toDebugString())"
      ],
      "metadata": {
        "colab": {
          "base_uri": "https://localhost:8080/"
        },
        "id": "hK238SNQhcuJ",
        "outputId": "e3dce922-8d20-4f8d-ea98-130a1d56a93b"
      },
      "execution_count": 135,
      "outputs": [
        {
          "output_type": "stream",
          "name": "stdout",
          "text": [
            "DecisionTreeModel classifier of depth 3 with 9 nodes\n",
            "  If (feature 9 <= 3.3899999999999997)\n",
            "   Predict: 2.0\n",
            "  Else (feature 9 > 3.3899999999999997)\n",
            "   If (feature 6 <= 1.5950000000000002)\n",
            "    If (feature 3 <= 17.05)\n",
            "     Predict: 2.0\n",
            "    Else (feature 3 > 17.05)\n",
            "     Predict: 3.0\n",
            "   Else (feature 6 > 1.5950000000000002)\n",
            "    If (feature 12 <= 679.0)\n",
            "     Predict: 2.0\n",
            "    Else (feature 12 > 679.0)\n",
            "     Predict: 1.0\n",
            "\n"
          ]
        }
      ]
    },
    {
      "cell_type": "markdown",
      "source": [
        "# LIBSVM data format"
      ],
      "metadata": {
        "id": "33pYFZTYialx"
      }
    },
    {
      "cell_type": "markdown",
      "source": [
        "Each row in a dataset, has a label and features.\n",
        "Features are referred as index.\n",
        "i.e, index1 => feature1\n",
        "so a record is represented as\n",
        "\n",
        "| label | index1:value1 | index2:value2 | index3:value3 | ... |\n",
        "|-------|---------------|---------------|---------------|-----|\n",
        "| 0     | 1:324         | 2:332         | 3:12          | ... |\n",
        "| 1     | 1:455         | 2:213         | 3:85          | ... |\n",
        "| 0     | 1:344         | 2:165         |               | ... |\n",
        "\n",
        "missing feature can be represented by simply omitting them.\n"
      ],
      "metadata": {
        "id": "D3gNWsxTifDP"
      }
    },
    {
      "cell_type": "code",
      "source": [
        "from pyspark.mllib.util import MLUtils\n",
        "# dataset https://www.csie.ntu.edu.tw/~cjlin/libsvmtools/datasets/multiclass/wine.scale\n",
        "libsvmData = MLUtils.loadLibSVMFile(sc, 'wine.scale')"
      ],
      "metadata": {
        "id": "CHVqt-89hfz4"
      },
      "execution_count": 136,
      "outputs": []
    },
    {
      "cell_type": "code",
      "source": [
        "libsvmData.take(5)"
      ],
      "metadata": {
        "colab": {
          "base_uri": "https://localhost:8080/"
        },
        "id": "VoSrdnPNk2r8",
        "outputId": "0a6ba047-e2df-47ed-b845-c11298f2f3f5"
      },
      "execution_count": 137,
      "outputs": [
        {
          "output_type": "execute_result",
          "data": {
            "text/plain": [
              "[LabeledPoint(1.0, (13,[0,1,2,3,4,5,6,7,8,9,10,11,12],[0.68421,-0.616601,0.144385,-0.484536,0.23913,0.255172,0.147679,-0.433962,0.18612,-0.255973,-0.089431,0.941392,0.122682])),\n",
              " LabeledPoint(1.0, (13,[0,1,2,3,4,5,6,7,8,9,10,11,12],[0.142105,-0.588933,-0.165775,-0.938144,-0.347826,0.151724,0.0210971,-0.509434,-0.451104,-0.47099,-0.0731708,0.56044,0.101284])),\n",
              " LabeledPoint(1.0, (13,[0,1,2,3,4,5,6,7,8,9,10,11,12],[0.121053,-0.359684,0.40107,-0.175258,-0.326087,0.255172,0.223629,-0.358491,0.514196,-0.249147,-0.105691,0.391941,0.293866])),\n",
              " LabeledPoint(1.0, (13,[0,1,2,3,4,5,6,7,8,9,10,11,12],[0.757895,-0.521739,0.219251,-0.360825,-0.0652174,0.97931,0.329114,-0.584906,0.116719,0.112628,-0.382114,0.59707,0.714693])),\n",
              " LabeledPoint(1.0, (13,[0,1,2,3,4,5,6,7,8,9,10,11,12],[0.163158,-0.268775,0.614973,0.0721649,0.0434783,0.255172,-0.00843878,-0.018868,-0.11041,-0.481229,-0.089431,0.216117,-0.348074]))]"
            ]
          },
          "metadata": {},
          "execution_count": 137
        }
      ]
    },
    {
      "cell_type": "code",
      "source": [
        "(trainingData, testData) = libsvmData.randomSplit([0.8,0.2])"
      ],
      "metadata": {
        "id": "NemZYiUbk476"
      },
      "execution_count": 138,
      "outputs": []
    },
    {
      "cell_type": "code",
      "source": [
        "libsvmmodel = DecisionTree.trainClassifier(trainingData,\n",
        "                                     numClasses=4, # there are classes 1,2,3 as wine makers , so should 1+greatest value\n",
        "                                     categoricalFeaturesInfo={},\n",
        "                                     impurity='gini',\n",
        "                                     maxDepth=5,\n",
        "                                     maxBins=32)"
      ],
      "metadata": {
        "id": "nek_BiF9lEuY"
      },
      "execution_count": 139,
      "outputs": []
    },
    {
      "cell_type": "code",
      "source": [
        "predictions = libsvmmodel.predict(testData.map(lambda x: x.features))"
      ],
      "metadata": {
        "id": "mF8wkkfJlTJB"
      },
      "execution_count": 140,
      "outputs": []
    },
    {
      "cell_type": "code",
      "source": [
        "labelsAndPredictions = testData.map(lambda x: x.label).zip(predictions)\n",
        "labelsAndPredictions.take(5)"
      ],
      "metadata": {
        "colab": {
          "base_uri": "https://localhost:8080/"
        },
        "id": "XG0BcBA4lbTw",
        "outputId": "fc0ae519-2f49-4cd9-a01d-57c8405d63b1"
      },
      "execution_count": 141,
      "outputs": [
        {
          "output_type": "execute_result",
          "data": {
            "text/plain": [
              "[(1.0, 1.0), (1.0, 1.0), (1.0, 2.0), (1.0, 1.0), (1.0, 1.0)]"
            ]
          },
          "metadata": {},
          "execution_count": 141
        }
      ]
    },
    {
      "cell_type": "code",
      "source": [
        "metrics = MulticlassMetrics(labelsAndPredictions)"
      ],
      "metadata": {
        "id": "nBge7r7hlhse"
      },
      "execution_count": 142,
      "outputs": []
    },
    {
      "cell_type": "code",
      "source": [
        "metrics.accuracy"
      ],
      "metadata": {
        "colab": {
          "base_uri": "https://localhost:8080/"
        },
        "id": "C1M09pwhlnf7",
        "outputId": "db96bd00-c008-49cb-94f0-820841482719"
      },
      "execution_count": 143,
      "outputs": [
        {
          "output_type": "execute_result",
          "data": {
            "text/plain": [
              "0.9459459459459459"
            ]
          },
          "metadata": {},
          "execution_count": 143
        }
      ]
    },
    {
      "cell_type": "code",
      "source": [
        "metrics.confusionMatrix().toArray()"
      ],
      "metadata": {
        "colab": {
          "base_uri": "https://localhost:8080/"
        },
        "id": "NQ9nwavplpGC",
        "outputId": "943de335-9663-4799-e672-da6ace9b67b7"
      },
      "execution_count": 144,
      "outputs": [
        {
          "output_type": "execute_result",
          "data": {
            "text/plain": [
              "array([[ 9.,  0.,  0.],\n",
              "       [ 1., 11.,  0.],\n",
              "       [ 0.,  1., 15.]])"
            ]
          },
          "metadata": {},
          "execution_count": 144
        }
      ]
    },
    {
      "cell_type": "code",
      "source": [
        "print(model.toDebugString())"
      ],
      "metadata": {
        "colab": {
          "base_uri": "https://localhost:8080/"
        },
        "id": "g6wQh9IkltuY",
        "outputId": "ac705f3d-cba7-4d96-b63c-9b8366121288"
      },
      "execution_count": 145,
      "outputs": [
        {
          "output_type": "stream",
          "name": "stdout",
          "text": [
            "DecisionTreeModel classifier of depth 3 with 9 nodes\n",
            "  If (feature 9 <= 3.3899999999999997)\n",
            "   Predict: 2.0\n",
            "  Else (feature 9 > 3.3899999999999997)\n",
            "   If (feature 6 <= 1.5950000000000002)\n",
            "    If (feature 3 <= 17.05)\n",
            "     Predict: 2.0\n",
            "    Else (feature 3 > 17.05)\n",
            "     Predict: 3.0\n",
            "   Else (feature 6 > 1.5950000000000002)\n",
            "    If (feature 12 <= 679.0)\n",
            "     Predict: 2.0\n",
            "    Else (feature 12 > 679.0)\n",
            "     Predict: 1.0\n",
            "\n"
          ]
        }
      ]
    },
    {
      "cell_type": "markdown",
      "source": [
        "# Using the newer Spark ml library"
      ],
      "metadata": {
        "id": "P5jX_U6jm2JI"
      }
    },
    {
      "cell_type": "code",
      "source": [
        " "
      ],
      "metadata": {
        "id": "q-_S6YlFly8J"
      },
      "execution_count": 145,
      "outputs": []
    },
    {
      "cell_type": "code",
      "source": [],
      "metadata": {
        "id": "P4gj4x1Py8F9"
      },
      "execution_count": 145,
      "outputs": []
    }
  ]
}