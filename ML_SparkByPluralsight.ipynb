{
  "nbformat": 4,
  "nbformat_minor": 0,
  "metadata": {
    "colab": {
      "provenance": [],
      "authorship_tag": "ABX9TyPSSKCvk19Dtiu3WQCXOMj7",
      "include_colab_link": true
    },
    "kernelspec": {
      "name": "python3",
      "display_name": "Python 3"
    },
    "language_info": {
      "name": "python"
    }
  },
  "cells": [
    {
      "cell_type": "markdown",
      "metadata": {
        "id": "view-in-github",
        "colab_type": "text"
      },
      "source": [
        "<a href=\"https://colab.research.google.com/github/manojmanivannan/ApacheSparkEssentials/blob/master/ML_SparkByPluralsight.ipynb\" target=\"_parent\"><img src=\"https://colab.research.google.com/assets/colab-badge.svg\" alt=\"Open In Colab\"/></a>"
      ]
    },
    {
      "cell_type": "markdown",
      "source": [
        "# Setup Environment"
      ],
      "metadata": {
        "id": "RDeXD6_GTIVO"
      }
    },
    {
      "cell_type": "code",
      "execution_count": 5,
      "metadata": {
        "colab": {
          "base_uri": "https://localhost:8080/"
        },
        "id": "9V6Ye7HxJMgU",
        "outputId": "db6d8f74-3e42-4a33-d52a-4274f83401a4"
      },
      "outputs": [
        {
          "output_type": "stream",
          "name": "stdout",
          "text": [
            "\n",
            "gzip: stdin: unexpected end of file\n",
            "tar: Unexpected EOF in archive\n",
            "tar: Unexpected EOF in archive\n",
            "tar: Error is not recoverable: exiting now\n",
            "Archive:  ngrok-stable-linux-amd64.zip\n",
            "replace ngrok? [y]es, [n]o, [A]ll, [N]one, [r]ename: y\n",
            "  inflating: ngrok                   \n",
            "\u001b[K     |████████████████████████████████| 281.4 MB 44 kB/s \n",
            "\u001b[K     |████████████████████████████████| 199 kB 60.1 MB/s \n",
            "\u001b[?25h  Building wheel for pyspark (setup.py) ... \u001b[?25l\u001b[?25hdone\n"
          ]
        }
      ],
      "source": [
        "# !apt-get update\n",
        "# !apt-get install -y openjdk-8-jdk-headless scala jq  > /dev/null\n",
        "# !wget -q http://archive.apache.org/dist/spark/spark-2.3.1/spark-2.3.1-bin-hadoop2.7.tgz\n",
        "# !tar xf spark-2.3.1-bin-hadoop2.7.tgz\n",
        "# !wget -q https://bin.equinox.io/c/4VmDzA7iaHb/ngrok-stable-linux-amd64.zip\n",
        "# !unzip ngrok-stable-linux-amd64.zip\n",
        "# !pip install -q pyspark findspark"
      ]
    },
    {
      "cell_type": "code",
      "source": [
        "import os\n",
        "os.environ[\"JAVA_HOME\"] = \"/usr/lib/jvm/java-8-openjdk-amd64\""
      ],
      "metadata": {
        "id": "X_fcmTEMKC9F"
      },
      "execution_count": 6,
      "outputs": []
    },
    {
      "cell_type": "code",
      "source": [
        "!python --version"
      ],
      "metadata": {
        "colab": {
          "base_uri": "https://localhost:8080/"
        },
        "id": "dOF2BCWEKDmo",
        "outputId": "80357fc5-6527-4d26-cd93-a27581e99ed5"
      },
      "execution_count": 7,
      "outputs": [
        {
          "output_type": "stream",
          "name": "stdout",
          "text": [
            "Python 3.8.15\n"
          ]
        }
      ]
    },
    {
      "cell_type": "code",
      "source": [
        "import findspark\n",
        "findspark.init()\n",
        "from pyspark.sql import SparkSession\n",
        "from pyspark import SparkContext, SparkConf\n",
        "\n",
        "# Spark session & context\n",
        "conf = SparkConf().set('spark.ui.port', '4050')\n",
        "try:\n",
        "  sc = SparkContext(conf=conf)\n",
        "except ValueError:\n",
        "  sc.stop()\n",
        "  sc = SparkContext(conf=conf)\n",
        "\n",
        "spark = SparkSession.builder.master('local[2]').getOrCreate()"
      ],
      "metadata": {
        "id": "QS4u5G4SLlHX"
      },
      "execution_count": 8,
      "outputs": []
    },
    {
      "cell_type": "code",
      "source": [
        "sc"
      ],
      "metadata": {
        "colab": {
          "base_uri": "https://localhost:8080/",
          "height": 196
        },
        "id": "djRSKqGNWP1m",
        "outputId": "f1b46029-bfef-4114-e3ab-45d0e15d6ffe"
      },
      "execution_count": 9,
      "outputs": [
        {
          "output_type": "execute_result",
          "data": {
            "text/plain": [
              "<SparkContext master=local[*] appName=pyspark-shell>"
            ],
            "text/html": [
              "\n",
              "        <div>\n",
              "            <p><b>SparkContext</b></p>\n",
              "\n",
              "            <p><a href=\"http://f1b4ecc0a1a2:4050\">Spark UI</a></p>\n",
              "\n",
              "            <dl>\n",
              "              <dt>Version</dt>\n",
              "                <dd><code>v3.3.1</code></dd>\n",
              "              <dt>Master</dt>\n",
              "                <dd><code>local[*]</code></dd>\n",
              "              <dt>AppName</dt>\n",
              "                <dd><code>pyspark-shell</code></dd>\n",
              "            </dl>\n",
              "        </div>\n",
              "        "
            ]
          },
          "metadata": {},
          "execution_count": 9
        }
      ]
    },
    {
      "cell_type": "code",
      "source": [],
      "metadata": {
        "id": "Yq-1L79sMffd"
      },
      "execution_count": 9,
      "outputs": []
    },
    {
      "cell_type": "code",
      "source": [
        "# create new token from ngrok\n",
        "get_ipython().system_raw('./ngrok authtoken 2Icy8FQ3TBbFTdCf8HdmTNg2Gna_7HwR9ytuwftMCCyeNoS4n')\n",
        "# revoke the token once you close the notebook\n",
        "get_ipython().system_raw('./ngrok http 4050 &')"
      ],
      "metadata": {
        "id": "PRh5keSDZ90p"
      },
      "execution_count": 10,
      "outputs": []
    },
    {
      "cell_type": "code",
      "source": [
        "!sleep 10 && curl -s http://localhost:4040/api/tunnels | python3 -c \"import sys, json; print(json.load(sys.stdin)['tunnels'][0]['public_url'])\""
      ],
      "metadata": {
        "colab": {
          "base_uri": "https://localhost:8080/"
        },
        "id": "ug4_2GU5V-IZ",
        "outputId": "630727bf-2de6-4ba9-ff70-ac71ad45f507"
      },
      "execution_count": 11,
      "outputs": [
        {
          "output_type": "stream",
          "name": "stdout",
          "text": [
            "https://facb-35-245-208-184.ngrok.io\n"
          ]
        }
      ]
    },
    {
      "cell_type": "code",
      "source": [
        "# Dataset\n",
        "# https://goo.gl/pSKLMJ or https://archive.ics.uci.edu/ml/datasets/wine\n"
      ],
      "metadata": {
        "id": "cx1iT-4QP0l3"
      },
      "execution_count": 12,
      "outputs": []
    },
    {
      "cell_type": "code",
      "source": [
        "rawData = sc.textFile('wine.data')"
      ],
      "metadata": {
        "id": "-HkhbtZBQwfy"
      },
      "execution_count": 13,
      "outputs": []
    },
    {
      "cell_type": "code",
      "source": [
        "rawData.take(5)"
      ],
      "metadata": {
        "colab": {
          "base_uri": "https://localhost:8080/"
        },
        "id": "M-p6wNmcZl58",
        "outputId": "24171668-b8b6-49b6-8ce9-7ebade3a738a"
      },
      "execution_count": 15,
      "outputs": [
        {
          "output_type": "execute_result",
          "data": {
            "text/plain": [
              "['1,14.23,1.71,2.43,15.6,127,2.8,3.06,.28,2.29,5.64,1.04,3.92,1065',\n",
              " '1,13.2,1.78,2.14,11.2,100,2.65,2.76,.26,1.28,4.38,1.05,3.4,1050',\n",
              " '1,13.16,2.36,2.67,18.6,101,2.8,3.24,.3,2.81,5.68,1.03,3.17,1185',\n",
              " '1,14.37,1.95,2.5,16.8,113,3.85,3.49,.24,2.18,7.8,.86,3.45,1480',\n",
              " '1,13.24,2.59,2.87,21,118,2.8,2.69,.39,1.82,4.32,1.04,2.93,735']"
            ]
          },
          "metadata": {},
          "execution_count": 15
        }
      ]
    },
    {
      "cell_type": "code",
      "source": [
        "# Column # \n",
        "# 0) - Wine maker 1,2 or 3\n",
        "# 1) Alcohol\n",
        "# 2) Malic acid\n",
        "# 3) Ash\n",
        "# 4) Alcalinity of ash\n",
        "# 5) Magnesium\n",
        "# 6) Total phenols\n",
        "# 7) Flavanoids\n",
        "# 8) Nonflavanoid phenols\n",
        "# 9) Proanthocyanins\n",
        "# 10)Color intensity\n",
        "# 11)Hue\n",
        "# 12)OD280/OD315 of diluted wines\n",
        "# 13)Proline"
      ],
      "metadata": {
        "id": "TYZeh6X7c9v1"
      },
      "execution_count": 16,
      "outputs": []
    },
    {
      "cell_type": "markdown",
      "source": [
        "# Using the older Spark mllib library"
      ],
      "metadata": {
        "id": "5NX94c1hmxBf"
      }
    },
    {
      "cell_type": "code",
      "source": [
        "from pyspark.mllib.regression import LabeledPoint\n",
        "\n",
        "def parsePoint(line):\n",
        "  values = [float(x) for x in line.split(',')]\n",
        "  return LabeledPoint(values[0],values[1:])\n"
      ],
      "metadata": {
        "id": "xQq4CmJ6db8v"
      },
      "execution_count": 17,
      "outputs": []
    },
    {
      "cell_type": "code",
      "source": [
        "parsedData = rawData.map(parsePoint)\n",
        "parsedData.take(5)"
      ],
      "metadata": {
        "colab": {
          "base_uri": "https://localhost:8080/"
        },
        "id": "mlpfZJCfeCxx",
        "outputId": "89913773-038b-44ea-af9f-a4520f99c004"
      },
      "execution_count": 18,
      "outputs": [
        {
          "output_type": "execute_result",
          "data": {
            "text/plain": [
              "[LabeledPoint(1.0, [14.23,1.71,2.43,15.6,127.0,2.8,3.06,0.28,2.29,5.64,1.04,3.92,1065.0]),\n",
              " LabeledPoint(1.0, [13.2,1.78,2.14,11.2,100.0,2.65,2.76,0.26,1.28,4.38,1.05,3.4,1050.0]),\n",
              " LabeledPoint(1.0, [13.16,2.36,2.67,18.6,101.0,2.8,3.24,0.3,2.81,5.68,1.03,3.17,1185.0]),\n",
              " LabeledPoint(1.0, [14.37,1.95,2.5,16.8,113.0,3.85,3.49,0.24,2.18,7.8,0.86,3.45,1480.0]),\n",
              " LabeledPoint(1.0, [13.24,2.59,2.87,21.0,118.0,2.8,2.69,0.39,1.82,4.32,1.04,2.93,735.0])]"
            ]
          },
          "metadata": {},
          "execution_count": 18
        }
      ]
    },
    {
      "cell_type": "code",
      "source": [
        "(trainingData, testData) = parsedData.randomSplit([0.7,0.3])"
      ],
      "metadata": {
        "id": "-yGlinIFeDH6"
      },
      "execution_count": 19,
      "outputs": []
    },
    {
      "cell_type": "code",
      "source": [
        "from pyspark.mllib.tree import DecisionTree\n",
        "\n",
        "model = DecisionTree.trainClassifier(trainingData,\n",
        "                                     numClasses=4, # there are classes 1,2,3 as wine makers , so should 1+greatest value\n",
        "                                     categoricalFeaturesInfo={},\n",
        "                                     impurity='gini',\n",
        "                                     maxDepth=3,\n",
        "                                     maxBins=32)"
      ],
      "metadata": {
        "id": "_RQ0FTkbePXD"
      },
      "execution_count": 20,
      "outputs": []
    },
    {
      "cell_type": "code",
      "source": [
        "predictions = model.predict(testData.map(lambda x: x.features))\n",
        "predictions.take(5)"
      ],
      "metadata": {
        "colab": {
          "base_uri": "https://localhost:8080/"
        },
        "id": "wigTY9w1eRrt",
        "outputId": "c2117f91-3000-431f-f7f0-600170aa67aa"
      },
      "execution_count": 21,
      "outputs": [
        {
          "output_type": "execute_result",
          "data": {
            "text/plain": [
              "[1.0, 1.0, 2.0, 2.0, 1.0]"
            ]
          },
          "metadata": {},
          "execution_count": 21
        }
      ]
    },
    {
      "cell_type": "code",
      "source": [
        "# compare predictions with actual labels\n",
        "labelsAndPredictions = testData.map(lambda x: x.label).zip(predictions)\n",
        "labelsAndPredictions.take(5)"
      ],
      "metadata": {
        "colab": {
          "base_uri": "https://localhost:8080/"
        },
        "id": "ZA34l2KjftRv",
        "outputId": "1ee09193-6a89-4dff-de25-6b91d2380740"
      },
      "execution_count": 22,
      "outputs": [
        {
          "output_type": "execute_result",
          "data": {
            "text/plain": [
              "[(1.0, 1.0), (1.0, 1.0), (1.0, 2.0), (1.0, 2.0), (1.0, 1.0)]"
            ]
          },
          "metadata": {},
          "execution_count": 22
        }
      ]
    },
    {
      "cell_type": "code",
      "source": [
        "testAcc = labelsAndPredictions\\\n",
        "                .filter(lambda x: x[0] == x[1])\\\n",
        "                .count() / float(testData.count())\n",
        "print('Test Accuracy = ', testAcc)                "
      ],
      "metadata": {
        "colab": {
          "base_uri": "https://localhost:8080/"
        },
        "id": "dtuG-1q-gDNV",
        "outputId": "5ab86fcf-9bbf-4322-e0b3-68747eca975b"
      },
      "execution_count": 23,
      "outputs": [
        {
          "output_type": "stream",
          "name": "stdout",
          "text": [
            "Test Accuracy =  0.8\n"
          ]
        }
      ]
    },
    {
      "cell_type": "code",
      "source": [
        "# we have a built-in function for evaluating metrics\n",
        "from pyspark.mllib.evaluation import MulticlassMetrics\n",
        "\n",
        "metrics = MulticlassMetrics(labelsAndPredictions)"
      ],
      "metadata": {
        "id": "i2gQ9Tf7glM6",
        "colab": {
          "base_uri": "https://localhost:8080/"
        },
        "outputId": "a1610d92-a83e-4c6e-d60b-0f17058d3e1f"
      },
      "execution_count": 24,
      "outputs": [
        {
          "output_type": "stream",
          "name": "stderr",
          "text": [
            "/usr/local/lib/python3.8/dist-packages/pyspark/sql/context.py:157: FutureWarning: Deprecated in 3.0.0. Use SparkSession.builder.getOrCreate() instead.\n",
            "  warnings.warn(\n"
          ]
        }
      ]
    },
    {
      "cell_type": "code",
      "source": [
        "metrics.accuracy"
      ],
      "metadata": {
        "colab": {
          "base_uri": "https://localhost:8080/"
        },
        "id": "9-_rNpKIg7zz",
        "outputId": "a3b4e216-17c4-4167-8c5f-9fc65b56d1b8"
      },
      "execution_count": 25,
      "outputs": [
        {
          "output_type": "execute_result",
          "data": {
            "text/plain": [
              "0.8"
            ]
          },
          "metadata": {},
          "execution_count": 25
        }
      ]
    },
    {
      "cell_type": "code",
      "source": [
        "metrics.precision(1.0)"
      ],
      "metadata": {
        "colab": {
          "base_uri": "https://localhost:8080/"
        },
        "id": "otS6fdksg9cO",
        "outputId": "80c3acad-0b5e-482f-d49b-b04118746176"
      },
      "execution_count": 26,
      "outputs": [
        {
          "output_type": "execute_result",
          "data": {
            "text/plain": [
              "0.5714285714285714"
            ]
          },
          "metadata": {},
          "execution_count": 26
        }
      ]
    },
    {
      "cell_type": "code",
      "source": [
        "metrics.precision(3.0)"
      ],
      "metadata": {
        "colab": {
          "base_uri": "https://localhost:8080/"
        },
        "id": "EWPdeVRthIYj",
        "outputId": "26674d7b-9cc6-4bf1-9b27-83c1ec82e118"
      },
      "execution_count": 27,
      "outputs": [
        {
          "output_type": "execute_result",
          "data": {
            "text/plain": [
              "1.0"
            ]
          },
          "metadata": {},
          "execution_count": 27
        }
      ]
    },
    {
      "cell_type": "code",
      "source": [
        "metrics.confusionMatrix().toArray()"
      ],
      "metadata": {
        "colab": {
          "base_uri": "https://localhost:8080/"
        },
        "id": "k276ZlKXhYmt",
        "outputId": "4bfacb0a-b418-43a7-e589-88d307b74224"
      },
      "execution_count": 28,
      "outputs": [
        {
          "output_type": "execute_result",
          "data": {
            "text/plain": [
              "array([[ 8.,  0.,  0.],\n",
              "       [ 5., 20.,  0.],\n",
              "       [ 1.,  3.,  8.]])"
            ]
          },
          "metadata": {},
          "execution_count": 28
        }
      ]
    },
    {
      "cell_type": "code",
      "source": [
        "# to view the decision tree\n",
        "print(model.toDebugString())"
      ],
      "metadata": {
        "colab": {
          "base_uri": "https://localhost:8080/"
        },
        "id": "hK238SNQhcuJ",
        "outputId": "bb862692-8297-42d1-f1b9-44fd9313020c"
      },
      "execution_count": 29,
      "outputs": [
        {
          "output_type": "stream",
          "name": "stdout",
          "text": [
            "DecisionTreeModel classifier of depth 3 with 11 nodes\n",
            "  If (feature 12 <= 961.0)\n",
            "   If (feature 6 <= 1.2650000000000001)\n",
            "    If (feature 9 <= 3.065)\n",
            "     Predict: 2.0\n",
            "    Else (feature 9 > 3.065)\n",
            "     Predict: 3.0\n",
            "   Else (feature 6 > 1.2650000000000001)\n",
            "    If (feature 9 <= 6.05)\n",
            "     Predict: 2.0\n",
            "    Else (feature 9 > 6.05)\n",
            "     Predict: 3.0\n",
            "  Else (feature 12 > 961.0)\n",
            "   If (feature 0 <= 13.01)\n",
            "    Predict: 2.0\n",
            "   Else (feature 0 > 13.01)\n",
            "    Predict: 1.0\n",
            "\n"
          ]
        }
      ]
    },
    {
      "cell_type": "markdown",
      "source": [
        "# LIBSVM data format"
      ],
      "metadata": {
        "id": "33pYFZTYialx"
      }
    },
    {
      "cell_type": "markdown",
      "source": [
        "Each row in a dataset, has a label and features.\n",
        "Features are referred as index.\n",
        "i.e, index1 => feature1\n",
        "so a record is represented as\n",
        "\n",
        "| label | index1:value1 | index2:value2 | index3:value3 | ... |\n",
        "|-------|---------------|---------------|---------------|-----|\n",
        "| 0     | 1:324         | 2:332         | 3:12          | ... |\n",
        "| 1     | 1:455         | 2:213         | 3:85          | ... |\n",
        "| 0     | 1:344         | 2:165         |               | ... |\n",
        "\n",
        "missing feature can be represented by simply omitting them.\n"
      ],
      "metadata": {
        "id": "D3gNWsxTifDP"
      }
    },
    {
      "cell_type": "code",
      "source": [
        "from pyspark.mllib.util import MLUtils\n",
        "# dataset https://www.csie.ntu.edu.tw/~cjlin/libsvmtools/datasets/multiclass/wine.scale\n",
        "libsvmData = MLUtils.loadLibSVMFile(sc, 'wine.scale')"
      ],
      "metadata": {
        "id": "CHVqt-89hfz4"
      },
      "execution_count": 30,
      "outputs": []
    },
    {
      "cell_type": "code",
      "source": [
        "libsvmData.take(5)"
      ],
      "metadata": {
        "colab": {
          "base_uri": "https://localhost:8080/"
        },
        "id": "VoSrdnPNk2r8",
        "outputId": "fa571bff-4982-489f-ad71-f7e8f6ff2dfd"
      },
      "execution_count": 31,
      "outputs": [
        {
          "output_type": "execute_result",
          "data": {
            "text/plain": [
              "[LabeledPoint(1.0, (13,[0,1,2,3,4,5,6,7,8,9,10,11,12],[0.68421,-0.616601,0.144385,-0.484536,0.23913,0.255172,0.147679,-0.433962,0.18612,-0.255973,-0.089431,0.941392,0.122682])),\n",
              " LabeledPoint(1.0, (13,[0,1,2,3,4,5,6,7,8,9,10,11,12],[0.142105,-0.588933,-0.165775,-0.938144,-0.347826,0.151724,0.0210971,-0.509434,-0.451104,-0.47099,-0.0731708,0.56044,0.101284])),\n",
              " LabeledPoint(1.0, (13,[0,1,2,3,4,5,6,7,8,9,10,11,12],[0.121053,-0.359684,0.40107,-0.175258,-0.326087,0.255172,0.223629,-0.358491,0.514196,-0.249147,-0.105691,0.391941,0.293866])),\n",
              " LabeledPoint(1.0, (13,[0,1,2,3,4,5,6,7,8,9,10,11,12],[0.757895,-0.521739,0.219251,-0.360825,-0.0652174,0.97931,0.329114,-0.584906,0.116719,0.112628,-0.382114,0.59707,0.714693])),\n",
              " LabeledPoint(1.0, (13,[0,1,2,3,4,5,6,7,8,9,10,11,12],[0.163158,-0.268775,0.614973,0.0721649,0.0434783,0.255172,-0.00843878,-0.018868,-0.11041,-0.481229,-0.089431,0.216117,-0.348074]))]"
            ]
          },
          "metadata": {},
          "execution_count": 31
        }
      ]
    },
    {
      "cell_type": "code",
      "source": [
        "(trainingData, testData) = libsvmData.randomSplit([0.8,0.2])"
      ],
      "metadata": {
        "id": "NemZYiUbk476"
      },
      "execution_count": 32,
      "outputs": []
    },
    {
      "cell_type": "code",
      "source": [
        "libsvmmodel = DecisionTree.trainClassifier(trainingData,\n",
        "                                     numClasses=4, # there are classes 1,2,3 as wine makers , so should 1+greatest value\n",
        "                                     categoricalFeaturesInfo={},\n",
        "                                     impurity='gini',\n",
        "                                     maxDepth=5,\n",
        "                                     maxBins=32)"
      ],
      "metadata": {
        "id": "nek_BiF9lEuY"
      },
      "execution_count": 33,
      "outputs": []
    },
    {
      "cell_type": "code",
      "source": [
        "predictions = libsvmmodel.predict(testData.map(lambda x: x.features))"
      ],
      "metadata": {
        "id": "mF8wkkfJlTJB"
      },
      "execution_count": 34,
      "outputs": []
    },
    {
      "cell_type": "code",
      "source": [
        "labelsAndPredictions = testData.map(lambda x: x.label).zip(predictions)\n",
        "labelsAndPredictions.take(5)"
      ],
      "metadata": {
        "colab": {
          "base_uri": "https://localhost:8080/"
        },
        "id": "XG0BcBA4lbTw",
        "outputId": "e9373fc8-fc4c-451b-f5e2-dbb063cc237d"
      },
      "execution_count": 35,
      "outputs": [
        {
          "output_type": "execute_result",
          "data": {
            "text/plain": [
              "[(1.0, 1.0), (1.0, 1.0), (1.0, 1.0), (1.0, 1.0), (1.0, 1.0)]"
            ]
          },
          "metadata": {},
          "execution_count": 35
        }
      ]
    },
    {
      "cell_type": "code",
      "source": [
        "metrics = MulticlassMetrics(labelsAndPredictions)"
      ],
      "metadata": {
        "id": "nBge7r7hlhse",
        "colab": {
          "base_uri": "https://localhost:8080/"
        },
        "outputId": "cf06d5ea-9181-4c36-8f4d-c3beb17df541"
      },
      "execution_count": 36,
      "outputs": [
        {
          "output_type": "stream",
          "name": "stderr",
          "text": [
            "/usr/local/lib/python3.8/dist-packages/pyspark/sql/context.py:157: FutureWarning: Deprecated in 3.0.0. Use SparkSession.builder.getOrCreate() instead.\n",
            "  warnings.warn(\n"
          ]
        }
      ]
    },
    {
      "cell_type": "code",
      "source": [
        "metrics.accuracy"
      ],
      "metadata": {
        "colab": {
          "base_uri": "https://localhost:8080/"
        },
        "id": "C1M09pwhlnf7",
        "outputId": "96c2e57f-24dd-4fbe-c48c-ac638570c158"
      },
      "execution_count": 37,
      "outputs": [
        {
          "output_type": "execute_result",
          "data": {
            "text/plain": [
              "0.8717948717948718"
            ]
          },
          "metadata": {},
          "execution_count": 37
        }
      ]
    },
    {
      "cell_type": "code",
      "source": [
        "metrics.confusionMatrix().toArray()"
      ],
      "metadata": {
        "colab": {
          "base_uri": "https://localhost:8080/"
        },
        "id": "NQ9nwavplpGC",
        "outputId": "16b1f7a6-1474-445b-c0e9-1905268c587a"
      },
      "execution_count": 38,
      "outputs": [
        {
          "output_type": "execute_result",
          "data": {
            "text/plain": [
              "array([[10.,  1.,  0.],\n",
              "       [ 0., 12.,  4.],\n",
              "       [ 0.,  0., 12.]])"
            ]
          },
          "metadata": {},
          "execution_count": 38
        }
      ]
    },
    {
      "cell_type": "code",
      "source": [
        "print(model.toDebugString())"
      ],
      "metadata": {
        "colab": {
          "base_uri": "https://localhost:8080/"
        },
        "id": "g6wQh9IkltuY",
        "outputId": "d01c7151-fc92-46d0-b7f7-d733670e03ae"
      },
      "execution_count": 39,
      "outputs": [
        {
          "output_type": "stream",
          "name": "stdout",
          "text": [
            "DecisionTreeModel classifier of depth 3 with 11 nodes\n",
            "  If (feature 12 <= 961.0)\n",
            "   If (feature 6 <= 1.2650000000000001)\n",
            "    If (feature 9 <= 3.065)\n",
            "     Predict: 2.0\n",
            "    Else (feature 9 > 3.065)\n",
            "     Predict: 3.0\n",
            "   Else (feature 6 > 1.2650000000000001)\n",
            "    If (feature 9 <= 6.05)\n",
            "     Predict: 2.0\n",
            "    Else (feature 9 > 6.05)\n",
            "     Predict: 3.0\n",
            "  Else (feature 12 > 961.0)\n",
            "   If (feature 0 <= 13.01)\n",
            "    Predict: 2.0\n",
            "   Else (feature 0 > 13.01)\n",
            "    Predict: 1.0\n",
            "\n"
          ]
        }
      ]
    },
    {
      "cell_type": "markdown",
      "source": [
        "# Using the newer Spark ml library"
      ],
      "metadata": {
        "id": "P5jX_U6jm2JI"
      }
    },
    {
      "cell_type": "code",
      "source": [
        " rawData = spark.read\\\n",
        "                .format('csv')\\\n",
        "                .option('header','false')\\\n",
        "                .load('wine.data')"
      ],
      "metadata": {
        "id": "q-_S6YlFly8J"
      },
      "execution_count": 40,
      "outputs": []
    },
    {
      "cell_type": "code",
      "source": [
        "rawData"
      ],
      "metadata": {
        "colab": {
          "base_uri": "https://localhost:8080/"
        },
        "id": "07MbpehFUJVT",
        "outputId": "ed20b139-9126-4255-b061-c91c3c064c81"
      },
      "execution_count": 41,
      "outputs": [
        {
          "output_type": "execute_result",
          "data": {
            "text/plain": [
              "DataFrame[_c0: string, _c1: string, _c2: string, _c3: string, _c4: string, _c5: string, _c6: string, _c7: string, _c8: string, _c9: string, _c10: string, _c11: string, _c12: string, _c13: string]"
            ]
          },
          "metadata": {},
          "execution_count": 41
        }
      ]
    },
    {
      "cell_type": "code",
      "source": [
        "rawData.show(5)"
      ],
      "metadata": {
        "id": "P4gj4x1Py8F9",
        "colab": {
          "base_uri": "https://localhost:8080/"
        },
        "outputId": "e6fcc684-b8e1-4d0b-dcbc-c964c905496e"
      },
      "execution_count": 42,
      "outputs": [
        {
          "output_type": "stream",
          "name": "stdout",
          "text": [
            "+---+-----+----+----+----+---+----+----+---+----+----+----+----+----+\n",
            "|_c0|  _c1| _c2| _c3| _c4|_c5| _c6| _c7|_c8| _c9|_c10|_c11|_c12|_c13|\n",
            "+---+-----+----+----+----+---+----+----+---+----+----+----+----+----+\n",
            "|  1|14.23|1.71|2.43|15.6|127| 2.8|3.06|.28|2.29|5.64|1.04|3.92|1065|\n",
            "|  1| 13.2|1.78|2.14|11.2|100|2.65|2.76|.26|1.28|4.38|1.05| 3.4|1050|\n",
            "|  1|13.16|2.36|2.67|18.6|101| 2.8|3.24| .3|2.81|5.68|1.03|3.17|1185|\n",
            "|  1|14.37|1.95| 2.5|16.8|113|3.85|3.49|.24|2.18| 7.8| .86|3.45|1480|\n",
            "|  1|13.24|2.59|2.87|  21|118| 2.8|2.69|.39|1.82|4.32|1.04|2.93| 735|\n",
            "+---+-----+----+----+----+---+----+----+---+----+----+----+----+----+\n",
            "only showing top 5 rows\n",
            "\n"
          ]
        }
      ]
    },
    {
      "cell_type": "code",
      "source": [
        "dataset = rawData.toDF('Label',\n",
        "                      'Alcohol',\n",
        "                      'MalicAcid',\n",
        "                      'Ash',\n",
        "                      'AshAlkalinity',\n",
        "                      'Magnesium',\n",
        "                      'TotalPhenols',\n",
        "                      'Flavanoids',\n",
        "                      'NonflavanoidPhenols',\n",
        "                      'Proanthocyanin',\n",
        "                      'ColorIntensity',\n",
        "                      'Hue',\n",
        "                      'OD',\n",
        "                      'Proline')"
      ],
      "metadata": {
        "id": "hs5wD37WUTis"
      },
      "execution_count": 43,
      "outputs": []
    },
    {
      "cell_type": "code",
      "source": [
        "dataset"
      ],
      "metadata": {
        "colab": {
          "base_uri": "https://localhost:8080/"
        },
        "id": "yB4qWN4zU8M1",
        "outputId": "fd7dad56-7c13-499f-ad97-02195106c3fe"
      },
      "execution_count": 44,
      "outputs": [
        {
          "output_type": "execute_result",
          "data": {
            "text/plain": [
              "DataFrame[Label: string, Alcohol: string, MalicAcid: string, Ash: string, AshAlkalinity: string, Magnesium: string, TotalPhenols: string, Flavanoids: string, NonflavanoidPhenols: string, Proanthocyanin: string, ColorIntensity: string, Hue: string, OD: string, Proline: string]"
            ]
          },
          "metadata": {},
          "execution_count": 44
        }
      ]
    },
    {
      "cell_type": "code",
      "source": [
        "dataset.show(5)"
      ],
      "metadata": {
        "colab": {
          "base_uri": "https://localhost:8080/"
        },
        "id": "32f_g6YQU9sw",
        "outputId": "c8d8b923-5117-4e77-a944-4609cc5999b3"
      },
      "execution_count": 45,
      "outputs": [
        {
          "output_type": "stream",
          "name": "stdout",
          "text": [
            "+-----+-------+---------+----+-------------+---------+------------+----------+-------------------+--------------+--------------+----+----+-------+\n",
            "|Label|Alcohol|MalicAcid| Ash|AshAlkalinity|Magnesium|TotalPhenols|Flavanoids|NonflavanoidPhenols|Proanthocyanin|ColorIntensity| Hue|  OD|Proline|\n",
            "+-----+-------+---------+----+-------------+---------+------------+----------+-------------------+--------------+--------------+----+----+-------+\n",
            "|    1|  14.23|     1.71|2.43|         15.6|      127|         2.8|      3.06|                .28|          2.29|          5.64|1.04|3.92|   1065|\n",
            "|    1|   13.2|     1.78|2.14|         11.2|      100|        2.65|      2.76|                .26|          1.28|          4.38|1.05| 3.4|   1050|\n",
            "|    1|  13.16|     2.36|2.67|         18.6|      101|         2.8|      3.24|                 .3|          2.81|          5.68|1.03|3.17|   1185|\n",
            "|    1|  14.37|     1.95| 2.5|         16.8|      113|        3.85|      3.49|                .24|          2.18|           7.8| .86|3.45|   1480|\n",
            "|    1|  13.24|     2.59|2.87|           21|      118|         2.8|      2.69|                .39|          1.82|          4.32|1.04|2.93|    735|\n",
            "+-----+-------+---------+----+-------------+---------+------------+----------+-------------------+--------------+--------------+----+----+-------+\n",
            "only showing top 5 rows\n",
            "\n"
          ]
        }
      ]
    },
    {
      "cell_type": "code",
      "source": [
        "from pyspark.ml.linalg import Vectors\n",
        "\n",
        "def vectorize(data):\n",
        "  return data.rdd.map(lambda r: [r[0], Vectors.dense(r[1:])]).toDF(['label','features'])\n",
        "  "
      ],
      "metadata": {
        "id": "uNLRLiSIVAL-"
      },
      "execution_count": 46,
      "outputs": []
    },
    {
      "cell_type": "code",
      "source": [
        "vectorizedData = vectorize(dataset)"
      ],
      "metadata": {
        "id": "ZgwtjK4OVh_S"
      },
      "execution_count": 47,
      "outputs": []
    },
    {
      "cell_type": "code",
      "source": [
        "vectorizedData.show(5)"
      ],
      "metadata": {
        "colab": {
          "base_uri": "https://localhost:8080/"
        },
        "id": "5YEAur0AVl4N",
        "outputId": "efd52de6-a3e9-4aae-9bae-e96be0afd773"
      },
      "execution_count": 48,
      "outputs": [
        {
          "output_type": "stream",
          "name": "stdout",
          "text": [
            "+-----+--------------------+\n",
            "|label|            features|\n",
            "+-----+--------------------+\n",
            "|    1|[14.23,1.71,2.43,...|\n",
            "|    1|[13.2,1.78,2.14,1...|\n",
            "|    1|[13.16,2.36,2.67,...|\n",
            "|    1|[14.37,1.95,2.5,1...|\n",
            "|    1|[13.24,2.59,2.87,...|\n",
            "+-----+--------------------+\n",
            "only showing top 5 rows\n",
            "\n"
          ]
        }
      ]
    },
    {
      "cell_type": "code",
      "source": [
        "vectorizedData.take(5)"
      ],
      "metadata": {
        "colab": {
          "base_uri": "https://localhost:8080/"
        },
        "id": "dRZuFxgEVn2z",
        "outputId": "5e55b321-ee65-4548-be84-788aa8e6c806"
      },
      "execution_count": 49,
      "outputs": [
        {
          "output_type": "execute_result",
          "data": {
            "text/plain": [
              "[Row(label='1', features=DenseVector([14.23, 1.71, 2.43, 15.6, 127.0, 2.8, 3.06, 0.28, 2.29, 5.64, 1.04, 3.92, 1065.0])),\n",
              " Row(label='1', features=DenseVector([13.2, 1.78, 2.14, 11.2, 100.0, 2.65, 2.76, 0.26, 1.28, 4.38, 1.05, 3.4, 1050.0])),\n",
              " Row(label='1', features=DenseVector([13.16, 2.36, 2.67, 18.6, 101.0, 2.8, 3.24, 0.3, 2.81, 5.68, 1.03, 3.17, 1185.0])),\n",
              " Row(label='1', features=DenseVector([14.37, 1.95, 2.5, 16.8, 113.0, 3.85, 3.49, 0.24, 2.18, 7.8, 0.86, 3.45, 1480.0])),\n",
              " Row(label='1', features=DenseVector([13.24, 2.59, 2.87, 21.0, 118.0, 2.8, 2.69, 0.39, 1.82, 4.32, 1.04, 2.93, 735.0]))]"
            ]
          },
          "metadata": {},
          "execution_count": 49
        }
      ]
    },
    {
      "cell_type": "code",
      "source": [
        "from pyspark.ml.feature import StringIndexer\n",
        "\n",
        "labelIndexer = StringIndexer(inputCol='label', outputCol='indexedLabel')"
      ],
      "metadata": {
        "id": "70QRV6HkVt46"
      },
      "execution_count": 50,
      "outputs": []
    },
    {
      "cell_type": "code",
      "source": [
        "indexedData = labelIndexer.fit(vectorizedData).transform(vectorizedData)\n",
        "indexedData.take(2)"
      ],
      "metadata": {
        "colab": {
          "base_uri": "https://localhost:8080/"
        },
        "id": "8CMU7n-IWCz-",
        "outputId": "00fd95f0-51eb-437c-cb6f-cf081f1ad9e3"
      },
      "execution_count": 51,
      "outputs": [
        {
          "output_type": "execute_result",
          "data": {
            "text/plain": [
              "[Row(label='1', features=DenseVector([14.23, 1.71, 2.43, 15.6, 127.0, 2.8, 3.06, 0.28, 2.29, 5.64, 1.04, 3.92, 1065.0]), indexedLabel=1.0),\n",
              " Row(label='1', features=DenseVector([13.2, 1.78, 2.14, 11.2, 100.0, 2.65, 2.76, 0.26, 1.28, 4.38, 1.05, 3.4, 1050.0]), indexedLabel=1.0)]"
            ]
          },
          "metadata": {},
          "execution_count": 51
        }
      ]
    },
    {
      "cell_type": "code",
      "source": [
        "indexedData"
      ],
      "metadata": {
        "colab": {
          "base_uri": "https://localhost:8080/"
        },
        "id": "ED48_aG_WF9I",
        "outputId": "95499753-e6b8-41eb-a64e-f1bfe74ae841"
      },
      "execution_count": 52,
      "outputs": [
        {
          "output_type": "execute_result",
          "data": {
            "text/plain": [
              "DataFrame[label: string, features: vector, indexedLabel: double]"
            ]
          },
          "metadata": {},
          "execution_count": 52
        }
      ]
    },
    {
      "cell_type": "code",
      "source": [
        "indexedData.select('label').distinct().show()"
      ],
      "metadata": {
        "colab": {
          "base_uri": "https://localhost:8080/"
        },
        "id": "h2PzFMX1XPlF",
        "outputId": "67fbf5bb-8e3d-4c6e-9403-87e68c328e76"
      },
      "execution_count": 53,
      "outputs": [
        {
          "output_type": "stream",
          "name": "stdout",
          "text": [
            "+-----+\n",
            "|label|\n",
            "+-----+\n",
            "|    3|\n",
            "|    1|\n",
            "|    2|\n",
            "+-----+\n",
            "\n"
          ]
        }
      ]
    },
    {
      "cell_type": "code",
      "source": [
        "indexedData.select('indexedLabel').distinct().show()"
      ],
      "metadata": {
        "colab": {
          "base_uri": "https://localhost:8080/"
        },
        "id": "KEwgLAGxXT7n",
        "outputId": "8031fd7e-b582-4953-e8d8-0b474540d501"
      },
      "execution_count": 54,
      "outputs": [
        {
          "output_type": "stream",
          "name": "stdout",
          "text": [
            "+------------+\n",
            "|indexedLabel|\n",
            "+------------+\n",
            "|         0.0|\n",
            "|         1.0|\n",
            "|         2.0|\n",
            "+------------+\n",
            "\n"
          ]
        }
      ]
    },
    {
      "cell_type": "code",
      "source": [
        "(trainingData, testData) = indexedData.randomSplit([0.8,0.2])"
      ],
      "metadata": {
        "id": "3nWVTePLXepK"
      },
      "execution_count": 55,
      "outputs": []
    },
    {
      "cell_type": "code",
      "source": [
        "from pyspark.ml.classification import DecisionTreeClassifier\n",
        "\n",
        "dtree = DecisionTreeClassifier(\n",
        "    labelCol='indexedLabel',\n",
        "    featuresCol='features',\n",
        "    maxDepth=3,\n",
        "    impurity='gini'\n",
        ")"
      ],
      "metadata": {
        "id": "ZHDtHlffX2yl"
      },
      "execution_count": 56,
      "outputs": []
    },
    {
      "cell_type": "code",
      "source": [
        "model = dtree.fit(trainingData)"
      ],
      "metadata": {
        "id": "QEpNq4RBYHzB"
      },
      "execution_count": 57,
      "outputs": []
    },
    {
      "cell_type": "code",
      "source": [
        "from pyspark.ml.evaluation import MulticlassClassificationEvaluator\n",
        "\n",
        "evaluator = MulticlassClassificationEvaluator(labelCol='indexedLabel',\n",
        "                                              predictionCol='prediction',\n",
        "                                              metricName='f1')"
      ],
      "metadata": {
        "id": "A_XsuCgeYMfI"
      },
      "execution_count": 58,
      "outputs": []
    },
    {
      "cell_type": "code",
      "source": [
        "transformed_data = model.transform(testData)\n",
        "transformed_data.show(5,truncate=False)"
      ],
      "metadata": {
        "colab": {
          "base_uri": "https://localhost:8080/"
        },
        "id": "lHngHTiPYjTB",
        "outputId": "2fb079e5-7650-4994-d5e2-187ef64699b2"
      },
      "execution_count": 59,
      "outputs": [
        {
          "output_type": "stream",
          "name": "stdout",
          "text": [
            "+-----+---------------------------------------------------------------------+------------+--------------+---------------------------------------------+----------+\n",
            "|label|features                                                             |indexedLabel|rawPrediction |probability                                  |prediction|\n",
            "+-----+---------------------------------------------------------------------+------------+--------------+---------------------------------------------+----------+\n",
            "|1    |[13.16,2.36,2.67,18.6,101.0,2.8,3.24,0.3,2.81,5.68,1.03,3.17,1185.0] |1.0         |[0.0,45.0,0.0]|[0.0,1.0,0.0]                                |1.0       |\n",
            "|1    |[13.24,2.59,2.87,21.0,118.0,2.8,2.69,0.39,1.82,4.32,1.04,2.93,735.0] |1.0         |[43.0,2.0,0.0]|[0.9555555555555556,0.044444444444444446,0.0]|0.0       |\n",
            "|1    |[13.39,1.77,2.62,16.1,93.0,2.85,2.94,0.34,1.45,4.8,0.92,3.22,1195.0] |1.0         |[0.0,45.0,0.0]|[0.0,1.0,0.0]                                |1.0       |\n",
            "|1    |[13.51,1.8,2.65,19.0,110.0,2.35,2.53,0.29,1.54,4.2,1.1,2.87,1095.0]  |1.0         |[0.0,45.0,0.0]|[0.0,1.0,0.0]                                |1.0       |\n",
            "|1    |[13.58,1.66,2.36,19.1,106.0,2.86,3.19,0.22,1.95,6.9,1.09,2.88,1515.0]|1.0         |[0.0,45.0,0.0]|[0.0,1.0,0.0]                                |1.0       |\n",
            "+-----+---------------------------------------------------------------------+------------+--------------+---------------------------------------------+----------+\n",
            "only showing top 5 rows\n",
            "\n"
          ]
        }
      ]
    },
    {
      "cell_type": "code",
      "source": [
        "print(evaluator.getMetricName(),\n",
        "      'accuracy: ',\n",
        "      evaluator.evaluate(transformed_data))"
      ],
      "metadata": {
        "colab": {
          "base_uri": "https://localhost:8080/"
        },
        "id": "1cpLxv4kY2ID",
        "outputId": "36f707d6-474c-4e44-96cd-536119d662cd"
      },
      "execution_count": 60,
      "outputs": [
        {
          "output_type": "stream",
          "name": "stdout",
          "text": [
            "f1 accuracy:  0.883798708874543\n"
          ]
        }
      ]
    },
    {
      "cell_type": "markdown",
      "source": [
        "# Random Forest ML"
      ],
      "metadata": {
        "id": "Ds8Xw2I1bidV"
      }
    },
    {
      "cell_type": "code",
      "source": [
        "rawData = spark.read\\\n",
        "                .format('csv')\\\n",
        "                .option('header','false')\\\n",
        "                .option('ignoreLeadingWhiteSpace','true')\\\n",
        "                .load('adult.csv')"
      ],
      "metadata": {
        "id": "0EXndyn1ZUZt"
      },
      "execution_count": 61,
      "outputs": []
    },
    {
      "cell_type": "code",
      "source": [
        "dataset = rawData.toDF('Age',\n",
        "                       'WorkClass',\n",
        "                       'FnlWgt',\n",
        "                       'Education',\n",
        "                       'EducationNum',\n",
        "                       'MaritalStatus',\n",
        "                       'Occupation',\n",
        "                       'Relationship',\n",
        "                       'Race',\n",
        "                       'Gender',\n",
        "                       'CapitalGain',\n",
        "                       'CapitalLoss',\n",
        "                       'HoursPerWeek',\n",
        "                       'NativeCountry',\n",
        "                       'Label')"
      ],
      "metadata": {
        "id": "JgiWBSCub1Ij"
      },
      "execution_count": 62,
      "outputs": []
    },
    {
      "cell_type": "code",
      "source": [
        "dataset.take(5)"
      ],
      "metadata": {
        "colab": {
          "base_uri": "https://localhost:8080/"
        },
        "id": "zAoUklqDb3mJ",
        "outputId": "63f8b947-4cf9-4071-cfd2-aed70e4a55bc"
      },
      "execution_count": 63,
      "outputs": [
        {
          "output_type": "execute_result",
          "data": {
            "text/plain": [
              "[Row(Age='39', WorkClass='State-gov', FnlWgt='77516', Education='Bachelors', EducationNum='13', MaritalStatus='Never-married', Occupation='Adm-clerical', Relationship='Not-in-family', Race='White', Gender='Male', CapitalGain='2174', CapitalLoss='0', HoursPerWeek='40', NativeCountry='United-States', Label='<=50K'),\n",
              " Row(Age='50', WorkClass='Self-emp-not-inc', FnlWgt='83311', Education='Bachelors', EducationNum='13', MaritalStatus='Married-civ-spouse', Occupation='Exec-managerial', Relationship='Husband', Race='White', Gender='Male', CapitalGain='0', CapitalLoss='0', HoursPerWeek='13', NativeCountry='United-States', Label='<=50K'),\n",
              " Row(Age='38', WorkClass='Private', FnlWgt='215646', Education='HS-grad', EducationNum='9', MaritalStatus='Divorced', Occupation='Handlers-cleaners', Relationship='Not-in-family', Race='White', Gender='Male', CapitalGain='0', CapitalLoss='0', HoursPerWeek='40', NativeCountry='United-States', Label='<=50K'),\n",
              " Row(Age='53', WorkClass='Private', FnlWgt='234721', Education='11th', EducationNum='7', MaritalStatus='Married-civ-spouse', Occupation='Handlers-cleaners', Relationship='Husband', Race='Black', Gender='Male', CapitalGain='0', CapitalLoss='0', HoursPerWeek='40', NativeCountry='United-States', Label='<=50K'),\n",
              " Row(Age='28', WorkClass='Private', FnlWgt='338409', Education='Bachelors', EducationNum='13', MaritalStatus='Married-civ-spouse', Occupation='Prof-specialty', Relationship='Wife', Race='Black', Gender='Female', CapitalGain='0', CapitalLoss='0', HoursPerWeek='40', NativeCountry='Cuba', Label='<=50K')]"
            ]
          },
          "metadata": {},
          "execution_count": 63
        }
      ]
    },
    {
      "cell_type": "code",
      "source": [
        "dataset.toPandas().head()"
      ],
      "metadata": {
        "colab": {
          "base_uri": "https://localhost:8080/",
          "height": 357
        },
        "id": "demBzervcq_G",
        "outputId": "1dd194d4-779e-4139-9618-1cdd201d271b"
      },
      "execution_count": 64,
      "outputs": [
        {
          "output_type": "execute_result",
          "data": {
            "text/plain": [
              "  Age         WorkClass  FnlWgt  Education EducationNum       MaritalStatus  \\\n",
              "0  39         State-gov   77516  Bachelors           13       Never-married   \n",
              "1  50  Self-emp-not-inc   83311  Bachelors           13  Married-civ-spouse   \n",
              "2  38           Private  215646    HS-grad            9            Divorced   \n",
              "3  53           Private  234721       11th            7  Married-civ-spouse   \n",
              "4  28           Private  338409  Bachelors           13  Married-civ-spouse   \n",
              "\n",
              "          Occupation   Relationship   Race  Gender CapitalGain CapitalLoss  \\\n",
              "0       Adm-clerical  Not-in-family  White    Male        2174           0   \n",
              "1    Exec-managerial        Husband  White    Male           0           0   \n",
              "2  Handlers-cleaners  Not-in-family  White    Male           0           0   \n",
              "3  Handlers-cleaners        Husband  Black    Male           0           0   \n",
              "4     Prof-specialty           Wife  Black  Female           0           0   \n",
              "\n",
              "  HoursPerWeek  NativeCountry  Label  \n",
              "0           40  United-States  <=50K  \n",
              "1           13  United-States  <=50K  \n",
              "2           40  United-States  <=50K  \n",
              "3           40  United-States  <=50K  \n",
              "4           40           Cuba  <=50K  "
            ],
            "text/html": [
              "\n",
              "  <div id=\"df-4c3f8e72-a4b3-4818-aade-3eb80dc826b3\">\n",
              "    <div class=\"colab-df-container\">\n",
              "      <div>\n",
              "<style scoped>\n",
              "    .dataframe tbody tr th:only-of-type {\n",
              "        vertical-align: middle;\n",
              "    }\n",
              "\n",
              "    .dataframe tbody tr th {\n",
              "        vertical-align: top;\n",
              "    }\n",
              "\n",
              "    .dataframe thead th {\n",
              "        text-align: right;\n",
              "    }\n",
              "</style>\n",
              "<table border=\"1\" class=\"dataframe\">\n",
              "  <thead>\n",
              "    <tr style=\"text-align: right;\">\n",
              "      <th></th>\n",
              "      <th>Age</th>\n",
              "      <th>WorkClass</th>\n",
              "      <th>FnlWgt</th>\n",
              "      <th>Education</th>\n",
              "      <th>EducationNum</th>\n",
              "      <th>MaritalStatus</th>\n",
              "      <th>Occupation</th>\n",
              "      <th>Relationship</th>\n",
              "      <th>Race</th>\n",
              "      <th>Gender</th>\n",
              "      <th>CapitalGain</th>\n",
              "      <th>CapitalLoss</th>\n",
              "      <th>HoursPerWeek</th>\n",
              "      <th>NativeCountry</th>\n",
              "      <th>Label</th>\n",
              "    </tr>\n",
              "  </thead>\n",
              "  <tbody>\n",
              "    <tr>\n",
              "      <th>0</th>\n",
              "      <td>39</td>\n",
              "      <td>State-gov</td>\n",
              "      <td>77516</td>\n",
              "      <td>Bachelors</td>\n",
              "      <td>13</td>\n",
              "      <td>Never-married</td>\n",
              "      <td>Adm-clerical</td>\n",
              "      <td>Not-in-family</td>\n",
              "      <td>White</td>\n",
              "      <td>Male</td>\n",
              "      <td>2174</td>\n",
              "      <td>0</td>\n",
              "      <td>40</td>\n",
              "      <td>United-States</td>\n",
              "      <td>&lt;=50K</td>\n",
              "    </tr>\n",
              "    <tr>\n",
              "      <th>1</th>\n",
              "      <td>50</td>\n",
              "      <td>Self-emp-not-inc</td>\n",
              "      <td>83311</td>\n",
              "      <td>Bachelors</td>\n",
              "      <td>13</td>\n",
              "      <td>Married-civ-spouse</td>\n",
              "      <td>Exec-managerial</td>\n",
              "      <td>Husband</td>\n",
              "      <td>White</td>\n",
              "      <td>Male</td>\n",
              "      <td>0</td>\n",
              "      <td>0</td>\n",
              "      <td>13</td>\n",
              "      <td>United-States</td>\n",
              "      <td>&lt;=50K</td>\n",
              "    </tr>\n",
              "    <tr>\n",
              "      <th>2</th>\n",
              "      <td>38</td>\n",
              "      <td>Private</td>\n",
              "      <td>215646</td>\n",
              "      <td>HS-grad</td>\n",
              "      <td>9</td>\n",
              "      <td>Divorced</td>\n",
              "      <td>Handlers-cleaners</td>\n",
              "      <td>Not-in-family</td>\n",
              "      <td>White</td>\n",
              "      <td>Male</td>\n",
              "      <td>0</td>\n",
              "      <td>0</td>\n",
              "      <td>40</td>\n",
              "      <td>United-States</td>\n",
              "      <td>&lt;=50K</td>\n",
              "    </tr>\n",
              "    <tr>\n",
              "      <th>3</th>\n",
              "      <td>53</td>\n",
              "      <td>Private</td>\n",
              "      <td>234721</td>\n",
              "      <td>11th</td>\n",
              "      <td>7</td>\n",
              "      <td>Married-civ-spouse</td>\n",
              "      <td>Handlers-cleaners</td>\n",
              "      <td>Husband</td>\n",
              "      <td>Black</td>\n",
              "      <td>Male</td>\n",
              "      <td>0</td>\n",
              "      <td>0</td>\n",
              "      <td>40</td>\n",
              "      <td>United-States</td>\n",
              "      <td>&lt;=50K</td>\n",
              "    </tr>\n",
              "    <tr>\n",
              "      <th>4</th>\n",
              "      <td>28</td>\n",
              "      <td>Private</td>\n",
              "      <td>338409</td>\n",
              "      <td>Bachelors</td>\n",
              "      <td>13</td>\n",
              "      <td>Married-civ-spouse</td>\n",
              "      <td>Prof-specialty</td>\n",
              "      <td>Wife</td>\n",
              "      <td>Black</td>\n",
              "      <td>Female</td>\n",
              "      <td>0</td>\n",
              "      <td>0</td>\n",
              "      <td>40</td>\n",
              "      <td>Cuba</td>\n",
              "      <td>&lt;=50K</td>\n",
              "    </tr>\n",
              "  </tbody>\n",
              "</table>\n",
              "</div>\n",
              "      <button class=\"colab-df-convert\" onclick=\"convertToInteractive('df-4c3f8e72-a4b3-4818-aade-3eb80dc826b3')\"\n",
              "              title=\"Convert this dataframe to an interactive table.\"\n",
              "              style=\"display:none;\">\n",
              "        \n",
              "  <svg xmlns=\"http://www.w3.org/2000/svg\" height=\"24px\"viewBox=\"0 0 24 24\"\n",
              "       width=\"24px\">\n",
              "    <path d=\"M0 0h24v24H0V0z\" fill=\"none\"/>\n",
              "    <path d=\"M18.56 5.44l.94 2.06.94-2.06 2.06-.94-2.06-.94-.94-2.06-.94 2.06-2.06.94zm-11 1L8.5 8.5l.94-2.06 2.06-.94-2.06-.94L8.5 2.5l-.94 2.06-2.06.94zm10 10l.94 2.06.94-2.06 2.06-.94-2.06-.94-.94-2.06-.94 2.06-2.06.94z\"/><path d=\"M17.41 7.96l-1.37-1.37c-.4-.4-.92-.59-1.43-.59-.52 0-1.04.2-1.43.59L10.3 9.45l-7.72 7.72c-.78.78-.78 2.05 0 2.83L4 21.41c.39.39.9.59 1.41.59.51 0 1.02-.2 1.41-.59l7.78-7.78 2.81-2.81c.8-.78.8-2.07 0-2.86zM5.41 20L4 18.59l7.72-7.72 1.47 1.35L5.41 20z\"/>\n",
              "  </svg>\n",
              "      </button>\n",
              "      \n",
              "  <style>\n",
              "    .colab-df-container {\n",
              "      display:flex;\n",
              "      flex-wrap:wrap;\n",
              "      gap: 12px;\n",
              "    }\n",
              "\n",
              "    .colab-df-convert {\n",
              "      background-color: #E8F0FE;\n",
              "      border: none;\n",
              "      border-radius: 50%;\n",
              "      cursor: pointer;\n",
              "      display: none;\n",
              "      fill: #1967D2;\n",
              "      height: 32px;\n",
              "      padding: 0 0 0 0;\n",
              "      width: 32px;\n",
              "    }\n",
              "\n",
              "    .colab-df-convert:hover {\n",
              "      background-color: #E2EBFA;\n",
              "      box-shadow: 0px 1px 2px rgba(60, 64, 67, 0.3), 0px 1px 3px 1px rgba(60, 64, 67, 0.15);\n",
              "      fill: #174EA6;\n",
              "    }\n",
              "\n",
              "    [theme=dark] .colab-df-convert {\n",
              "      background-color: #3B4455;\n",
              "      fill: #D2E3FC;\n",
              "    }\n",
              "\n",
              "    [theme=dark] .colab-df-convert:hover {\n",
              "      background-color: #434B5C;\n",
              "      box-shadow: 0px 1px 3px 1px rgba(0, 0, 0, 0.15);\n",
              "      filter: drop-shadow(0px 1px 2px rgba(0, 0, 0, 0.3));\n",
              "      fill: #FFFFFF;\n",
              "    }\n",
              "  </style>\n",
              "\n",
              "      <script>\n",
              "        const buttonEl =\n",
              "          document.querySelector('#df-4c3f8e72-a4b3-4818-aade-3eb80dc826b3 button.colab-df-convert');\n",
              "        buttonEl.style.display =\n",
              "          google.colab.kernel.accessAllowed ? 'block' : 'none';\n",
              "\n",
              "        async function convertToInteractive(key) {\n",
              "          const element = document.querySelector('#df-4c3f8e72-a4b3-4818-aade-3eb80dc826b3');\n",
              "          const dataTable =\n",
              "            await google.colab.kernel.invokeFunction('convertToInteractive',\n",
              "                                                     [key], {});\n",
              "          if (!dataTable) return;\n",
              "\n",
              "          const docLinkHtml = 'Like what you see? Visit the ' +\n",
              "            '<a target=\"_blank\" href=https://colab.research.google.com/notebooks/data_table.ipynb>data table notebook</a>'\n",
              "            + ' to learn more about interactive tables.';\n",
              "          element.innerHTML = '';\n",
              "          dataTable['output_type'] = 'display_data';\n",
              "          await google.colab.output.renderOutput(dataTable, element);\n",
              "          const docLink = document.createElement('div');\n",
              "          docLink.innerHTML = docLinkHtml;\n",
              "          element.appendChild(docLink);\n",
              "        }\n",
              "      </script>\n",
              "    </div>\n",
              "  </div>\n",
              "  "
            ]
          },
          "metadata": {},
          "execution_count": 64
        }
      ]
    },
    {
      "cell_type": "code",
      "source": [
        "dataset = dataset.drop('FnlWgt')\n",
        "dataset = dataset.replace('?',None)\n",
        "dataset.count()\n"
      ],
      "metadata": {
        "colab": {
          "base_uri": "https://localhost:8080/"
        },
        "id": "PQH5JkBOc6lk",
        "outputId": "4550ad06-e066-474a-ec9f-e0afd12be6db"
      },
      "execution_count": 65,
      "outputs": [
        {
          "output_type": "execute_result",
          "data": {
            "text/plain": [
              "32561"
            ]
          },
          "metadata": {},
          "execution_count": 65
        }
      ]
    },
    {
      "cell_type": "code",
      "source": [
        "dataset = dataset.dropna(how='any')\n",
        "dataset.count()"
      ],
      "metadata": {
        "colab": {
          "base_uri": "https://localhost:8080/"
        },
        "id": "G5ykqUJMdhtN",
        "outputId": "8ce6f3fc-31dd-4e6d-8860-64bfbf55fdf6"
      },
      "execution_count": 66,
      "outputs": [
        {
          "output_type": "execute_result",
          "data": {
            "text/plain": [
              "30162"
            ]
          },
          "metadata": {},
          "execution_count": 66
        }
      ]
    },
    {
      "cell_type": "code",
      "source": [
        "dataset.describe()"
      ],
      "metadata": {
        "colab": {
          "base_uri": "https://localhost:8080/"
        },
        "id": "2HNeL7FHdnPE",
        "outputId": "933ff5f9-96c2-483a-fe2e-dce202265503"
      },
      "execution_count": 67,
      "outputs": [
        {
          "output_type": "execute_result",
          "data": {
            "text/plain": [
              "DataFrame[summary: string, Age: string, WorkClass: string, Education: string, EducationNum: string, MaritalStatus: string, Occupation: string, Relationship: string, Race: string, Gender: string, CapitalGain: string, CapitalLoss: string, HoursPerWeek: string, NativeCountry: string, Label: string]"
            ]
          },
          "metadata": {},
          "execution_count": 67
        }
      ]
    },
    {
      "cell_type": "code",
      "source": [
        "from pyspark.sql.types import FloatType\n",
        "from pyspark.sql.functions import col\n",
        "\n",
        "dataset = dataset.withColumn('Age',dataset['Age'].cast(FloatType()))\n",
        "dataset = dataset.withColumn('EducationNum',dataset['EducationNum'].cast(FloatType()))\n",
        "dataset = dataset.withColumn('CapitalGain',dataset['CapitalGain'].cast(FloatType()))\n",
        "dataset = dataset.withColumn('CapitalLoss',dataset['CapitalLoss'].cast(FloatType()))\n",
        "dataset = dataset.withColumn('HoursPerWeek',dataset['HoursPerWeek'].cast(FloatType()))"
      ],
      "metadata": {
        "id": "3P_K-j3ZdwQ9"
      },
      "execution_count": 68,
      "outputs": []
    },
    {
      "cell_type": "code",
      "source": [
        "dataset.toPandas().head()"
      ],
      "metadata": {
        "colab": {
          "base_uri": "https://localhost:8080/",
          "height": 357
        },
        "id": "rJXArX52eVhd",
        "outputId": "e0430f4c-2f92-4dc7-8d79-58d484ac18ad"
      },
      "execution_count": 69,
      "outputs": [
        {
          "output_type": "execute_result",
          "data": {
            "text/plain": [
              "    Age         WorkClass  Education  EducationNum       MaritalStatus  \\\n",
              "0  39.0         State-gov  Bachelors          13.0       Never-married   \n",
              "1  50.0  Self-emp-not-inc  Bachelors          13.0  Married-civ-spouse   \n",
              "2  38.0           Private    HS-grad           9.0            Divorced   \n",
              "3  53.0           Private       11th           7.0  Married-civ-spouse   \n",
              "4  28.0           Private  Bachelors          13.0  Married-civ-spouse   \n",
              "\n",
              "          Occupation   Relationship   Race  Gender  CapitalGain  CapitalLoss  \\\n",
              "0       Adm-clerical  Not-in-family  White    Male       2174.0          0.0   \n",
              "1    Exec-managerial        Husband  White    Male          0.0          0.0   \n",
              "2  Handlers-cleaners  Not-in-family  White    Male          0.0          0.0   \n",
              "3  Handlers-cleaners        Husband  Black    Male          0.0          0.0   \n",
              "4     Prof-specialty           Wife  Black  Female          0.0          0.0   \n",
              "\n",
              "   HoursPerWeek  NativeCountry  Label  \n",
              "0          40.0  United-States  <=50K  \n",
              "1          13.0  United-States  <=50K  \n",
              "2          40.0  United-States  <=50K  \n",
              "3          40.0  United-States  <=50K  \n",
              "4          40.0           Cuba  <=50K  "
            ],
            "text/html": [
              "\n",
              "  <div id=\"df-cdc28fde-fe71-4543-9416-563fe783d73d\">\n",
              "    <div class=\"colab-df-container\">\n",
              "      <div>\n",
              "<style scoped>\n",
              "    .dataframe tbody tr th:only-of-type {\n",
              "        vertical-align: middle;\n",
              "    }\n",
              "\n",
              "    .dataframe tbody tr th {\n",
              "        vertical-align: top;\n",
              "    }\n",
              "\n",
              "    .dataframe thead th {\n",
              "        text-align: right;\n",
              "    }\n",
              "</style>\n",
              "<table border=\"1\" class=\"dataframe\">\n",
              "  <thead>\n",
              "    <tr style=\"text-align: right;\">\n",
              "      <th></th>\n",
              "      <th>Age</th>\n",
              "      <th>WorkClass</th>\n",
              "      <th>Education</th>\n",
              "      <th>EducationNum</th>\n",
              "      <th>MaritalStatus</th>\n",
              "      <th>Occupation</th>\n",
              "      <th>Relationship</th>\n",
              "      <th>Race</th>\n",
              "      <th>Gender</th>\n",
              "      <th>CapitalGain</th>\n",
              "      <th>CapitalLoss</th>\n",
              "      <th>HoursPerWeek</th>\n",
              "      <th>NativeCountry</th>\n",
              "      <th>Label</th>\n",
              "    </tr>\n",
              "  </thead>\n",
              "  <tbody>\n",
              "    <tr>\n",
              "      <th>0</th>\n",
              "      <td>39.0</td>\n",
              "      <td>State-gov</td>\n",
              "      <td>Bachelors</td>\n",
              "      <td>13.0</td>\n",
              "      <td>Never-married</td>\n",
              "      <td>Adm-clerical</td>\n",
              "      <td>Not-in-family</td>\n",
              "      <td>White</td>\n",
              "      <td>Male</td>\n",
              "      <td>2174.0</td>\n",
              "      <td>0.0</td>\n",
              "      <td>40.0</td>\n",
              "      <td>United-States</td>\n",
              "      <td>&lt;=50K</td>\n",
              "    </tr>\n",
              "    <tr>\n",
              "      <th>1</th>\n",
              "      <td>50.0</td>\n",
              "      <td>Self-emp-not-inc</td>\n",
              "      <td>Bachelors</td>\n",
              "      <td>13.0</td>\n",
              "      <td>Married-civ-spouse</td>\n",
              "      <td>Exec-managerial</td>\n",
              "      <td>Husband</td>\n",
              "      <td>White</td>\n",
              "      <td>Male</td>\n",
              "      <td>0.0</td>\n",
              "      <td>0.0</td>\n",
              "      <td>13.0</td>\n",
              "      <td>United-States</td>\n",
              "      <td>&lt;=50K</td>\n",
              "    </tr>\n",
              "    <tr>\n",
              "      <th>2</th>\n",
              "      <td>38.0</td>\n",
              "      <td>Private</td>\n",
              "      <td>HS-grad</td>\n",
              "      <td>9.0</td>\n",
              "      <td>Divorced</td>\n",
              "      <td>Handlers-cleaners</td>\n",
              "      <td>Not-in-family</td>\n",
              "      <td>White</td>\n",
              "      <td>Male</td>\n",
              "      <td>0.0</td>\n",
              "      <td>0.0</td>\n",
              "      <td>40.0</td>\n",
              "      <td>United-States</td>\n",
              "      <td>&lt;=50K</td>\n",
              "    </tr>\n",
              "    <tr>\n",
              "      <th>3</th>\n",
              "      <td>53.0</td>\n",
              "      <td>Private</td>\n",
              "      <td>11th</td>\n",
              "      <td>7.0</td>\n",
              "      <td>Married-civ-spouse</td>\n",
              "      <td>Handlers-cleaners</td>\n",
              "      <td>Husband</td>\n",
              "      <td>Black</td>\n",
              "      <td>Male</td>\n",
              "      <td>0.0</td>\n",
              "      <td>0.0</td>\n",
              "      <td>40.0</td>\n",
              "      <td>United-States</td>\n",
              "      <td>&lt;=50K</td>\n",
              "    </tr>\n",
              "    <tr>\n",
              "      <th>4</th>\n",
              "      <td>28.0</td>\n",
              "      <td>Private</td>\n",
              "      <td>Bachelors</td>\n",
              "      <td>13.0</td>\n",
              "      <td>Married-civ-spouse</td>\n",
              "      <td>Prof-specialty</td>\n",
              "      <td>Wife</td>\n",
              "      <td>Black</td>\n",
              "      <td>Female</td>\n",
              "      <td>0.0</td>\n",
              "      <td>0.0</td>\n",
              "      <td>40.0</td>\n",
              "      <td>Cuba</td>\n",
              "      <td>&lt;=50K</td>\n",
              "    </tr>\n",
              "  </tbody>\n",
              "</table>\n",
              "</div>\n",
              "      <button class=\"colab-df-convert\" onclick=\"convertToInteractive('df-cdc28fde-fe71-4543-9416-563fe783d73d')\"\n",
              "              title=\"Convert this dataframe to an interactive table.\"\n",
              "              style=\"display:none;\">\n",
              "        \n",
              "  <svg xmlns=\"http://www.w3.org/2000/svg\" height=\"24px\"viewBox=\"0 0 24 24\"\n",
              "       width=\"24px\">\n",
              "    <path d=\"M0 0h24v24H0V0z\" fill=\"none\"/>\n",
              "    <path d=\"M18.56 5.44l.94 2.06.94-2.06 2.06-.94-2.06-.94-.94-2.06-.94 2.06-2.06.94zm-11 1L8.5 8.5l.94-2.06 2.06-.94-2.06-.94L8.5 2.5l-.94 2.06-2.06.94zm10 10l.94 2.06.94-2.06 2.06-.94-2.06-.94-.94-2.06-.94 2.06-2.06.94z\"/><path d=\"M17.41 7.96l-1.37-1.37c-.4-.4-.92-.59-1.43-.59-.52 0-1.04.2-1.43.59L10.3 9.45l-7.72 7.72c-.78.78-.78 2.05 0 2.83L4 21.41c.39.39.9.59 1.41.59.51 0 1.02-.2 1.41-.59l7.78-7.78 2.81-2.81c.8-.78.8-2.07 0-2.86zM5.41 20L4 18.59l7.72-7.72 1.47 1.35L5.41 20z\"/>\n",
              "  </svg>\n",
              "      </button>\n",
              "      \n",
              "  <style>\n",
              "    .colab-df-container {\n",
              "      display:flex;\n",
              "      flex-wrap:wrap;\n",
              "      gap: 12px;\n",
              "    }\n",
              "\n",
              "    .colab-df-convert {\n",
              "      background-color: #E8F0FE;\n",
              "      border: none;\n",
              "      border-radius: 50%;\n",
              "      cursor: pointer;\n",
              "      display: none;\n",
              "      fill: #1967D2;\n",
              "      height: 32px;\n",
              "      padding: 0 0 0 0;\n",
              "      width: 32px;\n",
              "    }\n",
              "\n",
              "    .colab-df-convert:hover {\n",
              "      background-color: #E2EBFA;\n",
              "      box-shadow: 0px 1px 2px rgba(60, 64, 67, 0.3), 0px 1px 3px 1px rgba(60, 64, 67, 0.15);\n",
              "      fill: #174EA6;\n",
              "    }\n",
              "\n",
              "    [theme=dark] .colab-df-convert {\n",
              "      background-color: #3B4455;\n",
              "      fill: #D2E3FC;\n",
              "    }\n",
              "\n",
              "    [theme=dark] .colab-df-convert:hover {\n",
              "      background-color: #434B5C;\n",
              "      box-shadow: 0px 1px 3px 1px rgba(0, 0, 0, 0.15);\n",
              "      filter: drop-shadow(0px 1px 2px rgba(0, 0, 0, 0.3));\n",
              "      fill: #FFFFFF;\n",
              "    }\n",
              "  </style>\n",
              "\n",
              "      <script>\n",
              "        const buttonEl =\n",
              "          document.querySelector('#df-cdc28fde-fe71-4543-9416-563fe783d73d button.colab-df-convert');\n",
              "        buttonEl.style.display =\n",
              "          google.colab.kernel.accessAllowed ? 'block' : 'none';\n",
              "\n",
              "        async function convertToInteractive(key) {\n",
              "          const element = document.querySelector('#df-cdc28fde-fe71-4543-9416-563fe783d73d');\n",
              "          const dataTable =\n",
              "            await google.colab.kernel.invokeFunction('convertToInteractive',\n",
              "                                                     [key], {});\n",
              "          if (!dataTable) return;\n",
              "\n",
              "          const docLinkHtml = 'Like what you see? Visit the ' +\n",
              "            '<a target=\"_blank\" href=https://colab.research.google.com/notebooks/data_table.ipynb>data table notebook</a>'\n",
              "            + ' to learn more about interactive tables.';\n",
              "          element.innerHTML = '';\n",
              "          dataTable['output_type'] = 'display_data';\n",
              "          await google.colab.output.renderOutput(dataTable, element);\n",
              "          const docLink = document.createElement('div');\n",
              "          docLink.innerHTML = docLinkHtml;\n",
              "          element.appendChild(docLink);\n",
              "        }\n",
              "      </script>\n",
              "    </div>\n",
              "  </div>\n",
              "  "
            ]
          },
          "metadata": {},
          "execution_count": 69
        }
      ]
    },
    {
      "cell_type": "code",
      "source": [
        "indexedDF = StringIndexer(inputCol='WorkClass', outputCol='WorkClass_index').fit(dataset).transform(dataset)\n"
      ],
      "metadata": {
        "id": "4beK4eFLeZ8T"
      },
      "execution_count": 70,
      "outputs": []
    },
    {
      "cell_type": "code",
      "source": [
        "indexedDF.toPandas().head()"
      ],
      "metadata": {
        "colab": {
          "base_uri": "https://localhost:8080/",
          "height": 357
        },
        "id": "uHnU_TJ_eZy8",
        "outputId": "65ea598d-51c9-47db-9688-ddf2d83bb872"
      },
      "execution_count": 71,
      "outputs": [
        {
          "output_type": "execute_result",
          "data": {
            "text/plain": [
              "    Age         WorkClass  Education  EducationNum       MaritalStatus  \\\n",
              "0  39.0         State-gov  Bachelors          13.0       Never-married   \n",
              "1  50.0  Self-emp-not-inc  Bachelors          13.0  Married-civ-spouse   \n",
              "2  38.0           Private    HS-grad           9.0            Divorced   \n",
              "3  53.0           Private       11th           7.0  Married-civ-spouse   \n",
              "4  28.0           Private  Bachelors          13.0  Married-civ-spouse   \n",
              "\n",
              "          Occupation   Relationship   Race  Gender  CapitalGain  CapitalLoss  \\\n",
              "0       Adm-clerical  Not-in-family  White    Male       2174.0          0.0   \n",
              "1    Exec-managerial        Husband  White    Male          0.0          0.0   \n",
              "2  Handlers-cleaners  Not-in-family  White    Male          0.0          0.0   \n",
              "3  Handlers-cleaners        Husband  Black    Male          0.0          0.0   \n",
              "4     Prof-specialty           Wife  Black  Female          0.0          0.0   \n",
              "\n",
              "   HoursPerWeek  NativeCountry  Label  WorkClass_index  \n",
              "0          40.0  United-States  <=50K              3.0  \n",
              "1          13.0  United-States  <=50K              1.0  \n",
              "2          40.0  United-States  <=50K              0.0  \n",
              "3          40.0  United-States  <=50K              0.0  \n",
              "4          40.0           Cuba  <=50K              0.0  "
            ],
            "text/html": [
              "\n",
              "  <div id=\"df-16e420f2-e64f-4ca8-ac9f-ab696cd6f87c\">\n",
              "    <div class=\"colab-df-container\">\n",
              "      <div>\n",
              "<style scoped>\n",
              "    .dataframe tbody tr th:only-of-type {\n",
              "        vertical-align: middle;\n",
              "    }\n",
              "\n",
              "    .dataframe tbody tr th {\n",
              "        vertical-align: top;\n",
              "    }\n",
              "\n",
              "    .dataframe thead th {\n",
              "        text-align: right;\n",
              "    }\n",
              "</style>\n",
              "<table border=\"1\" class=\"dataframe\">\n",
              "  <thead>\n",
              "    <tr style=\"text-align: right;\">\n",
              "      <th></th>\n",
              "      <th>Age</th>\n",
              "      <th>WorkClass</th>\n",
              "      <th>Education</th>\n",
              "      <th>EducationNum</th>\n",
              "      <th>MaritalStatus</th>\n",
              "      <th>Occupation</th>\n",
              "      <th>Relationship</th>\n",
              "      <th>Race</th>\n",
              "      <th>Gender</th>\n",
              "      <th>CapitalGain</th>\n",
              "      <th>CapitalLoss</th>\n",
              "      <th>HoursPerWeek</th>\n",
              "      <th>NativeCountry</th>\n",
              "      <th>Label</th>\n",
              "      <th>WorkClass_index</th>\n",
              "    </tr>\n",
              "  </thead>\n",
              "  <tbody>\n",
              "    <tr>\n",
              "      <th>0</th>\n",
              "      <td>39.0</td>\n",
              "      <td>State-gov</td>\n",
              "      <td>Bachelors</td>\n",
              "      <td>13.0</td>\n",
              "      <td>Never-married</td>\n",
              "      <td>Adm-clerical</td>\n",
              "      <td>Not-in-family</td>\n",
              "      <td>White</td>\n",
              "      <td>Male</td>\n",
              "      <td>2174.0</td>\n",
              "      <td>0.0</td>\n",
              "      <td>40.0</td>\n",
              "      <td>United-States</td>\n",
              "      <td>&lt;=50K</td>\n",
              "      <td>3.0</td>\n",
              "    </tr>\n",
              "    <tr>\n",
              "      <th>1</th>\n",
              "      <td>50.0</td>\n",
              "      <td>Self-emp-not-inc</td>\n",
              "      <td>Bachelors</td>\n",
              "      <td>13.0</td>\n",
              "      <td>Married-civ-spouse</td>\n",
              "      <td>Exec-managerial</td>\n",
              "      <td>Husband</td>\n",
              "      <td>White</td>\n",
              "      <td>Male</td>\n",
              "      <td>0.0</td>\n",
              "      <td>0.0</td>\n",
              "      <td>13.0</td>\n",
              "      <td>United-States</td>\n",
              "      <td>&lt;=50K</td>\n",
              "      <td>1.0</td>\n",
              "    </tr>\n",
              "    <tr>\n",
              "      <th>2</th>\n",
              "      <td>38.0</td>\n",
              "      <td>Private</td>\n",
              "      <td>HS-grad</td>\n",
              "      <td>9.0</td>\n",
              "      <td>Divorced</td>\n",
              "      <td>Handlers-cleaners</td>\n",
              "      <td>Not-in-family</td>\n",
              "      <td>White</td>\n",
              "      <td>Male</td>\n",
              "      <td>0.0</td>\n",
              "      <td>0.0</td>\n",
              "      <td>40.0</td>\n",
              "      <td>United-States</td>\n",
              "      <td>&lt;=50K</td>\n",
              "      <td>0.0</td>\n",
              "    </tr>\n",
              "    <tr>\n",
              "      <th>3</th>\n",
              "      <td>53.0</td>\n",
              "      <td>Private</td>\n",
              "      <td>11th</td>\n",
              "      <td>7.0</td>\n",
              "      <td>Married-civ-spouse</td>\n",
              "      <td>Handlers-cleaners</td>\n",
              "      <td>Husband</td>\n",
              "      <td>Black</td>\n",
              "      <td>Male</td>\n",
              "      <td>0.0</td>\n",
              "      <td>0.0</td>\n",
              "      <td>40.0</td>\n",
              "      <td>United-States</td>\n",
              "      <td>&lt;=50K</td>\n",
              "      <td>0.0</td>\n",
              "    </tr>\n",
              "    <tr>\n",
              "      <th>4</th>\n",
              "      <td>28.0</td>\n",
              "      <td>Private</td>\n",
              "      <td>Bachelors</td>\n",
              "      <td>13.0</td>\n",
              "      <td>Married-civ-spouse</td>\n",
              "      <td>Prof-specialty</td>\n",
              "      <td>Wife</td>\n",
              "      <td>Black</td>\n",
              "      <td>Female</td>\n",
              "      <td>0.0</td>\n",
              "      <td>0.0</td>\n",
              "      <td>40.0</td>\n",
              "      <td>Cuba</td>\n",
              "      <td>&lt;=50K</td>\n",
              "      <td>0.0</td>\n",
              "    </tr>\n",
              "  </tbody>\n",
              "</table>\n",
              "</div>\n",
              "      <button class=\"colab-df-convert\" onclick=\"convertToInteractive('df-16e420f2-e64f-4ca8-ac9f-ab696cd6f87c')\"\n",
              "              title=\"Convert this dataframe to an interactive table.\"\n",
              "              style=\"display:none;\">\n",
              "        \n",
              "  <svg xmlns=\"http://www.w3.org/2000/svg\" height=\"24px\"viewBox=\"0 0 24 24\"\n",
              "       width=\"24px\">\n",
              "    <path d=\"M0 0h24v24H0V0z\" fill=\"none\"/>\n",
              "    <path d=\"M18.56 5.44l.94 2.06.94-2.06 2.06-.94-2.06-.94-.94-2.06-.94 2.06-2.06.94zm-11 1L8.5 8.5l.94-2.06 2.06-.94-2.06-.94L8.5 2.5l-.94 2.06-2.06.94zm10 10l.94 2.06.94-2.06 2.06-.94-2.06-.94-.94-2.06-.94 2.06-2.06.94z\"/><path d=\"M17.41 7.96l-1.37-1.37c-.4-.4-.92-.59-1.43-.59-.52 0-1.04.2-1.43.59L10.3 9.45l-7.72 7.72c-.78.78-.78 2.05 0 2.83L4 21.41c.39.39.9.59 1.41.59.51 0 1.02-.2 1.41-.59l7.78-7.78 2.81-2.81c.8-.78.8-2.07 0-2.86zM5.41 20L4 18.59l7.72-7.72 1.47 1.35L5.41 20z\"/>\n",
              "  </svg>\n",
              "      </button>\n",
              "      \n",
              "  <style>\n",
              "    .colab-df-container {\n",
              "      display:flex;\n",
              "      flex-wrap:wrap;\n",
              "      gap: 12px;\n",
              "    }\n",
              "\n",
              "    .colab-df-convert {\n",
              "      background-color: #E8F0FE;\n",
              "      border: none;\n",
              "      border-radius: 50%;\n",
              "      cursor: pointer;\n",
              "      display: none;\n",
              "      fill: #1967D2;\n",
              "      height: 32px;\n",
              "      padding: 0 0 0 0;\n",
              "      width: 32px;\n",
              "    }\n",
              "\n",
              "    .colab-df-convert:hover {\n",
              "      background-color: #E2EBFA;\n",
              "      box-shadow: 0px 1px 2px rgba(60, 64, 67, 0.3), 0px 1px 3px 1px rgba(60, 64, 67, 0.15);\n",
              "      fill: #174EA6;\n",
              "    }\n",
              "\n",
              "    [theme=dark] .colab-df-convert {\n",
              "      background-color: #3B4455;\n",
              "      fill: #D2E3FC;\n",
              "    }\n",
              "\n",
              "    [theme=dark] .colab-df-convert:hover {\n",
              "      background-color: #434B5C;\n",
              "      box-shadow: 0px 1px 3px 1px rgba(0, 0, 0, 0.15);\n",
              "      filter: drop-shadow(0px 1px 2px rgba(0, 0, 0, 0.3));\n",
              "      fill: #FFFFFF;\n",
              "    }\n",
              "  </style>\n",
              "\n",
              "      <script>\n",
              "        const buttonEl =\n",
              "          document.querySelector('#df-16e420f2-e64f-4ca8-ac9f-ab696cd6f87c button.colab-df-convert');\n",
              "        buttonEl.style.display =\n",
              "          google.colab.kernel.accessAllowed ? 'block' : 'none';\n",
              "\n",
              "        async function convertToInteractive(key) {\n",
              "          const element = document.querySelector('#df-16e420f2-e64f-4ca8-ac9f-ab696cd6f87c');\n",
              "          const dataTable =\n",
              "            await google.colab.kernel.invokeFunction('convertToInteractive',\n",
              "                                                     [key], {});\n",
              "          if (!dataTable) return;\n",
              "\n",
              "          const docLinkHtml = 'Like what you see? Visit the ' +\n",
              "            '<a target=\"_blank\" href=https://colab.research.google.com/notebooks/data_table.ipynb>data table notebook</a>'\n",
              "            + ' to learn more about interactive tables.';\n",
              "          element.innerHTML = '';\n",
              "          dataTable['output_type'] = 'display_data';\n",
              "          await google.colab.output.renderOutput(dataTable, element);\n",
              "          const docLink = document.createElement('div');\n",
              "          docLink.innerHTML = docLinkHtml;\n",
              "          element.appendChild(docLink);\n",
              "        }\n",
              "      </script>\n",
              "    </div>\n",
              "  </div>\n",
              "  "
            ]
          },
          "metadata": {},
          "execution_count": 71
        }
      ]
    },
    {
      "cell_type": "code",
      "source": [
        "from pyspark.ml.feature import OneHotEncoder\n",
        "\n",
        "encodedDF = OneHotEncoder(\n",
        "    inputCol=\"WorkClass_index\",\n",
        "    outputCol=\"WorkClass_encoded\"\n",
        ").fit(indexedDF).transform(indexedDF)"
      ],
      "metadata": {
        "id": "wyW3BcBMeZj9"
      },
      "execution_count": 72,
      "outputs": []
    },
    {
      "cell_type": "code",
      "source": [
        "encodedDF.toPandas().head()"
      ],
      "metadata": {
        "colab": {
          "base_uri": "https://localhost:8080/",
          "height": 357
        },
        "id": "KEuP1goccZB3",
        "outputId": "15268eb3-4b8f-4227-8631-7373e5f6de74"
      },
      "execution_count": 73,
      "outputs": [
        {
          "output_type": "execute_result",
          "data": {
            "text/plain": [
              "    Age         WorkClass  Education  EducationNum       MaritalStatus  \\\n",
              "0  39.0         State-gov  Bachelors          13.0       Never-married   \n",
              "1  50.0  Self-emp-not-inc  Bachelors          13.0  Married-civ-spouse   \n",
              "2  38.0           Private    HS-grad           9.0            Divorced   \n",
              "3  53.0           Private       11th           7.0  Married-civ-spouse   \n",
              "4  28.0           Private  Bachelors          13.0  Married-civ-spouse   \n",
              "\n",
              "          Occupation   Relationship   Race  Gender  CapitalGain  CapitalLoss  \\\n",
              "0       Adm-clerical  Not-in-family  White    Male       2174.0          0.0   \n",
              "1    Exec-managerial        Husband  White    Male          0.0          0.0   \n",
              "2  Handlers-cleaners  Not-in-family  White    Male          0.0          0.0   \n",
              "3  Handlers-cleaners        Husband  Black    Male          0.0          0.0   \n",
              "4     Prof-specialty           Wife  Black  Female          0.0          0.0   \n",
              "\n",
              "   HoursPerWeek  NativeCountry  Label  WorkClass_index  \\\n",
              "0          40.0  United-States  <=50K              3.0   \n",
              "1          13.0  United-States  <=50K              1.0   \n",
              "2          40.0  United-States  <=50K              0.0   \n",
              "3          40.0  United-States  <=50K              0.0   \n",
              "4          40.0           Cuba  <=50K              0.0   \n",
              "\n",
              "                WorkClass_encoded  \n",
              "0  (0.0, 0.0, 0.0, 1.0, 0.0, 0.0)  \n",
              "1  (0.0, 1.0, 0.0, 0.0, 0.0, 0.0)  \n",
              "2  (1.0, 0.0, 0.0, 0.0, 0.0, 0.0)  \n",
              "3  (1.0, 0.0, 0.0, 0.0, 0.0, 0.0)  \n",
              "4  (1.0, 0.0, 0.0, 0.0, 0.0, 0.0)  "
            ],
            "text/html": [
              "\n",
              "  <div id=\"df-a39c28f1-d209-439c-bc43-f63af1d85825\">\n",
              "    <div class=\"colab-df-container\">\n",
              "      <div>\n",
              "<style scoped>\n",
              "    .dataframe tbody tr th:only-of-type {\n",
              "        vertical-align: middle;\n",
              "    }\n",
              "\n",
              "    .dataframe tbody tr th {\n",
              "        vertical-align: top;\n",
              "    }\n",
              "\n",
              "    .dataframe thead th {\n",
              "        text-align: right;\n",
              "    }\n",
              "</style>\n",
              "<table border=\"1\" class=\"dataframe\">\n",
              "  <thead>\n",
              "    <tr style=\"text-align: right;\">\n",
              "      <th></th>\n",
              "      <th>Age</th>\n",
              "      <th>WorkClass</th>\n",
              "      <th>Education</th>\n",
              "      <th>EducationNum</th>\n",
              "      <th>MaritalStatus</th>\n",
              "      <th>Occupation</th>\n",
              "      <th>Relationship</th>\n",
              "      <th>Race</th>\n",
              "      <th>Gender</th>\n",
              "      <th>CapitalGain</th>\n",
              "      <th>CapitalLoss</th>\n",
              "      <th>HoursPerWeek</th>\n",
              "      <th>NativeCountry</th>\n",
              "      <th>Label</th>\n",
              "      <th>WorkClass_index</th>\n",
              "      <th>WorkClass_encoded</th>\n",
              "    </tr>\n",
              "  </thead>\n",
              "  <tbody>\n",
              "    <tr>\n",
              "      <th>0</th>\n",
              "      <td>39.0</td>\n",
              "      <td>State-gov</td>\n",
              "      <td>Bachelors</td>\n",
              "      <td>13.0</td>\n",
              "      <td>Never-married</td>\n",
              "      <td>Adm-clerical</td>\n",
              "      <td>Not-in-family</td>\n",
              "      <td>White</td>\n",
              "      <td>Male</td>\n",
              "      <td>2174.0</td>\n",
              "      <td>0.0</td>\n",
              "      <td>40.0</td>\n",
              "      <td>United-States</td>\n",
              "      <td>&lt;=50K</td>\n",
              "      <td>3.0</td>\n",
              "      <td>(0.0, 0.0, 0.0, 1.0, 0.0, 0.0)</td>\n",
              "    </tr>\n",
              "    <tr>\n",
              "      <th>1</th>\n",
              "      <td>50.0</td>\n",
              "      <td>Self-emp-not-inc</td>\n",
              "      <td>Bachelors</td>\n",
              "      <td>13.0</td>\n",
              "      <td>Married-civ-spouse</td>\n",
              "      <td>Exec-managerial</td>\n",
              "      <td>Husband</td>\n",
              "      <td>White</td>\n",
              "      <td>Male</td>\n",
              "      <td>0.0</td>\n",
              "      <td>0.0</td>\n",
              "      <td>13.0</td>\n",
              "      <td>United-States</td>\n",
              "      <td>&lt;=50K</td>\n",
              "      <td>1.0</td>\n",
              "      <td>(0.0, 1.0, 0.0, 0.0, 0.0, 0.0)</td>\n",
              "    </tr>\n",
              "    <tr>\n",
              "      <th>2</th>\n",
              "      <td>38.0</td>\n",
              "      <td>Private</td>\n",
              "      <td>HS-grad</td>\n",
              "      <td>9.0</td>\n",
              "      <td>Divorced</td>\n",
              "      <td>Handlers-cleaners</td>\n",
              "      <td>Not-in-family</td>\n",
              "      <td>White</td>\n",
              "      <td>Male</td>\n",
              "      <td>0.0</td>\n",
              "      <td>0.0</td>\n",
              "      <td>40.0</td>\n",
              "      <td>United-States</td>\n",
              "      <td>&lt;=50K</td>\n",
              "      <td>0.0</td>\n",
              "      <td>(1.0, 0.0, 0.0, 0.0, 0.0, 0.0)</td>\n",
              "    </tr>\n",
              "    <tr>\n",
              "      <th>3</th>\n",
              "      <td>53.0</td>\n",
              "      <td>Private</td>\n",
              "      <td>11th</td>\n",
              "      <td>7.0</td>\n",
              "      <td>Married-civ-spouse</td>\n",
              "      <td>Handlers-cleaners</td>\n",
              "      <td>Husband</td>\n",
              "      <td>Black</td>\n",
              "      <td>Male</td>\n",
              "      <td>0.0</td>\n",
              "      <td>0.0</td>\n",
              "      <td>40.0</td>\n",
              "      <td>United-States</td>\n",
              "      <td>&lt;=50K</td>\n",
              "      <td>0.0</td>\n",
              "      <td>(1.0, 0.0, 0.0, 0.0, 0.0, 0.0)</td>\n",
              "    </tr>\n",
              "    <tr>\n",
              "      <th>4</th>\n",
              "      <td>28.0</td>\n",
              "      <td>Private</td>\n",
              "      <td>Bachelors</td>\n",
              "      <td>13.0</td>\n",
              "      <td>Married-civ-spouse</td>\n",
              "      <td>Prof-specialty</td>\n",
              "      <td>Wife</td>\n",
              "      <td>Black</td>\n",
              "      <td>Female</td>\n",
              "      <td>0.0</td>\n",
              "      <td>0.0</td>\n",
              "      <td>40.0</td>\n",
              "      <td>Cuba</td>\n",
              "      <td>&lt;=50K</td>\n",
              "      <td>0.0</td>\n",
              "      <td>(1.0, 0.0, 0.0, 0.0, 0.0, 0.0)</td>\n",
              "    </tr>\n",
              "  </tbody>\n",
              "</table>\n",
              "</div>\n",
              "      <button class=\"colab-df-convert\" onclick=\"convertToInteractive('df-a39c28f1-d209-439c-bc43-f63af1d85825')\"\n",
              "              title=\"Convert this dataframe to an interactive table.\"\n",
              "              style=\"display:none;\">\n",
              "        \n",
              "  <svg xmlns=\"http://www.w3.org/2000/svg\" height=\"24px\"viewBox=\"0 0 24 24\"\n",
              "       width=\"24px\">\n",
              "    <path d=\"M0 0h24v24H0V0z\" fill=\"none\"/>\n",
              "    <path d=\"M18.56 5.44l.94 2.06.94-2.06 2.06-.94-2.06-.94-.94-2.06-.94 2.06-2.06.94zm-11 1L8.5 8.5l.94-2.06 2.06-.94-2.06-.94L8.5 2.5l-.94 2.06-2.06.94zm10 10l.94 2.06.94-2.06 2.06-.94-2.06-.94-.94-2.06-.94 2.06-2.06.94z\"/><path d=\"M17.41 7.96l-1.37-1.37c-.4-.4-.92-.59-1.43-.59-.52 0-1.04.2-1.43.59L10.3 9.45l-7.72 7.72c-.78.78-.78 2.05 0 2.83L4 21.41c.39.39.9.59 1.41.59.51 0 1.02-.2 1.41-.59l7.78-7.78 2.81-2.81c.8-.78.8-2.07 0-2.86zM5.41 20L4 18.59l7.72-7.72 1.47 1.35L5.41 20z\"/>\n",
              "  </svg>\n",
              "      </button>\n",
              "      \n",
              "  <style>\n",
              "    .colab-df-container {\n",
              "      display:flex;\n",
              "      flex-wrap:wrap;\n",
              "      gap: 12px;\n",
              "    }\n",
              "\n",
              "    .colab-df-convert {\n",
              "      background-color: #E8F0FE;\n",
              "      border: none;\n",
              "      border-radius: 50%;\n",
              "      cursor: pointer;\n",
              "      display: none;\n",
              "      fill: #1967D2;\n",
              "      height: 32px;\n",
              "      padding: 0 0 0 0;\n",
              "      width: 32px;\n",
              "    }\n",
              "\n",
              "    .colab-df-convert:hover {\n",
              "      background-color: #E2EBFA;\n",
              "      box-shadow: 0px 1px 2px rgba(60, 64, 67, 0.3), 0px 1px 3px 1px rgba(60, 64, 67, 0.15);\n",
              "      fill: #174EA6;\n",
              "    }\n",
              "\n",
              "    [theme=dark] .colab-df-convert {\n",
              "      background-color: #3B4455;\n",
              "      fill: #D2E3FC;\n",
              "    }\n",
              "\n",
              "    [theme=dark] .colab-df-convert:hover {\n",
              "      background-color: #434B5C;\n",
              "      box-shadow: 0px 1px 3px 1px rgba(0, 0, 0, 0.15);\n",
              "      filter: drop-shadow(0px 1px 2px rgba(0, 0, 0, 0.3));\n",
              "      fill: #FFFFFF;\n",
              "    }\n",
              "  </style>\n",
              "\n",
              "      <script>\n",
              "        const buttonEl =\n",
              "          document.querySelector('#df-a39c28f1-d209-439c-bc43-f63af1d85825 button.colab-df-convert');\n",
              "        buttonEl.style.display =\n",
              "          google.colab.kernel.accessAllowed ? 'block' : 'none';\n",
              "\n",
              "        async function convertToInteractive(key) {\n",
              "          const element = document.querySelector('#df-a39c28f1-d209-439c-bc43-f63af1d85825');\n",
              "          const dataTable =\n",
              "            await google.colab.kernel.invokeFunction('convertToInteractive',\n",
              "                                                     [key], {});\n",
              "          if (!dataTable) return;\n",
              "\n",
              "          const docLinkHtml = 'Like what you see? Visit the ' +\n",
              "            '<a target=\"_blank\" href=https://colab.research.google.com/notebooks/data_table.ipynb>data table notebook</a>'\n",
              "            + ' to learn more about interactive tables.';\n",
              "          element.innerHTML = '';\n",
              "          dataTable['output_type'] = 'display_data';\n",
              "          await google.colab.output.renderOutput(dataTable, element);\n",
              "          const docLink = document.createElement('div');\n",
              "          docLink.innerHTML = docLinkHtml;\n",
              "          element.appendChild(docLink);\n",
              "        }\n",
              "      </script>\n",
              "    </div>\n",
              "  </div>\n",
              "  "
            ]
          },
          "metadata": {},
          "execution_count": 73
        }
      ]
    },
    {
      "cell_type": "code",
      "source": [
        "encodedDF.select('WorkClass','WorkClass_index','WorkClass_encoded').toPandas().head()"
      ],
      "metadata": {
        "colab": {
          "base_uri": "https://localhost:8080/",
          "height": 206
        },
        "id": "AHQBQmnRfVA5",
        "outputId": "3cbfd590-2267-45ce-994a-742be903ab6c"
      },
      "execution_count": 74,
      "outputs": [
        {
          "output_type": "execute_result",
          "data": {
            "text/plain": [
              "          WorkClass  WorkClass_index               WorkClass_encoded\n",
              "0         State-gov              3.0  (0.0, 0.0, 0.0, 1.0, 0.0, 0.0)\n",
              "1  Self-emp-not-inc              1.0  (0.0, 1.0, 0.0, 0.0, 0.0, 0.0)\n",
              "2           Private              0.0  (1.0, 0.0, 0.0, 0.0, 0.0, 0.0)\n",
              "3           Private              0.0  (1.0, 0.0, 0.0, 0.0, 0.0, 0.0)\n",
              "4           Private              0.0  (1.0, 0.0, 0.0, 0.0, 0.0, 0.0)"
            ],
            "text/html": [
              "\n",
              "  <div id=\"df-90ce0573-6865-4413-9a93-f4a6e68f0011\">\n",
              "    <div class=\"colab-df-container\">\n",
              "      <div>\n",
              "<style scoped>\n",
              "    .dataframe tbody tr th:only-of-type {\n",
              "        vertical-align: middle;\n",
              "    }\n",
              "\n",
              "    .dataframe tbody tr th {\n",
              "        vertical-align: top;\n",
              "    }\n",
              "\n",
              "    .dataframe thead th {\n",
              "        text-align: right;\n",
              "    }\n",
              "</style>\n",
              "<table border=\"1\" class=\"dataframe\">\n",
              "  <thead>\n",
              "    <tr style=\"text-align: right;\">\n",
              "      <th></th>\n",
              "      <th>WorkClass</th>\n",
              "      <th>WorkClass_index</th>\n",
              "      <th>WorkClass_encoded</th>\n",
              "    </tr>\n",
              "  </thead>\n",
              "  <tbody>\n",
              "    <tr>\n",
              "      <th>0</th>\n",
              "      <td>State-gov</td>\n",
              "      <td>3.0</td>\n",
              "      <td>(0.0, 0.0, 0.0, 1.0, 0.0, 0.0)</td>\n",
              "    </tr>\n",
              "    <tr>\n",
              "      <th>1</th>\n",
              "      <td>Self-emp-not-inc</td>\n",
              "      <td>1.0</td>\n",
              "      <td>(0.0, 1.0, 0.0, 0.0, 0.0, 0.0)</td>\n",
              "    </tr>\n",
              "    <tr>\n",
              "      <th>2</th>\n",
              "      <td>Private</td>\n",
              "      <td>0.0</td>\n",
              "      <td>(1.0, 0.0, 0.0, 0.0, 0.0, 0.0)</td>\n",
              "    </tr>\n",
              "    <tr>\n",
              "      <th>3</th>\n",
              "      <td>Private</td>\n",
              "      <td>0.0</td>\n",
              "      <td>(1.0, 0.0, 0.0, 0.0, 0.0, 0.0)</td>\n",
              "    </tr>\n",
              "    <tr>\n",
              "      <th>4</th>\n",
              "      <td>Private</td>\n",
              "      <td>0.0</td>\n",
              "      <td>(1.0, 0.0, 0.0, 0.0, 0.0, 0.0)</td>\n",
              "    </tr>\n",
              "  </tbody>\n",
              "</table>\n",
              "</div>\n",
              "      <button class=\"colab-df-convert\" onclick=\"convertToInteractive('df-90ce0573-6865-4413-9a93-f4a6e68f0011')\"\n",
              "              title=\"Convert this dataframe to an interactive table.\"\n",
              "              style=\"display:none;\">\n",
              "        \n",
              "  <svg xmlns=\"http://www.w3.org/2000/svg\" height=\"24px\"viewBox=\"0 0 24 24\"\n",
              "       width=\"24px\">\n",
              "    <path d=\"M0 0h24v24H0V0z\" fill=\"none\"/>\n",
              "    <path d=\"M18.56 5.44l.94 2.06.94-2.06 2.06-.94-2.06-.94-.94-2.06-.94 2.06-2.06.94zm-11 1L8.5 8.5l.94-2.06 2.06-.94-2.06-.94L8.5 2.5l-.94 2.06-2.06.94zm10 10l.94 2.06.94-2.06 2.06-.94-2.06-.94-.94-2.06-.94 2.06-2.06.94z\"/><path d=\"M17.41 7.96l-1.37-1.37c-.4-.4-.92-.59-1.43-.59-.52 0-1.04.2-1.43.59L10.3 9.45l-7.72 7.72c-.78.78-.78 2.05 0 2.83L4 21.41c.39.39.9.59 1.41.59.51 0 1.02-.2 1.41-.59l7.78-7.78 2.81-2.81c.8-.78.8-2.07 0-2.86zM5.41 20L4 18.59l7.72-7.72 1.47 1.35L5.41 20z\"/>\n",
              "  </svg>\n",
              "      </button>\n",
              "      \n",
              "  <style>\n",
              "    .colab-df-container {\n",
              "      display:flex;\n",
              "      flex-wrap:wrap;\n",
              "      gap: 12px;\n",
              "    }\n",
              "\n",
              "    .colab-df-convert {\n",
              "      background-color: #E8F0FE;\n",
              "      border: none;\n",
              "      border-radius: 50%;\n",
              "      cursor: pointer;\n",
              "      display: none;\n",
              "      fill: #1967D2;\n",
              "      height: 32px;\n",
              "      padding: 0 0 0 0;\n",
              "      width: 32px;\n",
              "    }\n",
              "\n",
              "    .colab-df-convert:hover {\n",
              "      background-color: #E2EBFA;\n",
              "      box-shadow: 0px 1px 2px rgba(60, 64, 67, 0.3), 0px 1px 3px 1px rgba(60, 64, 67, 0.15);\n",
              "      fill: #174EA6;\n",
              "    }\n",
              "\n",
              "    [theme=dark] .colab-df-convert {\n",
              "      background-color: #3B4455;\n",
              "      fill: #D2E3FC;\n",
              "    }\n",
              "\n",
              "    [theme=dark] .colab-df-convert:hover {\n",
              "      background-color: #434B5C;\n",
              "      box-shadow: 0px 1px 3px 1px rgba(0, 0, 0, 0.15);\n",
              "      filter: drop-shadow(0px 1px 2px rgba(0, 0, 0, 0.3));\n",
              "      fill: #FFFFFF;\n",
              "    }\n",
              "  </style>\n",
              "\n",
              "      <script>\n",
              "        const buttonEl =\n",
              "          document.querySelector('#df-90ce0573-6865-4413-9a93-f4a6e68f0011 button.colab-df-convert');\n",
              "        buttonEl.style.display =\n",
              "          google.colab.kernel.accessAllowed ? 'block' : 'none';\n",
              "\n",
              "        async function convertToInteractive(key) {\n",
              "          const element = document.querySelector('#df-90ce0573-6865-4413-9a93-f4a6e68f0011');\n",
              "          const dataTable =\n",
              "            await google.colab.kernel.invokeFunction('convertToInteractive',\n",
              "                                                     [key], {});\n",
              "          if (!dataTable) return;\n",
              "\n",
              "          const docLinkHtml = 'Like what you see? Visit the ' +\n",
              "            '<a target=\"_blank\" href=https://colab.research.google.com/notebooks/data_table.ipynb>data table notebook</a>'\n",
              "            + ' to learn more about interactive tables.';\n",
              "          element.innerHTML = '';\n",
              "          dataTable['output_type'] = 'display_data';\n",
              "          await google.colab.output.renderOutput(dataTable, element);\n",
              "          const docLink = document.createElement('div');\n",
              "          docLink.innerHTML = docLinkHtml;\n",
              "          element.appendChild(docLink);\n",
              "        }\n",
              "      </script>\n",
              "    </div>\n",
              "  </div>\n",
              "  "
            ]
          },
          "metadata": {},
          "execution_count": 74
        }
      ]
    },
    {
      "cell_type": "code",
      "source": [
        "(trainingData,testData) = dataset.randomSplit([0.8,0.2])"
      ],
      "metadata": {
        "id": "l4qHrpzHfiYL"
      },
      "execution_count": 75,
      "outputs": []
    },
    {
      "cell_type": "code",
      "source": [
        "categoricalFeatures = [\n",
        "    'WorkClass',\n",
        "    'Education',\n",
        "    'MaritalStatus',\n",
        "    'Relationship',\n",
        "    'Race',\n",
        "    'Gender',\n",
        "    'NativeCountry',\n",
        "    'Occupation'\n",
        "]\n",
        "indexers = [StringIndexer(inputCol=column, \n",
        "                          outputCol=column+'_index',\n",
        "                          handleInvalid='keep') for column in categoricalFeatures]"
      ],
      "metadata": {
        "id": "L2bTJKXVf4fc"
      },
      "execution_count": 76,
      "outputs": []
    },
    {
      "cell_type": "code",
      "source": [
        "encoders = [OneHotEncoder(inputCol=column+'_index',\n",
        "                          outputCol=column+'_encoded') for column in categoricalFeatures]"
      ],
      "metadata": {
        "id": "kK3gm0PVgcHL"
      },
      "execution_count": 77,
      "outputs": []
    },
    {
      "cell_type": "code",
      "source": [
        "labelIndexer = [StringIndexer(inputCol='Label',outputCol='Label_index')]"
      ],
      "metadata": {
        "id": "mz3Ed-Dig2TS"
      },
      "execution_count": 78,
      "outputs": []
    },
    {
      "cell_type": "code",
      "source": [
        "from pyspark.ml import Pipeline\n",
        "\n",
        "pipeline = Pipeline(stages=indexers+encoders+labelIndexer)"
      ],
      "metadata": {
        "id": "0Z24tbe5hLz8"
      },
      "execution_count": 79,
      "outputs": []
    },
    {
      "cell_type": "code",
      "source": [
        "transformedDF = pipeline.fit(trainingData).transform(trainingData)"
      ],
      "metadata": {
        "id": "gDuPBq_ahhBS"
      },
      "execution_count": 80,
      "outputs": []
    },
    {
      "cell_type": "code",
      "source": [
        "transformedDF.toPandas().head()"
      ],
      "metadata": {
        "colab": {
          "base_uri": "https://localhost:8080/",
          "height": 386
        },
        "id": "KovED8clho7q",
        "outputId": "53d40f32-c142-4bf1-b61c-3811055f4a68"
      },
      "execution_count": 81,
      "outputs": [
        {
          "output_type": "execute_result",
          "data": {
            "text/plain": [
              "    Age    WorkClass Education  EducationNum  MaritalStatus       Occupation  \\\n",
              "0  17.0  Federal-gov      11th           7.0  Never-married     Adm-clerical   \n",
              "1  17.0    Local-gov      10th           6.0  Never-married    Other-service   \n",
              "2  17.0    Local-gov      10th           6.0  Never-married  Protective-serv   \n",
              "3  17.0    Local-gov      11th           7.0  Never-married     Adm-clerical   \n",
              "4  17.0    Local-gov      11th           7.0  Never-married     Adm-clerical   \n",
              "\n",
              "    Relationship   Race  Gender  CapitalGain  ...  Occupation_index  \\\n",
              "0  Not-in-family  Black  Female          0.0  ...               3.0   \n",
              "1      Own-child  White  Female          0.0  ...               5.0   \n",
              "2      Own-child  White  Female          0.0  ...              11.0   \n",
              "3      Own-child  White  Female          0.0  ...               3.0   \n",
              "4      Own-child  White  Female          0.0  ...               3.0   \n",
              "\n",
              "                     WorkClass_encoded  \\\n",
              "0  (0.0, 0.0, 0.0, 0.0, 0.0, 1.0, 0.0)   \n",
              "1  (0.0, 0.0, 1.0, 0.0, 0.0, 0.0, 0.0)   \n",
              "2  (0.0, 0.0, 1.0, 0.0, 0.0, 0.0, 0.0)   \n",
              "3  (0.0, 0.0, 1.0, 0.0, 0.0, 0.0, 0.0)   \n",
              "4  (0.0, 0.0, 1.0, 0.0, 0.0, 0.0, 0.0)   \n",
              "\n",
              "                                   Education_encoded  \\\n",
              "0  (0.0, 0.0, 0.0, 0.0, 0.0, 1.0, 0.0, 0.0, 0.0, ...   \n",
              "1  (0.0, 0.0, 0.0, 0.0, 0.0, 0.0, 0.0, 1.0, 0.0, ...   \n",
              "2  (0.0, 0.0, 0.0, 0.0, 0.0, 0.0, 0.0, 1.0, 0.0, ...   \n",
              "3  (0.0, 0.0, 0.0, 0.0, 0.0, 1.0, 0.0, 0.0, 0.0, ...   \n",
              "4  (0.0, 0.0, 0.0, 0.0, 0.0, 1.0, 0.0, 0.0, 0.0, ...   \n",
              "\n",
              "                 MaritalStatus_encoded            Relationship_encoded  \\\n",
              "0  (0.0, 1.0, 0.0, 0.0, 0.0, 0.0, 0.0)  (0.0, 1.0, 0.0, 0.0, 0.0, 0.0)   \n",
              "1  (0.0, 1.0, 0.0, 0.0, 0.0, 0.0, 0.0)  (0.0, 0.0, 1.0, 0.0, 0.0, 0.0)   \n",
              "2  (0.0, 1.0, 0.0, 0.0, 0.0, 0.0, 0.0)  (0.0, 0.0, 1.0, 0.0, 0.0, 0.0)   \n",
              "3  (0.0, 1.0, 0.0, 0.0, 0.0, 0.0, 0.0)  (0.0, 0.0, 1.0, 0.0, 0.0, 0.0)   \n",
              "4  (0.0, 1.0, 0.0, 0.0, 0.0, 0.0, 0.0)  (0.0, 0.0, 1.0, 0.0, 0.0, 0.0)   \n",
              "\n",
              "                Race_encoded  Gender_encoded  \\\n",
              "0  (0.0, 1.0, 0.0, 0.0, 0.0)      (0.0, 1.0)   \n",
              "1  (1.0, 0.0, 0.0, 0.0, 0.0)      (0.0, 1.0)   \n",
              "2  (1.0, 0.0, 0.0, 0.0, 0.0)      (0.0, 1.0)   \n",
              "3  (1.0, 0.0, 0.0, 0.0, 0.0)      (0.0, 1.0)   \n",
              "4  (1.0, 0.0, 0.0, 0.0, 0.0)      (0.0, 1.0)   \n",
              "\n",
              "                               NativeCountry_encoded  \\\n",
              "0  (1.0, 0.0, 0.0, 0.0, 0.0, 0.0, 0.0, 0.0, 0.0, ...   \n",
              "1  (1.0, 0.0, 0.0, 0.0, 0.0, 0.0, 0.0, 0.0, 0.0, ...   \n",
              "2  (1.0, 0.0, 0.0, 0.0, 0.0, 0.0, 0.0, 0.0, 0.0, ...   \n",
              "3  (1.0, 0.0, 0.0, 0.0, 0.0, 0.0, 0.0, 0.0, 0.0, ...   \n",
              "4  (1.0, 0.0, 0.0, 0.0, 0.0, 0.0, 0.0, 0.0, 0.0, ...   \n",
              "\n",
              "                                  Occupation_encoded  Label_index  \n",
              "0  (0.0, 0.0, 0.0, 1.0, 0.0, 0.0, 0.0, 0.0, 0.0, ...          0.0  \n",
              "1  (0.0, 0.0, 0.0, 0.0, 0.0, 1.0, 0.0, 0.0, 0.0, ...          0.0  \n",
              "2  (0.0, 0.0, 0.0, 0.0, 0.0, 0.0, 0.0, 0.0, 0.0, ...          0.0  \n",
              "3  (0.0, 0.0, 0.0, 1.0, 0.0, 0.0, 0.0, 0.0, 0.0, ...          0.0  \n",
              "4  (0.0, 0.0, 0.0, 1.0, 0.0, 0.0, 0.0, 0.0, 0.0, ...          0.0  \n",
              "\n",
              "[5 rows x 31 columns]"
            ],
            "text/html": [
              "\n",
              "  <div id=\"df-c7973e4f-6270-4bbe-8a10-76fd2af36a75\">\n",
              "    <div class=\"colab-df-container\">\n",
              "      <div>\n",
              "<style scoped>\n",
              "    .dataframe tbody tr th:only-of-type {\n",
              "        vertical-align: middle;\n",
              "    }\n",
              "\n",
              "    .dataframe tbody tr th {\n",
              "        vertical-align: top;\n",
              "    }\n",
              "\n",
              "    .dataframe thead th {\n",
              "        text-align: right;\n",
              "    }\n",
              "</style>\n",
              "<table border=\"1\" class=\"dataframe\">\n",
              "  <thead>\n",
              "    <tr style=\"text-align: right;\">\n",
              "      <th></th>\n",
              "      <th>Age</th>\n",
              "      <th>WorkClass</th>\n",
              "      <th>Education</th>\n",
              "      <th>EducationNum</th>\n",
              "      <th>MaritalStatus</th>\n",
              "      <th>Occupation</th>\n",
              "      <th>Relationship</th>\n",
              "      <th>Race</th>\n",
              "      <th>Gender</th>\n",
              "      <th>CapitalGain</th>\n",
              "      <th>...</th>\n",
              "      <th>Occupation_index</th>\n",
              "      <th>WorkClass_encoded</th>\n",
              "      <th>Education_encoded</th>\n",
              "      <th>MaritalStatus_encoded</th>\n",
              "      <th>Relationship_encoded</th>\n",
              "      <th>Race_encoded</th>\n",
              "      <th>Gender_encoded</th>\n",
              "      <th>NativeCountry_encoded</th>\n",
              "      <th>Occupation_encoded</th>\n",
              "      <th>Label_index</th>\n",
              "    </tr>\n",
              "  </thead>\n",
              "  <tbody>\n",
              "    <tr>\n",
              "      <th>0</th>\n",
              "      <td>17.0</td>\n",
              "      <td>Federal-gov</td>\n",
              "      <td>11th</td>\n",
              "      <td>7.0</td>\n",
              "      <td>Never-married</td>\n",
              "      <td>Adm-clerical</td>\n",
              "      <td>Not-in-family</td>\n",
              "      <td>Black</td>\n",
              "      <td>Female</td>\n",
              "      <td>0.0</td>\n",
              "      <td>...</td>\n",
              "      <td>3.0</td>\n",
              "      <td>(0.0, 0.0, 0.0, 0.0, 0.0, 1.0, 0.0)</td>\n",
              "      <td>(0.0, 0.0, 0.0, 0.0, 0.0, 1.0, 0.0, 0.0, 0.0, ...</td>\n",
              "      <td>(0.0, 1.0, 0.0, 0.0, 0.0, 0.0, 0.0)</td>\n",
              "      <td>(0.0, 1.0, 0.0, 0.0, 0.0, 0.0)</td>\n",
              "      <td>(0.0, 1.0, 0.0, 0.0, 0.0)</td>\n",
              "      <td>(0.0, 1.0)</td>\n",
              "      <td>(1.0, 0.0, 0.0, 0.0, 0.0, 0.0, 0.0, 0.0, 0.0, ...</td>\n",
              "      <td>(0.0, 0.0, 0.0, 1.0, 0.0, 0.0, 0.0, 0.0, 0.0, ...</td>\n",
              "      <td>0.0</td>\n",
              "    </tr>\n",
              "    <tr>\n",
              "      <th>1</th>\n",
              "      <td>17.0</td>\n",
              "      <td>Local-gov</td>\n",
              "      <td>10th</td>\n",
              "      <td>6.0</td>\n",
              "      <td>Never-married</td>\n",
              "      <td>Other-service</td>\n",
              "      <td>Own-child</td>\n",
              "      <td>White</td>\n",
              "      <td>Female</td>\n",
              "      <td>0.0</td>\n",
              "      <td>...</td>\n",
              "      <td>5.0</td>\n",
              "      <td>(0.0, 0.0, 1.0, 0.0, 0.0, 0.0, 0.0)</td>\n",
              "      <td>(0.0, 0.0, 0.0, 0.0, 0.0, 0.0, 0.0, 1.0, 0.0, ...</td>\n",
              "      <td>(0.0, 1.0, 0.0, 0.0, 0.0, 0.0, 0.0)</td>\n",
              "      <td>(0.0, 0.0, 1.0, 0.0, 0.0, 0.0)</td>\n",
              "      <td>(1.0, 0.0, 0.0, 0.0, 0.0)</td>\n",
              "      <td>(0.0, 1.0)</td>\n",
              "      <td>(1.0, 0.0, 0.0, 0.0, 0.0, 0.0, 0.0, 0.0, 0.0, ...</td>\n",
              "      <td>(0.0, 0.0, 0.0, 0.0, 0.0, 1.0, 0.0, 0.0, 0.0, ...</td>\n",
              "      <td>0.0</td>\n",
              "    </tr>\n",
              "    <tr>\n",
              "      <th>2</th>\n",
              "      <td>17.0</td>\n",
              "      <td>Local-gov</td>\n",
              "      <td>10th</td>\n",
              "      <td>6.0</td>\n",
              "      <td>Never-married</td>\n",
              "      <td>Protective-serv</td>\n",
              "      <td>Own-child</td>\n",
              "      <td>White</td>\n",
              "      <td>Female</td>\n",
              "      <td>0.0</td>\n",
              "      <td>...</td>\n",
              "      <td>11.0</td>\n",
              "      <td>(0.0, 0.0, 1.0, 0.0, 0.0, 0.0, 0.0)</td>\n",
              "      <td>(0.0, 0.0, 0.0, 0.0, 0.0, 0.0, 0.0, 1.0, 0.0, ...</td>\n",
              "      <td>(0.0, 1.0, 0.0, 0.0, 0.0, 0.0, 0.0)</td>\n",
              "      <td>(0.0, 0.0, 1.0, 0.0, 0.0, 0.0)</td>\n",
              "      <td>(1.0, 0.0, 0.0, 0.0, 0.0)</td>\n",
              "      <td>(0.0, 1.0)</td>\n",
              "      <td>(1.0, 0.0, 0.0, 0.0, 0.0, 0.0, 0.0, 0.0, 0.0, ...</td>\n",
              "      <td>(0.0, 0.0, 0.0, 0.0, 0.0, 0.0, 0.0, 0.0, 0.0, ...</td>\n",
              "      <td>0.0</td>\n",
              "    </tr>\n",
              "    <tr>\n",
              "      <th>3</th>\n",
              "      <td>17.0</td>\n",
              "      <td>Local-gov</td>\n",
              "      <td>11th</td>\n",
              "      <td>7.0</td>\n",
              "      <td>Never-married</td>\n",
              "      <td>Adm-clerical</td>\n",
              "      <td>Own-child</td>\n",
              "      <td>White</td>\n",
              "      <td>Female</td>\n",
              "      <td>0.0</td>\n",
              "      <td>...</td>\n",
              "      <td>3.0</td>\n",
              "      <td>(0.0, 0.0, 1.0, 0.0, 0.0, 0.0, 0.0)</td>\n",
              "      <td>(0.0, 0.0, 0.0, 0.0, 0.0, 1.0, 0.0, 0.0, 0.0, ...</td>\n",
              "      <td>(0.0, 1.0, 0.0, 0.0, 0.0, 0.0, 0.0)</td>\n",
              "      <td>(0.0, 0.0, 1.0, 0.0, 0.0, 0.0)</td>\n",
              "      <td>(1.0, 0.0, 0.0, 0.0, 0.0)</td>\n",
              "      <td>(0.0, 1.0)</td>\n",
              "      <td>(1.0, 0.0, 0.0, 0.0, 0.0, 0.0, 0.0, 0.0, 0.0, ...</td>\n",
              "      <td>(0.0, 0.0, 0.0, 1.0, 0.0, 0.0, 0.0, 0.0, 0.0, ...</td>\n",
              "      <td>0.0</td>\n",
              "    </tr>\n",
              "    <tr>\n",
              "      <th>4</th>\n",
              "      <td>17.0</td>\n",
              "      <td>Local-gov</td>\n",
              "      <td>11th</td>\n",
              "      <td>7.0</td>\n",
              "      <td>Never-married</td>\n",
              "      <td>Adm-clerical</td>\n",
              "      <td>Own-child</td>\n",
              "      <td>White</td>\n",
              "      <td>Female</td>\n",
              "      <td>0.0</td>\n",
              "      <td>...</td>\n",
              "      <td>3.0</td>\n",
              "      <td>(0.0, 0.0, 1.0, 0.0, 0.0, 0.0, 0.0)</td>\n",
              "      <td>(0.0, 0.0, 0.0, 0.0, 0.0, 1.0, 0.0, 0.0, 0.0, ...</td>\n",
              "      <td>(0.0, 1.0, 0.0, 0.0, 0.0, 0.0, 0.0)</td>\n",
              "      <td>(0.0, 0.0, 1.0, 0.0, 0.0, 0.0)</td>\n",
              "      <td>(1.0, 0.0, 0.0, 0.0, 0.0)</td>\n",
              "      <td>(0.0, 1.0)</td>\n",
              "      <td>(1.0, 0.0, 0.0, 0.0, 0.0, 0.0, 0.0, 0.0, 0.0, ...</td>\n",
              "      <td>(0.0, 0.0, 0.0, 1.0, 0.0, 0.0, 0.0, 0.0, 0.0, ...</td>\n",
              "      <td>0.0</td>\n",
              "    </tr>\n",
              "  </tbody>\n",
              "</table>\n",
              "<p>5 rows × 31 columns</p>\n",
              "</div>\n",
              "      <button class=\"colab-df-convert\" onclick=\"convertToInteractive('df-c7973e4f-6270-4bbe-8a10-76fd2af36a75')\"\n",
              "              title=\"Convert this dataframe to an interactive table.\"\n",
              "              style=\"display:none;\">\n",
              "        \n",
              "  <svg xmlns=\"http://www.w3.org/2000/svg\" height=\"24px\"viewBox=\"0 0 24 24\"\n",
              "       width=\"24px\">\n",
              "    <path d=\"M0 0h24v24H0V0z\" fill=\"none\"/>\n",
              "    <path d=\"M18.56 5.44l.94 2.06.94-2.06 2.06-.94-2.06-.94-.94-2.06-.94 2.06-2.06.94zm-11 1L8.5 8.5l.94-2.06 2.06-.94-2.06-.94L8.5 2.5l-.94 2.06-2.06.94zm10 10l.94 2.06.94-2.06 2.06-.94-2.06-.94-.94-2.06-.94 2.06-2.06.94z\"/><path d=\"M17.41 7.96l-1.37-1.37c-.4-.4-.92-.59-1.43-.59-.52 0-1.04.2-1.43.59L10.3 9.45l-7.72 7.72c-.78.78-.78 2.05 0 2.83L4 21.41c.39.39.9.59 1.41.59.51 0 1.02-.2 1.41-.59l7.78-7.78 2.81-2.81c.8-.78.8-2.07 0-2.86zM5.41 20L4 18.59l7.72-7.72 1.47 1.35L5.41 20z\"/>\n",
              "  </svg>\n",
              "      </button>\n",
              "      \n",
              "  <style>\n",
              "    .colab-df-container {\n",
              "      display:flex;\n",
              "      flex-wrap:wrap;\n",
              "      gap: 12px;\n",
              "    }\n",
              "\n",
              "    .colab-df-convert {\n",
              "      background-color: #E8F0FE;\n",
              "      border: none;\n",
              "      border-radius: 50%;\n",
              "      cursor: pointer;\n",
              "      display: none;\n",
              "      fill: #1967D2;\n",
              "      height: 32px;\n",
              "      padding: 0 0 0 0;\n",
              "      width: 32px;\n",
              "    }\n",
              "\n",
              "    .colab-df-convert:hover {\n",
              "      background-color: #E2EBFA;\n",
              "      box-shadow: 0px 1px 2px rgba(60, 64, 67, 0.3), 0px 1px 3px 1px rgba(60, 64, 67, 0.15);\n",
              "      fill: #174EA6;\n",
              "    }\n",
              "\n",
              "    [theme=dark] .colab-df-convert {\n",
              "      background-color: #3B4455;\n",
              "      fill: #D2E3FC;\n",
              "    }\n",
              "\n",
              "    [theme=dark] .colab-df-convert:hover {\n",
              "      background-color: #434B5C;\n",
              "      box-shadow: 0px 1px 3px 1px rgba(0, 0, 0, 0.15);\n",
              "      filter: drop-shadow(0px 1px 2px rgba(0, 0, 0, 0.3));\n",
              "      fill: #FFFFFF;\n",
              "    }\n",
              "  </style>\n",
              "\n",
              "      <script>\n",
              "        const buttonEl =\n",
              "          document.querySelector('#df-c7973e4f-6270-4bbe-8a10-76fd2af36a75 button.colab-df-convert');\n",
              "        buttonEl.style.display =\n",
              "          google.colab.kernel.accessAllowed ? 'block' : 'none';\n",
              "\n",
              "        async function convertToInteractive(key) {\n",
              "          const element = document.querySelector('#df-c7973e4f-6270-4bbe-8a10-76fd2af36a75');\n",
              "          const dataTable =\n",
              "            await google.colab.kernel.invokeFunction('convertToInteractive',\n",
              "                                                     [key], {});\n",
              "          if (!dataTable) return;\n",
              "\n",
              "          const docLinkHtml = 'Like what you see? Visit the ' +\n",
              "            '<a target=\"_blank\" href=https://colab.research.google.com/notebooks/data_table.ipynb>data table notebook</a>'\n",
              "            + ' to learn more about interactive tables.';\n",
              "          element.innerHTML = '';\n",
              "          dataTable['output_type'] = 'display_data';\n",
              "          await google.colab.output.renderOutput(dataTable, element);\n",
              "          const docLink = document.createElement('div');\n",
              "          docLink.innerHTML = docLinkHtml;\n",
              "          element.appendChild(docLink);\n",
              "        }\n",
              "      </script>\n",
              "    </div>\n",
              "  </div>\n",
              "  "
            ]
          },
          "metadata": {},
          "execution_count": 81
        }
      ]
    },
    {
      "cell_type": "code",
      "source": [
        "requiredFeatures =[\n",
        "    'Age',\n",
        "    'EducationNum',\n",
        "    'CapitalGain',\n",
        "    'CapitalGain',\n",
        "    'HoursPerWeek',\n",
        "    'WorkClass_encoded',\n",
        "    'Education_encoded',\n",
        "    'MaritalStatus_encoded',\n",
        "    'Occupation_encoded',\n",
        "    'Relationship_encoded',\n",
        "    'Race_encoded',\n",
        "    'Gender_encoded',\n",
        "    'NativeCountry_encoded'\n",
        "]"
      ],
      "metadata": {
        "id": "9JhC8r6chrgZ"
      },
      "execution_count": 82,
      "outputs": []
    },
    {
      "cell_type": "code",
      "source": [
        "from pyspark.ml.feature import VectorAssembler\n",
        "\n",
        "assembler = VectorAssembler(inputCols=requiredFeatures, outputCol='features')"
      ],
      "metadata": {
        "id": "PrtumiTSiWEa"
      },
      "execution_count": 83,
      "outputs": []
    },
    {
      "cell_type": "code",
      "source": [
        "transformedDF = assembler.transform(transformedDF)\n",
        "transformedDF.toPandas().head()"
      ],
      "metadata": {
        "colab": {
          "base_uri": "https://localhost:8080/",
          "height": 647
        },
        "id": "EwHbGwS2isBg",
        "outputId": "04fc0987-9e43-4b43-90da-df5cf8a7fc49"
      },
      "execution_count": 84,
      "outputs": [
        {
          "output_type": "execute_result",
          "data": {
            "text/plain": [
              "    Age    WorkClass Education  EducationNum  MaritalStatus       Occupation  \\\n",
              "0  17.0  Federal-gov      11th           7.0  Never-married     Adm-clerical   \n",
              "1  17.0    Local-gov      10th           6.0  Never-married    Other-service   \n",
              "2  17.0    Local-gov      10th           6.0  Never-married  Protective-serv   \n",
              "3  17.0    Local-gov      11th           7.0  Never-married     Adm-clerical   \n",
              "4  17.0    Local-gov      11th           7.0  Never-married     Adm-clerical   \n",
              "\n",
              "    Relationship   Race  Gender  CapitalGain  ...  \\\n",
              "0  Not-in-family  Black  Female          0.0  ...   \n",
              "1      Own-child  White  Female          0.0  ...   \n",
              "2      Own-child  White  Female          0.0  ...   \n",
              "3      Own-child  White  Female          0.0  ...   \n",
              "4      Own-child  White  Female          0.0  ...   \n",
              "\n",
              "                     WorkClass_encoded  \\\n",
              "0  (0.0, 0.0, 0.0, 0.0, 0.0, 1.0, 0.0)   \n",
              "1  (0.0, 0.0, 1.0, 0.0, 0.0, 0.0, 0.0)   \n",
              "2  (0.0, 0.0, 1.0, 0.0, 0.0, 0.0, 0.0)   \n",
              "3  (0.0, 0.0, 1.0, 0.0, 0.0, 0.0, 0.0)   \n",
              "4  (0.0, 0.0, 1.0, 0.0, 0.0, 0.0, 0.0)   \n",
              "\n",
              "                                   Education_encoded  \\\n",
              "0  (0.0, 0.0, 0.0, 0.0, 0.0, 1.0, 0.0, 0.0, 0.0, ...   \n",
              "1  (0.0, 0.0, 0.0, 0.0, 0.0, 0.0, 0.0, 1.0, 0.0, ...   \n",
              "2  (0.0, 0.0, 0.0, 0.0, 0.0, 0.0, 0.0, 1.0, 0.0, ...   \n",
              "3  (0.0, 0.0, 0.0, 0.0, 0.0, 1.0, 0.0, 0.0, 0.0, ...   \n",
              "4  (0.0, 0.0, 0.0, 0.0, 0.0, 1.0, 0.0, 0.0, 0.0, ...   \n",
              "\n",
              "                 MaritalStatus_encoded            Relationship_encoded  \\\n",
              "0  (0.0, 1.0, 0.0, 0.0, 0.0, 0.0, 0.0)  (0.0, 1.0, 0.0, 0.0, 0.0, 0.0)   \n",
              "1  (0.0, 1.0, 0.0, 0.0, 0.0, 0.0, 0.0)  (0.0, 0.0, 1.0, 0.0, 0.0, 0.0)   \n",
              "2  (0.0, 1.0, 0.0, 0.0, 0.0, 0.0, 0.0)  (0.0, 0.0, 1.0, 0.0, 0.0, 0.0)   \n",
              "3  (0.0, 1.0, 0.0, 0.0, 0.0, 0.0, 0.0)  (0.0, 0.0, 1.0, 0.0, 0.0, 0.0)   \n",
              "4  (0.0, 1.0, 0.0, 0.0, 0.0, 0.0, 0.0)  (0.0, 0.0, 1.0, 0.0, 0.0, 0.0)   \n",
              "\n",
              "                Race_encoded  Gender_encoded  \\\n",
              "0  (0.0, 1.0, 0.0, 0.0, 0.0)      (0.0, 1.0)   \n",
              "1  (1.0, 0.0, 0.0, 0.0, 0.0)      (0.0, 1.0)   \n",
              "2  (1.0, 0.0, 0.0, 0.0, 0.0)      (0.0, 1.0)   \n",
              "3  (1.0, 0.0, 0.0, 0.0, 0.0)      (0.0, 1.0)   \n",
              "4  (1.0, 0.0, 0.0, 0.0, 0.0)      (0.0, 1.0)   \n",
              "\n",
              "                               NativeCountry_encoded  \\\n",
              "0  (1.0, 0.0, 0.0, 0.0, 0.0, 0.0, 0.0, 0.0, 0.0, ...   \n",
              "1  (1.0, 0.0, 0.0, 0.0, 0.0, 0.0, 0.0, 0.0, 0.0, ...   \n",
              "2  (1.0, 0.0, 0.0, 0.0, 0.0, 0.0, 0.0, 0.0, 0.0, ...   \n",
              "3  (1.0, 0.0, 0.0, 0.0, 0.0, 0.0, 0.0, 0.0, 0.0, ...   \n",
              "4  (1.0, 0.0, 0.0, 0.0, 0.0, 0.0, 0.0, 0.0, 0.0, ...   \n",
              "\n",
              "                                  Occupation_encoded  Label_index  \\\n",
              "0  (0.0, 0.0, 0.0, 1.0, 0.0, 0.0, 0.0, 0.0, 0.0, ...          0.0   \n",
              "1  (0.0, 0.0, 0.0, 0.0, 0.0, 1.0, 0.0, 0.0, 0.0, ...          0.0   \n",
              "2  (0.0, 0.0, 0.0, 0.0, 0.0, 0.0, 0.0, 0.0, 0.0, ...          0.0   \n",
              "3  (0.0, 0.0, 0.0, 1.0, 0.0, 0.0, 0.0, 0.0, 0.0, ...          0.0   \n",
              "4  (0.0, 0.0, 0.0, 1.0, 0.0, 0.0, 0.0, 0.0, 0.0, ...          0.0   \n",
              "\n",
              "                                            features  \n",
              "0  (17.0, 7.0, 0.0, 0.0, 40.0, 0.0, 0.0, 0.0, 0.0...  \n",
              "1  (17.0, 6.0, 0.0, 0.0, 25.0, 0.0, 0.0, 1.0, 0.0...  \n",
              "2  (17.0, 6.0, 0.0, 0.0, 40.0, 0.0, 0.0, 1.0, 0.0...  \n",
              "3  (17.0, 7.0, 0.0, 0.0, 12.0, 0.0, 0.0, 1.0, 0.0...  \n",
              "4  (17.0, 7.0, 0.0, 0.0, 15.0, 0.0, 0.0, 1.0, 0.0...  \n",
              "\n",
              "[5 rows x 32 columns]"
            ],
            "text/html": [
              "\n",
              "  <div id=\"df-750ad5ec-13f5-426c-a2c8-be6bb4cea490\">\n",
              "    <div class=\"colab-df-container\">\n",
              "      <div>\n",
              "<style scoped>\n",
              "    .dataframe tbody tr th:only-of-type {\n",
              "        vertical-align: middle;\n",
              "    }\n",
              "\n",
              "    .dataframe tbody tr th {\n",
              "        vertical-align: top;\n",
              "    }\n",
              "\n",
              "    .dataframe thead th {\n",
              "        text-align: right;\n",
              "    }\n",
              "</style>\n",
              "<table border=\"1\" class=\"dataframe\">\n",
              "  <thead>\n",
              "    <tr style=\"text-align: right;\">\n",
              "      <th></th>\n",
              "      <th>Age</th>\n",
              "      <th>WorkClass</th>\n",
              "      <th>Education</th>\n",
              "      <th>EducationNum</th>\n",
              "      <th>MaritalStatus</th>\n",
              "      <th>Occupation</th>\n",
              "      <th>Relationship</th>\n",
              "      <th>Race</th>\n",
              "      <th>Gender</th>\n",
              "      <th>CapitalGain</th>\n",
              "      <th>...</th>\n",
              "      <th>WorkClass_encoded</th>\n",
              "      <th>Education_encoded</th>\n",
              "      <th>MaritalStatus_encoded</th>\n",
              "      <th>Relationship_encoded</th>\n",
              "      <th>Race_encoded</th>\n",
              "      <th>Gender_encoded</th>\n",
              "      <th>NativeCountry_encoded</th>\n",
              "      <th>Occupation_encoded</th>\n",
              "      <th>Label_index</th>\n",
              "      <th>features</th>\n",
              "    </tr>\n",
              "  </thead>\n",
              "  <tbody>\n",
              "    <tr>\n",
              "      <th>0</th>\n",
              "      <td>17.0</td>\n",
              "      <td>Federal-gov</td>\n",
              "      <td>11th</td>\n",
              "      <td>7.0</td>\n",
              "      <td>Never-married</td>\n",
              "      <td>Adm-clerical</td>\n",
              "      <td>Not-in-family</td>\n",
              "      <td>Black</td>\n",
              "      <td>Female</td>\n",
              "      <td>0.0</td>\n",
              "      <td>...</td>\n",
              "      <td>(0.0, 0.0, 0.0, 0.0, 0.0, 1.0, 0.0)</td>\n",
              "      <td>(0.0, 0.0, 0.0, 0.0, 0.0, 1.0, 0.0, 0.0, 0.0, ...</td>\n",
              "      <td>(0.0, 1.0, 0.0, 0.0, 0.0, 0.0, 0.0)</td>\n",
              "      <td>(0.0, 1.0, 0.0, 0.0, 0.0, 0.0)</td>\n",
              "      <td>(0.0, 1.0, 0.0, 0.0, 0.0)</td>\n",
              "      <td>(0.0, 1.0)</td>\n",
              "      <td>(1.0, 0.0, 0.0, 0.0, 0.0, 0.0, 0.0, 0.0, 0.0, ...</td>\n",
              "      <td>(0.0, 0.0, 0.0, 1.0, 0.0, 0.0, 0.0, 0.0, 0.0, ...</td>\n",
              "      <td>0.0</td>\n",
              "      <td>(17.0, 7.0, 0.0, 0.0, 40.0, 0.0, 0.0, 0.0, 0.0...</td>\n",
              "    </tr>\n",
              "    <tr>\n",
              "      <th>1</th>\n",
              "      <td>17.0</td>\n",
              "      <td>Local-gov</td>\n",
              "      <td>10th</td>\n",
              "      <td>6.0</td>\n",
              "      <td>Never-married</td>\n",
              "      <td>Other-service</td>\n",
              "      <td>Own-child</td>\n",
              "      <td>White</td>\n",
              "      <td>Female</td>\n",
              "      <td>0.0</td>\n",
              "      <td>...</td>\n",
              "      <td>(0.0, 0.0, 1.0, 0.0, 0.0, 0.0, 0.0)</td>\n",
              "      <td>(0.0, 0.0, 0.0, 0.0, 0.0, 0.0, 0.0, 1.0, 0.0, ...</td>\n",
              "      <td>(0.0, 1.0, 0.0, 0.0, 0.0, 0.0, 0.0)</td>\n",
              "      <td>(0.0, 0.0, 1.0, 0.0, 0.0, 0.0)</td>\n",
              "      <td>(1.0, 0.0, 0.0, 0.0, 0.0)</td>\n",
              "      <td>(0.0, 1.0)</td>\n",
              "      <td>(1.0, 0.0, 0.0, 0.0, 0.0, 0.0, 0.0, 0.0, 0.0, ...</td>\n",
              "      <td>(0.0, 0.0, 0.0, 0.0, 0.0, 1.0, 0.0, 0.0, 0.0, ...</td>\n",
              "      <td>0.0</td>\n",
              "      <td>(17.0, 6.0, 0.0, 0.0, 25.0, 0.0, 0.0, 1.0, 0.0...</td>\n",
              "    </tr>\n",
              "    <tr>\n",
              "      <th>2</th>\n",
              "      <td>17.0</td>\n",
              "      <td>Local-gov</td>\n",
              "      <td>10th</td>\n",
              "      <td>6.0</td>\n",
              "      <td>Never-married</td>\n",
              "      <td>Protective-serv</td>\n",
              "      <td>Own-child</td>\n",
              "      <td>White</td>\n",
              "      <td>Female</td>\n",
              "      <td>0.0</td>\n",
              "      <td>...</td>\n",
              "      <td>(0.0, 0.0, 1.0, 0.0, 0.0, 0.0, 0.0)</td>\n",
              "      <td>(0.0, 0.0, 0.0, 0.0, 0.0, 0.0, 0.0, 1.0, 0.0, ...</td>\n",
              "      <td>(0.0, 1.0, 0.0, 0.0, 0.0, 0.0, 0.0)</td>\n",
              "      <td>(0.0, 0.0, 1.0, 0.0, 0.0, 0.0)</td>\n",
              "      <td>(1.0, 0.0, 0.0, 0.0, 0.0)</td>\n",
              "      <td>(0.0, 1.0)</td>\n",
              "      <td>(1.0, 0.0, 0.0, 0.0, 0.0, 0.0, 0.0, 0.0, 0.0, ...</td>\n",
              "      <td>(0.0, 0.0, 0.0, 0.0, 0.0, 0.0, 0.0, 0.0, 0.0, ...</td>\n",
              "      <td>0.0</td>\n",
              "      <td>(17.0, 6.0, 0.0, 0.0, 40.0, 0.0, 0.0, 1.0, 0.0...</td>\n",
              "    </tr>\n",
              "    <tr>\n",
              "      <th>3</th>\n",
              "      <td>17.0</td>\n",
              "      <td>Local-gov</td>\n",
              "      <td>11th</td>\n",
              "      <td>7.0</td>\n",
              "      <td>Never-married</td>\n",
              "      <td>Adm-clerical</td>\n",
              "      <td>Own-child</td>\n",
              "      <td>White</td>\n",
              "      <td>Female</td>\n",
              "      <td>0.0</td>\n",
              "      <td>...</td>\n",
              "      <td>(0.0, 0.0, 1.0, 0.0, 0.0, 0.0, 0.0)</td>\n",
              "      <td>(0.0, 0.0, 0.0, 0.0, 0.0, 1.0, 0.0, 0.0, 0.0, ...</td>\n",
              "      <td>(0.0, 1.0, 0.0, 0.0, 0.0, 0.0, 0.0)</td>\n",
              "      <td>(0.0, 0.0, 1.0, 0.0, 0.0, 0.0)</td>\n",
              "      <td>(1.0, 0.0, 0.0, 0.0, 0.0)</td>\n",
              "      <td>(0.0, 1.0)</td>\n",
              "      <td>(1.0, 0.0, 0.0, 0.0, 0.0, 0.0, 0.0, 0.0, 0.0, ...</td>\n",
              "      <td>(0.0, 0.0, 0.0, 1.0, 0.0, 0.0, 0.0, 0.0, 0.0, ...</td>\n",
              "      <td>0.0</td>\n",
              "      <td>(17.0, 7.0, 0.0, 0.0, 12.0, 0.0, 0.0, 1.0, 0.0...</td>\n",
              "    </tr>\n",
              "    <tr>\n",
              "      <th>4</th>\n",
              "      <td>17.0</td>\n",
              "      <td>Local-gov</td>\n",
              "      <td>11th</td>\n",
              "      <td>7.0</td>\n",
              "      <td>Never-married</td>\n",
              "      <td>Adm-clerical</td>\n",
              "      <td>Own-child</td>\n",
              "      <td>White</td>\n",
              "      <td>Female</td>\n",
              "      <td>0.0</td>\n",
              "      <td>...</td>\n",
              "      <td>(0.0, 0.0, 1.0, 0.0, 0.0, 0.0, 0.0)</td>\n",
              "      <td>(0.0, 0.0, 0.0, 0.0, 0.0, 1.0, 0.0, 0.0, 0.0, ...</td>\n",
              "      <td>(0.0, 1.0, 0.0, 0.0, 0.0, 0.0, 0.0)</td>\n",
              "      <td>(0.0, 0.0, 1.0, 0.0, 0.0, 0.0)</td>\n",
              "      <td>(1.0, 0.0, 0.0, 0.0, 0.0)</td>\n",
              "      <td>(0.0, 1.0)</td>\n",
              "      <td>(1.0, 0.0, 0.0, 0.0, 0.0, 0.0, 0.0, 0.0, 0.0, ...</td>\n",
              "      <td>(0.0, 0.0, 0.0, 1.0, 0.0, 0.0, 0.0, 0.0, 0.0, ...</td>\n",
              "      <td>0.0</td>\n",
              "      <td>(17.0, 7.0, 0.0, 0.0, 15.0, 0.0, 0.0, 1.0, 0.0...</td>\n",
              "    </tr>\n",
              "  </tbody>\n",
              "</table>\n",
              "<p>5 rows × 32 columns</p>\n",
              "</div>\n",
              "      <button class=\"colab-df-convert\" onclick=\"convertToInteractive('df-750ad5ec-13f5-426c-a2c8-be6bb4cea490')\"\n",
              "              title=\"Convert this dataframe to an interactive table.\"\n",
              "              style=\"display:none;\">\n",
              "        \n",
              "  <svg xmlns=\"http://www.w3.org/2000/svg\" height=\"24px\"viewBox=\"0 0 24 24\"\n",
              "       width=\"24px\">\n",
              "    <path d=\"M0 0h24v24H0V0z\" fill=\"none\"/>\n",
              "    <path d=\"M18.56 5.44l.94 2.06.94-2.06 2.06-.94-2.06-.94-.94-2.06-.94 2.06-2.06.94zm-11 1L8.5 8.5l.94-2.06 2.06-.94-2.06-.94L8.5 2.5l-.94 2.06-2.06.94zm10 10l.94 2.06.94-2.06 2.06-.94-2.06-.94-.94-2.06-.94 2.06-2.06.94z\"/><path d=\"M17.41 7.96l-1.37-1.37c-.4-.4-.92-.59-1.43-.59-.52 0-1.04.2-1.43.59L10.3 9.45l-7.72 7.72c-.78.78-.78 2.05 0 2.83L4 21.41c.39.39.9.59 1.41.59.51 0 1.02-.2 1.41-.59l7.78-7.78 2.81-2.81c.8-.78.8-2.07 0-2.86zM5.41 20L4 18.59l7.72-7.72 1.47 1.35L5.41 20z\"/>\n",
              "  </svg>\n",
              "      </button>\n",
              "      \n",
              "  <style>\n",
              "    .colab-df-container {\n",
              "      display:flex;\n",
              "      flex-wrap:wrap;\n",
              "      gap: 12px;\n",
              "    }\n",
              "\n",
              "    .colab-df-convert {\n",
              "      background-color: #E8F0FE;\n",
              "      border: none;\n",
              "      border-radius: 50%;\n",
              "      cursor: pointer;\n",
              "      display: none;\n",
              "      fill: #1967D2;\n",
              "      height: 32px;\n",
              "      padding: 0 0 0 0;\n",
              "      width: 32px;\n",
              "    }\n",
              "\n",
              "    .colab-df-convert:hover {\n",
              "      background-color: #E2EBFA;\n",
              "      box-shadow: 0px 1px 2px rgba(60, 64, 67, 0.3), 0px 1px 3px 1px rgba(60, 64, 67, 0.15);\n",
              "      fill: #174EA6;\n",
              "    }\n",
              "\n",
              "    [theme=dark] .colab-df-convert {\n",
              "      background-color: #3B4455;\n",
              "      fill: #D2E3FC;\n",
              "    }\n",
              "\n",
              "    [theme=dark] .colab-df-convert:hover {\n",
              "      background-color: #434B5C;\n",
              "      box-shadow: 0px 1px 3px 1px rgba(0, 0, 0, 0.15);\n",
              "      filter: drop-shadow(0px 1px 2px rgba(0, 0, 0, 0.3));\n",
              "      fill: #FFFFFF;\n",
              "    }\n",
              "  </style>\n",
              "\n",
              "      <script>\n",
              "        const buttonEl =\n",
              "          document.querySelector('#df-750ad5ec-13f5-426c-a2c8-be6bb4cea490 button.colab-df-convert');\n",
              "        buttonEl.style.display =\n",
              "          google.colab.kernel.accessAllowed ? 'block' : 'none';\n",
              "\n",
              "        async function convertToInteractive(key) {\n",
              "          const element = document.querySelector('#df-750ad5ec-13f5-426c-a2c8-be6bb4cea490');\n",
              "          const dataTable =\n",
              "            await google.colab.kernel.invokeFunction('convertToInteractive',\n",
              "                                                     [key], {});\n",
              "          if (!dataTable) return;\n",
              "\n",
              "          const docLinkHtml = 'Like what you see? Visit the ' +\n",
              "            '<a target=\"_blank\" href=https://colab.research.google.com/notebooks/data_table.ipynb>data table notebook</a>'\n",
              "            + ' to learn more about interactive tables.';\n",
              "          element.innerHTML = '';\n",
              "          dataTable['output_type'] = 'display_data';\n",
              "          await google.colab.output.renderOutput(dataTable, element);\n",
              "          const docLink = document.createElement('div');\n",
              "          docLink.innerHTML = docLinkHtml;\n",
              "          element.appendChild(docLink);\n",
              "        }\n",
              "      </script>\n",
              "    </div>\n",
              "  </div>\n",
              "  "
            ]
          },
          "metadata": {},
          "execution_count": 84
        }
      ]
    },
    {
      "cell_type": "code",
      "source": [
        "transformedDF.select('features').toPandas().head()"
      ],
      "metadata": {
        "colab": {
          "base_uri": "https://localhost:8080/",
          "height": 206
        },
        "id": "5sHWIglni080",
        "outputId": "415d2d25-c8a2-4b51-e77e-f35f27588a2e"
      },
      "execution_count": 85,
      "outputs": [
        {
          "output_type": "execute_result",
          "data": {
            "text/plain": [
              "                                            features\n",
              "0  (17.0, 7.0, 0.0, 0.0, 40.0, 0.0, 0.0, 0.0, 0.0...\n",
              "1  (17.0, 6.0, 0.0, 0.0, 25.0, 0.0, 0.0, 1.0, 0.0...\n",
              "2  (17.0, 6.0, 0.0, 0.0, 40.0, 0.0, 0.0, 1.0, 0.0...\n",
              "3  (17.0, 7.0, 0.0, 0.0, 12.0, 0.0, 0.0, 1.0, 0.0...\n",
              "4  (17.0, 7.0, 0.0, 0.0, 15.0, 0.0, 0.0, 1.0, 0.0..."
            ],
            "text/html": [
              "\n",
              "  <div id=\"df-f72b7497-d66d-46df-98d4-ec7e7595990d\">\n",
              "    <div class=\"colab-df-container\">\n",
              "      <div>\n",
              "<style scoped>\n",
              "    .dataframe tbody tr th:only-of-type {\n",
              "        vertical-align: middle;\n",
              "    }\n",
              "\n",
              "    .dataframe tbody tr th {\n",
              "        vertical-align: top;\n",
              "    }\n",
              "\n",
              "    .dataframe thead th {\n",
              "        text-align: right;\n",
              "    }\n",
              "</style>\n",
              "<table border=\"1\" class=\"dataframe\">\n",
              "  <thead>\n",
              "    <tr style=\"text-align: right;\">\n",
              "      <th></th>\n",
              "      <th>features</th>\n",
              "    </tr>\n",
              "  </thead>\n",
              "  <tbody>\n",
              "    <tr>\n",
              "      <th>0</th>\n",
              "      <td>(17.0, 7.0, 0.0, 0.0, 40.0, 0.0, 0.0, 0.0, 0.0...</td>\n",
              "    </tr>\n",
              "    <tr>\n",
              "      <th>1</th>\n",
              "      <td>(17.0, 6.0, 0.0, 0.0, 25.0, 0.0, 0.0, 1.0, 0.0...</td>\n",
              "    </tr>\n",
              "    <tr>\n",
              "      <th>2</th>\n",
              "      <td>(17.0, 6.0, 0.0, 0.0, 40.0, 0.0, 0.0, 1.0, 0.0...</td>\n",
              "    </tr>\n",
              "    <tr>\n",
              "      <th>3</th>\n",
              "      <td>(17.0, 7.0, 0.0, 0.0, 12.0, 0.0, 0.0, 1.0, 0.0...</td>\n",
              "    </tr>\n",
              "    <tr>\n",
              "      <th>4</th>\n",
              "      <td>(17.0, 7.0, 0.0, 0.0, 15.0, 0.0, 0.0, 1.0, 0.0...</td>\n",
              "    </tr>\n",
              "  </tbody>\n",
              "</table>\n",
              "</div>\n",
              "      <button class=\"colab-df-convert\" onclick=\"convertToInteractive('df-f72b7497-d66d-46df-98d4-ec7e7595990d')\"\n",
              "              title=\"Convert this dataframe to an interactive table.\"\n",
              "              style=\"display:none;\">\n",
              "        \n",
              "  <svg xmlns=\"http://www.w3.org/2000/svg\" height=\"24px\"viewBox=\"0 0 24 24\"\n",
              "       width=\"24px\">\n",
              "    <path d=\"M0 0h24v24H0V0z\" fill=\"none\"/>\n",
              "    <path d=\"M18.56 5.44l.94 2.06.94-2.06 2.06-.94-2.06-.94-.94-2.06-.94 2.06-2.06.94zm-11 1L8.5 8.5l.94-2.06 2.06-.94-2.06-.94L8.5 2.5l-.94 2.06-2.06.94zm10 10l.94 2.06.94-2.06 2.06-.94-2.06-.94-.94-2.06-.94 2.06-2.06.94z\"/><path d=\"M17.41 7.96l-1.37-1.37c-.4-.4-.92-.59-1.43-.59-.52 0-1.04.2-1.43.59L10.3 9.45l-7.72 7.72c-.78.78-.78 2.05 0 2.83L4 21.41c.39.39.9.59 1.41.59.51 0 1.02-.2 1.41-.59l7.78-7.78 2.81-2.81c.8-.78.8-2.07 0-2.86zM5.41 20L4 18.59l7.72-7.72 1.47 1.35L5.41 20z\"/>\n",
              "  </svg>\n",
              "      </button>\n",
              "      \n",
              "  <style>\n",
              "    .colab-df-container {\n",
              "      display:flex;\n",
              "      flex-wrap:wrap;\n",
              "      gap: 12px;\n",
              "    }\n",
              "\n",
              "    .colab-df-convert {\n",
              "      background-color: #E8F0FE;\n",
              "      border: none;\n",
              "      border-radius: 50%;\n",
              "      cursor: pointer;\n",
              "      display: none;\n",
              "      fill: #1967D2;\n",
              "      height: 32px;\n",
              "      padding: 0 0 0 0;\n",
              "      width: 32px;\n",
              "    }\n",
              "\n",
              "    .colab-df-convert:hover {\n",
              "      background-color: #E2EBFA;\n",
              "      box-shadow: 0px 1px 2px rgba(60, 64, 67, 0.3), 0px 1px 3px 1px rgba(60, 64, 67, 0.15);\n",
              "      fill: #174EA6;\n",
              "    }\n",
              "\n",
              "    [theme=dark] .colab-df-convert {\n",
              "      background-color: #3B4455;\n",
              "      fill: #D2E3FC;\n",
              "    }\n",
              "\n",
              "    [theme=dark] .colab-df-convert:hover {\n",
              "      background-color: #434B5C;\n",
              "      box-shadow: 0px 1px 3px 1px rgba(0, 0, 0, 0.15);\n",
              "      filter: drop-shadow(0px 1px 2px rgba(0, 0, 0, 0.3));\n",
              "      fill: #FFFFFF;\n",
              "    }\n",
              "  </style>\n",
              "\n",
              "      <script>\n",
              "        const buttonEl =\n",
              "          document.querySelector('#df-f72b7497-d66d-46df-98d4-ec7e7595990d button.colab-df-convert');\n",
              "        buttonEl.style.display =\n",
              "          google.colab.kernel.accessAllowed ? 'block' : 'none';\n",
              "\n",
              "        async function convertToInteractive(key) {\n",
              "          const element = document.querySelector('#df-f72b7497-d66d-46df-98d4-ec7e7595990d');\n",
              "          const dataTable =\n",
              "            await google.colab.kernel.invokeFunction('convertToInteractive',\n",
              "                                                     [key], {});\n",
              "          if (!dataTable) return;\n",
              "\n",
              "          const docLinkHtml = 'Like what you see? Visit the ' +\n",
              "            '<a target=\"_blank\" href=https://colab.research.google.com/notebooks/data_table.ipynb>data table notebook</a>'\n",
              "            + ' to learn more about interactive tables.';\n",
              "          element.innerHTML = '';\n",
              "          dataTable['output_type'] = 'display_data';\n",
              "          await google.colab.output.renderOutput(dataTable, element);\n",
              "          const docLink = document.createElement('div');\n",
              "          docLink.innerHTML = docLinkHtml;\n",
              "          element.appendChild(docLink);\n",
              "        }\n",
              "      </script>\n",
              "    </div>\n",
              "  </div>\n",
              "  "
            ]
          },
          "metadata": {},
          "execution_count": 85
        }
      ]
    },
    {
      "cell_type": "code",
      "source": [
        "from pyspark.ml.classification import RandomForestClassifier\n",
        "\n",
        "rf = RandomForestClassifier(labelCol='Label_index',\n",
        "                            featuresCol='features',\n",
        "                            maxDepth=10)"
      ],
      "metadata": {
        "id": "IZbwW5q0lCzU"
      },
      "execution_count": 86,
      "outputs": []
    },
    {
      "cell_type": "code",
      "source": [
        "pipeline = Pipeline(\n",
        "    stages=indexers+encoders+labelIndexer + [assembler,rf]\n",
        ")"
      ],
      "metadata": {
        "id": "Zgs8ex35lWv5"
      },
      "execution_count": 87,
      "outputs": []
    },
    {
      "cell_type": "code",
      "source": [
        "model = pipeline.fit(trainingData)"
      ],
      "metadata": {
        "id": "ABfuU2BMlj09"
      },
      "execution_count": 88,
      "outputs": []
    },
    {
      "cell_type": "code",
      "source": [
        "predictions = model.transform(testData)\n",
        "predictionsDF = predictions.toPandas()\n",
        "predictionsDF.head()"
      ],
      "metadata": {
        "colab": {
          "base_uri": "https://localhost:8080/",
          "height": 647
        },
        "id": "W79wJjDblpxx",
        "outputId": "9577d599-139b-4e3b-d7ba-6f43756b5ddc"
      },
      "execution_count": 89,
      "outputs": [
        {
          "output_type": "execute_result",
          "data": {
            "text/plain": [
              "    Age  WorkClass Education  EducationNum  MaritalStatus         Occupation  \\\n",
              "0  17.0  Local-gov      11th           7.0  Never-married       Craft-repair   \n",
              "1  17.0  Local-gov      11th           7.0  Never-married     Prof-specialty   \n",
              "2  17.0  Local-gov       9th           5.0  Never-married      Other-service   \n",
              "3  17.0    Private      10th           6.0  Never-married  Handlers-cleaners   \n",
              "4  17.0    Private      10th           6.0  Never-married  Handlers-cleaners   \n",
              "\n",
              "  Relationship   Race  Gender  CapitalGain  ...  \\\n",
              "0    Own-child  White    Male          0.0  ...   \n",
              "1    Own-child  White  Female          0.0  ...   \n",
              "2    Own-child  White    Male          0.0  ...   \n",
              "3    Own-child  White    Male          0.0  ...   \n",
              "4    Own-child  White    Male          0.0  ...   \n",
              "\n",
              "             Relationship_encoded               Race_encoded Gender_encoded  \\\n",
              "0  (0.0, 0.0, 1.0, 0.0, 0.0, 0.0)  (1.0, 0.0, 0.0, 0.0, 0.0)     (1.0, 0.0)   \n",
              "1  (0.0, 0.0, 1.0, 0.0, 0.0, 0.0)  (1.0, 0.0, 0.0, 0.0, 0.0)     (0.0, 1.0)   \n",
              "2  (0.0, 0.0, 1.0, 0.0, 0.0, 0.0)  (1.0, 0.0, 0.0, 0.0, 0.0)     (1.0, 0.0)   \n",
              "3  (0.0, 0.0, 1.0, 0.0, 0.0, 0.0)  (1.0, 0.0, 0.0, 0.0, 0.0)     (1.0, 0.0)   \n",
              "4  (0.0, 0.0, 1.0, 0.0, 0.0, 0.0)  (1.0, 0.0, 0.0, 0.0, 0.0)     (1.0, 0.0)   \n",
              "\n",
              "                               NativeCountry_encoded  \\\n",
              "0  (1.0, 0.0, 0.0, 0.0, 0.0, 0.0, 0.0, 0.0, 0.0, ...   \n",
              "1  (1.0, 0.0, 0.0, 0.0, 0.0, 0.0, 0.0, 0.0, 0.0, ...   \n",
              "2  (1.0, 0.0, 0.0, 0.0, 0.0, 0.0, 0.0, 0.0, 0.0, ...   \n",
              "3  (1.0, 0.0, 0.0, 0.0, 0.0, 0.0, 0.0, 0.0, 0.0, ...   \n",
              "4  (1.0, 0.0, 0.0, 0.0, 0.0, 0.0, 0.0, 0.0, 0.0, ...   \n",
              "\n",
              "                                  Occupation_encoded  Label_index  \\\n",
              "0  (1.0, 0.0, 0.0, 0.0, 0.0, 0.0, 0.0, 0.0, 0.0, ...          0.0   \n",
              "1  (0.0, 0.0, 1.0, 0.0, 0.0, 0.0, 0.0, 0.0, 0.0, ...          0.0   \n",
              "2  (0.0, 0.0, 0.0, 0.0, 0.0, 1.0, 0.0, 0.0, 0.0, ...          0.0   \n",
              "3  (0.0, 0.0, 0.0, 0.0, 0.0, 0.0, 0.0, 0.0, 1.0, ...          0.0   \n",
              "4  (0.0, 0.0, 0.0, 0.0, 0.0, 0.0, 0.0, 0.0, 1.0, ...          0.0   \n",
              "\n",
              "                                            features  \\\n",
              "0  (17.0, 7.0, 0.0, 0.0, 35.0, 0.0, 0.0, 1.0, 0.0...   \n",
              "1  (17.0, 7.0, 0.0, 0.0, 40.0, 0.0, 0.0, 1.0, 0.0...   \n",
              "2  (17.0, 5.0, 0.0, 0.0, 45.0, 0.0, 0.0, 1.0, 0.0...   \n",
              "3  (17.0, 6.0, 0.0, 0.0, 10.0, 1.0, 0.0, 0.0, 0.0...   \n",
              "4  (17.0, 6.0, 0.0, 0.0, 20.0, 1.0, 0.0, 0.0, 0.0...   \n",
              "\n",
              "                               rawPrediction  \\\n",
              "0  [19.701719683044693, 0.29828031695530755]   \n",
              "1  [19.607757779892708, 0.39224222010729387]   \n",
              "2   [19.523996629433004, 0.4760033705669976]   \n",
              "3   [19.628371636015043, 0.3716283639849626]   \n",
              "4   [19.628371636015043, 0.3716283639849626]   \n",
              "\n",
              "                                  probability  prediction  \n",
              "0  [0.9850859841522347, 0.014914015847765378]         0.0  \n",
              "1   [0.9803878889946352, 0.01961211100536469]         0.0  \n",
              "2   [0.9761998314716502, 0.02380016852834988]         0.0  \n",
              "3   [0.9814185818007518, 0.01858141819924812]         0.0  \n",
              "4   [0.9814185818007518, 0.01858141819924812]         0.0  \n",
              "\n",
              "[5 rows x 35 columns]"
            ],
            "text/html": [
              "\n",
              "  <div id=\"df-976f5bee-bc2d-40db-bd4a-b3ed43c7ce87\">\n",
              "    <div class=\"colab-df-container\">\n",
              "      <div>\n",
              "<style scoped>\n",
              "    .dataframe tbody tr th:only-of-type {\n",
              "        vertical-align: middle;\n",
              "    }\n",
              "\n",
              "    .dataframe tbody tr th {\n",
              "        vertical-align: top;\n",
              "    }\n",
              "\n",
              "    .dataframe thead th {\n",
              "        text-align: right;\n",
              "    }\n",
              "</style>\n",
              "<table border=\"1\" class=\"dataframe\">\n",
              "  <thead>\n",
              "    <tr style=\"text-align: right;\">\n",
              "      <th></th>\n",
              "      <th>Age</th>\n",
              "      <th>WorkClass</th>\n",
              "      <th>Education</th>\n",
              "      <th>EducationNum</th>\n",
              "      <th>MaritalStatus</th>\n",
              "      <th>Occupation</th>\n",
              "      <th>Relationship</th>\n",
              "      <th>Race</th>\n",
              "      <th>Gender</th>\n",
              "      <th>CapitalGain</th>\n",
              "      <th>...</th>\n",
              "      <th>Relationship_encoded</th>\n",
              "      <th>Race_encoded</th>\n",
              "      <th>Gender_encoded</th>\n",
              "      <th>NativeCountry_encoded</th>\n",
              "      <th>Occupation_encoded</th>\n",
              "      <th>Label_index</th>\n",
              "      <th>features</th>\n",
              "      <th>rawPrediction</th>\n",
              "      <th>probability</th>\n",
              "      <th>prediction</th>\n",
              "    </tr>\n",
              "  </thead>\n",
              "  <tbody>\n",
              "    <tr>\n",
              "      <th>0</th>\n",
              "      <td>17.0</td>\n",
              "      <td>Local-gov</td>\n",
              "      <td>11th</td>\n",
              "      <td>7.0</td>\n",
              "      <td>Never-married</td>\n",
              "      <td>Craft-repair</td>\n",
              "      <td>Own-child</td>\n",
              "      <td>White</td>\n",
              "      <td>Male</td>\n",
              "      <td>0.0</td>\n",
              "      <td>...</td>\n",
              "      <td>(0.0, 0.0, 1.0, 0.0, 0.0, 0.0)</td>\n",
              "      <td>(1.0, 0.0, 0.0, 0.0, 0.0)</td>\n",
              "      <td>(1.0, 0.0)</td>\n",
              "      <td>(1.0, 0.0, 0.0, 0.0, 0.0, 0.0, 0.0, 0.0, 0.0, ...</td>\n",
              "      <td>(1.0, 0.0, 0.0, 0.0, 0.0, 0.0, 0.0, 0.0, 0.0, ...</td>\n",
              "      <td>0.0</td>\n",
              "      <td>(17.0, 7.0, 0.0, 0.0, 35.0, 0.0, 0.0, 1.0, 0.0...</td>\n",
              "      <td>[19.701719683044693, 0.29828031695530755]</td>\n",
              "      <td>[0.9850859841522347, 0.014914015847765378]</td>\n",
              "      <td>0.0</td>\n",
              "    </tr>\n",
              "    <tr>\n",
              "      <th>1</th>\n",
              "      <td>17.0</td>\n",
              "      <td>Local-gov</td>\n",
              "      <td>11th</td>\n",
              "      <td>7.0</td>\n",
              "      <td>Never-married</td>\n",
              "      <td>Prof-specialty</td>\n",
              "      <td>Own-child</td>\n",
              "      <td>White</td>\n",
              "      <td>Female</td>\n",
              "      <td>0.0</td>\n",
              "      <td>...</td>\n",
              "      <td>(0.0, 0.0, 1.0, 0.0, 0.0, 0.0)</td>\n",
              "      <td>(1.0, 0.0, 0.0, 0.0, 0.0)</td>\n",
              "      <td>(0.0, 1.0)</td>\n",
              "      <td>(1.0, 0.0, 0.0, 0.0, 0.0, 0.0, 0.0, 0.0, 0.0, ...</td>\n",
              "      <td>(0.0, 0.0, 1.0, 0.0, 0.0, 0.0, 0.0, 0.0, 0.0, ...</td>\n",
              "      <td>0.0</td>\n",
              "      <td>(17.0, 7.0, 0.0, 0.0, 40.0, 0.0, 0.0, 1.0, 0.0...</td>\n",
              "      <td>[19.607757779892708, 0.39224222010729387]</td>\n",
              "      <td>[0.9803878889946352, 0.01961211100536469]</td>\n",
              "      <td>0.0</td>\n",
              "    </tr>\n",
              "    <tr>\n",
              "      <th>2</th>\n",
              "      <td>17.0</td>\n",
              "      <td>Local-gov</td>\n",
              "      <td>9th</td>\n",
              "      <td>5.0</td>\n",
              "      <td>Never-married</td>\n",
              "      <td>Other-service</td>\n",
              "      <td>Own-child</td>\n",
              "      <td>White</td>\n",
              "      <td>Male</td>\n",
              "      <td>0.0</td>\n",
              "      <td>...</td>\n",
              "      <td>(0.0, 0.0, 1.0, 0.0, 0.0, 0.0)</td>\n",
              "      <td>(1.0, 0.0, 0.0, 0.0, 0.0)</td>\n",
              "      <td>(1.0, 0.0)</td>\n",
              "      <td>(1.0, 0.0, 0.0, 0.0, 0.0, 0.0, 0.0, 0.0, 0.0, ...</td>\n",
              "      <td>(0.0, 0.0, 0.0, 0.0, 0.0, 1.0, 0.0, 0.0, 0.0, ...</td>\n",
              "      <td>0.0</td>\n",
              "      <td>(17.0, 5.0, 0.0, 0.0, 45.0, 0.0, 0.0, 1.0, 0.0...</td>\n",
              "      <td>[19.523996629433004, 0.4760033705669976]</td>\n",
              "      <td>[0.9761998314716502, 0.02380016852834988]</td>\n",
              "      <td>0.0</td>\n",
              "    </tr>\n",
              "    <tr>\n",
              "      <th>3</th>\n",
              "      <td>17.0</td>\n",
              "      <td>Private</td>\n",
              "      <td>10th</td>\n",
              "      <td>6.0</td>\n",
              "      <td>Never-married</td>\n",
              "      <td>Handlers-cleaners</td>\n",
              "      <td>Own-child</td>\n",
              "      <td>White</td>\n",
              "      <td>Male</td>\n",
              "      <td>0.0</td>\n",
              "      <td>...</td>\n",
              "      <td>(0.0, 0.0, 1.0, 0.0, 0.0, 0.0)</td>\n",
              "      <td>(1.0, 0.0, 0.0, 0.0, 0.0)</td>\n",
              "      <td>(1.0, 0.0)</td>\n",
              "      <td>(1.0, 0.0, 0.0, 0.0, 0.0, 0.0, 0.0, 0.0, 0.0, ...</td>\n",
              "      <td>(0.0, 0.0, 0.0, 0.0, 0.0, 0.0, 0.0, 0.0, 1.0, ...</td>\n",
              "      <td>0.0</td>\n",
              "      <td>(17.0, 6.0, 0.0, 0.0, 10.0, 1.0, 0.0, 0.0, 0.0...</td>\n",
              "      <td>[19.628371636015043, 0.3716283639849626]</td>\n",
              "      <td>[0.9814185818007518, 0.01858141819924812]</td>\n",
              "      <td>0.0</td>\n",
              "    </tr>\n",
              "    <tr>\n",
              "      <th>4</th>\n",
              "      <td>17.0</td>\n",
              "      <td>Private</td>\n",
              "      <td>10th</td>\n",
              "      <td>6.0</td>\n",
              "      <td>Never-married</td>\n",
              "      <td>Handlers-cleaners</td>\n",
              "      <td>Own-child</td>\n",
              "      <td>White</td>\n",
              "      <td>Male</td>\n",
              "      <td>0.0</td>\n",
              "      <td>...</td>\n",
              "      <td>(0.0, 0.0, 1.0, 0.0, 0.0, 0.0)</td>\n",
              "      <td>(1.0, 0.0, 0.0, 0.0, 0.0)</td>\n",
              "      <td>(1.0, 0.0)</td>\n",
              "      <td>(1.0, 0.0, 0.0, 0.0, 0.0, 0.0, 0.0, 0.0, 0.0, ...</td>\n",
              "      <td>(0.0, 0.0, 0.0, 0.0, 0.0, 0.0, 0.0, 0.0, 1.0, ...</td>\n",
              "      <td>0.0</td>\n",
              "      <td>(17.0, 6.0, 0.0, 0.0, 20.0, 1.0, 0.0, 0.0, 0.0...</td>\n",
              "      <td>[19.628371636015043, 0.3716283639849626]</td>\n",
              "      <td>[0.9814185818007518, 0.01858141819924812]</td>\n",
              "      <td>0.0</td>\n",
              "    </tr>\n",
              "  </tbody>\n",
              "</table>\n",
              "<p>5 rows × 35 columns</p>\n",
              "</div>\n",
              "      <button class=\"colab-df-convert\" onclick=\"convertToInteractive('df-976f5bee-bc2d-40db-bd4a-b3ed43c7ce87')\"\n",
              "              title=\"Convert this dataframe to an interactive table.\"\n",
              "              style=\"display:none;\">\n",
              "        \n",
              "  <svg xmlns=\"http://www.w3.org/2000/svg\" height=\"24px\"viewBox=\"0 0 24 24\"\n",
              "       width=\"24px\">\n",
              "    <path d=\"M0 0h24v24H0V0z\" fill=\"none\"/>\n",
              "    <path d=\"M18.56 5.44l.94 2.06.94-2.06 2.06-.94-2.06-.94-.94-2.06-.94 2.06-2.06.94zm-11 1L8.5 8.5l.94-2.06 2.06-.94-2.06-.94L8.5 2.5l-.94 2.06-2.06.94zm10 10l.94 2.06.94-2.06 2.06-.94-2.06-.94-.94-2.06-.94 2.06-2.06.94z\"/><path d=\"M17.41 7.96l-1.37-1.37c-.4-.4-.92-.59-1.43-.59-.52 0-1.04.2-1.43.59L10.3 9.45l-7.72 7.72c-.78.78-.78 2.05 0 2.83L4 21.41c.39.39.9.59 1.41.59.51 0 1.02-.2 1.41-.59l7.78-7.78 2.81-2.81c.8-.78.8-2.07 0-2.86zM5.41 20L4 18.59l7.72-7.72 1.47 1.35L5.41 20z\"/>\n",
              "  </svg>\n",
              "      </button>\n",
              "      \n",
              "  <style>\n",
              "    .colab-df-container {\n",
              "      display:flex;\n",
              "      flex-wrap:wrap;\n",
              "      gap: 12px;\n",
              "    }\n",
              "\n",
              "    .colab-df-convert {\n",
              "      background-color: #E8F0FE;\n",
              "      border: none;\n",
              "      border-radius: 50%;\n",
              "      cursor: pointer;\n",
              "      display: none;\n",
              "      fill: #1967D2;\n",
              "      height: 32px;\n",
              "      padding: 0 0 0 0;\n",
              "      width: 32px;\n",
              "    }\n",
              "\n",
              "    .colab-df-convert:hover {\n",
              "      background-color: #E2EBFA;\n",
              "      box-shadow: 0px 1px 2px rgba(60, 64, 67, 0.3), 0px 1px 3px 1px rgba(60, 64, 67, 0.15);\n",
              "      fill: #174EA6;\n",
              "    }\n",
              "\n",
              "    [theme=dark] .colab-df-convert {\n",
              "      background-color: #3B4455;\n",
              "      fill: #D2E3FC;\n",
              "    }\n",
              "\n",
              "    [theme=dark] .colab-df-convert:hover {\n",
              "      background-color: #434B5C;\n",
              "      box-shadow: 0px 1px 3px 1px rgba(0, 0, 0, 0.15);\n",
              "      filter: drop-shadow(0px 1px 2px rgba(0, 0, 0, 0.3));\n",
              "      fill: #FFFFFF;\n",
              "    }\n",
              "  </style>\n",
              "\n",
              "      <script>\n",
              "        const buttonEl =\n",
              "          document.querySelector('#df-976f5bee-bc2d-40db-bd4a-b3ed43c7ce87 button.colab-df-convert');\n",
              "        buttonEl.style.display =\n",
              "          google.colab.kernel.accessAllowed ? 'block' : 'none';\n",
              "\n",
              "        async function convertToInteractive(key) {\n",
              "          const element = document.querySelector('#df-976f5bee-bc2d-40db-bd4a-b3ed43c7ce87');\n",
              "          const dataTable =\n",
              "            await google.colab.kernel.invokeFunction('convertToInteractive',\n",
              "                                                     [key], {});\n",
              "          if (!dataTable) return;\n",
              "\n",
              "          const docLinkHtml = 'Like what you see? Visit the ' +\n",
              "            '<a target=\"_blank\" href=https://colab.research.google.com/notebooks/data_table.ipynb>data table notebook</a>'\n",
              "            + ' to learn more about interactive tables.';\n",
              "          element.innerHTML = '';\n",
              "          dataTable['output_type'] = 'display_data';\n",
              "          await google.colab.output.renderOutput(dataTable, element);\n",
              "          const docLink = document.createElement('div');\n",
              "          docLink.innerHTML = docLinkHtml;\n",
              "          element.appendChild(docLink);\n",
              "        }\n",
              "      </script>\n",
              "    </div>\n",
              "  </div>\n",
              "  "
            ]
          },
          "metadata": {},
          "execution_count": 89
        }
      ]
    },
    {
      "cell_type": "code",
      "source": [
        "predictions = predictions.select('Label_index','prediction')"
      ],
      "metadata": {
        "id": "J6luIqrRlzW9"
      },
      "execution_count": 90,
      "outputs": []
    },
    {
      "cell_type": "code",
      "source": [
        "from pyspark.ml.evaluation import MulticlassClassificationEvaluator\n",
        "\n",
        "evaluator = MulticlassClassificationEvaluator(\n",
        "    labelCol='Label_index',\n",
        "    predictionCol='prediction',\n",
        "    metricName='accuracy'\n",
        ")"
      ],
      "metadata": {
        "id": "7DUnaSsZmKPU"
      },
      "execution_count": 91,
      "outputs": []
    },
    {
      "cell_type": "code",
      "source": [
        "accuracy = evaluator.evaluate(predictions)\n",
        "print('Test Accuracy',accuracy)"
      ],
      "metadata": {
        "colab": {
          "base_uri": "https://localhost:8080/"
        },
        "id": "NRrHTV03mbTl",
        "outputId": "49adc2cd-5712-41df-e9dd-9da96f38329f"
      },
      "execution_count": 92,
      "outputs": [
        {
          "output_type": "stream",
          "name": "stdout",
          "text": [
            "Test Accuracy 0.8426256077795786\n"
          ]
        }
      ]
    },
    {
      "cell_type": "code",
      "source": [
        "predictionsDF.loc[\n",
        "    predictionsDF['Label_index'] != predictionsDF['prediction']\n",
        "]"
      ],
      "metadata": {
        "colab": {
          "base_uri": "https://localhost:8080/",
          "height": 1000
        },
        "id": "QQuTk70omisy",
        "outputId": "14048d7e-f2de-4955-bb46-bef4df6bea0c"
      },
      "execution_count": 93,
      "outputs": [
        {
          "output_type": "execute_result",
          "data": {
            "text/plain": [
              "       Age         WorkClass     Education  EducationNum       MaritalStatus  \\\n",
              "222   19.0           Private       HS-grad           9.0       Never-married   \n",
              "529   22.0         Local-gov       5th-6th           3.0       Never-married   \n",
              "683   23.0         Local-gov  Some-college          10.0       Never-married   \n",
              "714   23.0           Private     Bachelors          13.0  Married-civ-spouse   \n",
              "715   23.0           Private     Bachelors          13.0  Married-civ-spouse   \n",
              "...    ...               ...           ...           ...                 ...   \n",
              "6118  73.0  Self-emp-not-inc       7th-8th           4.0  Married-civ-spouse   \n",
              "6138  77.0         Local-gov     Bachelors          13.0  Married-civ-spouse   \n",
              "6141  78.0         Local-gov     Bachelors          13.0  Married-civ-spouse   \n",
              "6149  80.0           Private     Doctorate          16.0  Married-civ-spouse   \n",
              "6162  90.0           Private     Bachelors          13.0  Married-civ-spouse   \n",
              "\n",
              "             Occupation    Relationship   Race  Gender  CapitalGain  ...  \\\n",
              "222       Other-service       Own-child  White  Female      34095.0  ...   \n",
              "529   Handlers-cleaners  Other-relative  White    Male          0.0  ...   \n",
              "683     Protective-serv       Own-child  White    Male          0.0  ...   \n",
              "714      Prof-specialty         Husband  White    Male          0.0  ...   \n",
              "715      Prof-specialty            Wife  White  Female          0.0  ...   \n",
              "...                 ...             ...    ...     ...          ...  ...   \n",
              "6118    Farming-fishing         Husband  White    Male       6418.0  ...   \n",
              "6138       Adm-clerical         Husband  White    Male       3818.0  ...   \n",
              "6141    Exec-managerial         Husband  White    Male          0.0  ...   \n",
              "6149     Prof-specialty         Husband  White    Male          0.0  ...   \n",
              "6162    Exec-managerial         Husband  White    Male          0.0  ...   \n",
              "\n",
              "                Relationship_encoded               Race_encoded  \\\n",
              "222   (0.0, 0.0, 1.0, 0.0, 0.0, 0.0)  (1.0, 0.0, 0.0, 0.0, 0.0)   \n",
              "529   (0.0, 0.0, 0.0, 0.0, 0.0, 1.0)  (1.0, 0.0, 0.0, 0.0, 0.0)   \n",
              "683   (0.0, 0.0, 1.0, 0.0, 0.0, 0.0)  (1.0, 0.0, 0.0, 0.0, 0.0)   \n",
              "714   (1.0, 0.0, 0.0, 0.0, 0.0, 0.0)  (1.0, 0.0, 0.0, 0.0, 0.0)   \n",
              "715   (0.0, 0.0, 0.0, 0.0, 1.0, 0.0)  (1.0, 0.0, 0.0, 0.0, 0.0)   \n",
              "...                              ...                        ...   \n",
              "6118  (1.0, 0.0, 0.0, 0.0, 0.0, 0.0)  (1.0, 0.0, 0.0, 0.0, 0.0)   \n",
              "6138  (1.0, 0.0, 0.0, 0.0, 0.0, 0.0)  (1.0, 0.0, 0.0, 0.0, 0.0)   \n",
              "6141  (1.0, 0.0, 0.0, 0.0, 0.0, 0.0)  (1.0, 0.0, 0.0, 0.0, 0.0)   \n",
              "6149  (1.0, 0.0, 0.0, 0.0, 0.0, 0.0)  (1.0, 0.0, 0.0, 0.0, 0.0)   \n",
              "6162  (1.0, 0.0, 0.0, 0.0, 0.0, 0.0)  (1.0, 0.0, 0.0, 0.0, 0.0)   \n",
              "\n",
              "     Gender_encoded                              NativeCountry_encoded  \\\n",
              "222      (0.0, 1.0)  (1.0, 0.0, 0.0, 0.0, 0.0, 0.0, 0.0, 0.0, 0.0, ...   \n",
              "529      (1.0, 0.0)  (0.0, 0.0, 0.0, 0.0, 0.0, 0.0, 0.0, 0.0, 0.0, ...   \n",
              "683      (1.0, 0.0)  (1.0, 0.0, 0.0, 0.0, 0.0, 0.0, 0.0, 0.0, 0.0, ...   \n",
              "714      (1.0, 0.0)  (1.0, 0.0, 0.0, 0.0, 0.0, 0.0, 0.0, 0.0, 0.0, ...   \n",
              "715      (0.0, 1.0)  (1.0, 0.0, 0.0, 0.0, 0.0, 0.0, 0.0, 0.0, 0.0, ...   \n",
              "...             ...                                                ...   \n",
              "6118     (1.0, 0.0)  (1.0, 0.0, 0.0, 0.0, 0.0, 0.0, 0.0, 0.0, 0.0, ...   \n",
              "6138     (1.0, 0.0)  (1.0, 0.0, 0.0, 0.0, 0.0, 0.0, 0.0, 0.0, 0.0, ...   \n",
              "6141     (1.0, 0.0)  (1.0, 0.0, 0.0, 0.0, 0.0, 0.0, 0.0, 0.0, 0.0, ...   \n",
              "6149     (1.0, 0.0)  (1.0, 0.0, 0.0, 0.0, 0.0, 0.0, 0.0, 0.0, 0.0, ...   \n",
              "6162     (1.0, 0.0)  (1.0, 0.0, 0.0, 0.0, 0.0, 0.0, 0.0, 0.0, 0.0, ...   \n",
              "\n",
              "                                     Occupation_encoded  Label_index  \\\n",
              "222   (0.0, 0.0, 0.0, 0.0, 0.0, 1.0, 0.0, 0.0, 0.0, ...          0.0   \n",
              "529   (0.0, 0.0, 0.0, 0.0, 0.0, 0.0, 0.0, 0.0, 1.0, ...          1.0   \n",
              "683   (0.0, 0.0, 0.0, 0.0, 0.0, 0.0, 0.0, 0.0, 0.0, ...          1.0   \n",
              "714   (0.0, 0.0, 1.0, 0.0, 0.0, 0.0, 0.0, 0.0, 0.0, ...          0.0   \n",
              "715   (0.0, 0.0, 1.0, 0.0, 0.0, 0.0, 0.0, 0.0, 0.0, ...          0.0   \n",
              "...                                                 ...          ...   \n",
              "6118  (0.0, 0.0, 0.0, 0.0, 0.0, 0.0, 0.0, 0.0, 0.0, ...          1.0   \n",
              "6138  (0.0, 0.0, 0.0, 1.0, 0.0, 0.0, 0.0, 0.0, 0.0, ...          0.0   \n",
              "6141  (0.0, 1.0, 0.0, 0.0, 0.0, 0.0, 0.0, 0.0, 0.0, ...          0.0   \n",
              "6149  (0.0, 0.0, 1.0, 0.0, 0.0, 0.0, 0.0, 0.0, 0.0, ...          0.0   \n",
              "6162  (0.0, 1.0, 0.0, 0.0, 0.0, 0.0, 0.0, 0.0, 0.0, ...          0.0   \n",
              "\n",
              "                                               features  \\\n",
              "222   (19.0, 9.0, 34095.0, 34095.0, 20.0, 1.0, 0.0, ...   \n",
              "529   (22.0, 3.0, 0.0, 0.0, 40.0, 0.0, 0.0, 1.0, 0.0...   \n",
              "683   (23.0, 10.0, 0.0, 0.0, 40.0, 0.0, 0.0, 1.0, 0....   \n",
              "714   (23.0, 13.0, 0.0, 0.0, 40.0, 1.0, 0.0, 0.0, 0....   \n",
              "715   (23.0, 13.0, 0.0, 0.0, 40.0, 1.0, 0.0, 0.0, 0....   \n",
              "...                                                 ...   \n",
              "6118  (73.0, 4.0, 6418.0, 6418.0, 99.0, 0.0, 1.0, 0....   \n",
              "6138  (77.0, 13.0, 3818.0, 3818.0, 14.0, 0.0, 0.0, 1...   \n",
              "6141  (78.0, 13.0, 0.0, 0.0, 15.0, 0.0, 0.0, 1.0, 0....   \n",
              "6149  (80.0, 16.0, 0.0, 0.0, 30.0, 1.0, 0.0, 0.0, 0....   \n",
              "6162  (90.0, 13.0, 0.0, 0.0, 45.0, 1.0, 0.0, 0.0, 0....   \n",
              "\n",
              "                                 rawPrediction  \\\n",
              "222    [6.980907066546537, 13.019092933453463]   \n",
              "529   [19.408410681257802, 0.5915893187422008]   \n",
              "683   [19.464343892617247, 0.5356561073827545]   \n",
              "714    [9.901611311110234, 10.098388688889766]   \n",
              "715     [8.70966660535883, 11.290333394641168]   \n",
              "...                                        ...   \n",
              "6118   [14.985752535318644, 5.014247464681358]   \n",
              "6138   [6.9399559424951205, 13.06004405750488]   \n",
              "6141  [7.3217028649111535, 12.678297135088844]   \n",
              "6149   [6.990920689955886, 13.009079310044113]   \n",
              "6162   [5.743616219365364, 14.256383780634634]   \n",
              "\n",
              "                                     probability  prediction  \n",
              "222     [0.3490453533273269, 0.6509546466726731]         1.0  \n",
              "529     [0.97042053406289, 0.029579465937110035]         0.0  \n",
              "683   [0.9732171946308623, 0.026782805369137724]         0.0  \n",
              "714    [0.49508056555551166, 0.5049194344444883]         1.0  \n",
              "715     [0.4354833302679415, 0.5645166697320584]         1.0  \n",
              "...                                          ...         ...  \n",
              "6118   [0.7492876267659321, 0.25071237323406786]         0.0  \n",
              "6138    [0.34699779712475604, 0.653002202875244]         1.0  \n",
              "6141   [0.36608514324555774, 0.6339148567544423]         1.0  \n",
              "6149    [0.3495460344977943, 0.6504539655022057]         1.0  \n",
              "6162    [0.2871808109682682, 0.7128191890317317]         1.0  \n",
              "\n",
              "[971 rows x 35 columns]"
            ],
            "text/html": [
              "\n",
              "  <div id=\"df-9577a6d9-c118-4dd2-9fb5-3d6f3cfd610c\">\n",
              "    <div class=\"colab-df-container\">\n",
              "      <div>\n",
              "<style scoped>\n",
              "    .dataframe tbody tr th:only-of-type {\n",
              "        vertical-align: middle;\n",
              "    }\n",
              "\n",
              "    .dataframe tbody tr th {\n",
              "        vertical-align: top;\n",
              "    }\n",
              "\n",
              "    .dataframe thead th {\n",
              "        text-align: right;\n",
              "    }\n",
              "</style>\n",
              "<table border=\"1\" class=\"dataframe\">\n",
              "  <thead>\n",
              "    <tr style=\"text-align: right;\">\n",
              "      <th></th>\n",
              "      <th>Age</th>\n",
              "      <th>WorkClass</th>\n",
              "      <th>Education</th>\n",
              "      <th>EducationNum</th>\n",
              "      <th>MaritalStatus</th>\n",
              "      <th>Occupation</th>\n",
              "      <th>Relationship</th>\n",
              "      <th>Race</th>\n",
              "      <th>Gender</th>\n",
              "      <th>CapitalGain</th>\n",
              "      <th>...</th>\n",
              "      <th>Relationship_encoded</th>\n",
              "      <th>Race_encoded</th>\n",
              "      <th>Gender_encoded</th>\n",
              "      <th>NativeCountry_encoded</th>\n",
              "      <th>Occupation_encoded</th>\n",
              "      <th>Label_index</th>\n",
              "      <th>features</th>\n",
              "      <th>rawPrediction</th>\n",
              "      <th>probability</th>\n",
              "      <th>prediction</th>\n",
              "    </tr>\n",
              "  </thead>\n",
              "  <tbody>\n",
              "    <tr>\n",
              "      <th>222</th>\n",
              "      <td>19.0</td>\n",
              "      <td>Private</td>\n",
              "      <td>HS-grad</td>\n",
              "      <td>9.0</td>\n",
              "      <td>Never-married</td>\n",
              "      <td>Other-service</td>\n",
              "      <td>Own-child</td>\n",
              "      <td>White</td>\n",
              "      <td>Female</td>\n",
              "      <td>34095.0</td>\n",
              "      <td>...</td>\n",
              "      <td>(0.0, 0.0, 1.0, 0.0, 0.0, 0.0)</td>\n",
              "      <td>(1.0, 0.0, 0.0, 0.0, 0.0)</td>\n",
              "      <td>(0.0, 1.0)</td>\n",
              "      <td>(1.0, 0.0, 0.0, 0.0, 0.0, 0.0, 0.0, 0.0, 0.0, ...</td>\n",
              "      <td>(0.0, 0.0, 0.0, 0.0, 0.0, 1.0, 0.0, 0.0, 0.0, ...</td>\n",
              "      <td>0.0</td>\n",
              "      <td>(19.0, 9.0, 34095.0, 34095.0, 20.0, 1.0, 0.0, ...</td>\n",
              "      <td>[6.980907066546537, 13.019092933453463]</td>\n",
              "      <td>[0.3490453533273269, 0.6509546466726731]</td>\n",
              "      <td>1.0</td>\n",
              "    </tr>\n",
              "    <tr>\n",
              "      <th>529</th>\n",
              "      <td>22.0</td>\n",
              "      <td>Local-gov</td>\n",
              "      <td>5th-6th</td>\n",
              "      <td>3.0</td>\n",
              "      <td>Never-married</td>\n",
              "      <td>Handlers-cleaners</td>\n",
              "      <td>Other-relative</td>\n",
              "      <td>White</td>\n",
              "      <td>Male</td>\n",
              "      <td>0.0</td>\n",
              "      <td>...</td>\n",
              "      <td>(0.0, 0.0, 0.0, 0.0, 0.0, 1.0)</td>\n",
              "      <td>(1.0, 0.0, 0.0, 0.0, 0.0)</td>\n",
              "      <td>(1.0, 0.0)</td>\n",
              "      <td>(0.0, 0.0, 0.0, 0.0, 0.0, 0.0, 0.0, 0.0, 0.0, ...</td>\n",
              "      <td>(0.0, 0.0, 0.0, 0.0, 0.0, 0.0, 0.0, 0.0, 1.0, ...</td>\n",
              "      <td>1.0</td>\n",
              "      <td>(22.0, 3.0, 0.0, 0.0, 40.0, 0.0, 0.0, 1.0, 0.0...</td>\n",
              "      <td>[19.408410681257802, 0.5915893187422008]</td>\n",
              "      <td>[0.97042053406289, 0.029579465937110035]</td>\n",
              "      <td>0.0</td>\n",
              "    </tr>\n",
              "    <tr>\n",
              "      <th>683</th>\n",
              "      <td>23.0</td>\n",
              "      <td>Local-gov</td>\n",
              "      <td>Some-college</td>\n",
              "      <td>10.0</td>\n",
              "      <td>Never-married</td>\n",
              "      <td>Protective-serv</td>\n",
              "      <td>Own-child</td>\n",
              "      <td>White</td>\n",
              "      <td>Male</td>\n",
              "      <td>0.0</td>\n",
              "      <td>...</td>\n",
              "      <td>(0.0, 0.0, 1.0, 0.0, 0.0, 0.0)</td>\n",
              "      <td>(1.0, 0.0, 0.0, 0.0, 0.0)</td>\n",
              "      <td>(1.0, 0.0)</td>\n",
              "      <td>(1.0, 0.0, 0.0, 0.0, 0.0, 0.0, 0.0, 0.0, 0.0, ...</td>\n",
              "      <td>(0.0, 0.0, 0.0, 0.0, 0.0, 0.0, 0.0, 0.0, 0.0, ...</td>\n",
              "      <td>1.0</td>\n",
              "      <td>(23.0, 10.0, 0.0, 0.0, 40.0, 0.0, 0.0, 1.0, 0....</td>\n",
              "      <td>[19.464343892617247, 0.5356561073827545]</td>\n",
              "      <td>[0.9732171946308623, 0.026782805369137724]</td>\n",
              "      <td>0.0</td>\n",
              "    </tr>\n",
              "    <tr>\n",
              "      <th>714</th>\n",
              "      <td>23.0</td>\n",
              "      <td>Private</td>\n",
              "      <td>Bachelors</td>\n",
              "      <td>13.0</td>\n",
              "      <td>Married-civ-spouse</td>\n",
              "      <td>Prof-specialty</td>\n",
              "      <td>Husband</td>\n",
              "      <td>White</td>\n",
              "      <td>Male</td>\n",
              "      <td>0.0</td>\n",
              "      <td>...</td>\n",
              "      <td>(1.0, 0.0, 0.0, 0.0, 0.0, 0.0)</td>\n",
              "      <td>(1.0, 0.0, 0.0, 0.0, 0.0)</td>\n",
              "      <td>(1.0, 0.0)</td>\n",
              "      <td>(1.0, 0.0, 0.0, 0.0, 0.0, 0.0, 0.0, 0.0, 0.0, ...</td>\n",
              "      <td>(0.0, 0.0, 1.0, 0.0, 0.0, 0.0, 0.0, 0.0, 0.0, ...</td>\n",
              "      <td>0.0</td>\n",
              "      <td>(23.0, 13.0, 0.0, 0.0, 40.0, 1.0, 0.0, 0.0, 0....</td>\n",
              "      <td>[9.901611311110234, 10.098388688889766]</td>\n",
              "      <td>[0.49508056555551166, 0.5049194344444883]</td>\n",
              "      <td>1.0</td>\n",
              "    </tr>\n",
              "    <tr>\n",
              "      <th>715</th>\n",
              "      <td>23.0</td>\n",
              "      <td>Private</td>\n",
              "      <td>Bachelors</td>\n",
              "      <td>13.0</td>\n",
              "      <td>Married-civ-spouse</td>\n",
              "      <td>Prof-specialty</td>\n",
              "      <td>Wife</td>\n",
              "      <td>White</td>\n",
              "      <td>Female</td>\n",
              "      <td>0.0</td>\n",
              "      <td>...</td>\n",
              "      <td>(0.0, 0.0, 0.0, 0.0, 1.0, 0.0)</td>\n",
              "      <td>(1.0, 0.0, 0.0, 0.0, 0.0)</td>\n",
              "      <td>(0.0, 1.0)</td>\n",
              "      <td>(1.0, 0.0, 0.0, 0.0, 0.0, 0.0, 0.0, 0.0, 0.0, ...</td>\n",
              "      <td>(0.0, 0.0, 1.0, 0.0, 0.0, 0.0, 0.0, 0.0, 0.0, ...</td>\n",
              "      <td>0.0</td>\n",
              "      <td>(23.0, 13.0, 0.0, 0.0, 40.0, 1.0, 0.0, 0.0, 0....</td>\n",
              "      <td>[8.70966660535883, 11.290333394641168]</td>\n",
              "      <td>[0.4354833302679415, 0.5645166697320584]</td>\n",
              "      <td>1.0</td>\n",
              "    </tr>\n",
              "    <tr>\n",
              "      <th>...</th>\n",
              "      <td>...</td>\n",
              "      <td>...</td>\n",
              "      <td>...</td>\n",
              "      <td>...</td>\n",
              "      <td>...</td>\n",
              "      <td>...</td>\n",
              "      <td>...</td>\n",
              "      <td>...</td>\n",
              "      <td>...</td>\n",
              "      <td>...</td>\n",
              "      <td>...</td>\n",
              "      <td>...</td>\n",
              "      <td>...</td>\n",
              "      <td>...</td>\n",
              "      <td>...</td>\n",
              "      <td>...</td>\n",
              "      <td>...</td>\n",
              "      <td>...</td>\n",
              "      <td>...</td>\n",
              "      <td>...</td>\n",
              "      <td>...</td>\n",
              "    </tr>\n",
              "    <tr>\n",
              "      <th>6118</th>\n",
              "      <td>73.0</td>\n",
              "      <td>Self-emp-not-inc</td>\n",
              "      <td>7th-8th</td>\n",
              "      <td>4.0</td>\n",
              "      <td>Married-civ-spouse</td>\n",
              "      <td>Farming-fishing</td>\n",
              "      <td>Husband</td>\n",
              "      <td>White</td>\n",
              "      <td>Male</td>\n",
              "      <td>6418.0</td>\n",
              "      <td>...</td>\n",
              "      <td>(1.0, 0.0, 0.0, 0.0, 0.0, 0.0)</td>\n",
              "      <td>(1.0, 0.0, 0.0, 0.0, 0.0)</td>\n",
              "      <td>(1.0, 0.0)</td>\n",
              "      <td>(1.0, 0.0, 0.0, 0.0, 0.0, 0.0, 0.0, 0.0, 0.0, ...</td>\n",
              "      <td>(0.0, 0.0, 0.0, 0.0, 0.0, 0.0, 0.0, 0.0, 0.0, ...</td>\n",
              "      <td>1.0</td>\n",
              "      <td>(73.0, 4.0, 6418.0, 6418.0, 99.0, 0.0, 1.0, 0....</td>\n",
              "      <td>[14.985752535318644, 5.014247464681358]</td>\n",
              "      <td>[0.7492876267659321, 0.25071237323406786]</td>\n",
              "      <td>0.0</td>\n",
              "    </tr>\n",
              "    <tr>\n",
              "      <th>6138</th>\n",
              "      <td>77.0</td>\n",
              "      <td>Local-gov</td>\n",
              "      <td>Bachelors</td>\n",
              "      <td>13.0</td>\n",
              "      <td>Married-civ-spouse</td>\n",
              "      <td>Adm-clerical</td>\n",
              "      <td>Husband</td>\n",
              "      <td>White</td>\n",
              "      <td>Male</td>\n",
              "      <td>3818.0</td>\n",
              "      <td>...</td>\n",
              "      <td>(1.0, 0.0, 0.0, 0.0, 0.0, 0.0)</td>\n",
              "      <td>(1.0, 0.0, 0.0, 0.0, 0.0)</td>\n",
              "      <td>(1.0, 0.0)</td>\n",
              "      <td>(1.0, 0.0, 0.0, 0.0, 0.0, 0.0, 0.0, 0.0, 0.0, ...</td>\n",
              "      <td>(0.0, 0.0, 0.0, 1.0, 0.0, 0.0, 0.0, 0.0, 0.0, ...</td>\n",
              "      <td>0.0</td>\n",
              "      <td>(77.0, 13.0, 3818.0, 3818.0, 14.0, 0.0, 0.0, 1...</td>\n",
              "      <td>[6.9399559424951205, 13.06004405750488]</td>\n",
              "      <td>[0.34699779712475604, 0.653002202875244]</td>\n",
              "      <td>1.0</td>\n",
              "    </tr>\n",
              "    <tr>\n",
              "      <th>6141</th>\n",
              "      <td>78.0</td>\n",
              "      <td>Local-gov</td>\n",
              "      <td>Bachelors</td>\n",
              "      <td>13.0</td>\n",
              "      <td>Married-civ-spouse</td>\n",
              "      <td>Exec-managerial</td>\n",
              "      <td>Husband</td>\n",
              "      <td>White</td>\n",
              "      <td>Male</td>\n",
              "      <td>0.0</td>\n",
              "      <td>...</td>\n",
              "      <td>(1.0, 0.0, 0.0, 0.0, 0.0, 0.0)</td>\n",
              "      <td>(1.0, 0.0, 0.0, 0.0, 0.0)</td>\n",
              "      <td>(1.0, 0.0)</td>\n",
              "      <td>(1.0, 0.0, 0.0, 0.0, 0.0, 0.0, 0.0, 0.0, 0.0, ...</td>\n",
              "      <td>(0.0, 1.0, 0.0, 0.0, 0.0, 0.0, 0.0, 0.0, 0.0, ...</td>\n",
              "      <td>0.0</td>\n",
              "      <td>(78.0, 13.0, 0.0, 0.0, 15.0, 0.0, 0.0, 1.0, 0....</td>\n",
              "      <td>[7.3217028649111535, 12.678297135088844]</td>\n",
              "      <td>[0.36608514324555774, 0.6339148567544423]</td>\n",
              "      <td>1.0</td>\n",
              "    </tr>\n",
              "    <tr>\n",
              "      <th>6149</th>\n",
              "      <td>80.0</td>\n",
              "      <td>Private</td>\n",
              "      <td>Doctorate</td>\n",
              "      <td>16.0</td>\n",
              "      <td>Married-civ-spouse</td>\n",
              "      <td>Prof-specialty</td>\n",
              "      <td>Husband</td>\n",
              "      <td>White</td>\n",
              "      <td>Male</td>\n",
              "      <td>0.0</td>\n",
              "      <td>...</td>\n",
              "      <td>(1.0, 0.0, 0.0, 0.0, 0.0, 0.0)</td>\n",
              "      <td>(1.0, 0.0, 0.0, 0.0, 0.0)</td>\n",
              "      <td>(1.0, 0.0)</td>\n",
              "      <td>(1.0, 0.0, 0.0, 0.0, 0.0, 0.0, 0.0, 0.0, 0.0, ...</td>\n",
              "      <td>(0.0, 0.0, 1.0, 0.0, 0.0, 0.0, 0.0, 0.0, 0.0, ...</td>\n",
              "      <td>0.0</td>\n",
              "      <td>(80.0, 16.0, 0.0, 0.0, 30.0, 1.0, 0.0, 0.0, 0....</td>\n",
              "      <td>[6.990920689955886, 13.009079310044113]</td>\n",
              "      <td>[0.3495460344977943, 0.6504539655022057]</td>\n",
              "      <td>1.0</td>\n",
              "    </tr>\n",
              "    <tr>\n",
              "      <th>6162</th>\n",
              "      <td>90.0</td>\n",
              "      <td>Private</td>\n",
              "      <td>Bachelors</td>\n",
              "      <td>13.0</td>\n",
              "      <td>Married-civ-spouse</td>\n",
              "      <td>Exec-managerial</td>\n",
              "      <td>Husband</td>\n",
              "      <td>White</td>\n",
              "      <td>Male</td>\n",
              "      <td>0.0</td>\n",
              "      <td>...</td>\n",
              "      <td>(1.0, 0.0, 0.0, 0.0, 0.0, 0.0)</td>\n",
              "      <td>(1.0, 0.0, 0.0, 0.0, 0.0)</td>\n",
              "      <td>(1.0, 0.0)</td>\n",
              "      <td>(1.0, 0.0, 0.0, 0.0, 0.0, 0.0, 0.0, 0.0, 0.0, ...</td>\n",
              "      <td>(0.0, 1.0, 0.0, 0.0, 0.0, 0.0, 0.0, 0.0, 0.0, ...</td>\n",
              "      <td>0.0</td>\n",
              "      <td>(90.0, 13.0, 0.0, 0.0, 45.0, 1.0, 0.0, 0.0, 0....</td>\n",
              "      <td>[5.743616219365364, 14.256383780634634]</td>\n",
              "      <td>[0.2871808109682682, 0.7128191890317317]</td>\n",
              "      <td>1.0</td>\n",
              "    </tr>\n",
              "  </tbody>\n",
              "</table>\n",
              "<p>971 rows × 35 columns</p>\n",
              "</div>\n",
              "      <button class=\"colab-df-convert\" onclick=\"convertToInteractive('df-9577a6d9-c118-4dd2-9fb5-3d6f3cfd610c')\"\n",
              "              title=\"Convert this dataframe to an interactive table.\"\n",
              "              style=\"display:none;\">\n",
              "        \n",
              "  <svg xmlns=\"http://www.w3.org/2000/svg\" height=\"24px\"viewBox=\"0 0 24 24\"\n",
              "       width=\"24px\">\n",
              "    <path d=\"M0 0h24v24H0V0z\" fill=\"none\"/>\n",
              "    <path d=\"M18.56 5.44l.94 2.06.94-2.06 2.06-.94-2.06-.94-.94-2.06-.94 2.06-2.06.94zm-11 1L8.5 8.5l.94-2.06 2.06-.94-2.06-.94L8.5 2.5l-.94 2.06-2.06.94zm10 10l.94 2.06.94-2.06 2.06-.94-2.06-.94-.94-2.06-.94 2.06-2.06.94z\"/><path d=\"M17.41 7.96l-1.37-1.37c-.4-.4-.92-.59-1.43-.59-.52 0-1.04.2-1.43.59L10.3 9.45l-7.72 7.72c-.78.78-.78 2.05 0 2.83L4 21.41c.39.39.9.59 1.41.59.51 0 1.02-.2 1.41-.59l7.78-7.78 2.81-2.81c.8-.78.8-2.07 0-2.86zM5.41 20L4 18.59l7.72-7.72 1.47 1.35L5.41 20z\"/>\n",
              "  </svg>\n",
              "      </button>\n",
              "      \n",
              "  <style>\n",
              "    .colab-df-container {\n",
              "      display:flex;\n",
              "      flex-wrap:wrap;\n",
              "      gap: 12px;\n",
              "    }\n",
              "\n",
              "    .colab-df-convert {\n",
              "      background-color: #E8F0FE;\n",
              "      border: none;\n",
              "      border-radius: 50%;\n",
              "      cursor: pointer;\n",
              "      display: none;\n",
              "      fill: #1967D2;\n",
              "      height: 32px;\n",
              "      padding: 0 0 0 0;\n",
              "      width: 32px;\n",
              "    }\n",
              "\n",
              "    .colab-df-convert:hover {\n",
              "      background-color: #E2EBFA;\n",
              "      box-shadow: 0px 1px 2px rgba(60, 64, 67, 0.3), 0px 1px 3px 1px rgba(60, 64, 67, 0.15);\n",
              "      fill: #174EA6;\n",
              "    }\n",
              "\n",
              "    [theme=dark] .colab-df-convert {\n",
              "      background-color: #3B4455;\n",
              "      fill: #D2E3FC;\n",
              "    }\n",
              "\n",
              "    [theme=dark] .colab-df-convert:hover {\n",
              "      background-color: #434B5C;\n",
              "      box-shadow: 0px 1px 3px 1px rgba(0, 0, 0, 0.15);\n",
              "      filter: drop-shadow(0px 1px 2px rgba(0, 0, 0, 0.3));\n",
              "      fill: #FFFFFF;\n",
              "    }\n",
              "  </style>\n",
              "\n",
              "      <script>\n",
              "        const buttonEl =\n",
              "          document.querySelector('#df-9577a6d9-c118-4dd2-9fb5-3d6f3cfd610c button.colab-df-convert');\n",
              "        buttonEl.style.display =\n",
              "          google.colab.kernel.accessAllowed ? 'block' : 'none';\n",
              "\n",
              "        async function convertToInteractive(key) {\n",
              "          const element = document.querySelector('#df-9577a6d9-c118-4dd2-9fb5-3d6f3cfd610c');\n",
              "          const dataTable =\n",
              "            await google.colab.kernel.invokeFunction('convertToInteractive',\n",
              "                                                     [key], {});\n",
              "          if (!dataTable) return;\n",
              "\n",
              "          const docLinkHtml = 'Like what you see? Visit the ' +\n",
              "            '<a target=\"_blank\" href=https://colab.research.google.com/notebooks/data_table.ipynb>data table notebook</a>'\n",
              "            + ' to learn more about interactive tables.';\n",
              "          element.innerHTML = '';\n",
              "          dataTable['output_type'] = 'display_data';\n",
              "          await google.colab.output.renderOutput(dataTable, element);\n",
              "          const docLink = document.createElement('div');\n",
              "          docLink.innerHTML = docLinkHtml;\n",
              "          element.appendChild(docLink);\n",
              "        }\n",
              "      </script>\n",
              "    </div>\n",
              "  </div>\n",
              "  "
            ]
          },
          "metadata": {},
          "execution_count": 93
        }
      ]
    },
    {
      "cell_type": "markdown",
      "source": [
        "# Regression"
      ],
      "metadata": {
        "id": "-tQfBGTtnKJU"
      }
    },
    {
      "cell_type": "code",
      "source": [
        "rawData = spark.read\\\n",
        "                .format('csv')\\\n",
        "                .option('header','true')\\\n",
        "                .load('imports-85.data')"
      ],
      "metadata": {
        "id": "6I_mQwYsmuuy"
      },
      "execution_count": 94,
      "outputs": []
    },
    {
      "cell_type": "code",
      "source": [
        "rawData.toPandas().head()"
      ],
      "metadata": {
        "colab": {
          "base_uri": "https://localhost:8080/",
          "height": 386
        },
        "id": "bdX70iXtVrgr",
        "outputId": "393bb8bb-81d9-4595-cffe-95caffb6a6a2"
      },
      "execution_count": 96,
      "outputs": [
        {
          "output_type": "execute_result",
          "data": {
            "text/plain": [
              "  symboling normalized-losses         make fuel-type aspiration num-of-doors  \\\n",
              "0         3                 ?  alfa-romero       gas        std          two   \n",
              "1         3                 ?  alfa-romero       gas        std          two   \n",
              "2         1                 ?  alfa-romero       gas        std          two   \n",
              "3         2               164         audi       gas        std         four   \n",
              "4         2               164         audi       gas        std         four   \n",
              "\n",
              "    body-style drive-wheels engine-location wheel-base  ... engine-size  \\\n",
              "0  convertible          rwd           front       88.6  ...         130   \n",
              "1  convertible          rwd           front       88.6  ...         130   \n",
              "2    hatchback          rwd           front       94.5  ...         152   \n",
              "3        sedan          fwd           front       99.8  ...         109   \n",
              "4        sedan          4wd           front       99.4  ...         136   \n",
              "\n",
              "  fuel-system  bore stroke compression-ratio horsepower peak-rpm city-mpg  \\\n",
              "0        mpfi  3.47   2.68                 9        111     5000       21   \n",
              "1        mpfi  3.47   2.68                 9        111     5000       21   \n",
              "2        mpfi  2.68   3.47                 9        154     5000       19   \n",
              "3        mpfi  3.19    3.4                10        102     5500       24   \n",
              "4        mpfi  3.19    3.4                 8        115     5500       18   \n",
              "\n",
              "  highway-mpg  price  \n",
              "0          27  13495  \n",
              "1          27  16500  \n",
              "2          26  16500  \n",
              "3          30  13950  \n",
              "4          22  17450  \n",
              "\n",
              "[5 rows x 26 columns]"
            ],
            "text/html": [
              "\n",
              "  <div id=\"df-84240366-9af1-4c8c-a570-4e99bcf9f3c5\">\n",
              "    <div class=\"colab-df-container\">\n",
              "      <div>\n",
              "<style scoped>\n",
              "    .dataframe tbody tr th:only-of-type {\n",
              "        vertical-align: middle;\n",
              "    }\n",
              "\n",
              "    .dataframe tbody tr th {\n",
              "        vertical-align: top;\n",
              "    }\n",
              "\n",
              "    .dataframe thead th {\n",
              "        text-align: right;\n",
              "    }\n",
              "</style>\n",
              "<table border=\"1\" class=\"dataframe\">\n",
              "  <thead>\n",
              "    <tr style=\"text-align: right;\">\n",
              "      <th></th>\n",
              "      <th>symboling</th>\n",
              "      <th>normalized-losses</th>\n",
              "      <th>make</th>\n",
              "      <th>fuel-type</th>\n",
              "      <th>aspiration</th>\n",
              "      <th>num-of-doors</th>\n",
              "      <th>body-style</th>\n",
              "      <th>drive-wheels</th>\n",
              "      <th>engine-location</th>\n",
              "      <th>wheel-base</th>\n",
              "      <th>...</th>\n",
              "      <th>engine-size</th>\n",
              "      <th>fuel-system</th>\n",
              "      <th>bore</th>\n",
              "      <th>stroke</th>\n",
              "      <th>compression-ratio</th>\n",
              "      <th>horsepower</th>\n",
              "      <th>peak-rpm</th>\n",
              "      <th>city-mpg</th>\n",
              "      <th>highway-mpg</th>\n",
              "      <th>price</th>\n",
              "    </tr>\n",
              "  </thead>\n",
              "  <tbody>\n",
              "    <tr>\n",
              "      <th>0</th>\n",
              "      <td>3</td>\n",
              "      <td>?</td>\n",
              "      <td>alfa-romero</td>\n",
              "      <td>gas</td>\n",
              "      <td>std</td>\n",
              "      <td>two</td>\n",
              "      <td>convertible</td>\n",
              "      <td>rwd</td>\n",
              "      <td>front</td>\n",
              "      <td>88.6</td>\n",
              "      <td>...</td>\n",
              "      <td>130</td>\n",
              "      <td>mpfi</td>\n",
              "      <td>3.47</td>\n",
              "      <td>2.68</td>\n",
              "      <td>9</td>\n",
              "      <td>111</td>\n",
              "      <td>5000</td>\n",
              "      <td>21</td>\n",
              "      <td>27</td>\n",
              "      <td>13495</td>\n",
              "    </tr>\n",
              "    <tr>\n",
              "      <th>1</th>\n",
              "      <td>3</td>\n",
              "      <td>?</td>\n",
              "      <td>alfa-romero</td>\n",
              "      <td>gas</td>\n",
              "      <td>std</td>\n",
              "      <td>two</td>\n",
              "      <td>convertible</td>\n",
              "      <td>rwd</td>\n",
              "      <td>front</td>\n",
              "      <td>88.6</td>\n",
              "      <td>...</td>\n",
              "      <td>130</td>\n",
              "      <td>mpfi</td>\n",
              "      <td>3.47</td>\n",
              "      <td>2.68</td>\n",
              "      <td>9</td>\n",
              "      <td>111</td>\n",
              "      <td>5000</td>\n",
              "      <td>21</td>\n",
              "      <td>27</td>\n",
              "      <td>16500</td>\n",
              "    </tr>\n",
              "    <tr>\n",
              "      <th>2</th>\n",
              "      <td>1</td>\n",
              "      <td>?</td>\n",
              "      <td>alfa-romero</td>\n",
              "      <td>gas</td>\n",
              "      <td>std</td>\n",
              "      <td>two</td>\n",
              "      <td>hatchback</td>\n",
              "      <td>rwd</td>\n",
              "      <td>front</td>\n",
              "      <td>94.5</td>\n",
              "      <td>...</td>\n",
              "      <td>152</td>\n",
              "      <td>mpfi</td>\n",
              "      <td>2.68</td>\n",
              "      <td>3.47</td>\n",
              "      <td>9</td>\n",
              "      <td>154</td>\n",
              "      <td>5000</td>\n",
              "      <td>19</td>\n",
              "      <td>26</td>\n",
              "      <td>16500</td>\n",
              "    </tr>\n",
              "    <tr>\n",
              "      <th>3</th>\n",
              "      <td>2</td>\n",
              "      <td>164</td>\n",
              "      <td>audi</td>\n",
              "      <td>gas</td>\n",
              "      <td>std</td>\n",
              "      <td>four</td>\n",
              "      <td>sedan</td>\n",
              "      <td>fwd</td>\n",
              "      <td>front</td>\n",
              "      <td>99.8</td>\n",
              "      <td>...</td>\n",
              "      <td>109</td>\n",
              "      <td>mpfi</td>\n",
              "      <td>3.19</td>\n",
              "      <td>3.4</td>\n",
              "      <td>10</td>\n",
              "      <td>102</td>\n",
              "      <td>5500</td>\n",
              "      <td>24</td>\n",
              "      <td>30</td>\n",
              "      <td>13950</td>\n",
              "    </tr>\n",
              "    <tr>\n",
              "      <th>4</th>\n",
              "      <td>2</td>\n",
              "      <td>164</td>\n",
              "      <td>audi</td>\n",
              "      <td>gas</td>\n",
              "      <td>std</td>\n",
              "      <td>four</td>\n",
              "      <td>sedan</td>\n",
              "      <td>4wd</td>\n",
              "      <td>front</td>\n",
              "      <td>99.4</td>\n",
              "      <td>...</td>\n",
              "      <td>136</td>\n",
              "      <td>mpfi</td>\n",
              "      <td>3.19</td>\n",
              "      <td>3.4</td>\n",
              "      <td>8</td>\n",
              "      <td>115</td>\n",
              "      <td>5500</td>\n",
              "      <td>18</td>\n",
              "      <td>22</td>\n",
              "      <td>17450</td>\n",
              "    </tr>\n",
              "  </tbody>\n",
              "</table>\n",
              "<p>5 rows × 26 columns</p>\n",
              "</div>\n",
              "      <button class=\"colab-df-convert\" onclick=\"convertToInteractive('df-84240366-9af1-4c8c-a570-4e99bcf9f3c5')\"\n",
              "              title=\"Convert this dataframe to an interactive table.\"\n",
              "              style=\"display:none;\">\n",
              "        \n",
              "  <svg xmlns=\"http://www.w3.org/2000/svg\" height=\"24px\"viewBox=\"0 0 24 24\"\n",
              "       width=\"24px\">\n",
              "    <path d=\"M0 0h24v24H0V0z\" fill=\"none\"/>\n",
              "    <path d=\"M18.56 5.44l.94 2.06.94-2.06 2.06-.94-2.06-.94-.94-2.06-.94 2.06-2.06.94zm-11 1L8.5 8.5l.94-2.06 2.06-.94-2.06-.94L8.5 2.5l-.94 2.06-2.06.94zm10 10l.94 2.06.94-2.06 2.06-.94-2.06-.94-.94-2.06-.94 2.06-2.06.94z\"/><path d=\"M17.41 7.96l-1.37-1.37c-.4-.4-.92-.59-1.43-.59-.52 0-1.04.2-1.43.59L10.3 9.45l-7.72 7.72c-.78.78-.78 2.05 0 2.83L4 21.41c.39.39.9.59 1.41.59.51 0 1.02-.2 1.41-.59l7.78-7.78 2.81-2.81c.8-.78.8-2.07 0-2.86zM5.41 20L4 18.59l7.72-7.72 1.47 1.35L5.41 20z\"/>\n",
              "  </svg>\n",
              "      </button>\n",
              "      \n",
              "  <style>\n",
              "    .colab-df-container {\n",
              "      display:flex;\n",
              "      flex-wrap:wrap;\n",
              "      gap: 12px;\n",
              "    }\n",
              "\n",
              "    .colab-df-convert {\n",
              "      background-color: #E8F0FE;\n",
              "      border: none;\n",
              "      border-radius: 50%;\n",
              "      cursor: pointer;\n",
              "      display: none;\n",
              "      fill: #1967D2;\n",
              "      height: 32px;\n",
              "      padding: 0 0 0 0;\n",
              "      width: 32px;\n",
              "    }\n",
              "\n",
              "    .colab-df-convert:hover {\n",
              "      background-color: #E2EBFA;\n",
              "      box-shadow: 0px 1px 2px rgba(60, 64, 67, 0.3), 0px 1px 3px 1px rgba(60, 64, 67, 0.15);\n",
              "      fill: #174EA6;\n",
              "    }\n",
              "\n",
              "    [theme=dark] .colab-df-convert {\n",
              "      background-color: #3B4455;\n",
              "      fill: #D2E3FC;\n",
              "    }\n",
              "\n",
              "    [theme=dark] .colab-df-convert:hover {\n",
              "      background-color: #434B5C;\n",
              "      box-shadow: 0px 1px 3px 1px rgba(0, 0, 0, 0.15);\n",
              "      filter: drop-shadow(0px 1px 2px rgba(0, 0, 0, 0.3));\n",
              "      fill: #FFFFFF;\n",
              "    }\n",
              "  </style>\n",
              "\n",
              "      <script>\n",
              "        const buttonEl =\n",
              "          document.querySelector('#df-84240366-9af1-4c8c-a570-4e99bcf9f3c5 button.colab-df-convert');\n",
              "        buttonEl.style.display =\n",
              "          google.colab.kernel.accessAllowed ? 'block' : 'none';\n",
              "\n",
              "        async function convertToInteractive(key) {\n",
              "          const element = document.querySelector('#df-84240366-9af1-4c8c-a570-4e99bcf9f3c5');\n",
              "          const dataTable =\n",
              "            await google.colab.kernel.invokeFunction('convertToInteractive',\n",
              "                                                     [key], {});\n",
              "          if (!dataTable) return;\n",
              "\n",
              "          const docLinkHtml = 'Like what you see? Visit the ' +\n",
              "            '<a target=\"_blank\" href=https://colab.research.google.com/notebooks/data_table.ipynb>data table notebook</a>'\n",
              "            + ' to learn more about interactive tables.';\n",
              "          element.innerHTML = '';\n",
              "          dataTable['output_type'] = 'display_data';\n",
              "          await google.colab.output.renderOutput(dataTable, element);\n",
              "          const docLink = document.createElement('div');\n",
              "          docLink.innerHTML = docLinkHtml;\n",
              "          element.appendChild(docLink);\n",
              "        }\n",
              "      </script>\n",
              "    </div>\n",
              "  </div>\n",
              "  "
            ]
          },
          "metadata": {},
          "execution_count": 96
        }
      ]
    },
    {
      "cell_type": "code",
      "source": [
        "dataset = rawData.select(col('price').cast('float'),\n",
        "                         col('make'),\n",
        "                         col('num-of-doors'),\n",
        "                         col('body-style'),\n",
        "                         col('drive-wheels'),\n",
        "                         col('wheel-base').cast('float'),\n",
        "                         col('curb-weight').cast('float'),\n",
        "                         col('num-of-cylinders'),\n",
        "                         col('engine-size').cast('float'),\n",
        "                         col('horsepower').cast('float'),\n",
        "                         col('peak-rpm').cast('float'))"
      ],
      "metadata": {
        "id": "gJ9Rl09jVs14"
      },
      "execution_count": 97,
      "outputs": []
    },
    {
      "cell_type": "code",
      "source": [
        "dataset.toPandas().head()"
      ],
      "metadata": {
        "colab": {
          "base_uri": "https://localhost:8080/",
          "height": 337
        },
        "id": "n2ylI1uoWvD2",
        "outputId": "5931d919-de1e-450d-b570-f7cb6ae27ee1"
      },
      "execution_count": 98,
      "outputs": [
        {
          "output_type": "execute_result",
          "data": {
            "text/plain": [
              "     price         make num-of-doors   body-style drive-wheels  wheel-base  \\\n",
              "0  13495.0  alfa-romero          two  convertible          rwd   88.599998   \n",
              "1  16500.0  alfa-romero          two  convertible          rwd   88.599998   \n",
              "2  16500.0  alfa-romero          two    hatchback          rwd   94.500000   \n",
              "3  13950.0         audi         four        sedan          fwd   99.800003   \n",
              "4  17450.0         audi         four        sedan          4wd   99.400002   \n",
              "\n",
              "   curb-weight num-of-cylinders  engine-size  horsepower  peak-rpm  \n",
              "0       2548.0             four        130.0       111.0    5000.0  \n",
              "1       2548.0             four        130.0       111.0    5000.0  \n",
              "2       2823.0              six        152.0       154.0    5000.0  \n",
              "3       2337.0             four        109.0       102.0    5500.0  \n",
              "4       2824.0             five        136.0       115.0    5500.0  "
            ],
            "text/html": [
              "\n",
              "  <div id=\"df-8837418b-2692-4725-8ce6-d06f35359a7f\">\n",
              "    <div class=\"colab-df-container\">\n",
              "      <div>\n",
              "<style scoped>\n",
              "    .dataframe tbody tr th:only-of-type {\n",
              "        vertical-align: middle;\n",
              "    }\n",
              "\n",
              "    .dataframe tbody tr th {\n",
              "        vertical-align: top;\n",
              "    }\n",
              "\n",
              "    .dataframe thead th {\n",
              "        text-align: right;\n",
              "    }\n",
              "</style>\n",
              "<table border=\"1\" class=\"dataframe\">\n",
              "  <thead>\n",
              "    <tr style=\"text-align: right;\">\n",
              "      <th></th>\n",
              "      <th>price</th>\n",
              "      <th>make</th>\n",
              "      <th>num-of-doors</th>\n",
              "      <th>body-style</th>\n",
              "      <th>drive-wheels</th>\n",
              "      <th>wheel-base</th>\n",
              "      <th>curb-weight</th>\n",
              "      <th>num-of-cylinders</th>\n",
              "      <th>engine-size</th>\n",
              "      <th>horsepower</th>\n",
              "      <th>peak-rpm</th>\n",
              "    </tr>\n",
              "  </thead>\n",
              "  <tbody>\n",
              "    <tr>\n",
              "      <th>0</th>\n",
              "      <td>13495.0</td>\n",
              "      <td>alfa-romero</td>\n",
              "      <td>two</td>\n",
              "      <td>convertible</td>\n",
              "      <td>rwd</td>\n",
              "      <td>88.599998</td>\n",
              "      <td>2548.0</td>\n",
              "      <td>four</td>\n",
              "      <td>130.0</td>\n",
              "      <td>111.0</td>\n",
              "      <td>5000.0</td>\n",
              "    </tr>\n",
              "    <tr>\n",
              "      <th>1</th>\n",
              "      <td>16500.0</td>\n",
              "      <td>alfa-romero</td>\n",
              "      <td>two</td>\n",
              "      <td>convertible</td>\n",
              "      <td>rwd</td>\n",
              "      <td>88.599998</td>\n",
              "      <td>2548.0</td>\n",
              "      <td>four</td>\n",
              "      <td>130.0</td>\n",
              "      <td>111.0</td>\n",
              "      <td>5000.0</td>\n",
              "    </tr>\n",
              "    <tr>\n",
              "      <th>2</th>\n",
              "      <td>16500.0</td>\n",
              "      <td>alfa-romero</td>\n",
              "      <td>two</td>\n",
              "      <td>hatchback</td>\n",
              "      <td>rwd</td>\n",
              "      <td>94.500000</td>\n",
              "      <td>2823.0</td>\n",
              "      <td>six</td>\n",
              "      <td>152.0</td>\n",
              "      <td>154.0</td>\n",
              "      <td>5000.0</td>\n",
              "    </tr>\n",
              "    <tr>\n",
              "      <th>3</th>\n",
              "      <td>13950.0</td>\n",
              "      <td>audi</td>\n",
              "      <td>four</td>\n",
              "      <td>sedan</td>\n",
              "      <td>fwd</td>\n",
              "      <td>99.800003</td>\n",
              "      <td>2337.0</td>\n",
              "      <td>four</td>\n",
              "      <td>109.0</td>\n",
              "      <td>102.0</td>\n",
              "      <td>5500.0</td>\n",
              "    </tr>\n",
              "    <tr>\n",
              "      <th>4</th>\n",
              "      <td>17450.0</td>\n",
              "      <td>audi</td>\n",
              "      <td>four</td>\n",
              "      <td>sedan</td>\n",
              "      <td>4wd</td>\n",
              "      <td>99.400002</td>\n",
              "      <td>2824.0</td>\n",
              "      <td>five</td>\n",
              "      <td>136.0</td>\n",
              "      <td>115.0</td>\n",
              "      <td>5500.0</td>\n",
              "    </tr>\n",
              "  </tbody>\n",
              "</table>\n",
              "</div>\n",
              "      <button class=\"colab-df-convert\" onclick=\"convertToInteractive('df-8837418b-2692-4725-8ce6-d06f35359a7f')\"\n",
              "              title=\"Convert this dataframe to an interactive table.\"\n",
              "              style=\"display:none;\">\n",
              "        \n",
              "  <svg xmlns=\"http://www.w3.org/2000/svg\" height=\"24px\"viewBox=\"0 0 24 24\"\n",
              "       width=\"24px\">\n",
              "    <path d=\"M0 0h24v24H0V0z\" fill=\"none\"/>\n",
              "    <path d=\"M18.56 5.44l.94 2.06.94-2.06 2.06-.94-2.06-.94-.94-2.06-.94 2.06-2.06.94zm-11 1L8.5 8.5l.94-2.06 2.06-.94-2.06-.94L8.5 2.5l-.94 2.06-2.06.94zm10 10l.94 2.06.94-2.06 2.06-.94-2.06-.94-.94-2.06-.94 2.06-2.06.94z\"/><path d=\"M17.41 7.96l-1.37-1.37c-.4-.4-.92-.59-1.43-.59-.52 0-1.04.2-1.43.59L10.3 9.45l-7.72 7.72c-.78.78-.78 2.05 0 2.83L4 21.41c.39.39.9.59 1.41.59.51 0 1.02-.2 1.41-.59l7.78-7.78 2.81-2.81c.8-.78.8-2.07 0-2.86zM5.41 20L4 18.59l7.72-7.72 1.47 1.35L5.41 20z\"/>\n",
              "  </svg>\n",
              "      </button>\n",
              "      \n",
              "  <style>\n",
              "    .colab-df-container {\n",
              "      display:flex;\n",
              "      flex-wrap:wrap;\n",
              "      gap: 12px;\n",
              "    }\n",
              "\n",
              "    .colab-df-convert {\n",
              "      background-color: #E8F0FE;\n",
              "      border: none;\n",
              "      border-radius: 50%;\n",
              "      cursor: pointer;\n",
              "      display: none;\n",
              "      fill: #1967D2;\n",
              "      height: 32px;\n",
              "      padding: 0 0 0 0;\n",
              "      width: 32px;\n",
              "    }\n",
              "\n",
              "    .colab-df-convert:hover {\n",
              "      background-color: #E2EBFA;\n",
              "      box-shadow: 0px 1px 2px rgba(60, 64, 67, 0.3), 0px 1px 3px 1px rgba(60, 64, 67, 0.15);\n",
              "      fill: #174EA6;\n",
              "    }\n",
              "\n",
              "    [theme=dark] .colab-df-convert {\n",
              "      background-color: #3B4455;\n",
              "      fill: #D2E3FC;\n",
              "    }\n",
              "\n",
              "    [theme=dark] .colab-df-convert:hover {\n",
              "      background-color: #434B5C;\n",
              "      box-shadow: 0px 1px 3px 1px rgba(0, 0, 0, 0.15);\n",
              "      filter: drop-shadow(0px 1px 2px rgba(0, 0, 0, 0.3));\n",
              "      fill: #FFFFFF;\n",
              "    }\n",
              "  </style>\n",
              "\n",
              "      <script>\n",
              "        const buttonEl =\n",
              "          document.querySelector('#df-8837418b-2692-4725-8ce6-d06f35359a7f button.colab-df-convert');\n",
              "        buttonEl.style.display =\n",
              "          google.colab.kernel.accessAllowed ? 'block' : 'none';\n",
              "\n",
              "        async function convertToInteractive(key) {\n",
              "          const element = document.querySelector('#df-8837418b-2692-4725-8ce6-d06f35359a7f');\n",
              "          const dataTable =\n",
              "            await google.colab.kernel.invokeFunction('convertToInteractive',\n",
              "                                                     [key], {});\n",
              "          if (!dataTable) return;\n",
              "\n",
              "          const docLinkHtml = 'Like what you see? Visit the ' +\n",
              "            '<a target=\"_blank\" href=https://colab.research.google.com/notebooks/data_table.ipynb>data table notebook</a>'\n",
              "            + ' to learn more about interactive tables.';\n",
              "          element.innerHTML = '';\n",
              "          dataTable['output_type'] = 'display_data';\n",
              "          await google.colab.output.renderOutput(dataTable, element);\n",
              "          const docLink = document.createElement('div');\n",
              "          docLink.innerHTML = docLinkHtml;\n",
              "          element.appendChild(docLink);\n",
              "        }\n",
              "      </script>\n",
              "    </div>\n",
              "  </div>\n",
              "  "
            ]
          },
          "metadata": {},
          "execution_count": 98
        }
      ]
    },
    {
      "cell_type": "code",
      "source": [
        "dataset.count()"
      ],
      "metadata": {
        "colab": {
          "base_uri": "https://localhost:8080/"
        },
        "id": "aJwwaa_kWxHd",
        "outputId": "1cb0da6b-2df2-410c-c8c9-b0d8d1e0471d"
      },
      "execution_count": 99,
      "outputs": [
        {
          "output_type": "execute_result",
          "data": {
            "text/plain": [
              "205"
            ]
          },
          "metadata": {},
          "execution_count": 99
        }
      ]
    },
    {
      "cell_type": "code",
      "source": [
        "dataset = dataset.replace('?',None).dropna(how='any')"
      ],
      "metadata": {
        "id": "BlhoO0EXWz2l"
      },
      "execution_count": 100,
      "outputs": []
    },
    {
      "cell_type": "code",
      "source": [
        "dataset.count()"
      ],
      "metadata": {
        "colab": {
          "base_uri": "https://localhost:8080/"
        },
        "id": "mw5tW4UnW_N8",
        "outputId": "ae4180b4-4cc6-4c67-954d-b9c912133184"
      },
      "execution_count": 101,
      "outputs": [
        {
          "output_type": "execute_result",
          "data": {
            "text/plain": [
              "197"
            ]
          },
          "metadata": {},
          "execution_count": 101
        }
      ]
    },
    {
      "cell_type": "code",
      "source": [
        "(trainingData,testData) = dataset.randomSplit([0.8,0.2])"
      ],
      "metadata": {
        "id": "jFmvV9vdXAJx"
      },
      "execution_count": 102,
      "outputs": []
    },
    {
      "cell_type": "code",
      "source": [
        "categoricalFeatures = [\n",
        "    'make',\n",
        "    'num-of-doors',\n",
        "    'body-style',\n",
        "    'drive-wheels',\n",
        "    'num-of-cylinders'\n",
        "]"
      ],
      "metadata": {
        "id": "QEY9OQHgXGbv"
      },
      "execution_count": 103,
      "outputs": []
    },
    {
      "cell_type": "code",
      "source": [
        "indexers = [StringIndexer(\n",
        "    inputCol=column,\n",
        "    outputCol=column+'_index',\n",
        "    handleInvalid='keep') for column in categoricalFeatures]"
      ],
      "metadata": {
        "id": "CI3ViYUuXqk_"
      },
      "execution_count": 104,
      "outputs": []
    },
    {
      "cell_type": "code",
      "source": [
        "encoders = [OneHotEncoder(\n",
        "    inputCol=column+'_index',\n",
        "    outputCol=column+'_encoded') for column in categoricalFeatures]"
      ],
      "metadata": {
        "id": "96byeMj4YBKU"
      },
      "execution_count": 106,
      "outputs": []
    },
    {
      "cell_type": "code",
      "source": [
        "requiredFeatures = [\n",
        "    'make_encoded',\n",
        "    'num-of-doors_encoded',\n",
        "    'body-style_encoded',\n",
        "    'drive-wheels_encoded',\n",
        "    'wheel-base',\n",
        "    'curb-weight',\n",
        "    'num-of-cylinders_encoded',\n",
        "    'engine-size',\n",
        "    'horsepower',\n",
        "    'peak-rpm'\n",
        "]"
      ],
      "metadata": {
        "id": "YTbIMG8-YIsG"
      },
      "execution_count": 107,
      "outputs": []
    },
    {
      "cell_type": "code",
      "source": [
        "assembler = VectorAssembler(inputCols=requiredFeatures, outputCol='features')"
      ],
      "metadata": {
        "id": "KxwLvmGqYlsh"
      },
      "execution_count": 108,
      "outputs": []
    },
    {
      "cell_type": "code",
      "source": [
        "from pyspark.ml.regression import LinearRegression\n",
        "lr = LinearRegression(maxIter=100,\n",
        "                      regParam=1.0,\n",
        "                      elasticNetParam=0.8,\n",
        "                      labelCol='price',\n",
        "                      featuresCol='features')"
      ],
      "metadata": {
        "id": "6mUYWr7pYxQ_"
      },
      "execution_count": 109,
      "outputs": []
    },
    {
      "cell_type": "code",
      "source": [
        "pipeline = Pipeline(stages = indexers+encoders+[assembler,lr])"
      ],
      "metadata": {
        "id": "gTMi4e55ZFWJ"
      },
      "execution_count": 110,
      "outputs": []
    },
    {
      "cell_type": "code",
      "source": [
        "model = pipeline.fit(trainingData)\n",
        "model"
      ],
      "metadata": {
        "colab": {
          "base_uri": "https://localhost:8080/"
        },
        "id": "uha9TiMCZbvD",
        "outputId": "86160617-a019-4f2e-bd29-46b0e72b1169"
      },
      "execution_count": 111,
      "outputs": [
        {
          "output_type": "execute_result",
          "data": {
            "text/plain": [
              "PipelineModel_8ce8f65c7078"
            ]
          },
          "metadata": {},
          "execution_count": 111
        }
      ]
    },
    {
      "cell_type": "code",
      "source": [
        "lrModel = model.stages[-1]"
      ],
      "metadata": {
        "id": "2nXCX-zrZfz9"
      },
      "execution_count": 112,
      "outputs": []
    },
    {
      "cell_type": "code",
      "source": [
        "print('Training R^2 score = ',lrModel.summary.r2)\n",
        "print('Training RMSE = ',lrModel.summary.rootMeanSquaredError)"
      ],
      "metadata": {
        "colab": {
          "base_uri": "https://localhost:8080/"
        },
        "id": "Mm1n5FYWZnTW",
        "outputId": "2a5f6f7f-707a-4315-d25c-00bddba965f2"
      },
      "execution_count": 113,
      "outputs": [
        {
          "output_type": "stream",
          "name": "stdout",
          "text": [
            "Training R^2 score =  0.9512994661391629\n",
            "Training RMSE =  1542.7975169283695\n"
          ]
        }
      ]
    },
    {
      "cell_type": "code",
      "source": [
        "lrModel.numFeatures"
      ],
      "metadata": {
        "colab": {
          "base_uri": "https://localhost:8080/"
        },
        "id": "7-hIkp-XZ_gZ",
        "outputId": "6e398845-596b-453c-acd0-8f0411fba9be"
      },
      "execution_count": 114,
      "outputs": [
        {
          "output_type": "execute_result",
          "data": {
            "text/plain": [
              "43"
            ]
          },
          "metadata": {},
          "execution_count": 114
        }
      ]
    },
    {
      "cell_type": "code",
      "source": [
        "lrModel.coefficients"
      ],
      "metadata": {
        "colab": {
          "base_uri": "https://localhost:8080/"
        },
        "id": "jJe99r1aaQxY",
        "outputId": "002319ba-c9e5-4b1d-f94c-64ce853dd2ff"
      },
      "execution_count": 115,
      "outputs": [
        {
          "output_type": "execute_result",
          "data": {
            "text/plain": [
              "DenseVector([-1942.8958, -598.3225, 158.0914, -1349.7903, -114.6767, -1341.3776, -2566.5786, -321.3356, 640.8872, 3121.2678, -869.7638, 7392.317, -1261.2863, 6190.861, 2543.3034, 481.4913, -620.2699, -2913.0489, 9841.3661, 11499.876, -1405.0437, 293.7875, -293.7875, -283.8281, -4.2332, -1373.5182, 639.271, 972.8331, -564.7674, 586.1648, -90.3298, 167.8818, 5.0392, -554.3315, 909.3794, 581.1954, 20.6624, 9139.1503, 1768.7914, 2116.4852, -14.1053, 37.9513, -0.3177])"
            ]
          },
          "metadata": {},
          "execution_count": 115
        }
      ]
    },
    {
      "cell_type": "code",
      "source": [
        "predictions = model.transform(testData)\n",
        "predictionsDF = predictions.toPandas()\n",
        "predictionsDF.head()"
      ],
      "metadata": {
        "colab": {
          "base_uri": "https://localhost:8080/",
          "height": 681
        },
        "id": "qXwpJjohaWRf",
        "outputId": "35e56997-815a-414c-a3b3-df32438f085f"
      },
      "execution_count": 117,
      "outputs": [
        {
          "output_type": "execute_result",
          "data": {
            "text/plain": [
              "    price       make num-of-doors body-style drive-wheels  wheel-base  \\\n",
              "0  5572.0      dodge          two  hatchback          fwd   93.699997   \n",
              "1  6095.0      mazda          two  hatchback          fwd   93.099998   \n",
              "2  6295.0  chevrolet          two  hatchback          fwd   94.500000   \n",
              "3  6479.0      honda          two  hatchback          fwd   86.599998   \n",
              "4  6692.0      dodge         four      sedan          fwd   93.699997   \n",
              "\n",
              "   curb-weight num-of-cylinders  engine-size  horsepower  ...  \\\n",
              "0       1876.0             four         90.0        68.0  ...   \n",
              "1       1900.0             four         91.0        68.0  ...   \n",
              "2       1874.0             four         90.0        70.0  ...   \n",
              "3       1713.0             four         92.0        58.0  ...   \n",
              "4       1989.0             four         90.0        68.0  ...   \n",
              "\n",
              "   body-style_index  drive-wheels_index  num-of-cylinders_index  \\\n",
              "0               1.0                 0.0                     0.0   \n",
              "1               1.0                 0.0                     0.0   \n",
              "2               1.0                 0.0                     0.0   \n",
              "3               1.0                 0.0                     0.0   \n",
              "4               0.0                 0.0                     0.0   \n",
              "\n",
              "                                        make_encoded  num-of-doors_encoded  \\\n",
              "0  (0.0, 0.0, 0.0, 0.0, 0.0, 0.0, 0.0, 0.0, 0.0, ...            (0.0, 1.0)   \n",
              "1  (0.0, 0.0, 1.0, 0.0, 0.0, 0.0, 0.0, 0.0, 0.0, ...            (0.0, 1.0)   \n",
              "2  (0.0, 0.0, 0.0, 0.0, 0.0, 0.0, 0.0, 0.0, 0.0, ...            (0.0, 1.0)   \n",
              "3  (0.0, 0.0, 0.0, 0.0, 1.0, 0.0, 0.0, 0.0, 0.0, ...            (0.0, 1.0)   \n",
              "4  (0.0, 0.0, 0.0, 0.0, 0.0, 0.0, 0.0, 0.0, 0.0, ...            (1.0, 0.0)   \n",
              "\n",
              "          body-style_encoded drive-wheels_encoded  \\\n",
              "0  (0.0, 1.0, 0.0, 0.0, 0.0)      (1.0, 0.0, 0.0)   \n",
              "1  (0.0, 1.0, 0.0, 0.0, 0.0)      (1.0, 0.0, 0.0)   \n",
              "2  (0.0, 1.0, 0.0, 0.0, 0.0)      (1.0, 0.0, 0.0)   \n",
              "3  (0.0, 1.0, 0.0, 0.0, 0.0)      (1.0, 0.0, 0.0)   \n",
              "4  (1.0, 0.0, 0.0, 0.0, 0.0)      (1.0, 0.0, 0.0)   \n",
              "\n",
              "              num-of-cylinders_encoded  \\\n",
              "0  (1.0, 0.0, 0.0, 0.0, 0.0, 0.0, 0.0)   \n",
              "1  (1.0, 0.0, 0.0, 0.0, 0.0, 0.0, 0.0)   \n",
              "2  (1.0, 0.0, 0.0, 0.0, 0.0, 0.0, 0.0)   \n",
              "3  (1.0, 0.0, 0.0, 0.0, 0.0, 0.0, 0.0)   \n",
              "4  (1.0, 0.0, 0.0, 0.0, 0.0, 0.0, 0.0)   \n",
              "\n",
              "                                            features   prediction  \n",
              "0  (0.0, 0.0, 0.0, 0.0, 0.0, 0.0, 0.0, 0.0, 0.0, ...  5648.069069  \n",
              "1  (0.0, 0.0, 1.0, 0.0, 0.0, 0.0, 0.0, 0.0, 0.0, ...  6840.905638  \n",
              "2  (0.0, 0.0, 0.0, 0.0, 0.0, 0.0, 0.0, 0.0, 0.0, ...  6129.468043  \n",
              "3  (0.0, 0.0, 0.0, 0.0, 1.0, 0.0, 0.0, 0.0, 0.0, ...  4204.509151  \n",
              "4  (0.0, 0.0, 0.0, 0.0, 0.0, 0.0, 0.0, 0.0, 0.0, ...  6525.477829  \n",
              "\n",
              "[5 rows x 23 columns]"
            ],
            "text/html": [
              "\n",
              "  <div id=\"df-298b60b4-c99d-4aa8-b4a3-40bee140089a\">\n",
              "    <div class=\"colab-df-container\">\n",
              "      <div>\n",
              "<style scoped>\n",
              "    .dataframe tbody tr th:only-of-type {\n",
              "        vertical-align: middle;\n",
              "    }\n",
              "\n",
              "    .dataframe tbody tr th {\n",
              "        vertical-align: top;\n",
              "    }\n",
              "\n",
              "    .dataframe thead th {\n",
              "        text-align: right;\n",
              "    }\n",
              "</style>\n",
              "<table border=\"1\" class=\"dataframe\">\n",
              "  <thead>\n",
              "    <tr style=\"text-align: right;\">\n",
              "      <th></th>\n",
              "      <th>price</th>\n",
              "      <th>make</th>\n",
              "      <th>num-of-doors</th>\n",
              "      <th>body-style</th>\n",
              "      <th>drive-wheels</th>\n",
              "      <th>wheel-base</th>\n",
              "      <th>curb-weight</th>\n",
              "      <th>num-of-cylinders</th>\n",
              "      <th>engine-size</th>\n",
              "      <th>horsepower</th>\n",
              "      <th>...</th>\n",
              "      <th>body-style_index</th>\n",
              "      <th>drive-wheels_index</th>\n",
              "      <th>num-of-cylinders_index</th>\n",
              "      <th>make_encoded</th>\n",
              "      <th>num-of-doors_encoded</th>\n",
              "      <th>body-style_encoded</th>\n",
              "      <th>drive-wheels_encoded</th>\n",
              "      <th>num-of-cylinders_encoded</th>\n",
              "      <th>features</th>\n",
              "      <th>prediction</th>\n",
              "    </tr>\n",
              "  </thead>\n",
              "  <tbody>\n",
              "    <tr>\n",
              "      <th>0</th>\n",
              "      <td>5572.0</td>\n",
              "      <td>dodge</td>\n",
              "      <td>two</td>\n",
              "      <td>hatchback</td>\n",
              "      <td>fwd</td>\n",
              "      <td>93.699997</td>\n",
              "      <td>1876.0</td>\n",
              "      <td>four</td>\n",
              "      <td>90.0</td>\n",
              "      <td>68.0</td>\n",
              "      <td>...</td>\n",
              "      <td>1.0</td>\n",
              "      <td>0.0</td>\n",
              "      <td>0.0</td>\n",
              "      <td>(0.0, 0.0, 0.0, 0.0, 0.0, 0.0, 0.0, 0.0, 0.0, ...</td>\n",
              "      <td>(0.0, 1.0)</td>\n",
              "      <td>(0.0, 1.0, 0.0, 0.0, 0.0)</td>\n",
              "      <td>(1.0, 0.0, 0.0)</td>\n",
              "      <td>(1.0, 0.0, 0.0, 0.0, 0.0, 0.0, 0.0)</td>\n",
              "      <td>(0.0, 0.0, 0.0, 0.0, 0.0, 0.0, 0.0, 0.0, 0.0, ...</td>\n",
              "      <td>5648.069069</td>\n",
              "    </tr>\n",
              "    <tr>\n",
              "      <th>1</th>\n",
              "      <td>6095.0</td>\n",
              "      <td>mazda</td>\n",
              "      <td>two</td>\n",
              "      <td>hatchback</td>\n",
              "      <td>fwd</td>\n",
              "      <td>93.099998</td>\n",
              "      <td>1900.0</td>\n",
              "      <td>four</td>\n",
              "      <td>91.0</td>\n",
              "      <td>68.0</td>\n",
              "      <td>...</td>\n",
              "      <td>1.0</td>\n",
              "      <td>0.0</td>\n",
              "      <td>0.0</td>\n",
              "      <td>(0.0, 0.0, 1.0, 0.0, 0.0, 0.0, 0.0, 0.0, 0.0, ...</td>\n",
              "      <td>(0.0, 1.0)</td>\n",
              "      <td>(0.0, 1.0, 0.0, 0.0, 0.0)</td>\n",
              "      <td>(1.0, 0.0, 0.0)</td>\n",
              "      <td>(1.0, 0.0, 0.0, 0.0, 0.0, 0.0, 0.0)</td>\n",
              "      <td>(0.0, 0.0, 1.0, 0.0, 0.0, 0.0, 0.0, 0.0, 0.0, ...</td>\n",
              "      <td>6840.905638</td>\n",
              "    </tr>\n",
              "    <tr>\n",
              "      <th>2</th>\n",
              "      <td>6295.0</td>\n",
              "      <td>chevrolet</td>\n",
              "      <td>two</td>\n",
              "      <td>hatchback</td>\n",
              "      <td>fwd</td>\n",
              "      <td>94.500000</td>\n",
              "      <td>1874.0</td>\n",
              "      <td>four</td>\n",
              "      <td>90.0</td>\n",
              "      <td>70.0</td>\n",
              "      <td>...</td>\n",
              "      <td>1.0</td>\n",
              "      <td>0.0</td>\n",
              "      <td>0.0</td>\n",
              "      <td>(0.0, 0.0, 0.0, 0.0, 0.0, 0.0, 0.0, 0.0, 0.0, ...</td>\n",
              "      <td>(0.0, 1.0)</td>\n",
              "      <td>(0.0, 1.0, 0.0, 0.0, 0.0)</td>\n",
              "      <td>(1.0, 0.0, 0.0)</td>\n",
              "      <td>(1.0, 0.0, 0.0, 0.0, 0.0, 0.0, 0.0)</td>\n",
              "      <td>(0.0, 0.0, 0.0, 0.0, 0.0, 0.0, 0.0, 0.0, 0.0, ...</td>\n",
              "      <td>6129.468043</td>\n",
              "    </tr>\n",
              "    <tr>\n",
              "      <th>3</th>\n",
              "      <td>6479.0</td>\n",
              "      <td>honda</td>\n",
              "      <td>two</td>\n",
              "      <td>hatchback</td>\n",
              "      <td>fwd</td>\n",
              "      <td>86.599998</td>\n",
              "      <td>1713.0</td>\n",
              "      <td>four</td>\n",
              "      <td>92.0</td>\n",
              "      <td>58.0</td>\n",
              "      <td>...</td>\n",
              "      <td>1.0</td>\n",
              "      <td>0.0</td>\n",
              "      <td>0.0</td>\n",
              "      <td>(0.0, 0.0, 0.0, 0.0, 1.0, 0.0, 0.0, 0.0, 0.0, ...</td>\n",
              "      <td>(0.0, 1.0)</td>\n",
              "      <td>(0.0, 1.0, 0.0, 0.0, 0.0)</td>\n",
              "      <td>(1.0, 0.0, 0.0)</td>\n",
              "      <td>(1.0, 0.0, 0.0, 0.0, 0.0, 0.0, 0.0)</td>\n",
              "      <td>(0.0, 0.0, 0.0, 0.0, 1.0, 0.0, 0.0, 0.0, 0.0, ...</td>\n",
              "      <td>4204.509151</td>\n",
              "    </tr>\n",
              "    <tr>\n",
              "      <th>4</th>\n",
              "      <td>6692.0</td>\n",
              "      <td>dodge</td>\n",
              "      <td>four</td>\n",
              "      <td>sedan</td>\n",
              "      <td>fwd</td>\n",
              "      <td>93.699997</td>\n",
              "      <td>1989.0</td>\n",
              "      <td>four</td>\n",
              "      <td>90.0</td>\n",
              "      <td>68.0</td>\n",
              "      <td>...</td>\n",
              "      <td>0.0</td>\n",
              "      <td>0.0</td>\n",
              "      <td>0.0</td>\n",
              "      <td>(0.0, 0.0, 0.0, 0.0, 0.0, 0.0, 0.0, 0.0, 0.0, ...</td>\n",
              "      <td>(1.0, 0.0)</td>\n",
              "      <td>(1.0, 0.0, 0.0, 0.0, 0.0)</td>\n",
              "      <td>(1.0, 0.0, 0.0)</td>\n",
              "      <td>(1.0, 0.0, 0.0, 0.0, 0.0, 0.0, 0.0)</td>\n",
              "      <td>(0.0, 0.0, 0.0, 0.0, 0.0, 0.0, 0.0, 0.0, 0.0, ...</td>\n",
              "      <td>6525.477829</td>\n",
              "    </tr>\n",
              "  </tbody>\n",
              "</table>\n",
              "<p>5 rows × 23 columns</p>\n",
              "</div>\n",
              "      <button class=\"colab-df-convert\" onclick=\"convertToInteractive('df-298b60b4-c99d-4aa8-b4a3-40bee140089a')\"\n",
              "              title=\"Convert this dataframe to an interactive table.\"\n",
              "              style=\"display:none;\">\n",
              "        \n",
              "  <svg xmlns=\"http://www.w3.org/2000/svg\" height=\"24px\"viewBox=\"0 0 24 24\"\n",
              "       width=\"24px\">\n",
              "    <path d=\"M0 0h24v24H0V0z\" fill=\"none\"/>\n",
              "    <path d=\"M18.56 5.44l.94 2.06.94-2.06 2.06-.94-2.06-.94-.94-2.06-.94 2.06-2.06.94zm-11 1L8.5 8.5l.94-2.06 2.06-.94-2.06-.94L8.5 2.5l-.94 2.06-2.06.94zm10 10l.94 2.06.94-2.06 2.06-.94-2.06-.94-.94-2.06-.94 2.06-2.06.94z\"/><path d=\"M17.41 7.96l-1.37-1.37c-.4-.4-.92-.59-1.43-.59-.52 0-1.04.2-1.43.59L10.3 9.45l-7.72 7.72c-.78.78-.78 2.05 0 2.83L4 21.41c.39.39.9.59 1.41.59.51 0 1.02-.2 1.41-.59l7.78-7.78 2.81-2.81c.8-.78.8-2.07 0-2.86zM5.41 20L4 18.59l7.72-7.72 1.47 1.35L5.41 20z\"/>\n",
              "  </svg>\n",
              "      </button>\n",
              "      \n",
              "  <style>\n",
              "    .colab-df-container {\n",
              "      display:flex;\n",
              "      flex-wrap:wrap;\n",
              "      gap: 12px;\n",
              "    }\n",
              "\n",
              "    .colab-df-convert {\n",
              "      background-color: #E8F0FE;\n",
              "      border: none;\n",
              "      border-radius: 50%;\n",
              "      cursor: pointer;\n",
              "      display: none;\n",
              "      fill: #1967D2;\n",
              "      height: 32px;\n",
              "      padding: 0 0 0 0;\n",
              "      width: 32px;\n",
              "    }\n",
              "\n",
              "    .colab-df-convert:hover {\n",
              "      background-color: #E2EBFA;\n",
              "      box-shadow: 0px 1px 2px rgba(60, 64, 67, 0.3), 0px 1px 3px 1px rgba(60, 64, 67, 0.15);\n",
              "      fill: #174EA6;\n",
              "    }\n",
              "\n",
              "    [theme=dark] .colab-df-convert {\n",
              "      background-color: #3B4455;\n",
              "      fill: #D2E3FC;\n",
              "    }\n",
              "\n",
              "    [theme=dark] .colab-df-convert:hover {\n",
              "      background-color: #434B5C;\n",
              "      box-shadow: 0px 1px 3px 1px rgba(0, 0, 0, 0.15);\n",
              "      filter: drop-shadow(0px 1px 2px rgba(0, 0, 0, 0.3));\n",
              "      fill: #FFFFFF;\n",
              "    }\n",
              "  </style>\n",
              "\n",
              "      <script>\n",
              "        const buttonEl =\n",
              "          document.querySelector('#df-298b60b4-c99d-4aa8-b4a3-40bee140089a button.colab-df-convert');\n",
              "        buttonEl.style.display =\n",
              "          google.colab.kernel.accessAllowed ? 'block' : 'none';\n",
              "\n",
              "        async function convertToInteractive(key) {\n",
              "          const element = document.querySelector('#df-298b60b4-c99d-4aa8-b4a3-40bee140089a');\n",
              "          const dataTable =\n",
              "            await google.colab.kernel.invokeFunction('convertToInteractive',\n",
              "                                                     [key], {});\n",
              "          if (!dataTable) return;\n",
              "\n",
              "          const docLinkHtml = 'Like what you see? Visit the ' +\n",
              "            '<a target=\"_blank\" href=https://colab.research.google.com/notebooks/data_table.ipynb>data table notebook</a>'\n",
              "            + ' to learn more about interactive tables.';\n",
              "          element.innerHTML = '';\n",
              "          dataTable['output_type'] = 'display_data';\n",
              "          await google.colab.output.renderOutput(dataTable, element);\n",
              "          const docLink = document.createElement('div');\n",
              "          docLink.innerHTML = docLinkHtml;\n",
              "          element.appendChild(docLink);\n",
              "        }\n",
              "      </script>\n",
              "    </div>\n",
              "  </div>\n",
              "  "
            ]
          },
          "metadata": {},
          "execution_count": 117
        }
      ]
    },
    {
      "cell_type": "code",
      "source": [
        "predictionsDF['features'][0]"
      ],
      "metadata": {
        "colab": {
          "base_uri": "https://localhost:8080/"
        },
        "id": "tBIx8phsas0F",
        "outputId": "7f714364-c77c-4c2c-855c-f0bc08b04393"
      },
      "execution_count": 119,
      "outputs": [
        {
          "output_type": "execute_result",
          "data": {
            "text/plain": [
              "SparseVector(43, {10: 1.0, 22: 1.0, 24: 1.0, 28: 1.0, 31: 93.7, 32: 1876.0, 33: 1.0, 40: 90.0, 41: 68.0, 42: 5500.0})"
            ]
          },
          "metadata": {},
          "execution_count": 119
        }
      ]
    },
    {
      "cell_type": "code",
      "source": [
        "from pyspark.ml.evaluation import RegressionEvaluator\n",
        "\n",
        "evaluator = RegressionEvaluator(\n",
        "    labelCol='price',\n",
        "    predictionCol='prediction',\n",
        "    metricName='r2'\n",
        ")"
      ],
      "metadata": {
        "id": "nNg0zcXzasnt"
      },
      "execution_count": 120,
      "outputs": []
    },
    {
      "cell_type": "code",
      "source": [
        "r2 = evaluator.evaluate(predictions)\n",
        "print('Test R^2 score: ', r2)"
      ],
      "metadata": {
        "colab": {
          "base_uri": "https://localhost:8080/"
        },
        "id": "MJ7TGfqeajtf",
        "outputId": "69f3a60b-ee93-42c0-ee55-ece15220607a"
      },
      "execution_count": 123,
      "outputs": [
        {
          "output_type": "stream",
          "name": "stdout",
          "text": [
            "Test R^2 score:  0.9043159893341806\n"
          ]
        }
      ]
    },
    {
      "cell_type": "code",
      "source": [
        "evaluator = RegressionEvaluator(\n",
        "    labelCol='price',\n",
        "    predictionCol='prediction',\n",
        "    metricName='rmse'\n",
        ")\n",
        "rmse = evaluator.evaluate(predictions)\n",
        "print('Test RMSEscore: ', rmse)"
      ],
      "metadata": {
        "colab": {
          "base_uri": "https://localhost:8080/"
        },
        "id": "uZ7GqxILbJnY",
        "outputId": "f5134603-4ba7-47f3-f32a-a8d4dda87428"
      },
      "execution_count": 125,
      "outputs": [
        {
          "output_type": "stream",
          "name": "stdout",
          "text": [
            "Test RMSEscore:  3231.473143959341\n"
          ]
        }
      ]
    },
    {
      "cell_type": "code",
      "source": [
        "predictionsPandasDF = predictions.select(\n",
        "    col('price'),\n",
        "    col('prediction')\n",
        ").toPandas()"
      ],
      "metadata": {
        "id": "fO57UGOQbcpa"
      },
      "execution_count": 127,
      "outputs": []
    },
    {
      "cell_type": "code",
      "source": [
        "predictionsPandasDF.head()"
      ],
      "metadata": {
        "colab": {
          "base_uri": "https://localhost:8080/",
          "height": 206
        },
        "id": "RLjzuUdzbq3B",
        "outputId": "86b3f93f-e32d-432a-d9e1-36affc2d2f8b"
      },
      "execution_count": 128,
      "outputs": [
        {
          "output_type": "execute_result",
          "data": {
            "text/plain": [
              "    price   prediction\n",
              "0  5572.0  5648.069069\n",
              "1  6095.0  6840.905638\n",
              "2  6295.0  6129.468043\n",
              "3  6479.0  4204.509151\n",
              "4  6692.0  6525.477829"
            ],
            "text/html": [
              "\n",
              "  <div id=\"df-9d532561-3f1f-4593-9186-5e52a56c9e1e\">\n",
              "    <div class=\"colab-df-container\">\n",
              "      <div>\n",
              "<style scoped>\n",
              "    .dataframe tbody tr th:only-of-type {\n",
              "        vertical-align: middle;\n",
              "    }\n",
              "\n",
              "    .dataframe tbody tr th {\n",
              "        vertical-align: top;\n",
              "    }\n",
              "\n",
              "    .dataframe thead th {\n",
              "        text-align: right;\n",
              "    }\n",
              "</style>\n",
              "<table border=\"1\" class=\"dataframe\">\n",
              "  <thead>\n",
              "    <tr style=\"text-align: right;\">\n",
              "      <th></th>\n",
              "      <th>price</th>\n",
              "      <th>prediction</th>\n",
              "    </tr>\n",
              "  </thead>\n",
              "  <tbody>\n",
              "    <tr>\n",
              "      <th>0</th>\n",
              "      <td>5572.0</td>\n",
              "      <td>5648.069069</td>\n",
              "    </tr>\n",
              "    <tr>\n",
              "      <th>1</th>\n",
              "      <td>6095.0</td>\n",
              "      <td>6840.905638</td>\n",
              "    </tr>\n",
              "    <tr>\n",
              "      <th>2</th>\n",
              "      <td>6295.0</td>\n",
              "      <td>6129.468043</td>\n",
              "    </tr>\n",
              "    <tr>\n",
              "      <th>3</th>\n",
              "      <td>6479.0</td>\n",
              "      <td>4204.509151</td>\n",
              "    </tr>\n",
              "    <tr>\n",
              "      <th>4</th>\n",
              "      <td>6692.0</td>\n",
              "      <td>6525.477829</td>\n",
              "    </tr>\n",
              "  </tbody>\n",
              "</table>\n",
              "</div>\n",
              "      <button class=\"colab-df-convert\" onclick=\"convertToInteractive('df-9d532561-3f1f-4593-9186-5e52a56c9e1e')\"\n",
              "              title=\"Convert this dataframe to an interactive table.\"\n",
              "              style=\"display:none;\">\n",
              "        \n",
              "  <svg xmlns=\"http://www.w3.org/2000/svg\" height=\"24px\"viewBox=\"0 0 24 24\"\n",
              "       width=\"24px\">\n",
              "    <path d=\"M0 0h24v24H0V0z\" fill=\"none\"/>\n",
              "    <path d=\"M18.56 5.44l.94 2.06.94-2.06 2.06-.94-2.06-.94-.94-2.06-.94 2.06-2.06.94zm-11 1L8.5 8.5l.94-2.06 2.06-.94-2.06-.94L8.5 2.5l-.94 2.06-2.06.94zm10 10l.94 2.06.94-2.06 2.06-.94-2.06-.94-.94-2.06-.94 2.06-2.06.94z\"/><path d=\"M17.41 7.96l-1.37-1.37c-.4-.4-.92-.59-1.43-.59-.52 0-1.04.2-1.43.59L10.3 9.45l-7.72 7.72c-.78.78-.78 2.05 0 2.83L4 21.41c.39.39.9.59 1.41.59.51 0 1.02-.2 1.41-.59l7.78-7.78 2.81-2.81c.8-.78.8-2.07 0-2.86zM5.41 20L4 18.59l7.72-7.72 1.47 1.35L5.41 20z\"/>\n",
              "  </svg>\n",
              "      </button>\n",
              "      \n",
              "  <style>\n",
              "    .colab-df-container {\n",
              "      display:flex;\n",
              "      flex-wrap:wrap;\n",
              "      gap: 12px;\n",
              "    }\n",
              "\n",
              "    .colab-df-convert {\n",
              "      background-color: #E8F0FE;\n",
              "      border: none;\n",
              "      border-radius: 50%;\n",
              "      cursor: pointer;\n",
              "      display: none;\n",
              "      fill: #1967D2;\n",
              "      height: 32px;\n",
              "      padding: 0 0 0 0;\n",
              "      width: 32px;\n",
              "    }\n",
              "\n",
              "    .colab-df-convert:hover {\n",
              "      background-color: #E2EBFA;\n",
              "      box-shadow: 0px 1px 2px rgba(60, 64, 67, 0.3), 0px 1px 3px 1px rgba(60, 64, 67, 0.15);\n",
              "      fill: #174EA6;\n",
              "    }\n",
              "\n",
              "    [theme=dark] .colab-df-convert {\n",
              "      background-color: #3B4455;\n",
              "      fill: #D2E3FC;\n",
              "    }\n",
              "\n",
              "    [theme=dark] .colab-df-convert:hover {\n",
              "      background-color: #434B5C;\n",
              "      box-shadow: 0px 1px 3px 1px rgba(0, 0, 0, 0.15);\n",
              "      filter: drop-shadow(0px 1px 2px rgba(0, 0, 0, 0.3));\n",
              "      fill: #FFFFFF;\n",
              "    }\n",
              "  </style>\n",
              "\n",
              "      <script>\n",
              "        const buttonEl =\n",
              "          document.querySelector('#df-9d532561-3f1f-4593-9186-5e52a56c9e1e button.colab-df-convert');\n",
              "        buttonEl.style.display =\n",
              "          google.colab.kernel.accessAllowed ? 'block' : 'none';\n",
              "\n",
              "        async function convertToInteractive(key) {\n",
              "          const element = document.querySelector('#df-9d532561-3f1f-4593-9186-5e52a56c9e1e');\n",
              "          const dataTable =\n",
              "            await google.colab.kernel.invokeFunction('convertToInteractive',\n",
              "                                                     [key], {});\n",
              "          if (!dataTable) return;\n",
              "\n",
              "          const docLinkHtml = 'Like what you see? Visit the ' +\n",
              "            '<a target=\"_blank\" href=https://colab.research.google.com/notebooks/data_table.ipynb>data table notebook</a>'\n",
              "            + ' to learn more about interactive tables.';\n",
              "          element.innerHTML = '';\n",
              "          dataTable['output_type'] = 'display_data';\n",
              "          await google.colab.output.renderOutput(dataTable, element);\n",
              "          const docLink = document.createElement('div');\n",
              "          docLink.innerHTML = docLinkHtml;\n",
              "          element.appendChild(docLink);\n",
              "        }\n",
              "      </script>\n",
              "    </div>\n",
              "  </div>\n",
              "  "
            ]
          },
          "metadata": {},
          "execution_count": 128
        }
      ]
    },
    {
      "cell_type": "code",
      "source": [
        "import matplotlib.pyplot as plt\n",
        "\n",
        "plt.plot(predictionsPandasDF['price'],label=\"Actual\")\n",
        "plt.plot(predictionsPandasDF['prediction'],label=\"Predicted\")\n",
        "\n",
        "plt.ylabel('Price')\n",
        "plt.legend()\n",
        "plt.show()\n",
        "# predictionsPandasDF.plot(kind='scatter',x='prediction',y='price')"
      ],
      "metadata": {
        "colab": {
          "base_uri": "https://localhost:8080/",
          "height": 265
        },
        "id": "1ci5YKIobxEm",
        "outputId": "809ba87b-44b8-4043-c496-533d88d91b07"
      },
      "execution_count": 130,
      "outputs": [
        {
          "output_type": "display_data",
          "data": {
            "text/plain": [
              "<Figure size 432x288 with 1 Axes>"
            ],
            "image/png": "[encoded data removed]"
          },
          "metadata": {
            "needs_background": "light"
          }
        }
      ]
    },
    {
      "cell_type": "markdown",
      "source": [
        "# Hyper parameter tuning"
      ],
      "metadata": {
        "id": "ePYYJg16cf5-"
      }
    },
    {
      "cell_type": "code",
      "source": [
        "from pyspark.ml.tuning import ParamGridBuilder\n",
        "\n",
        "paramGrid = ParamGridBuilder()\\\n",
        "                            .addGrid(lr.maxIter,[10,50,100])\\\n",
        "                            .addGrid(lr.regParam,[0.1,0.3,1.0])\\\n",
        "                            .addGrid(lr.elasticNetParam,[0.0,0.8,1.0])\\\n",
        "                            .build()"
      ],
      "metadata": {
        "id": "GE2OMyjUb9-n"
      },
      "execution_count": 131,
      "outputs": []
    },
    {
      "cell_type": "code",
      "source": [
        "evaluator = RegressionEvaluator(\n",
        "    labelCol='price',\n",
        "    predictionCol='prediction',\n",
        "    metricName='rmse'\n",
        ")"
      ],
      "metadata": {
        "id": "pphMtc5NeLki"
      },
      "execution_count": 132,
      "outputs": []
    },
    {
      "cell_type": "code",
      "source": [
        "from pyspark.ml.tuning import CrossValidator\n",
        "\n",
        "crossval = CrossValidator(estimator=pipeline,\n",
        "                          estimatorParamMaps=paramGrid,\n",
        "                          evaluator=evaluator,\n",
        "                          numFolds=3)"
      ],
      "metadata": {
        "id": "XmSmH6QNeyUo"
      },
      "execution_count": 133,
      "outputs": []
    },
    {
      "cell_type": "code",
      "source": [
        "model = crossval.fit(trainingData)"
      ],
      "metadata": {
        "id": "MtQ21Uk5fE52"
      },
      "execution_count": 134,
      "outputs": []
    },
    {
      "cell_type": "code",
      "source": [
        "lrModel = model.bestModel.stages[-1]\n",
        "lrModel"
      ],
      "metadata": {
        "colab": {
          "base_uri": "https://localhost:8080/"
        },
        "id": "isWxhns4fJmA",
        "outputId": "00b99a10-50f5-4a8c-9c5f-88ed2397363b"
      },
      "execution_count": 136,
      "outputs": [
        {
          "output_type": "execute_result",
          "data": {
            "text/plain": [
              "LinearRegressionModel: uid=LinearRegression_0c13068c837e, numFeatures=43"
            ]
          },
          "metadata": {},
          "execution_count": 136
        }
      ]
    },
    {
      "cell_type": "code",
      "source": [
        "print('maxIter=',lrModel._java_obj.getMaxIter())\n",
        "print('elasticNetParam=',lrModel._java_obj.getElasticNetParam())\n",
        "print('regParam=',lrModel._java_obj.getRegParam())\n"
      ],
      "metadata": {
        "colab": {
          "base_uri": "https://localhost:8080/"
        },
        "id": "2oxP2LpgfO5g",
        "outputId": "88cb2b8c-2361-4dc9-e90d-e63e5af2db12"
      },
      "execution_count": 138,
      "outputs": [
        {
          "output_type": "stream",
          "name": "stdout",
          "text": [
            "maxIter= 10\n",
            "elasticNetParam= 1.0\n",
            "regParam= 1.0\n"
          ]
        }
      ]
    },
    {
      "cell_type": "code",
      "source": [
        "predictions = model.transform(testData)"
      ],
      "metadata": {
        "id": "lYKDc80Qflpu"
      },
      "execution_count": 142,
      "outputs": []
    },
    {
      "cell_type": "code",
      "source": [
        "evaluator = RegressionEvaluator(\n",
        "    labelCol='price',\n",
        "    predictionCol='prediction',\n",
        "    metricName='r2'\n",
        ")\n",
        "\n",
        "rsquare = evaluator.evaluate(predictions)\n",
        "print('Test R2 score of best model',rsquare)"
      ],
      "metadata": {
        "colab": {
          "base_uri": "https://localhost:8080/"
        },
        "id": "cDW5hVWAf5yS",
        "outputId": "788185a9-5707-4871-987f-ebfe891da1e2"
      },
      "execution_count": 143,
      "outputs": [
        {
          "output_type": "stream",
          "name": "stdout",
          "text": [
            "Test R2 score of best model 0.9101524068530504\n"
          ]
        }
      ]
    },
    {
      "cell_type": "code",
      "source": [
        "evaluator = RegressionEvaluator(\n",
        "    labelCol='price',\n",
        "    predictionCol='prediction',\n",
        "    metricName='rmse'\n",
        ")\n",
        "\n",
        "rmse = evaluator.evaluate(predictions)\n",
        "print('Test RMSE score of best model',rmse)"
      ],
      "metadata": {
        "colab": {
          "base_uri": "https://localhost:8080/"
        },
        "id": "_yAvFsKegLIY",
        "outputId": "194d7a5b-0985-443a-e7e7-b34565db2aec"
      },
      "execution_count": 144,
      "outputs": [
        {
          "output_type": "stream",
          "name": "stdout",
          "text": [
            "Test RMSE score of best model 3131.367857548252\n"
          ]
        }
      ]
    },
    {
      "cell_type": "code",
      "source": [],
      "metadata": {
        "id": "KUwsDl62gawL"
      },
      "execution_count": null,
      "outputs": []
    }
  ]
}